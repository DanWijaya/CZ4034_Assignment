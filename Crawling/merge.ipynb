{
 "cells": [
  {
   "cell_type": "code",
   "execution_count": 3,
   "metadata": {
    "collapsed": true
   },
   "outputs": [
    {
     "data": {
      "text/plain": "   index  product_id                                            product  \\\n0      0  B08N2FRMPN  Samsung Electronics Samsung Galaxy S21 5G | Fa...   \n1      1  B08N2FRMPN  Samsung Electronics Samsung Galaxy S21 5G | Fa...   \n2      2  B08N2FRMPN  Samsung Electronics Samsung Galaxy S21 5G | Fa...   \n3      3  B08N2FRMPN  Samsung Electronics Samsung Galaxy S21 5G | Fa...   \n4      4  B08N2FRMPN  Samsung Electronics Samsung Galaxy S21 5G | Fa...   \n\n  generic_product            uname  rating  \\\n0      Smartphone         SourceIt     2.0   \n1      Smartphone  Galiwango Bryan     5.0   \n2      Smartphone    Aaron Maharaj     5.0   \n3      Smartphone               AD     3.0   \n4      Smartphone         NessyP83     5.0   \n\n                                        review_title  \\\n0          Phone come without charger....Interesting   \n1                                          Top Notch   \n2                    Excellent phone and price combo   \n3  Does not worth the money with its standard fea...   \n4                                    Perfect upgrade   \n\n                                              review                 date  \\\n0  This item doesn't came with the charger......w...  2021-03-21T00:00:00   \n1  Fast Delivery,\\nSamsung really done a really g...  2021-02-16T00:00:00   \n2  Pros:\\nSnapdragon 888,\\n8GB RAM,\\n128GB,\\nBack...  2021-03-24T00:00:00   \n3  The enhancements  they have been talking about...  2021-03-31T00:00:00   \n4  Great upgrade. Battery is really good. Photos ...  2021-03-07T00:00:00   \n\n  image upvotes                                            content  \\\n0   NaN      11  Phone come without charger....Interesting.\\n T...   \n1   NaN       9  Top Notch.\\n Fast Delivery,\\nSamsung really do...   \n2   NaN       4  Excellent phone and price combo.\\n Pros:\\nSnap...   \n3   NaN       2  Does not worth the money with its standard fea...   \n4   NaN       2  Perfect upgrade.\\n Great upgrade. Battery is r...   \n\n   vader_polarity  BiLSTM_polarity  BERT_polarity  \n0         0.50000         0.674336       0.993369  \n1         0.97890         0.962041       0.999109  \n2         0.80815         0.901285       0.999169  \n3         0.80190         0.169424       0.001593  \n4         0.98910         0.971558       0.999334  ",
      "text/html": "<div>\n<style scoped>\n    .dataframe tbody tr th:only-of-type {\n        vertical-align: middle;\n    }\n\n    .dataframe tbody tr th {\n        vertical-align: top;\n    }\n\n    .dataframe thead th {\n        text-align: right;\n    }\n</style>\n<table border=\"1\" class=\"dataframe\">\n  <thead>\n    <tr style=\"text-align: right;\">\n      <th></th>\n      <th>index</th>\n      <th>product_id</th>\n      <th>product</th>\n      <th>generic_product</th>\n      <th>uname</th>\n      <th>rating</th>\n      <th>review_title</th>\n      <th>review</th>\n      <th>date</th>\n      <th>image</th>\n      <th>upvotes</th>\n      <th>content</th>\n      <th>vader_polarity</th>\n      <th>BiLSTM_polarity</th>\n      <th>BERT_polarity</th>\n    </tr>\n  </thead>\n  <tbody>\n    <tr>\n      <td>0</td>\n      <td>0</td>\n      <td>B08N2FRMPN</td>\n      <td>Samsung Electronics Samsung Galaxy S21 5G | Fa...</td>\n      <td>Smartphone</td>\n      <td>SourceIt</td>\n      <td>2.0</td>\n      <td>Phone come without charger....Interesting</td>\n      <td>This item doesn't came with the charger......w...</td>\n      <td>2021-03-21T00:00:00</td>\n      <td>NaN</td>\n      <td>11</td>\n      <td>Phone come without charger....Interesting.\\n T...</td>\n      <td>0.50000</td>\n      <td>0.674336</td>\n      <td>0.993369</td>\n    </tr>\n    <tr>\n      <td>1</td>\n      <td>1</td>\n      <td>B08N2FRMPN</td>\n      <td>Samsung Electronics Samsung Galaxy S21 5G | Fa...</td>\n      <td>Smartphone</td>\n      <td>Galiwango Bryan</td>\n      <td>5.0</td>\n      <td>Top Notch</td>\n      <td>Fast Delivery,\\nSamsung really done a really g...</td>\n      <td>2021-02-16T00:00:00</td>\n      <td>NaN</td>\n      <td>9</td>\n      <td>Top Notch.\\n Fast Delivery,\\nSamsung really do...</td>\n      <td>0.97890</td>\n      <td>0.962041</td>\n      <td>0.999109</td>\n    </tr>\n    <tr>\n      <td>2</td>\n      <td>2</td>\n      <td>B08N2FRMPN</td>\n      <td>Samsung Electronics Samsung Galaxy S21 5G | Fa...</td>\n      <td>Smartphone</td>\n      <td>Aaron Maharaj</td>\n      <td>5.0</td>\n      <td>Excellent phone and price combo</td>\n      <td>Pros:\\nSnapdragon 888,\\n8GB RAM,\\n128GB,\\nBack...</td>\n      <td>2021-03-24T00:00:00</td>\n      <td>NaN</td>\n      <td>4</td>\n      <td>Excellent phone and price combo.\\n Pros:\\nSnap...</td>\n      <td>0.80815</td>\n      <td>0.901285</td>\n      <td>0.999169</td>\n    </tr>\n    <tr>\n      <td>3</td>\n      <td>3</td>\n      <td>B08N2FRMPN</td>\n      <td>Samsung Electronics Samsung Galaxy S21 5G | Fa...</td>\n      <td>Smartphone</td>\n      <td>AD</td>\n      <td>3.0</td>\n      <td>Does not worth the money with its standard fea...</td>\n      <td>The enhancements  they have been talking about...</td>\n      <td>2021-03-31T00:00:00</td>\n      <td>NaN</td>\n      <td>2</td>\n      <td>Does not worth the money with its standard fea...</td>\n      <td>0.80190</td>\n      <td>0.169424</td>\n      <td>0.001593</td>\n    </tr>\n    <tr>\n      <td>4</td>\n      <td>4</td>\n      <td>B08N2FRMPN</td>\n      <td>Samsung Electronics Samsung Galaxy S21 5G | Fa...</td>\n      <td>Smartphone</td>\n      <td>NessyP83</td>\n      <td>5.0</td>\n      <td>Perfect upgrade</td>\n      <td>Great upgrade. Battery is really good. Photos ...</td>\n      <td>2021-03-07T00:00:00</td>\n      <td>NaN</td>\n      <td>2</td>\n      <td>Perfect upgrade.\\n Great upgrade. Battery is r...</td>\n      <td>0.98910</td>\n      <td>0.971558</td>\n      <td>0.999334</td>\n    </tr>\n  </tbody>\n</table>\n</div>"
     },
     "execution_count": 3,
     "metadata": {},
     "output_type": "execute_result"
    }
   ],
   "source": [
    "import pandas as pd\n",
    "\n",
    "review_table = pd.read_csv(\"review_table_edited.csv\")\n",
    "review_table.head()"
   ]
  },
  {
   "cell_type": "code",
   "execution_count": 8,
   "outputs": [],
   "source": [
    "metric_table = pd.read_csv(\"review_table_edited.csv\")\n",
    "review_table = pd.read_csv(\"review_table_click_counts.csv\")\n",
    "\n",
    "final_review = pd.merge(review_table,\n",
    "         metric_table[[\"index\", \"product_id\", \"vader_polarity\", \"BiLSTM_polarity\", \"BERT_polarity\"]],\n",
    "         how=\"inner\",\n",
    "         left_on=\"index\",\n",
    "         right_on=\"index\")"
   ],
   "metadata": {
    "collapsed": false,
    "pycharm": {
     "name": "#%%\n"
    }
   }
  },
  {
   "cell_type": "code",
   "execution_count": 9,
   "outputs": [
    {
     "data": {
      "text/plain": "<bound method NDFrame.head of        index product_id_x                                            product  \\\n0          0   B08N2FRMPN  Samsung Electronics Samsung Galaxy S21 5G | Fa...   \n1          1   B08N2FRMPN  Samsung Electronics Samsung Galaxy S21 5G | Fa...   \n2          2   B08N2FRMPN  Samsung Electronics Samsung Galaxy S21 5G | Fa...   \n3          3   B08N2FRMPN  Samsung Electronics Samsung Galaxy S21 5G | Fa...   \n4          4   B08N2FRMPN  Samsung Electronics Samsung Galaxy S21 5G | Fa...   \n...      ...          ...                                                ...   \n11098  11099   B07P85CDHG  Sony SRS-XB12 Mini Bluetooth Speaker Loud Extr...   \n11099  11100   B07P85CDHG  Sony SRS-XB12 Mini Bluetooth Speaker Loud Extr...   \n11100  11101   B07P85CDHG  Sony SRS-XB12 Mini Bluetooth Speaker Loud Extr...   \n11101  11102   B07P85CDHG  Sony SRS-XB12 Mini Bluetooth Speaker Loud Extr...   \n11102  11103   B07P85CDHG  Sony SRS-XB12 Mini Bluetooth Speaker Loud Extr...   \n\n      generic_product              uname  rating  \\\n0          Smartphone           SourceIt     2.0   \n1          Smartphone    Galiwango Bryan     5.0   \n2          Smartphone      Aaron Maharaj     5.0   \n3          Smartphone                 AD     3.0   \n4          Smartphone           NessyP83     5.0   \n...               ...                ...     ...   \n11098         Speaker         SomePerson     2.0   \n11099         Speaker  Irving Washington     5.0   \n11100         Speaker        Don Caruana     5.0   \n11101         Speaker           Twila MK     5.0   \n11102         Speaker   Phil in Magnolia     5.0   \n\n                                            review_title  \\\n0              Phone come without charger....Interesting   \n1                                              Top Notch   \n2                        Excellent phone and price combo   \n3      Does not worth the money with its standard fea...   \n4                                        Perfect upgrade   \n...                                                  ...   \n11098                        Disappointing audio quality   \n11099                             Sony SRS-XB12 Speakers   \n11100                    Great sound in a small package!   \n11101                                      Pretty great!   \n11102                 Great Small Sony Bluetooth Speaker   \n\n                                                  review                 date  \\\n0      This item doesn't came with the charger......w...  2021-03-21T00:00:00   \n1      Fast Delivery,\\nSamsung really done a really g...  2021-02-16T00:00:00   \n2      Pros:\\nSnapdragon 888,\\n8GB RAM,\\n128GB,\\nBack...  2021-03-24T00:00:00   \n3      The enhancements  they have been talking about...  2021-03-31T00:00:00   \n4      Great upgrade. Battery is really good. Photos ...  2021-03-07T00:00:00   \n...                                                  ...                  ...   \n11098  While there are some major pros for this speak...  2019-06-24T00:00:00   \n11099  This is my third set of these things.\\nFor yea...  2020-11-15T00:00:00   \n11100  Absolutely LOVE the sound on this speaker! No ...  2019-08-20T00:00:00   \n11101  This little guy is pretty great. I recently mo...  2020-07-03T00:00:00   \n11102  I purchased one of these Sony SRS-XB12 bluetoo...  2020-12-28T00:00:00   \n\n      image upvotes  click_counts product_id_y  vader_polarity  \\\n0       NaN      11             0   B08N2FRMPN         0.50000   \n1       NaN       9             0   B08N2FRMPN         0.97890   \n2       NaN       4             0   B08N2FRMPN         0.80815   \n3       NaN       2             0   B08N2FRMPN         0.80190   \n4       NaN       2             0   B08N2FRMPN         0.98910   \n...     ...     ...           ...          ...             ...   \n11098   NaN       4             0   B07P85CDHG         0.19200   \n11099   NaN       0             0   B07P85CDHG         0.97075   \n11100   NaN       2             0   B07P85CDHG         0.93150   \n11101   NaN       1             0   B07P85CDHG         0.99620   \n11102   NaN       0             0   B07P85CDHG         0.99540   \n\n       BiLSTM_polarity  BERT_polarity  average metrics  \n0             0.674336       0.993369         0.722568  \n1             0.962041       0.999109         0.980017  \n2             0.901285       0.999169         0.902868  \n3             0.169424       0.001593         0.324306  \n4             0.971558       0.999334         0.986664  \n...                ...            ...              ...  \n11098         0.104203       0.001645         0.099283  \n11099         0.791141       0.996306         0.919399  \n11100         0.805571       0.998956         0.912009  \n11101         0.956364       0.999163         0.983909  \n11102         0.964776       0.999008         0.986395  \n\n[11103 rows x 17 columns]>"
     },
     "execution_count": 9,
     "metadata": {},
     "output_type": "execute_result"
    }
   ],
   "source": [
    "final_review[\"average metrics\"] = (final_review[\"vader_polarity\"] + \\\n",
    "                                  final_review[\"BiLSTM_polarity\"] + \\\n",
    "                                  final_review[\"BERT_polarity\"]) / 3\n",
    "\n",
    "final_review.head()"
   ],
   "metadata": {
    "collapsed": false,
    "pycharm": {
     "name": "#%%\n"
    }
   }
  },
  {
   "cell_type": "code",
   "execution_count": 13,
   "outputs": [
    {
     "data": {
      "text/plain": "   index product_id_x                                            product  \\\n0      0   B08N2FRMPN  Samsung Electronics Samsung Galaxy S21 5G | Fa...   \n1      1   B08N2FRMPN  Samsung Electronics Samsung Galaxy S21 5G | Fa...   \n2      2   B08N2FRMPN  Samsung Electronics Samsung Galaxy S21 5G | Fa...   \n3      3   B08N2FRMPN  Samsung Electronics Samsung Galaxy S21 5G | Fa...   \n4      4   B08N2FRMPN  Samsung Electronics Samsung Galaxy S21 5G | Fa...   \n\n  generic_product            uname  rating  \\\n0      Smartphone         SourceIt     2.0   \n1      Smartphone  Galiwango Bryan     5.0   \n2      Smartphone    Aaron Maharaj     5.0   \n3      Smartphone               AD     3.0   \n4      Smartphone         NessyP83     5.0   \n\n                                        review_title  \\\n0          Phone come without charger....Interesting   \n1                                          Top Notch   \n2                    Excellent phone and price combo   \n3  Does not worth the money with its standard fea...   \n4                                    Perfect upgrade   \n\n                                              review                 date  \\\n0  This item doesn't came with the charger......w...  2021-03-21T00:00:00   \n1  Fast Delivery,\\nSamsung really done a really g...  2021-02-16T00:00:00   \n2  Pros:\\nSnapdragon 888,\\n8GB RAM,\\n128GB,\\nBack...  2021-03-24T00:00:00   \n3  The enhancements  they have been talking about...  2021-03-31T00:00:00   \n4  Great upgrade. Battery is really good. Photos ...  2021-03-07T00:00:00   \n\n  image  upvotes  click_counts product_id_y  vader_polarity  BiLSTM_polarity  \\\n0   NaN       11             0   B08N2FRMPN         0.50000         0.674336   \n1   NaN        9             0   B08N2FRMPN         0.97890         0.962041   \n2   NaN        4             0   B08N2FRMPN         0.80815         0.901285   \n3   NaN        2             0   B08N2FRMPN         0.80190         0.169424   \n4   NaN        2             0   B08N2FRMPN         0.98910         0.971558   \n\n   BERT_polarity  average metrics  \n0       0.993369         0.722568  \n1       0.999109         0.980017  \n2       0.999169         0.902868  \n3       0.001593         0.324306  \n4       0.999334         0.986664  ",
      "text/html": "<div>\n<style scoped>\n    .dataframe tbody tr th:only-of-type {\n        vertical-align: middle;\n    }\n\n    .dataframe tbody tr th {\n        vertical-align: top;\n    }\n\n    .dataframe thead th {\n        text-align: right;\n    }\n</style>\n<table border=\"1\" class=\"dataframe\">\n  <thead>\n    <tr style=\"text-align: right;\">\n      <th></th>\n      <th>index</th>\n      <th>product_id_x</th>\n      <th>product</th>\n      <th>generic_product</th>\n      <th>uname</th>\n      <th>rating</th>\n      <th>review_title</th>\n      <th>review</th>\n      <th>date</th>\n      <th>image</th>\n      <th>upvotes</th>\n      <th>click_counts</th>\n      <th>product_id_y</th>\n      <th>vader_polarity</th>\n      <th>BiLSTM_polarity</th>\n      <th>BERT_polarity</th>\n      <th>average metrics</th>\n    </tr>\n  </thead>\n  <tbody>\n    <tr>\n      <td>0</td>\n      <td>0</td>\n      <td>B08N2FRMPN</td>\n      <td>Samsung Electronics Samsung Galaxy S21 5G | Fa...</td>\n      <td>Smartphone</td>\n      <td>SourceIt</td>\n      <td>2.0</td>\n      <td>Phone come without charger....Interesting</td>\n      <td>This item doesn't came with the charger......w...</td>\n      <td>2021-03-21T00:00:00</td>\n      <td>NaN</td>\n      <td>11</td>\n      <td>0</td>\n      <td>B08N2FRMPN</td>\n      <td>0.50000</td>\n      <td>0.674336</td>\n      <td>0.993369</td>\n      <td>0.722568</td>\n    </tr>\n    <tr>\n      <td>1</td>\n      <td>1</td>\n      <td>B08N2FRMPN</td>\n      <td>Samsung Electronics Samsung Galaxy S21 5G | Fa...</td>\n      <td>Smartphone</td>\n      <td>Galiwango Bryan</td>\n      <td>5.0</td>\n      <td>Top Notch</td>\n      <td>Fast Delivery,\\nSamsung really done a really g...</td>\n      <td>2021-02-16T00:00:00</td>\n      <td>NaN</td>\n      <td>9</td>\n      <td>0</td>\n      <td>B08N2FRMPN</td>\n      <td>0.97890</td>\n      <td>0.962041</td>\n      <td>0.999109</td>\n      <td>0.980017</td>\n    </tr>\n    <tr>\n      <td>2</td>\n      <td>2</td>\n      <td>B08N2FRMPN</td>\n      <td>Samsung Electronics Samsung Galaxy S21 5G | Fa...</td>\n      <td>Smartphone</td>\n      <td>Aaron Maharaj</td>\n      <td>5.0</td>\n      <td>Excellent phone and price combo</td>\n      <td>Pros:\\nSnapdragon 888,\\n8GB RAM,\\n128GB,\\nBack...</td>\n      <td>2021-03-24T00:00:00</td>\n      <td>NaN</td>\n      <td>4</td>\n      <td>0</td>\n      <td>B08N2FRMPN</td>\n      <td>0.80815</td>\n      <td>0.901285</td>\n      <td>0.999169</td>\n      <td>0.902868</td>\n    </tr>\n    <tr>\n      <td>3</td>\n      <td>3</td>\n      <td>B08N2FRMPN</td>\n      <td>Samsung Electronics Samsung Galaxy S21 5G | Fa...</td>\n      <td>Smartphone</td>\n      <td>AD</td>\n      <td>3.0</td>\n      <td>Does not worth the money with its standard fea...</td>\n      <td>The enhancements  they have been talking about...</td>\n      <td>2021-03-31T00:00:00</td>\n      <td>NaN</td>\n      <td>2</td>\n      <td>0</td>\n      <td>B08N2FRMPN</td>\n      <td>0.80190</td>\n      <td>0.169424</td>\n      <td>0.001593</td>\n      <td>0.324306</td>\n    </tr>\n    <tr>\n      <td>4</td>\n      <td>4</td>\n      <td>B08N2FRMPN</td>\n      <td>Samsung Electronics Samsung Galaxy S21 5G | Fa...</td>\n      <td>Smartphone</td>\n      <td>NessyP83</td>\n      <td>5.0</td>\n      <td>Perfect upgrade</td>\n      <td>Great upgrade. Battery is really good. Photos ...</td>\n      <td>2021-03-07T00:00:00</td>\n      <td>NaN</td>\n      <td>2</td>\n      <td>0</td>\n      <td>B08N2FRMPN</td>\n      <td>0.98910</td>\n      <td>0.971558</td>\n      <td>0.999334</td>\n      <td>0.986664</td>\n    </tr>\n  </tbody>\n</table>\n</div>"
     },
     "execution_count": 13,
     "metadata": {},
     "output_type": "execute_result"
    }
   ],
   "source": [
    "final_review[\"upvotes\"] = final_review[\"upvotes\"]\\\n",
    "    .str.replace(\",\", \"\") \\\n",
    "    .astype(int)\n",
    "final_review.head()\n",
    "# final_review[\"average metrics with upvotes\"] = final_review[\"average metrics\"] * final_review\n"
   ],
   "metadata": {
    "collapsed": false,
    "pycharm": {
     "name": "#%%\n"
    }
   }
  },
  {
   "cell_type": "code",
   "execution_count": 17,
   "outputs": [
    {
     "name": "stdout",
     "output_type": "stream",
     "text": [
      "<class 'pandas.core.frame.DataFrame'>\n",
      "Int64Index: 11103 entries, 0 to 11102\n",
      "Data columns (total 17 columns):\n",
      "index              11103 non-null int64\n",
      "product_id_x       11103 non-null object\n",
      "product            11103 non-null object\n",
      "generic_product    11103 non-null object\n",
      "uname              11102 non-null object\n",
      "rating             11103 non-null float64\n",
      "review_title       11103 non-null object\n",
      "review             11103 non-null object\n",
      "date               11103 non-null object\n",
      "image              1646 non-null object\n",
      "upvotes            11103 non-null float64\n",
      "click_counts       11103 non-null int64\n",
      "product_id_y       11103 non-null object\n",
      "vader_polarity     11103 non-null float64\n",
      "BiLSTM_polarity    11103 non-null float64\n",
      "BERT_polarity      11103 non-null float64\n",
      "average metrics    11103 non-null float64\n",
      "dtypes: float64(6), int64(2), object(9)\n",
      "memory usage: 1.5+ MB\n"
     ]
    }
   ],
   "source": [
    "import math\n",
    "final_review[\"upvotes\"] = (final_review[\"upvotes\"] - final_review[\"upvotes\"].min()) / (final_review[\"upvotes\"].max() - final_review[\"upvotes\"].min())\n",
    "# final_review[\"average metrics with upvotes\"] = final_review[\"average metrics\"]"
   ],
   "metadata": {
    "collapsed": false,
    "pycharm": {
     "name": "#%%\n"
    }
   }
  },
  {
   "cell_type": "code",
   "execution_count": 19,
   "outputs": [],
   "source": [
    "final_review[\"upvotes\"] = final_review[\"upvotes\"] * 10"
   ],
   "metadata": {
    "collapsed": false,
    "pycharm": {
     "name": "#%%\n"
    }
   }
  },
  {
   "cell_type": "code",
   "execution_count": 21,
   "outputs": [
    {
     "data": {
      "text/plain": "   index product_id_x                                            product  \\\n0      0   B08N2FRMPN  Samsung Electronics Samsung Galaxy S21 5G | Fa...   \n1      1   B08N2FRMPN  Samsung Electronics Samsung Galaxy S21 5G | Fa...   \n2      2   B08N2FRMPN  Samsung Electronics Samsung Galaxy S21 5G | Fa...   \n3      3   B08N2FRMPN  Samsung Electronics Samsung Galaxy S21 5G | Fa...   \n4      4   B08N2FRMPN  Samsung Electronics Samsung Galaxy S21 5G | Fa...   \n\n  generic_product            uname  rating  \\\n0      Smartphone         SourceIt     2.0   \n1      Smartphone  Galiwango Bryan     5.0   \n2      Smartphone    Aaron Maharaj     5.0   \n3      Smartphone               AD     3.0   \n4      Smartphone         NessyP83     5.0   \n\n                                        review_title  \\\n0          Phone come without charger....Interesting   \n1                                          Top Notch   \n2                    Excellent phone and price combo   \n3  Does not worth the money with its standard fea...   \n4                                    Perfect upgrade   \n\n                                              review                 date  \\\n0  This item doesn't came with the charger......w...  2021-03-21T00:00:00   \n1  Fast Delivery,\\nSamsung really done a really g...  2021-02-16T00:00:00   \n2  Pros:\\nSnapdragon 888,\\n8GB RAM,\\n128GB,\\nBack...  2021-03-24T00:00:00   \n3  The enhancements  they have been talking about...  2021-03-31T00:00:00   \n4  Great upgrade. Battery is really good. Photos ...  2021-03-07T00:00:00   \n\n  image   upvotes  click_counts product_id_y  vader_polarity  BiLSTM_polarity  \\\n0   NaN  0.013159             0   B08N2FRMPN         0.50000         0.674336   \n1   NaN  0.010767             0   B08N2FRMPN         0.97890         0.962041   \n2   NaN  0.004785             0   B08N2FRMPN         0.80815         0.901285   \n3   NaN  0.002393             0   B08N2FRMPN         0.80190         0.169424   \n4   NaN  0.002393             0   B08N2FRMPN         0.98910         0.971558   \n\n   BERT_polarity  average metrics  \n0       0.993369         0.722568  \n1       0.999109         0.980017  \n2       0.999169         0.902868  \n3       0.001593         0.324306  \n4       0.999334         0.986664  ",
      "text/html": "<div>\n<style scoped>\n    .dataframe tbody tr th:only-of-type {\n        vertical-align: middle;\n    }\n\n    .dataframe tbody tr th {\n        vertical-align: top;\n    }\n\n    .dataframe thead th {\n        text-align: right;\n    }\n</style>\n<table border=\"1\" class=\"dataframe\">\n  <thead>\n    <tr style=\"text-align: right;\">\n      <th></th>\n      <th>index</th>\n      <th>product_id_x</th>\n      <th>product</th>\n      <th>generic_product</th>\n      <th>uname</th>\n      <th>rating</th>\n      <th>review_title</th>\n      <th>review</th>\n      <th>date</th>\n      <th>image</th>\n      <th>upvotes</th>\n      <th>click_counts</th>\n      <th>product_id_y</th>\n      <th>vader_polarity</th>\n      <th>BiLSTM_polarity</th>\n      <th>BERT_polarity</th>\n      <th>average metrics</th>\n    </tr>\n  </thead>\n  <tbody>\n    <tr>\n      <td>0</td>\n      <td>0</td>\n      <td>B08N2FRMPN</td>\n      <td>Samsung Electronics Samsung Galaxy S21 5G | Fa...</td>\n      <td>Smartphone</td>\n      <td>SourceIt</td>\n      <td>2.0</td>\n      <td>Phone come without charger....Interesting</td>\n      <td>This item doesn't came with the charger......w...</td>\n      <td>2021-03-21T00:00:00</td>\n      <td>NaN</td>\n      <td>0.013159</td>\n      <td>0</td>\n      <td>B08N2FRMPN</td>\n      <td>0.50000</td>\n      <td>0.674336</td>\n      <td>0.993369</td>\n      <td>0.722568</td>\n    </tr>\n    <tr>\n      <td>1</td>\n      <td>1</td>\n      <td>B08N2FRMPN</td>\n      <td>Samsung Electronics Samsung Galaxy S21 5G | Fa...</td>\n      <td>Smartphone</td>\n      <td>Galiwango Bryan</td>\n      <td>5.0</td>\n      <td>Top Notch</td>\n      <td>Fast Delivery,\\nSamsung really done a really g...</td>\n      <td>2021-02-16T00:00:00</td>\n      <td>NaN</td>\n      <td>0.010767</td>\n      <td>0</td>\n      <td>B08N2FRMPN</td>\n      <td>0.97890</td>\n      <td>0.962041</td>\n      <td>0.999109</td>\n      <td>0.980017</td>\n    </tr>\n    <tr>\n      <td>2</td>\n      <td>2</td>\n      <td>B08N2FRMPN</td>\n      <td>Samsung Electronics Samsung Galaxy S21 5G | Fa...</td>\n      <td>Smartphone</td>\n      <td>Aaron Maharaj</td>\n      <td>5.0</td>\n      <td>Excellent phone and price combo</td>\n      <td>Pros:\\nSnapdragon 888,\\n8GB RAM,\\n128GB,\\nBack...</td>\n      <td>2021-03-24T00:00:00</td>\n      <td>NaN</td>\n      <td>0.004785</td>\n      <td>0</td>\n      <td>B08N2FRMPN</td>\n      <td>0.80815</td>\n      <td>0.901285</td>\n      <td>0.999169</td>\n      <td>0.902868</td>\n    </tr>\n    <tr>\n      <td>3</td>\n      <td>3</td>\n      <td>B08N2FRMPN</td>\n      <td>Samsung Electronics Samsung Galaxy S21 5G | Fa...</td>\n      <td>Smartphone</td>\n      <td>AD</td>\n      <td>3.0</td>\n      <td>Does not worth the money with its standard fea...</td>\n      <td>The enhancements  they have been talking about...</td>\n      <td>2021-03-31T00:00:00</td>\n      <td>NaN</td>\n      <td>0.002393</td>\n      <td>0</td>\n      <td>B08N2FRMPN</td>\n      <td>0.80190</td>\n      <td>0.169424</td>\n      <td>0.001593</td>\n      <td>0.324306</td>\n    </tr>\n    <tr>\n      <td>4</td>\n      <td>4</td>\n      <td>B08N2FRMPN</td>\n      <td>Samsung Electronics Samsung Galaxy S21 5G | Fa...</td>\n      <td>Smartphone</td>\n      <td>NessyP83</td>\n      <td>5.0</td>\n      <td>Perfect upgrade</td>\n      <td>Great upgrade. Battery is really good. Photos ...</td>\n      <td>2021-03-07T00:00:00</td>\n      <td>NaN</td>\n      <td>0.002393</td>\n      <td>0</td>\n      <td>B08N2FRMPN</td>\n      <td>0.98910</td>\n      <td>0.971558</td>\n      <td>0.999334</td>\n      <td>0.986664</td>\n    </tr>\n  </tbody>\n</table>\n</div>"
     },
     "execution_count": 21,
     "metadata": {},
     "output_type": "execute_result"
    }
   ],
   "source": [
    "\n",
    "final_review.head()"
   ],
   "metadata": {
    "collapsed": false,
    "pycharm": {
     "name": "#%%\n"
    }
   }
  },
  {
   "cell_type": "code",
   "execution_count": null,
   "outputs": [],
   "source": [],
   "metadata": {
    "collapsed": false,
    "pycharm": {
     "name": "#%%\n"
    }
   }
  }
 ],
 "metadata": {
  "kernelspec": {
   "name": "python37464bitanaconda3virtualenvb61d3f3cf6b04ed0b8330275166e017f",
   "language": "python",
   "display_name": "Python 3.7.4 64-bit ('anaconda3': virtualenv)"
  },
  "language_info": {
   "codemirror_mode": {
    "name": "ipython",
    "version": 2
   },
   "file_extension": ".py",
   "mimetype": "text/x-python",
   "name": "python",
   "nbconvert_exporter": "python",
   "pygments_lexer": "ipython2",
   "version": "2.7.6"
  }
 },
 "nbformat": 4,
 "nbformat_minor": 0
}