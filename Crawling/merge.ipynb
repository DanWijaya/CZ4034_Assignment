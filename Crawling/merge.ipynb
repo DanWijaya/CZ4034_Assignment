{
 "cells": [
  {
   "cell_type": "code",
   "execution_count": 38,
   "metadata": {
    "collapsed": true
   },
   "outputs": [
    {
     "data": {
      "text/plain": "   index  product_id                                            product  \\\n0      0  B08N2FRMPN  Samsung Electronics Samsung Galaxy S21 5G | Fa...   \n1      1  B08N2FRMPN  Samsung Electronics Samsung Galaxy S21 5G | Fa...   \n2      2  B08N2FRMPN  Samsung Electronics Samsung Galaxy S21 5G | Fa...   \n3      3  B08N2FRMPN  Samsung Electronics Samsung Galaxy S21 5G | Fa...   \n4      4  B08N2FRMPN  Samsung Electronics Samsung Galaxy S21 5G | Fa...   \n\n  generic_product            uname  rating  \\\n0      Smartphone         SourceIt     2.0   \n1      Smartphone  Galiwango Bryan     5.0   \n2      Smartphone    Aaron Maharaj     5.0   \n3      Smartphone               AD     3.0   \n4      Smartphone         NessyP83     5.0   \n\n                                        review_title  \\\n0          Phone come without charger....Interesting   \n1                                          Top Notch   \n2                    Excellent phone and price combo   \n3  Does not worth the money with its standard fea...   \n4                                    Perfect upgrade   \n\n                                              review                 date  \\\n0  This item doesn't came with the charger......w...  2021-03-21T00:00:00   \n1  Fast Delivery,\\r\\nSamsung really done a really...  2021-02-16T00:00:00   \n2  Pros:\\r\\nSnapdragon 888,\\r\\n8GB RAM,\\r\\n128GB,...  2021-03-24T00:00:00   \n3  The enhancements  they have been talking about...  2021-03-31T00:00:00   \n4  Great upgrade. Battery is really good. Photos ...  2021-03-07T00:00:00   \n\n  image upvotes                                            content  \\\n0   NaN      11  Phone come without charger....Interesting.\\r\\n...   \n1   NaN       9  Top Notch.\\r\\n Fast Delivery,\\r\\nSamsung reall...   \n2   NaN       4  Excellent phone and price combo.\\r\\n Pros:\\r\\n...   \n3   NaN       2  Does not worth the money with its standard fea...   \n4   NaN       2  Perfect upgrade.\\r\\n Great upgrade. Battery is...   \n\n   vader_polarity  BiLSTM_polarity  BERT_polarity  \n0         0.50000         0.674336       0.993369  \n1         0.97890         0.962041       0.999109  \n2         0.80815         0.901285       0.999169  \n3         0.80190         0.169424       0.001593  \n4         0.98910         0.971558       0.999334  ",
      "text/html": "<div>\n<style scoped>\n    .dataframe tbody tr th:only-of-type {\n        vertical-align: middle;\n    }\n\n    .dataframe tbody tr th {\n        vertical-align: top;\n    }\n\n    .dataframe thead th {\n        text-align: right;\n    }\n</style>\n<table border=\"1\" class=\"dataframe\">\n  <thead>\n    <tr style=\"text-align: right;\">\n      <th></th>\n      <th>index</th>\n      <th>product_id</th>\n      <th>product</th>\n      <th>generic_product</th>\n      <th>uname</th>\n      <th>rating</th>\n      <th>review_title</th>\n      <th>review</th>\n      <th>date</th>\n      <th>image</th>\n      <th>upvotes</th>\n      <th>content</th>\n      <th>vader_polarity</th>\n      <th>BiLSTM_polarity</th>\n      <th>BERT_polarity</th>\n    </tr>\n  </thead>\n  <tbody>\n    <tr>\n      <th>0</th>\n      <td>0</td>\n      <td>B08N2FRMPN</td>\n      <td>Samsung Electronics Samsung Galaxy S21 5G | Fa...</td>\n      <td>Smartphone</td>\n      <td>SourceIt</td>\n      <td>2.0</td>\n      <td>Phone come without charger....Interesting</td>\n      <td>This item doesn't came with the charger......w...</td>\n      <td>2021-03-21T00:00:00</td>\n      <td>NaN</td>\n      <td>11</td>\n      <td>Phone come without charger....Interesting.\\r\\n...</td>\n      <td>0.50000</td>\n      <td>0.674336</td>\n      <td>0.993369</td>\n    </tr>\n    <tr>\n      <th>1</th>\n      <td>1</td>\n      <td>B08N2FRMPN</td>\n      <td>Samsung Electronics Samsung Galaxy S21 5G | Fa...</td>\n      <td>Smartphone</td>\n      <td>Galiwango Bryan</td>\n      <td>5.0</td>\n      <td>Top Notch</td>\n      <td>Fast Delivery,\\r\\nSamsung really done a really...</td>\n      <td>2021-02-16T00:00:00</td>\n      <td>NaN</td>\n      <td>9</td>\n      <td>Top Notch.\\r\\n Fast Delivery,\\r\\nSamsung reall...</td>\n      <td>0.97890</td>\n      <td>0.962041</td>\n      <td>0.999109</td>\n    </tr>\n    <tr>\n      <th>2</th>\n      <td>2</td>\n      <td>B08N2FRMPN</td>\n      <td>Samsung Electronics Samsung Galaxy S21 5G | Fa...</td>\n      <td>Smartphone</td>\n      <td>Aaron Maharaj</td>\n      <td>5.0</td>\n      <td>Excellent phone and price combo</td>\n      <td>Pros:\\r\\nSnapdragon 888,\\r\\n8GB RAM,\\r\\n128GB,...</td>\n      <td>2021-03-24T00:00:00</td>\n      <td>NaN</td>\n      <td>4</td>\n      <td>Excellent phone and price combo.\\r\\n Pros:\\r\\n...</td>\n      <td>0.80815</td>\n      <td>0.901285</td>\n      <td>0.999169</td>\n    </tr>\n    <tr>\n      <th>3</th>\n      <td>3</td>\n      <td>B08N2FRMPN</td>\n      <td>Samsung Electronics Samsung Galaxy S21 5G | Fa...</td>\n      <td>Smartphone</td>\n      <td>AD</td>\n      <td>3.0</td>\n      <td>Does not worth the money with its standard fea...</td>\n      <td>The enhancements  they have been talking about...</td>\n      <td>2021-03-31T00:00:00</td>\n      <td>NaN</td>\n      <td>2</td>\n      <td>Does not worth the money with its standard fea...</td>\n      <td>0.80190</td>\n      <td>0.169424</td>\n      <td>0.001593</td>\n    </tr>\n    <tr>\n      <th>4</th>\n      <td>4</td>\n      <td>B08N2FRMPN</td>\n      <td>Samsung Electronics Samsung Galaxy S21 5G | Fa...</td>\n      <td>Smartphone</td>\n      <td>NessyP83</td>\n      <td>5.0</td>\n      <td>Perfect upgrade</td>\n      <td>Great upgrade. Battery is really good. Photos ...</td>\n      <td>2021-03-07T00:00:00</td>\n      <td>NaN</td>\n      <td>2</td>\n      <td>Perfect upgrade.\\r\\n Great upgrade. Battery is...</td>\n      <td>0.98910</td>\n      <td>0.971558</td>\n      <td>0.999334</td>\n    </tr>\n  </tbody>\n</table>\n</div>"
     },
     "execution_count": 38,
     "metadata": {},
     "output_type": "execute_result"
    }
   ],
   "source": [
    "import pandas as pd\n",
    "import numpy as np\n",
    "review_table = pd.read_csv(\"review_table_edited.csv\")\n",
    "review_table.head()"
   ]
  },
  {
   "cell_type": "code",
   "execution_count": 64,
   "outputs": [],
   "source": [
    "metric_table = pd.read_csv(\"review_table_edited.csv\")\n",
    "review_table = pd.read_csv(\"review_table_click_counts.csv\")\n",
    "\n",
    "final_review = pd.merge(review_table,\n",
    "         metric_table[[\"index\", \"product_id\", \"vader_polarity\", \"BiLSTM_polarity\", \"BERT_polarity\"]],\n",
    "         how=\"inner\",\n",
    "         left_on=\"index\",\n",
    "         right_on=\"index\")"
   ],
   "metadata": {
    "collapsed": false,
    "pycharm": {
     "name": "#%%\n"
    }
   }
  },
  {
   "cell_type": "code",
   "execution_count": 65,
   "outputs": [
    {
     "data": {
      "text/plain": "   index product_id_x                                            product  \\\n0      0   B08N2FRMPN  Samsung Electronics Samsung Galaxy S21 5G | Fa...   \n1      1   B08N2FRMPN  Samsung Electronics Samsung Galaxy S21 5G | Fa...   \n2      2   B08N2FRMPN  Samsung Electronics Samsung Galaxy S21 5G | Fa...   \n3      3   B08N2FRMPN  Samsung Electronics Samsung Galaxy S21 5G | Fa...   \n4      4   B08N2FRMPN  Samsung Electronics Samsung Galaxy S21 5G | Fa...   \n\n  generic_product            uname  rating  \\\n0      Smartphone         SourceIt     2.0   \n1      Smartphone  Galiwango Bryan     5.0   \n2      Smartphone    Aaron Maharaj     5.0   \n3      Smartphone               AD     3.0   \n4      Smartphone         NessyP83     5.0   \n\n                                        review_title  \\\n0          Phone come without charger....Interesting   \n1                                          Top Notch   \n2                    Excellent phone and price combo   \n3  Does not worth the money with its standard fea...   \n4                                    Perfect upgrade   \n\n                                              review                 date  \\\n0  This item doesn't came with the charger......w...  2021-03-21T00:00:00   \n1  Fast Delivery,\\r\\nSamsung really done a really...  2021-02-16T00:00:00   \n2  Pros:\\r\\nSnapdragon 888,\\r\\n8GB RAM,\\r\\n128GB,...  2021-03-24T00:00:00   \n3  The enhancements  they have been talking about...  2021-03-31T00:00:00   \n4  Great upgrade. Battery is really good. Photos ...  2021-03-07T00:00:00   \n\n  image upvotes  click_counts product_id_y  vader_polarity  BiLSTM_polarity  \\\n0   NaN      11             0   B08N2FRMPN         0.50000         0.674336   \n1   NaN       9             0   B08N2FRMPN         0.97890         0.962041   \n2   NaN       4             0   B08N2FRMPN         0.80815         0.901285   \n3   NaN       2             0   B08N2FRMPN         0.80190         0.169424   \n4   NaN       2             0   B08N2FRMPN         0.98910         0.971558   \n\n   BERT_polarity  average metrics  \n0       0.993369         0.722568  \n1       0.999109         0.980017  \n2       0.999169         0.902868  \n3       0.001593         0.324306  \n4       0.999334         0.986664  ",
      "text/html": "<div>\n<style scoped>\n    .dataframe tbody tr th:only-of-type {\n        vertical-align: middle;\n    }\n\n    .dataframe tbody tr th {\n        vertical-align: top;\n    }\n\n    .dataframe thead th {\n        text-align: right;\n    }\n</style>\n<table border=\"1\" class=\"dataframe\">\n  <thead>\n    <tr style=\"text-align: right;\">\n      <th></th>\n      <th>index</th>\n      <th>product_id_x</th>\n      <th>product</th>\n      <th>generic_product</th>\n      <th>uname</th>\n      <th>rating</th>\n      <th>review_title</th>\n      <th>review</th>\n      <th>date</th>\n      <th>image</th>\n      <th>upvotes</th>\n      <th>click_counts</th>\n      <th>product_id_y</th>\n      <th>vader_polarity</th>\n      <th>BiLSTM_polarity</th>\n      <th>BERT_polarity</th>\n      <th>average metrics</th>\n    </tr>\n  </thead>\n  <tbody>\n    <tr>\n      <th>0</th>\n      <td>0</td>\n      <td>B08N2FRMPN</td>\n      <td>Samsung Electronics Samsung Galaxy S21 5G | Fa...</td>\n      <td>Smartphone</td>\n      <td>SourceIt</td>\n      <td>2.0</td>\n      <td>Phone come without charger....Interesting</td>\n      <td>This item doesn't came with the charger......w...</td>\n      <td>2021-03-21T00:00:00</td>\n      <td>NaN</td>\n      <td>11</td>\n      <td>0</td>\n      <td>B08N2FRMPN</td>\n      <td>0.50000</td>\n      <td>0.674336</td>\n      <td>0.993369</td>\n      <td>0.722568</td>\n    </tr>\n    <tr>\n      <th>1</th>\n      <td>1</td>\n      <td>B08N2FRMPN</td>\n      <td>Samsung Electronics Samsung Galaxy S21 5G | Fa...</td>\n      <td>Smartphone</td>\n      <td>Galiwango Bryan</td>\n      <td>5.0</td>\n      <td>Top Notch</td>\n      <td>Fast Delivery,\\r\\nSamsung really done a really...</td>\n      <td>2021-02-16T00:00:00</td>\n      <td>NaN</td>\n      <td>9</td>\n      <td>0</td>\n      <td>B08N2FRMPN</td>\n      <td>0.97890</td>\n      <td>0.962041</td>\n      <td>0.999109</td>\n      <td>0.980017</td>\n    </tr>\n    <tr>\n      <th>2</th>\n      <td>2</td>\n      <td>B08N2FRMPN</td>\n      <td>Samsung Electronics Samsung Galaxy S21 5G | Fa...</td>\n      <td>Smartphone</td>\n      <td>Aaron Maharaj</td>\n      <td>5.0</td>\n      <td>Excellent phone and price combo</td>\n      <td>Pros:\\r\\nSnapdragon 888,\\r\\n8GB RAM,\\r\\n128GB,...</td>\n      <td>2021-03-24T00:00:00</td>\n      <td>NaN</td>\n      <td>4</td>\n      <td>0</td>\n      <td>B08N2FRMPN</td>\n      <td>0.80815</td>\n      <td>0.901285</td>\n      <td>0.999169</td>\n      <td>0.902868</td>\n    </tr>\n    <tr>\n      <th>3</th>\n      <td>3</td>\n      <td>B08N2FRMPN</td>\n      <td>Samsung Electronics Samsung Galaxy S21 5G | Fa...</td>\n      <td>Smartphone</td>\n      <td>AD</td>\n      <td>3.0</td>\n      <td>Does not worth the money with its standard fea...</td>\n      <td>The enhancements  they have been talking about...</td>\n      <td>2021-03-31T00:00:00</td>\n      <td>NaN</td>\n      <td>2</td>\n      <td>0</td>\n      <td>B08N2FRMPN</td>\n      <td>0.80190</td>\n      <td>0.169424</td>\n      <td>0.001593</td>\n      <td>0.324306</td>\n    </tr>\n    <tr>\n      <th>4</th>\n      <td>4</td>\n      <td>B08N2FRMPN</td>\n      <td>Samsung Electronics Samsung Galaxy S21 5G | Fa...</td>\n      <td>Smartphone</td>\n      <td>NessyP83</td>\n      <td>5.0</td>\n      <td>Perfect upgrade</td>\n      <td>Great upgrade. Battery is really good. Photos ...</td>\n      <td>2021-03-07T00:00:00</td>\n      <td>NaN</td>\n      <td>2</td>\n      <td>0</td>\n      <td>B08N2FRMPN</td>\n      <td>0.98910</td>\n      <td>0.971558</td>\n      <td>0.999334</td>\n      <td>0.986664</td>\n    </tr>\n  </tbody>\n</table>\n</div>"
     },
     "execution_count": 65,
     "metadata": {},
     "output_type": "execute_result"
    }
   ],
   "source": [
    "final_review[\"average metrics\"] = (final_review[\"vader_polarity\"] + \\\n",
    "                                  final_review[\"BiLSTM_polarity\"] + \\\n",
    "                                  final_review[\"BERT_polarity\"]) / 3\n",
    "\n",
    "final_review.head()"
   ],
   "metadata": {
    "collapsed": false,
    "pycharm": {
     "name": "#%%\n"
    }
   }
  },
  {
   "cell_type": "code",
   "execution_count": 66,
   "outputs": [
    {
     "data": {
      "text/plain": "   index product_id_x                                            product  \\\n0      0   B08N2FRMPN  Samsung Electronics Samsung Galaxy S21 5G | Fa...   \n1      1   B08N2FRMPN  Samsung Electronics Samsung Galaxy S21 5G | Fa...   \n2      2   B08N2FRMPN  Samsung Electronics Samsung Galaxy S21 5G | Fa...   \n3      3   B08N2FRMPN  Samsung Electronics Samsung Galaxy S21 5G | Fa...   \n4      4   B08N2FRMPN  Samsung Electronics Samsung Galaxy S21 5G | Fa...   \n\n  generic_product            uname  rating  \\\n0      Smartphone         SourceIt     2.0   \n1      Smartphone  Galiwango Bryan     5.0   \n2      Smartphone    Aaron Maharaj     5.0   \n3      Smartphone               AD     3.0   \n4      Smartphone         NessyP83     5.0   \n\n                                        review_title  \\\n0          Phone come without charger....Interesting   \n1                                          Top Notch   \n2                    Excellent phone and price combo   \n3  Does not worth the money with its standard fea...   \n4                                    Perfect upgrade   \n\n                                              review                 date  \\\n0  This item doesn't came with the charger......w...  2021-03-21T00:00:00   \n1  Fast Delivery,\\r\\nSamsung really done a really...  2021-02-16T00:00:00   \n2  Pros:\\r\\nSnapdragon 888,\\r\\n8GB RAM,\\r\\n128GB,...  2021-03-24T00:00:00   \n3  The enhancements  they have been talking about...  2021-03-31T00:00:00   \n4  Great upgrade. Battery is really good. Photos ...  2021-03-07T00:00:00   \n\n  image  upvotes  click_counts product_id_y  vader_polarity  BiLSTM_polarity  \\\n0   NaN       11             0   B08N2FRMPN         0.50000         0.674336   \n1   NaN        9             0   B08N2FRMPN         0.97890         0.962041   \n2   NaN        4             0   B08N2FRMPN         0.80815         0.901285   \n3   NaN        2             0   B08N2FRMPN         0.80190         0.169424   \n4   NaN        2             0   B08N2FRMPN         0.98910         0.971558   \n\n   BERT_polarity  average metrics  \n0       0.993369         0.722568  \n1       0.999109         0.980017  \n2       0.999169         0.902868  \n3       0.001593         0.324306  \n4       0.999334         0.986664  ",
      "text/html": "<div>\n<style scoped>\n    .dataframe tbody tr th:only-of-type {\n        vertical-align: middle;\n    }\n\n    .dataframe tbody tr th {\n        vertical-align: top;\n    }\n\n    .dataframe thead th {\n        text-align: right;\n    }\n</style>\n<table border=\"1\" class=\"dataframe\">\n  <thead>\n    <tr style=\"text-align: right;\">\n      <th></th>\n      <th>index</th>\n      <th>product_id_x</th>\n      <th>product</th>\n      <th>generic_product</th>\n      <th>uname</th>\n      <th>rating</th>\n      <th>review_title</th>\n      <th>review</th>\n      <th>date</th>\n      <th>image</th>\n      <th>upvotes</th>\n      <th>click_counts</th>\n      <th>product_id_y</th>\n      <th>vader_polarity</th>\n      <th>BiLSTM_polarity</th>\n      <th>BERT_polarity</th>\n      <th>average metrics</th>\n    </tr>\n  </thead>\n  <tbody>\n    <tr>\n      <th>0</th>\n      <td>0</td>\n      <td>B08N2FRMPN</td>\n      <td>Samsung Electronics Samsung Galaxy S21 5G | Fa...</td>\n      <td>Smartphone</td>\n      <td>SourceIt</td>\n      <td>2.0</td>\n      <td>Phone come without charger....Interesting</td>\n      <td>This item doesn't came with the charger......w...</td>\n      <td>2021-03-21T00:00:00</td>\n      <td>NaN</td>\n      <td>11</td>\n      <td>0</td>\n      <td>B08N2FRMPN</td>\n      <td>0.50000</td>\n      <td>0.674336</td>\n      <td>0.993369</td>\n      <td>0.722568</td>\n    </tr>\n    <tr>\n      <th>1</th>\n      <td>1</td>\n      <td>B08N2FRMPN</td>\n      <td>Samsung Electronics Samsung Galaxy S21 5G | Fa...</td>\n      <td>Smartphone</td>\n      <td>Galiwango Bryan</td>\n      <td>5.0</td>\n      <td>Top Notch</td>\n      <td>Fast Delivery,\\r\\nSamsung really done a really...</td>\n      <td>2021-02-16T00:00:00</td>\n      <td>NaN</td>\n      <td>9</td>\n      <td>0</td>\n      <td>B08N2FRMPN</td>\n      <td>0.97890</td>\n      <td>0.962041</td>\n      <td>0.999109</td>\n      <td>0.980017</td>\n    </tr>\n    <tr>\n      <th>2</th>\n      <td>2</td>\n      <td>B08N2FRMPN</td>\n      <td>Samsung Electronics Samsung Galaxy S21 5G | Fa...</td>\n      <td>Smartphone</td>\n      <td>Aaron Maharaj</td>\n      <td>5.0</td>\n      <td>Excellent phone and price combo</td>\n      <td>Pros:\\r\\nSnapdragon 888,\\r\\n8GB RAM,\\r\\n128GB,...</td>\n      <td>2021-03-24T00:00:00</td>\n      <td>NaN</td>\n      <td>4</td>\n      <td>0</td>\n      <td>B08N2FRMPN</td>\n      <td>0.80815</td>\n      <td>0.901285</td>\n      <td>0.999169</td>\n      <td>0.902868</td>\n    </tr>\n    <tr>\n      <th>3</th>\n      <td>3</td>\n      <td>B08N2FRMPN</td>\n      <td>Samsung Electronics Samsung Galaxy S21 5G | Fa...</td>\n      <td>Smartphone</td>\n      <td>AD</td>\n      <td>3.0</td>\n      <td>Does not worth the money with its standard fea...</td>\n      <td>The enhancements  they have been talking about...</td>\n      <td>2021-03-31T00:00:00</td>\n      <td>NaN</td>\n      <td>2</td>\n      <td>0</td>\n      <td>B08N2FRMPN</td>\n      <td>0.80190</td>\n      <td>0.169424</td>\n      <td>0.001593</td>\n      <td>0.324306</td>\n    </tr>\n    <tr>\n      <th>4</th>\n      <td>4</td>\n      <td>B08N2FRMPN</td>\n      <td>Samsung Electronics Samsung Galaxy S21 5G | Fa...</td>\n      <td>Smartphone</td>\n      <td>NessyP83</td>\n      <td>5.0</td>\n      <td>Perfect upgrade</td>\n      <td>Great upgrade. Battery is really good. Photos ...</td>\n      <td>2021-03-07T00:00:00</td>\n      <td>NaN</td>\n      <td>2</td>\n      <td>0</td>\n      <td>B08N2FRMPN</td>\n      <td>0.98910</td>\n      <td>0.971558</td>\n      <td>0.999334</td>\n      <td>0.986664</td>\n    </tr>\n  </tbody>\n</table>\n</div>"
     },
     "execution_count": 66,
     "metadata": {},
     "output_type": "execute_result"
    }
   ],
   "source": [
    "final_review[\"upvotes\"] = final_review[\"upvotes\"]\\\n",
    "    .str.replace(\",\", \"\") \\\n",
    "    .astype(int)\n",
    "final_review.head()\n",
    "# final_review[\"average metrics with upvotes\"] = final_review[\"average metrics\"] * final_review\n"
   ],
   "metadata": {
    "collapsed": false,
    "pycharm": {
     "name": "#%%\n"
    }
   }
  },
  {
   "cell_type": "code",
   "execution_count": 67,
   "outputs": [
    {
     "name": "stdout",
     "output_type": "stream",
     "text": [
      "285\n"
     ]
    },
    {
     "name": "stderr",
     "output_type": "stream",
     "text": [
      "c:\\users\\razer\\mathreader-master\\venv\\lib\\site-packages\\ipykernel_launcher.py:20: RuntimeWarning: invalid value encountered in double_scalars\n"
     ]
    }
   ],
   "source": [
    "product_table = pd.read_csv(\"product_lists.csv\")\n",
    "product_table.head(5)\n",
    "\n",
    "\n",
    "import math\n",
    "\n",
    "final_review[\"weighted score\"]= (final_review[\"average metrics\"] * final_review[\"upvotes\"])\n",
    "final_review.head()\n",
    "abc = final_review.groupby(['product_id_x'])['weighted score'].agg('sum')\n",
    "\n",
    "bcd = final_review.groupby(['product_id_x'])['upvotes'].agg('sum')\n",
    "\n",
    "# abc.head()\n",
    "product_id_list = final_review.product_id_x.unique()\n",
    "product_id_list\n",
    "\n",
    "final_list = []\n",
    "print(len(abc))\n",
    "for i in range(len(abc)):\n",
    "    final_list.append((product_id_list[i], abc[product_id_list[i]]/bcd[product_id_list[i]]))\n",
    "\n",
    "final_df = pd.DataFrame(final_list, columns=['product_id', 'semantic_score'])\n",
    "# product_table['semantic_score'] = np.nan\n",
    "\n",
    "# product_table.merge((product_table['product_id'] == final_df['product_id']))\n",
    "final_review = pd.merge(product_table,\n",
    "         final_df[[\"product_id\", \"semantic_score\"]],\n",
    "         how=\"outer\",\n",
    "         left_on=\"product_id\",\n",
    "            right_on=\"product_id\")\n",
    "# happy = {\n",
    "#     product_id_list[1],\n",
    "#     (abc[product_id_list[1]]/bcd[product_id_list[1]])\n",
    "# }\n",
    "#\n",
    "# happy\n",
    "# bcd.head()\n",
    "\n",
    "# result =\n",
    "# final_review.groupby(['product_id_x'])['upvotes'].agg('sum')\n",
    "# final_review[\"upvotes\"] = (final_review[\"upvotes\"] - final_review[\"upvotes\"].min()) / (final_review[\"upvotes\"].max() - final_review[\"upvotes\"].min())\n",
    "# final_review[\"average metrics with upvotes\"] = final_review[\"average metrics\"]"
   ],
   "metadata": {
    "collapsed": false,
    "pycharm": {
     "name": "#%%\n"
    }
   }
  },
  {
   "cell_type": "code",
   "execution_count": 19,
   "outputs": [],
   "source": [
    "final_review[\"upvotes\"] = final_review[\"upvotes\"] * 10"
   ],
   "metadata": {
    "collapsed": false,
    "pycharm": {
     "name": "#%%\n"
    }
   }
  },
  {
   "cell_type": "code",
   "execution_count": 73,
   "outputs": [],
   "source": [
    "\n",
    "final_review.head(320)\n",
    "final_review.to_csv(\"product_list_with_score.csv\", index=False)"
   ],
   "metadata": {
    "collapsed": false,
    "pycharm": {
     "name": "#%%\n"
    }
   }
  },
  {
   "cell_type": "code",
   "execution_count": 74,
   "outputs": [
    {
     "name": "stderr",
     "output_type": "stream",
     "text": [
      "'ls' is not recognized as an internal or external command,\n",
      "operable program or batch file.\n"
     ]
    }
   ],
   "source": [],
   "metadata": {
    "collapsed": false,
    "pycharm": {
     "name": "#%%\n"
    }
   }
  },
  {
   "cell_type": "code",
   "execution_count": null,
   "outputs": [],
   "source": [],
   "metadata": {
    "collapsed": false,
    "pycharm": {
     "name": "#%%\n"
    }
   }
  }
 ],
 "metadata": {
  "kernelspec": {
   "name": "python3",
   "language": "python",
   "display_name": "Python 3"
  },
  "language_info": {
   "codemirror_mode": {
    "name": "ipython",
    "version": 2
   },
   "file_extension": ".py",
   "mimetype": "text/x-python",
   "name": "python",
   "nbconvert_exporter": "python",
   "pygments_lexer": "ipython2",
   "version": "2.7.6"
  }
 },
 "nbformat": 4,
 "nbformat_minor": 0
}