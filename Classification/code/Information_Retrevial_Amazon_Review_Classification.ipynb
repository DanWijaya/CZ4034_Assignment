{
  "nbformat": 4,
  "nbformat_minor": 0,
  "metadata": {
    "colab": {
      "name": "Information Retrevial- Amazon Review Classification",
      "provenance": [],
      "collapsed_sections": [],
      "machine_shape": "hm"
    },
    "kernelspec": {
      "name": "python3",
      "display_name": "Python 3"
    },
    "language_info": {
      "name": "python"
    },
    "accelerator": "GPU",
    "widgets": {
      "application/vnd.jupyter.widget-state+json": {
        "28fab3fddcf346138f35dca84249dcde": {
          "model_module": "@jupyter-widgets/controls",
          "model_name": "HBoxModel",
          "state": {
            "_view_name": "HBoxView",
            "_dom_classes": [],
            "_model_name": "HBoxModel",
            "_view_module": "@jupyter-widgets/controls",
            "_model_module_version": "1.5.0",
            "_view_count": null,
            "_view_module_version": "1.5.0",
            "box_style": "",
            "layout": "IPY_MODEL_ef3c3043cae0421ab2105aa96fe681c7",
            "_model_module": "@jupyter-widgets/controls",
            "children": [
              "IPY_MODEL_959a33c0119642b2bf7ce2d42d443a24",
              "IPY_MODEL_0ed787b2cd5748069732a1540094c59b"
            ]
          }
        },
        "ef3c3043cae0421ab2105aa96fe681c7": {
          "model_module": "@jupyter-widgets/base",
          "model_name": "LayoutModel",
          "state": {
            "_view_name": "LayoutView",
            "grid_template_rows": null,
            "right": null,
            "justify_content": null,
            "_view_module": "@jupyter-widgets/base",
            "overflow": null,
            "_model_module_version": "1.2.0",
            "_view_count": null,
            "flex_flow": null,
            "width": null,
            "min_width": null,
            "border": null,
            "align_items": null,
            "bottom": null,
            "_model_module": "@jupyter-widgets/base",
            "top": null,
            "grid_column": null,
            "overflow_y": null,
            "overflow_x": null,
            "grid_auto_flow": null,
            "grid_area": null,
            "grid_template_columns": null,
            "flex": null,
            "_model_name": "LayoutModel",
            "justify_items": null,
            "grid_row": null,
            "max_height": null,
            "align_content": null,
            "visibility": null,
            "align_self": null,
            "height": null,
            "min_height": null,
            "padding": null,
            "grid_auto_rows": null,
            "grid_gap": null,
            "max_width": null,
            "order": null,
            "_view_module_version": "1.2.0",
            "grid_template_areas": null,
            "object_position": null,
            "object_fit": null,
            "grid_auto_columns": null,
            "margin": null,
            "display": null,
            "left": null
          }
        },
        "959a33c0119642b2bf7ce2d42d443a24": {
          "model_module": "@jupyter-widgets/controls",
          "model_name": "FloatProgressModel",
          "state": {
            "_view_name": "ProgressView",
            "style": "IPY_MODEL_7bc471b8d35c4ee6ad4782f27db56c1e",
            "_dom_classes": [],
            "description": "  0%",
            "_model_name": "FloatProgressModel",
            "bar_style": "",
            "max": 31013,
            "_view_module": "@jupyter-widgets/controls",
            "_model_module_version": "1.5.0",
            "value": 10,
            "_view_count": null,
            "_view_module_version": "1.5.0",
            "orientation": "horizontal",
            "min": 0,
            "description_tooltip": null,
            "_model_module": "@jupyter-widgets/controls",
            "layout": "IPY_MODEL_3cb8bad015bc486b9f14278dc76ba20d"
          }
        },
        "0ed787b2cd5748069732a1540094c59b": {
          "model_module": "@jupyter-widgets/controls",
          "model_name": "HTMLModel",
          "state": {
            "_view_name": "HTMLView",
            "style": "IPY_MODEL_2771408c3e7d4441b44a30815ec15b85",
            "_dom_classes": [],
            "description": "",
            "_model_name": "HTMLModel",
            "placeholder": "​",
            "_view_module": "@jupyter-widgets/controls",
            "_model_module_version": "1.5.0",
            "value": " 10/31013 [00:03&lt;2:22:23,  3.63it/s]",
            "_view_count": null,
            "_view_module_version": "1.5.0",
            "description_tooltip": null,
            "_model_module": "@jupyter-widgets/controls",
            "layout": "IPY_MODEL_530e5b11787542efabc1d2b24190fa62"
          }
        },
        "7bc471b8d35c4ee6ad4782f27db56c1e": {
          "model_module": "@jupyter-widgets/controls",
          "model_name": "ProgressStyleModel",
          "state": {
            "_view_name": "StyleView",
            "_model_name": "ProgressStyleModel",
            "description_width": "initial",
            "_view_module": "@jupyter-widgets/base",
            "_model_module_version": "1.5.0",
            "_view_count": null,
            "_view_module_version": "1.2.0",
            "bar_color": null,
            "_model_module": "@jupyter-widgets/controls"
          }
        },
        "3cb8bad015bc486b9f14278dc76ba20d": {
          "model_module": "@jupyter-widgets/base",
          "model_name": "LayoutModel",
          "state": {
            "_view_name": "LayoutView",
            "grid_template_rows": null,
            "right": null,
            "justify_content": null,
            "_view_module": "@jupyter-widgets/base",
            "overflow": null,
            "_model_module_version": "1.2.0",
            "_view_count": null,
            "flex_flow": null,
            "width": null,
            "min_width": null,
            "border": null,
            "align_items": null,
            "bottom": null,
            "_model_module": "@jupyter-widgets/base",
            "top": null,
            "grid_column": null,
            "overflow_y": null,
            "overflow_x": null,
            "grid_auto_flow": null,
            "grid_area": null,
            "grid_template_columns": null,
            "flex": null,
            "_model_name": "LayoutModel",
            "justify_items": null,
            "grid_row": null,
            "max_height": null,
            "align_content": null,
            "visibility": null,
            "align_self": null,
            "height": null,
            "min_height": null,
            "padding": null,
            "grid_auto_rows": null,
            "grid_gap": null,
            "max_width": null,
            "order": null,
            "_view_module_version": "1.2.0",
            "grid_template_areas": null,
            "object_position": null,
            "object_fit": null,
            "grid_auto_columns": null,
            "margin": null,
            "display": null,
            "left": null
          }
        },
        "2771408c3e7d4441b44a30815ec15b85": {
          "model_module": "@jupyter-widgets/controls",
          "model_name": "DescriptionStyleModel",
          "state": {
            "_view_name": "StyleView",
            "_model_name": "DescriptionStyleModel",
            "description_width": "",
            "_view_module": "@jupyter-widgets/base",
            "_model_module_version": "1.5.0",
            "_view_count": null,
            "_view_module_version": "1.2.0",
            "_model_module": "@jupyter-widgets/controls"
          }
        },
        "530e5b11787542efabc1d2b24190fa62": {
          "model_module": "@jupyter-widgets/base",
          "model_name": "LayoutModel",
          "state": {
            "_view_name": "LayoutView",
            "grid_template_rows": null,
            "right": null,
            "justify_content": null,
            "_view_module": "@jupyter-widgets/base",
            "overflow": null,
            "_model_module_version": "1.2.0",
            "_view_count": null,
            "flex_flow": null,
            "width": null,
            "min_width": null,
            "border": null,
            "align_items": null,
            "bottom": null,
            "_model_module": "@jupyter-widgets/base",
            "top": null,
            "grid_column": null,
            "overflow_y": null,
            "overflow_x": null,
            "grid_auto_flow": null,
            "grid_area": null,
            "grid_template_columns": null,
            "flex": null,
            "_model_name": "LayoutModel",
            "justify_items": null,
            "grid_row": null,
            "max_height": null,
            "align_content": null,
            "visibility": null,
            "align_self": null,
            "height": null,
            "min_height": null,
            "padding": null,
            "grid_auto_rows": null,
            "grid_gap": null,
            "max_width": null,
            "order": null,
            "_view_module_version": "1.2.0",
            "grid_template_areas": null,
            "object_position": null,
            "object_fit": null,
            "grid_auto_columns": null,
            "margin": null,
            "display": null,
            "left": null
          }
        },
        "91fe9c4f42e143cd871f78b1d832f3a4": {
          "model_module": "@jupyter-widgets/controls",
          "model_name": "HBoxModel",
          "state": {
            "_view_name": "HBoxView",
            "_dom_classes": [],
            "_model_name": "HBoxModel",
            "_view_module": "@jupyter-widgets/controls",
            "_model_module_version": "1.5.0",
            "_view_count": null,
            "_view_module_version": "1.5.0",
            "box_style": "",
            "layout": "IPY_MODEL_f56130b6fb934873a728768d77ba8929",
            "_model_module": "@jupyter-widgets/controls",
            "children": [
              "IPY_MODEL_43e4ef7bbfe4491baabc5dd7a008bbb0",
              "IPY_MODEL_0b285d2f87f14c17a565765338bc73b1"
            ]
          }
        },
        "f56130b6fb934873a728768d77ba8929": {
          "model_module": "@jupyter-widgets/base",
          "model_name": "LayoutModel",
          "state": {
            "_view_name": "LayoutView",
            "grid_template_rows": null,
            "right": null,
            "justify_content": null,
            "_view_module": "@jupyter-widgets/base",
            "overflow": null,
            "_model_module_version": "1.2.0",
            "_view_count": null,
            "flex_flow": null,
            "width": null,
            "min_width": null,
            "border": null,
            "align_items": null,
            "bottom": null,
            "_model_module": "@jupyter-widgets/base",
            "top": null,
            "grid_column": null,
            "overflow_y": null,
            "overflow_x": null,
            "grid_auto_flow": null,
            "grid_area": null,
            "grid_template_columns": null,
            "flex": null,
            "_model_name": "LayoutModel",
            "justify_items": null,
            "grid_row": null,
            "max_height": null,
            "align_content": null,
            "visibility": null,
            "align_self": null,
            "height": null,
            "min_height": null,
            "padding": null,
            "grid_auto_rows": null,
            "grid_gap": null,
            "max_width": null,
            "order": null,
            "_view_module_version": "1.2.0",
            "grid_template_areas": null,
            "object_position": null,
            "object_fit": null,
            "grid_auto_columns": null,
            "margin": null,
            "display": null,
            "left": null
          }
        },
        "43e4ef7bbfe4491baabc5dd7a008bbb0": {
          "model_module": "@jupyter-widgets/controls",
          "model_name": "FloatProgressModel",
          "state": {
            "_view_name": "ProgressView",
            "style": "IPY_MODEL_f20b88888c724136972ff2d256f7e177",
            "_dom_classes": [],
            "description": "Downloading: 100%",
            "_model_name": "FloatProgressModel",
            "bar_style": "success",
            "max": 433,
            "_view_module": "@jupyter-widgets/controls",
            "_model_module_version": "1.5.0",
            "value": 433,
            "_view_count": null,
            "_view_module_version": "1.5.0",
            "orientation": "horizontal",
            "min": 0,
            "description_tooltip": null,
            "_model_module": "@jupyter-widgets/controls",
            "layout": "IPY_MODEL_a068d2e2ef574b57b50075c8a8deedd1"
          }
        },
        "0b285d2f87f14c17a565765338bc73b1": {
          "model_module": "@jupyter-widgets/controls",
          "model_name": "HTMLModel",
          "state": {
            "_view_name": "HTMLView",
            "style": "IPY_MODEL_506a8f97590c410db3ad2c25f99a8d43",
            "_dom_classes": [],
            "description": "",
            "_model_name": "HTMLModel",
            "placeholder": "​",
            "_view_module": "@jupyter-widgets/controls",
            "_model_module_version": "1.5.0",
            "value": " 433/433 [00:10&lt;00:00, 42.1B/s]",
            "_view_count": null,
            "_view_module_version": "1.5.0",
            "description_tooltip": null,
            "_model_module": "@jupyter-widgets/controls",
            "layout": "IPY_MODEL_d11fe1e30cf64e4fbab6789291d048e9"
          }
        },
        "f20b88888c724136972ff2d256f7e177": {
          "model_module": "@jupyter-widgets/controls",
          "model_name": "ProgressStyleModel",
          "state": {
            "_view_name": "StyleView",
            "_model_name": "ProgressStyleModel",
            "description_width": "initial",
            "_view_module": "@jupyter-widgets/base",
            "_model_module_version": "1.5.0",
            "_view_count": null,
            "_view_module_version": "1.2.0",
            "bar_color": null,
            "_model_module": "@jupyter-widgets/controls"
          }
        },
        "a068d2e2ef574b57b50075c8a8deedd1": {
          "model_module": "@jupyter-widgets/base",
          "model_name": "LayoutModel",
          "state": {
            "_view_name": "LayoutView",
            "grid_template_rows": null,
            "right": null,
            "justify_content": null,
            "_view_module": "@jupyter-widgets/base",
            "overflow": null,
            "_model_module_version": "1.2.0",
            "_view_count": null,
            "flex_flow": null,
            "width": null,
            "min_width": null,
            "border": null,
            "align_items": null,
            "bottom": null,
            "_model_module": "@jupyter-widgets/base",
            "top": null,
            "grid_column": null,
            "overflow_y": null,
            "overflow_x": null,
            "grid_auto_flow": null,
            "grid_area": null,
            "grid_template_columns": null,
            "flex": null,
            "_model_name": "LayoutModel",
            "justify_items": null,
            "grid_row": null,
            "max_height": null,
            "align_content": null,
            "visibility": null,
            "align_self": null,
            "height": null,
            "min_height": null,
            "padding": null,
            "grid_auto_rows": null,
            "grid_gap": null,
            "max_width": null,
            "order": null,
            "_view_module_version": "1.2.0",
            "grid_template_areas": null,
            "object_position": null,
            "object_fit": null,
            "grid_auto_columns": null,
            "margin": null,
            "display": null,
            "left": null
          }
        },
        "506a8f97590c410db3ad2c25f99a8d43": {
          "model_module": "@jupyter-widgets/controls",
          "model_name": "DescriptionStyleModel",
          "state": {
            "_view_name": "StyleView",
            "_model_name": "DescriptionStyleModel",
            "description_width": "",
            "_view_module": "@jupyter-widgets/base",
            "_model_module_version": "1.5.0",
            "_view_count": null,
            "_view_module_version": "1.2.0",
            "_model_module": "@jupyter-widgets/controls"
          }
        },
        "d11fe1e30cf64e4fbab6789291d048e9": {
          "model_module": "@jupyter-widgets/base",
          "model_name": "LayoutModel",
          "state": {
            "_view_name": "LayoutView",
            "grid_template_rows": null,
            "right": null,
            "justify_content": null,
            "_view_module": "@jupyter-widgets/base",
            "overflow": null,
            "_model_module_version": "1.2.0",
            "_view_count": null,
            "flex_flow": null,
            "width": null,
            "min_width": null,
            "border": null,
            "align_items": null,
            "bottom": null,
            "_model_module": "@jupyter-widgets/base",
            "top": null,
            "grid_column": null,
            "overflow_y": null,
            "overflow_x": null,
            "grid_auto_flow": null,
            "grid_area": null,
            "grid_template_columns": null,
            "flex": null,
            "_model_name": "LayoutModel",
            "justify_items": null,
            "grid_row": null,
            "max_height": null,
            "align_content": null,
            "visibility": null,
            "align_self": null,
            "height": null,
            "min_height": null,
            "padding": null,
            "grid_auto_rows": null,
            "grid_gap": null,
            "max_width": null,
            "order": null,
            "_view_module_version": "1.2.0",
            "grid_template_areas": null,
            "object_position": null,
            "object_fit": null,
            "grid_auto_columns": null,
            "margin": null,
            "display": null,
            "left": null
          }
        },
        "d614a5cbd2804120b009201ac86a63e7": {
          "model_module": "@jupyter-widgets/controls",
          "model_name": "HBoxModel",
          "state": {
            "_view_name": "HBoxView",
            "_dom_classes": [],
            "_model_name": "HBoxModel",
            "_view_module": "@jupyter-widgets/controls",
            "_model_module_version": "1.5.0",
            "_view_count": null,
            "_view_module_version": "1.5.0",
            "box_style": "",
            "layout": "IPY_MODEL_8b5253f0dd234f2dbab94d005e897471",
            "_model_module": "@jupyter-widgets/controls",
            "children": [
              "IPY_MODEL_16f6e21799444d3287e12674a698ef1d",
              "IPY_MODEL_b69332212e244f51b44f3f204bf58427"
            ]
          }
        },
        "8b5253f0dd234f2dbab94d005e897471": {
          "model_module": "@jupyter-widgets/base",
          "model_name": "LayoutModel",
          "state": {
            "_view_name": "LayoutView",
            "grid_template_rows": null,
            "right": null,
            "justify_content": null,
            "_view_module": "@jupyter-widgets/base",
            "overflow": null,
            "_model_module_version": "1.2.0",
            "_view_count": null,
            "flex_flow": null,
            "width": null,
            "min_width": null,
            "border": null,
            "align_items": null,
            "bottom": null,
            "_model_module": "@jupyter-widgets/base",
            "top": null,
            "grid_column": null,
            "overflow_y": null,
            "overflow_x": null,
            "grid_auto_flow": null,
            "grid_area": null,
            "grid_template_columns": null,
            "flex": null,
            "_model_name": "LayoutModel",
            "justify_items": null,
            "grid_row": null,
            "max_height": null,
            "align_content": null,
            "visibility": null,
            "align_self": null,
            "height": null,
            "min_height": null,
            "padding": null,
            "grid_auto_rows": null,
            "grid_gap": null,
            "max_width": null,
            "order": null,
            "_view_module_version": "1.2.0",
            "grid_template_areas": null,
            "object_position": null,
            "object_fit": null,
            "grid_auto_columns": null,
            "margin": null,
            "display": null,
            "left": null
          }
        },
        "16f6e21799444d3287e12674a698ef1d": {
          "model_module": "@jupyter-widgets/controls",
          "model_name": "FloatProgressModel",
          "state": {
            "_view_name": "ProgressView",
            "style": "IPY_MODEL_2e80ff13d2f646f7844bebdc9eba433c",
            "_dom_classes": [],
            "description": "Downloading: 100%",
            "_model_name": "FloatProgressModel",
            "bar_style": "success",
            "max": 536063208,
            "_view_module": "@jupyter-widgets/controls",
            "_model_module_version": "1.5.0",
            "value": 536063208,
            "_view_count": null,
            "_view_module_version": "1.5.0",
            "orientation": "horizontal",
            "min": 0,
            "description_tooltip": null,
            "_model_module": "@jupyter-widgets/controls",
            "layout": "IPY_MODEL_8d5f648096d746a09db3200bed570444"
          }
        },
        "b69332212e244f51b44f3f204bf58427": {
          "model_module": "@jupyter-widgets/controls",
          "model_name": "HTMLModel",
          "state": {
            "_view_name": "HTMLView",
            "style": "IPY_MODEL_6868bdfe7a5d44bfb5438a42b0d52243",
            "_dom_classes": [],
            "description": "",
            "_model_name": "HTMLModel",
            "placeholder": "​",
            "_view_module": "@jupyter-widgets/controls",
            "_model_module_version": "1.5.0",
            "value": " 536M/536M [01:33&lt;00:00, 5.76MB/s]",
            "_view_count": null,
            "_view_module_version": "1.5.0",
            "description_tooltip": null,
            "_model_module": "@jupyter-widgets/controls",
            "layout": "IPY_MODEL_bb955b411771497697373629e888c240"
          }
        },
        "2e80ff13d2f646f7844bebdc9eba433c": {
          "model_module": "@jupyter-widgets/controls",
          "model_name": "ProgressStyleModel",
          "state": {
            "_view_name": "StyleView",
            "_model_name": "ProgressStyleModel",
            "description_width": "initial",
            "_view_module": "@jupyter-widgets/base",
            "_model_module_version": "1.5.0",
            "_view_count": null,
            "_view_module_version": "1.2.0",
            "bar_color": null,
            "_model_module": "@jupyter-widgets/controls"
          }
        },
        "8d5f648096d746a09db3200bed570444": {
          "model_module": "@jupyter-widgets/base",
          "model_name": "LayoutModel",
          "state": {
            "_view_name": "LayoutView",
            "grid_template_rows": null,
            "right": null,
            "justify_content": null,
            "_view_module": "@jupyter-widgets/base",
            "overflow": null,
            "_model_module_version": "1.2.0",
            "_view_count": null,
            "flex_flow": null,
            "width": null,
            "min_width": null,
            "border": null,
            "align_items": null,
            "bottom": null,
            "_model_module": "@jupyter-widgets/base",
            "top": null,
            "grid_column": null,
            "overflow_y": null,
            "overflow_x": null,
            "grid_auto_flow": null,
            "grid_area": null,
            "grid_template_columns": null,
            "flex": null,
            "_model_name": "LayoutModel",
            "justify_items": null,
            "grid_row": null,
            "max_height": null,
            "align_content": null,
            "visibility": null,
            "align_self": null,
            "height": null,
            "min_height": null,
            "padding": null,
            "grid_auto_rows": null,
            "grid_gap": null,
            "max_width": null,
            "order": null,
            "_view_module_version": "1.2.0",
            "grid_template_areas": null,
            "object_position": null,
            "object_fit": null,
            "grid_auto_columns": null,
            "margin": null,
            "display": null,
            "left": null
          }
        },
        "6868bdfe7a5d44bfb5438a42b0d52243": {
          "model_module": "@jupyter-widgets/controls",
          "model_name": "DescriptionStyleModel",
          "state": {
            "_view_name": "StyleView",
            "_model_name": "DescriptionStyleModel",
            "description_width": "",
            "_view_module": "@jupyter-widgets/base",
            "_model_module_version": "1.5.0",
            "_view_count": null,
            "_view_module_version": "1.2.0",
            "_model_module": "@jupyter-widgets/controls"
          }
        },
        "bb955b411771497697373629e888c240": {
          "model_module": "@jupyter-widgets/base",
          "model_name": "LayoutModel",
          "state": {
            "_view_name": "LayoutView",
            "grid_template_rows": null,
            "right": null,
            "justify_content": null,
            "_view_module": "@jupyter-widgets/base",
            "overflow": null,
            "_model_module_version": "1.2.0",
            "_view_count": null,
            "flex_flow": null,
            "width": null,
            "min_width": null,
            "border": null,
            "align_items": null,
            "bottom": null,
            "_model_module": "@jupyter-widgets/base",
            "top": null,
            "grid_column": null,
            "overflow_y": null,
            "overflow_x": null,
            "grid_auto_flow": null,
            "grid_area": null,
            "grid_template_columns": null,
            "flex": null,
            "_model_name": "LayoutModel",
            "justify_items": null,
            "grid_row": null,
            "max_height": null,
            "align_content": null,
            "visibility": null,
            "align_self": null,
            "height": null,
            "min_height": null,
            "padding": null,
            "grid_auto_rows": null,
            "grid_gap": null,
            "max_width": null,
            "order": null,
            "_view_module_version": "1.2.0",
            "grid_template_areas": null,
            "object_position": null,
            "object_fit": null,
            "grid_auto_columns": null,
            "margin": null,
            "display": null,
            "left": null
          }
        },
        "3095d16c351b4820aea369120700fb9c": {
          "model_module": "@jupyter-widgets/controls",
          "model_name": "HBoxModel",
          "state": {
            "_view_name": "HBoxView",
            "_dom_classes": [],
            "_model_name": "HBoxModel",
            "_view_module": "@jupyter-widgets/controls",
            "_model_module_version": "1.5.0",
            "_view_count": null,
            "_view_module_version": "1.5.0",
            "box_style": "",
            "layout": "IPY_MODEL_5469660969544129adf8fdb7f097a079",
            "_model_module": "@jupyter-widgets/controls",
            "children": [
              "IPY_MODEL_bc1feb03d41e4df5af1b543c6d43e1a5",
              "IPY_MODEL_c5ff149d98894b32874d85c66e7d9c14"
            ]
          }
        },
        "5469660969544129adf8fdb7f097a079": {
          "model_module": "@jupyter-widgets/base",
          "model_name": "LayoutModel",
          "state": {
            "_view_name": "LayoutView",
            "grid_template_rows": null,
            "right": null,
            "justify_content": null,
            "_view_module": "@jupyter-widgets/base",
            "overflow": null,
            "_model_module_version": "1.2.0",
            "_view_count": null,
            "flex_flow": null,
            "width": null,
            "min_width": null,
            "border": null,
            "align_items": null,
            "bottom": null,
            "_model_module": "@jupyter-widgets/base",
            "top": null,
            "grid_column": null,
            "overflow_y": null,
            "overflow_x": null,
            "grid_auto_flow": null,
            "grid_area": null,
            "grid_template_columns": null,
            "flex": null,
            "_model_name": "LayoutModel",
            "justify_items": null,
            "grid_row": null,
            "max_height": null,
            "align_content": null,
            "visibility": null,
            "align_self": null,
            "height": null,
            "min_height": null,
            "padding": null,
            "grid_auto_rows": null,
            "grid_gap": null,
            "max_width": null,
            "order": null,
            "_view_module_version": "1.2.0",
            "grid_template_areas": null,
            "object_position": null,
            "object_fit": null,
            "grid_auto_columns": null,
            "margin": null,
            "display": null,
            "left": null
          }
        },
        "bc1feb03d41e4df5af1b543c6d43e1a5": {
          "model_module": "@jupyter-widgets/controls",
          "model_name": "FloatProgressModel",
          "state": {
            "_view_name": "ProgressView",
            "style": "IPY_MODEL_19e8ed73b1cf46379a3d745a0eebb612",
            "_dom_classes": [],
            "description": "Downloading: 100%",
            "_model_name": "FloatProgressModel",
            "bar_style": "success",
            "max": 231508,
            "_view_module": "@jupyter-widgets/controls",
            "_model_module_version": "1.5.0",
            "value": 231508,
            "_view_count": null,
            "_view_module_version": "1.5.0",
            "orientation": "horizontal",
            "min": 0,
            "description_tooltip": null,
            "_model_module": "@jupyter-widgets/controls",
            "layout": "IPY_MODEL_b336a8879d3b466d989284c79e9b9709"
          }
        },
        "c5ff149d98894b32874d85c66e7d9c14": {
          "model_module": "@jupyter-widgets/controls",
          "model_name": "HTMLModel",
          "state": {
            "_view_name": "HTMLView",
            "style": "IPY_MODEL_2ee46347b7c744f7b238dfb31258a56d",
            "_dom_classes": [],
            "description": "",
            "_model_name": "HTMLModel",
            "placeholder": "​",
            "_view_module": "@jupyter-widgets/controls",
            "_model_module_version": "1.5.0",
            "value": " 232k/232k [00:02&lt;00:00, 115kB/s]",
            "_view_count": null,
            "_view_module_version": "1.5.0",
            "description_tooltip": null,
            "_model_module": "@jupyter-widgets/controls",
            "layout": "IPY_MODEL_a1e50287e83d42c7b40ec794b3292238"
          }
        },
        "19e8ed73b1cf46379a3d745a0eebb612": {
          "model_module": "@jupyter-widgets/controls",
          "model_name": "ProgressStyleModel",
          "state": {
            "_view_name": "StyleView",
            "_model_name": "ProgressStyleModel",
            "description_width": "initial",
            "_view_module": "@jupyter-widgets/base",
            "_model_module_version": "1.5.0",
            "_view_count": null,
            "_view_module_version": "1.2.0",
            "bar_color": null,
            "_model_module": "@jupyter-widgets/controls"
          }
        },
        "b336a8879d3b466d989284c79e9b9709": {
          "model_module": "@jupyter-widgets/base",
          "model_name": "LayoutModel",
          "state": {
            "_view_name": "LayoutView",
            "grid_template_rows": null,
            "right": null,
            "justify_content": null,
            "_view_module": "@jupyter-widgets/base",
            "overflow": null,
            "_model_module_version": "1.2.0",
            "_view_count": null,
            "flex_flow": null,
            "width": null,
            "min_width": null,
            "border": null,
            "align_items": null,
            "bottom": null,
            "_model_module": "@jupyter-widgets/base",
            "top": null,
            "grid_column": null,
            "overflow_y": null,
            "overflow_x": null,
            "grid_auto_flow": null,
            "grid_area": null,
            "grid_template_columns": null,
            "flex": null,
            "_model_name": "LayoutModel",
            "justify_items": null,
            "grid_row": null,
            "max_height": null,
            "align_content": null,
            "visibility": null,
            "align_self": null,
            "height": null,
            "min_height": null,
            "padding": null,
            "grid_auto_rows": null,
            "grid_gap": null,
            "max_width": null,
            "order": null,
            "_view_module_version": "1.2.0",
            "grid_template_areas": null,
            "object_position": null,
            "object_fit": null,
            "grid_auto_columns": null,
            "margin": null,
            "display": null,
            "left": null
          }
        },
        "2ee46347b7c744f7b238dfb31258a56d": {
          "model_module": "@jupyter-widgets/controls",
          "model_name": "DescriptionStyleModel",
          "state": {
            "_view_name": "StyleView",
            "_model_name": "DescriptionStyleModel",
            "description_width": "",
            "_view_module": "@jupyter-widgets/base",
            "_model_module_version": "1.5.0",
            "_view_count": null,
            "_view_module_version": "1.2.0",
            "_model_module": "@jupyter-widgets/controls"
          }
        },
        "a1e50287e83d42c7b40ec794b3292238": {
          "model_module": "@jupyter-widgets/base",
          "model_name": "LayoutModel",
          "state": {
            "_view_name": "LayoutView",
            "grid_template_rows": null,
            "right": null,
            "justify_content": null,
            "_view_module": "@jupyter-widgets/base",
            "overflow": null,
            "_model_module_version": "1.2.0",
            "_view_count": null,
            "flex_flow": null,
            "width": null,
            "min_width": null,
            "border": null,
            "align_items": null,
            "bottom": null,
            "_model_module": "@jupyter-widgets/base",
            "top": null,
            "grid_column": null,
            "overflow_y": null,
            "overflow_x": null,
            "grid_auto_flow": null,
            "grid_area": null,
            "grid_template_columns": null,
            "flex": null,
            "_model_name": "LayoutModel",
            "justify_items": null,
            "grid_row": null,
            "max_height": null,
            "align_content": null,
            "visibility": null,
            "align_self": null,
            "height": null,
            "min_height": null,
            "padding": null,
            "grid_auto_rows": null,
            "grid_gap": null,
            "max_width": null,
            "order": null,
            "_view_module_version": "1.2.0",
            "grid_template_areas": null,
            "object_position": null,
            "object_fit": null,
            "grid_auto_columns": null,
            "margin": null,
            "display": null,
            "left": null
          }
        },
        "f69800d0ca1c475181d667af18564fc3": {
          "model_module": "@jupyter-widgets/controls",
          "model_name": "HBoxModel",
          "state": {
            "_view_name": "HBoxView",
            "_dom_classes": [],
            "_model_name": "HBoxModel",
            "_view_module": "@jupyter-widgets/controls",
            "_model_module_version": "1.5.0",
            "_view_count": null,
            "_view_module_version": "1.5.0",
            "box_style": "",
            "layout": "IPY_MODEL_f739b2b9bec84fbcabbd38ca73749b6e",
            "_model_module": "@jupyter-widgets/controls",
            "children": [
              "IPY_MODEL_d7a8cffa945446eeb867540ccdc0de79",
              "IPY_MODEL_c8c2d807a00f45749987a60983cf522c"
            ]
          }
        },
        "f739b2b9bec84fbcabbd38ca73749b6e": {
          "model_module": "@jupyter-widgets/base",
          "model_name": "LayoutModel",
          "state": {
            "_view_name": "LayoutView",
            "grid_template_rows": null,
            "right": null,
            "justify_content": null,
            "_view_module": "@jupyter-widgets/base",
            "overflow": null,
            "_model_module_version": "1.2.0",
            "_view_count": null,
            "flex_flow": null,
            "width": null,
            "min_width": null,
            "border": null,
            "align_items": null,
            "bottom": null,
            "_model_module": "@jupyter-widgets/base",
            "top": null,
            "grid_column": null,
            "overflow_y": null,
            "overflow_x": null,
            "grid_auto_flow": null,
            "grid_area": null,
            "grid_template_columns": null,
            "flex": null,
            "_model_name": "LayoutModel",
            "justify_items": null,
            "grid_row": null,
            "max_height": null,
            "align_content": null,
            "visibility": null,
            "align_self": null,
            "height": null,
            "min_height": null,
            "padding": null,
            "grid_auto_rows": null,
            "grid_gap": null,
            "max_width": null,
            "order": null,
            "_view_module_version": "1.2.0",
            "grid_template_areas": null,
            "object_position": null,
            "object_fit": null,
            "grid_auto_columns": null,
            "margin": null,
            "display": null,
            "left": null
          }
        },
        "d7a8cffa945446eeb867540ccdc0de79": {
          "model_module": "@jupyter-widgets/controls",
          "model_name": "FloatProgressModel",
          "state": {
            "_view_name": "ProgressView",
            "style": "IPY_MODEL_ef17d2aee89d44dca49ba4e136495000",
            "_dom_classes": [],
            "description": "Downloading: 100%",
            "_model_name": "FloatProgressModel",
            "bar_style": "success",
            "max": 28,
            "_view_module": "@jupyter-widgets/controls",
            "_model_module_version": "1.5.0",
            "value": 28,
            "_view_count": null,
            "_view_module_version": "1.5.0",
            "orientation": "horizontal",
            "min": 0,
            "description_tooltip": null,
            "_model_module": "@jupyter-widgets/controls",
            "layout": "IPY_MODEL_c61c74edad9a4f3189fb816835d798d6"
          }
        },
        "c8c2d807a00f45749987a60983cf522c": {
          "model_module": "@jupyter-widgets/controls",
          "model_name": "HTMLModel",
          "state": {
            "_view_name": "HTMLView",
            "style": "IPY_MODEL_b3cacc3f53cf4c43acc5500d9314fb53",
            "_dom_classes": [],
            "description": "",
            "_model_name": "HTMLModel",
            "placeholder": "​",
            "_view_module": "@jupyter-widgets/controls",
            "_model_module_version": "1.5.0",
            "value": " 28.0/28.0 [00:00&lt;00:00, 47.4B/s]",
            "_view_count": null,
            "_view_module_version": "1.5.0",
            "description_tooltip": null,
            "_model_module": "@jupyter-widgets/controls",
            "layout": "IPY_MODEL_ee33325411a146049246b76e7b751bd0"
          }
        },
        "ef17d2aee89d44dca49ba4e136495000": {
          "model_module": "@jupyter-widgets/controls",
          "model_name": "ProgressStyleModel",
          "state": {
            "_view_name": "StyleView",
            "_model_name": "ProgressStyleModel",
            "description_width": "initial",
            "_view_module": "@jupyter-widgets/base",
            "_model_module_version": "1.5.0",
            "_view_count": null,
            "_view_module_version": "1.2.0",
            "bar_color": null,
            "_model_module": "@jupyter-widgets/controls"
          }
        },
        "c61c74edad9a4f3189fb816835d798d6": {
          "model_module": "@jupyter-widgets/base",
          "model_name": "LayoutModel",
          "state": {
            "_view_name": "LayoutView",
            "grid_template_rows": null,
            "right": null,
            "justify_content": null,
            "_view_module": "@jupyter-widgets/base",
            "overflow": null,
            "_model_module_version": "1.2.0",
            "_view_count": null,
            "flex_flow": null,
            "width": null,
            "min_width": null,
            "border": null,
            "align_items": null,
            "bottom": null,
            "_model_module": "@jupyter-widgets/base",
            "top": null,
            "grid_column": null,
            "overflow_y": null,
            "overflow_x": null,
            "grid_auto_flow": null,
            "grid_area": null,
            "grid_template_columns": null,
            "flex": null,
            "_model_name": "LayoutModel",
            "justify_items": null,
            "grid_row": null,
            "max_height": null,
            "align_content": null,
            "visibility": null,
            "align_self": null,
            "height": null,
            "min_height": null,
            "padding": null,
            "grid_auto_rows": null,
            "grid_gap": null,
            "max_width": null,
            "order": null,
            "_view_module_version": "1.2.0",
            "grid_template_areas": null,
            "object_position": null,
            "object_fit": null,
            "grid_auto_columns": null,
            "margin": null,
            "display": null,
            "left": null
          }
        },
        "b3cacc3f53cf4c43acc5500d9314fb53": {
          "model_module": "@jupyter-widgets/controls",
          "model_name": "DescriptionStyleModel",
          "state": {
            "_view_name": "StyleView",
            "_model_name": "DescriptionStyleModel",
            "description_width": "",
            "_view_module": "@jupyter-widgets/base",
            "_model_module_version": "1.5.0",
            "_view_count": null,
            "_view_module_version": "1.2.0",
            "_model_module": "@jupyter-widgets/controls"
          }
        },
        "ee33325411a146049246b76e7b751bd0": {
          "model_module": "@jupyter-widgets/base",
          "model_name": "LayoutModel",
          "state": {
            "_view_name": "LayoutView",
            "grid_template_rows": null,
            "right": null,
            "justify_content": null,
            "_view_module": "@jupyter-widgets/base",
            "overflow": null,
            "_model_module_version": "1.2.0",
            "_view_count": null,
            "flex_flow": null,
            "width": null,
            "min_width": null,
            "border": null,
            "align_items": null,
            "bottom": null,
            "_model_module": "@jupyter-widgets/base",
            "top": null,
            "grid_column": null,
            "overflow_y": null,
            "overflow_x": null,
            "grid_auto_flow": null,
            "grid_area": null,
            "grid_template_columns": null,
            "flex": null,
            "_model_name": "LayoutModel",
            "justify_items": null,
            "grid_row": null,
            "max_height": null,
            "align_content": null,
            "visibility": null,
            "align_self": null,
            "height": null,
            "min_height": null,
            "padding": null,
            "grid_auto_rows": null,
            "grid_gap": null,
            "max_width": null,
            "order": null,
            "_view_module_version": "1.2.0",
            "grid_template_areas": null,
            "object_position": null,
            "object_fit": null,
            "grid_auto_columns": null,
            "margin": null,
            "display": null,
            "left": null
          }
        },
        "054dab97706d45c583fc53bf65b0a246": {
          "model_module": "@jupyter-widgets/controls",
          "model_name": "HBoxModel",
          "state": {
            "_view_name": "HBoxView",
            "_dom_classes": [],
            "_model_name": "HBoxModel",
            "_view_module": "@jupyter-widgets/controls",
            "_model_module_version": "1.5.0",
            "_view_count": null,
            "_view_module_version": "1.5.0",
            "box_style": "",
            "layout": "IPY_MODEL_e311ad0f25a54ca7a8692e58b687fd22",
            "_model_module": "@jupyter-widgets/controls",
            "children": [
              "IPY_MODEL_0224468c41af4af1aad69d2637be3b23",
              "IPY_MODEL_d3c4af11a72a4719975aa7f2974a6210"
            ]
          }
        },
        "e311ad0f25a54ca7a8692e58b687fd22": {
          "model_module": "@jupyter-widgets/base",
          "model_name": "LayoutModel",
          "state": {
            "_view_name": "LayoutView",
            "grid_template_rows": null,
            "right": null,
            "justify_content": null,
            "_view_module": "@jupyter-widgets/base",
            "overflow": null,
            "_model_module_version": "1.2.0",
            "_view_count": null,
            "flex_flow": null,
            "width": null,
            "min_width": null,
            "border": null,
            "align_items": null,
            "bottom": null,
            "_model_module": "@jupyter-widgets/base",
            "top": null,
            "grid_column": null,
            "overflow_y": null,
            "overflow_x": null,
            "grid_auto_flow": null,
            "grid_area": null,
            "grid_template_columns": null,
            "flex": null,
            "_model_name": "LayoutModel",
            "justify_items": null,
            "grid_row": null,
            "max_height": null,
            "align_content": null,
            "visibility": null,
            "align_self": null,
            "height": null,
            "min_height": null,
            "padding": null,
            "grid_auto_rows": null,
            "grid_gap": null,
            "max_width": null,
            "order": null,
            "_view_module_version": "1.2.0",
            "grid_template_areas": null,
            "object_position": null,
            "object_fit": null,
            "grid_auto_columns": null,
            "margin": null,
            "display": null,
            "left": null
          }
        },
        "0224468c41af4af1aad69d2637be3b23": {
          "model_module": "@jupyter-widgets/controls",
          "model_name": "FloatProgressModel",
          "state": {
            "_view_name": "ProgressView",
            "style": "IPY_MODEL_5d5380a20dd14dbfad5effc685848d03",
            "_dom_classes": [],
            "description": "Downloading: 100%",
            "_model_name": "FloatProgressModel",
            "bar_style": "success",
            "max": 466062,
            "_view_module": "@jupyter-widgets/controls",
            "_model_module_version": "1.5.0",
            "value": 466062,
            "_view_count": null,
            "_view_module_version": "1.5.0",
            "orientation": "horizontal",
            "min": 0,
            "description_tooltip": null,
            "_model_module": "@jupyter-widgets/controls",
            "layout": "IPY_MODEL_3587754fb17a499ea44f57f7539b4d07"
          }
        },
        "d3c4af11a72a4719975aa7f2974a6210": {
          "model_module": "@jupyter-widgets/controls",
          "model_name": "HTMLModel",
          "state": {
            "_view_name": "HTMLView",
            "style": "IPY_MODEL_9939821cbfa44c538f667a66d79fb37b",
            "_dom_classes": [],
            "description": "",
            "_model_name": "HTMLModel",
            "placeholder": "​",
            "_view_module": "@jupyter-widgets/controls",
            "_model_module_version": "1.5.0",
            "value": " 466k/466k [00:00&lt;00:00, 1.01MB/s]",
            "_view_count": null,
            "_view_module_version": "1.5.0",
            "description_tooltip": null,
            "_model_module": "@jupyter-widgets/controls",
            "layout": "IPY_MODEL_de616148f33a4ef2ae345b53258796e7"
          }
        },
        "5d5380a20dd14dbfad5effc685848d03": {
          "model_module": "@jupyter-widgets/controls",
          "model_name": "ProgressStyleModel",
          "state": {
            "_view_name": "StyleView",
            "_model_name": "ProgressStyleModel",
            "description_width": "initial",
            "_view_module": "@jupyter-widgets/base",
            "_model_module_version": "1.5.0",
            "_view_count": null,
            "_view_module_version": "1.2.0",
            "bar_color": null,
            "_model_module": "@jupyter-widgets/controls"
          }
        },
        "3587754fb17a499ea44f57f7539b4d07": {
          "model_module": "@jupyter-widgets/base",
          "model_name": "LayoutModel",
          "state": {
            "_view_name": "LayoutView",
            "grid_template_rows": null,
            "right": null,
            "justify_content": null,
            "_view_module": "@jupyter-widgets/base",
            "overflow": null,
            "_model_module_version": "1.2.0",
            "_view_count": null,
            "flex_flow": null,
            "width": null,
            "min_width": null,
            "border": null,
            "align_items": null,
            "bottom": null,
            "_model_module": "@jupyter-widgets/base",
            "top": null,
            "grid_column": null,
            "overflow_y": null,
            "overflow_x": null,
            "grid_auto_flow": null,
            "grid_area": null,
            "grid_template_columns": null,
            "flex": null,
            "_model_name": "LayoutModel",
            "justify_items": null,
            "grid_row": null,
            "max_height": null,
            "align_content": null,
            "visibility": null,
            "align_self": null,
            "height": null,
            "min_height": null,
            "padding": null,
            "grid_auto_rows": null,
            "grid_gap": null,
            "max_width": null,
            "order": null,
            "_view_module_version": "1.2.0",
            "grid_template_areas": null,
            "object_position": null,
            "object_fit": null,
            "grid_auto_columns": null,
            "margin": null,
            "display": null,
            "left": null
          }
        },
        "9939821cbfa44c538f667a66d79fb37b": {
          "model_module": "@jupyter-widgets/controls",
          "model_name": "DescriptionStyleModel",
          "state": {
            "_view_name": "StyleView",
            "_model_name": "DescriptionStyleModel",
            "description_width": "",
            "_view_module": "@jupyter-widgets/base",
            "_model_module_version": "1.5.0",
            "_view_count": null,
            "_view_module_version": "1.2.0",
            "_model_module": "@jupyter-widgets/controls"
          }
        },
        "de616148f33a4ef2ae345b53258796e7": {
          "model_module": "@jupyter-widgets/base",
          "model_name": "LayoutModel",
          "state": {
            "_view_name": "LayoutView",
            "grid_template_rows": null,
            "right": null,
            "justify_content": null,
            "_view_module": "@jupyter-widgets/base",
            "overflow": null,
            "_model_module_version": "1.2.0",
            "_view_count": null,
            "flex_flow": null,
            "width": null,
            "min_width": null,
            "border": null,
            "align_items": null,
            "bottom": null,
            "_model_module": "@jupyter-widgets/base",
            "top": null,
            "grid_column": null,
            "overflow_y": null,
            "overflow_x": null,
            "grid_auto_flow": null,
            "grid_area": null,
            "grid_template_columns": null,
            "flex": null,
            "_model_name": "LayoutModel",
            "justify_items": null,
            "grid_row": null,
            "max_height": null,
            "align_content": null,
            "visibility": null,
            "align_self": null,
            "height": null,
            "min_height": null,
            "padding": null,
            "grid_auto_rows": null,
            "grid_gap": null,
            "max_width": null,
            "order": null,
            "_view_module_version": "1.2.0",
            "grid_template_areas": null,
            "object_position": null,
            "object_fit": null,
            "grid_auto_columns": null,
            "margin": null,
            "display": null,
            "left": null
          }
        },
        "9458a24a4eab45da90990c9429a3fc9c": {
          "model_module": "@jupyter-widgets/controls",
          "model_name": "HBoxModel",
          "state": {
            "_view_name": "HBoxView",
            "_dom_classes": [],
            "_model_name": "HBoxModel",
            "_view_module": "@jupyter-widgets/controls",
            "_model_module_version": "1.5.0",
            "_view_count": null,
            "_view_module_version": "1.5.0",
            "box_style": "",
            "layout": "IPY_MODEL_be418087faa74fd4b699230f200b2c3d",
            "_model_module": "@jupyter-widgets/controls",
            "children": [
              "IPY_MODEL_11a08836f31b459b8db1a15ca68b0745",
              "IPY_MODEL_4c023f5750a74d4b865c79585c54b148"
            ]
          }
        },
        "be418087faa74fd4b699230f200b2c3d": {
          "model_module": "@jupyter-widgets/base",
          "model_name": "LayoutModel",
          "state": {
            "_view_name": "LayoutView",
            "grid_template_rows": null,
            "right": null,
            "justify_content": null,
            "_view_module": "@jupyter-widgets/base",
            "overflow": null,
            "_model_module_version": "1.2.0",
            "_view_count": null,
            "flex_flow": null,
            "width": null,
            "min_width": null,
            "border": null,
            "align_items": null,
            "bottom": null,
            "_model_module": "@jupyter-widgets/base",
            "top": null,
            "grid_column": null,
            "overflow_y": null,
            "overflow_x": null,
            "grid_auto_flow": null,
            "grid_area": null,
            "grid_template_columns": null,
            "flex": null,
            "_model_name": "LayoutModel",
            "justify_items": null,
            "grid_row": null,
            "max_height": null,
            "align_content": null,
            "visibility": null,
            "align_self": null,
            "height": null,
            "min_height": null,
            "padding": null,
            "grid_auto_rows": null,
            "grid_gap": null,
            "max_width": null,
            "order": null,
            "_view_module_version": "1.2.0",
            "grid_template_areas": null,
            "object_position": null,
            "object_fit": null,
            "grid_auto_columns": null,
            "margin": null,
            "display": null,
            "left": null
          }
        },
        "11a08836f31b459b8db1a15ca68b0745": {
          "model_module": "@jupyter-widgets/controls",
          "model_name": "FloatProgressModel",
          "state": {
            "_view_name": "ProgressView",
            "style": "IPY_MODEL_d19c7d872fee45ef955d3bb642f7fa53",
            "_dom_classes": [],
            "description": "100%",
            "_model_name": "FloatProgressModel",
            "bar_style": "success",
            "max": 11103,
            "_view_module": "@jupyter-widgets/controls",
            "_model_module_version": "1.5.0",
            "value": 11103,
            "_view_count": null,
            "_view_module_version": "1.5.0",
            "orientation": "horizontal",
            "min": 0,
            "description_tooltip": null,
            "_model_module": "@jupyter-widgets/controls",
            "layout": "IPY_MODEL_cfd878e68112426f9060947e81c924e6"
          }
        },
        "4c023f5750a74d4b865c79585c54b148": {
          "model_module": "@jupyter-widgets/controls",
          "model_name": "HTMLModel",
          "state": {
            "_view_name": "HTMLView",
            "style": "IPY_MODEL_1164a16ee2514feb8bb974f35ac1b10c",
            "_dom_classes": [],
            "description": "",
            "_model_name": "HTMLModel",
            "placeholder": "​",
            "_view_module": "@jupyter-widgets/controls",
            "_model_module_version": "1.5.0",
            "value": " 11103/11103 [00:42&lt;00:00, 263.33it/s]",
            "_view_count": null,
            "_view_module_version": "1.5.0",
            "description_tooltip": null,
            "_model_module": "@jupyter-widgets/controls",
            "layout": "IPY_MODEL_bf605da5083245dbba754e16fc43e381"
          }
        },
        "d19c7d872fee45ef955d3bb642f7fa53": {
          "model_module": "@jupyter-widgets/controls",
          "model_name": "ProgressStyleModel",
          "state": {
            "_view_name": "StyleView",
            "_model_name": "ProgressStyleModel",
            "description_width": "initial",
            "_view_module": "@jupyter-widgets/base",
            "_model_module_version": "1.5.0",
            "_view_count": null,
            "_view_module_version": "1.2.0",
            "bar_color": null,
            "_model_module": "@jupyter-widgets/controls"
          }
        },
        "cfd878e68112426f9060947e81c924e6": {
          "model_module": "@jupyter-widgets/base",
          "model_name": "LayoutModel",
          "state": {
            "_view_name": "LayoutView",
            "grid_template_rows": null,
            "right": null,
            "justify_content": null,
            "_view_module": "@jupyter-widgets/base",
            "overflow": null,
            "_model_module_version": "1.2.0",
            "_view_count": null,
            "flex_flow": null,
            "width": null,
            "min_width": null,
            "border": null,
            "align_items": null,
            "bottom": null,
            "_model_module": "@jupyter-widgets/base",
            "top": null,
            "grid_column": null,
            "overflow_y": null,
            "overflow_x": null,
            "grid_auto_flow": null,
            "grid_area": null,
            "grid_template_columns": null,
            "flex": null,
            "_model_name": "LayoutModel",
            "justify_items": null,
            "grid_row": null,
            "max_height": null,
            "align_content": null,
            "visibility": null,
            "align_self": null,
            "height": null,
            "min_height": null,
            "padding": null,
            "grid_auto_rows": null,
            "grid_gap": null,
            "max_width": null,
            "order": null,
            "_view_module_version": "1.2.0",
            "grid_template_areas": null,
            "object_position": null,
            "object_fit": null,
            "grid_auto_columns": null,
            "margin": null,
            "display": null,
            "left": null
          }
        },
        "1164a16ee2514feb8bb974f35ac1b10c": {
          "model_module": "@jupyter-widgets/controls",
          "model_name": "DescriptionStyleModel",
          "state": {
            "_view_name": "StyleView",
            "_model_name": "DescriptionStyleModel",
            "description_width": "",
            "_view_module": "@jupyter-widgets/base",
            "_model_module_version": "1.5.0",
            "_view_count": null,
            "_view_module_version": "1.2.0",
            "_model_module": "@jupyter-widgets/controls"
          }
        },
        "bf605da5083245dbba754e16fc43e381": {
          "model_module": "@jupyter-widgets/base",
          "model_name": "LayoutModel",
          "state": {
            "_view_name": "LayoutView",
            "grid_template_rows": null,
            "right": null,
            "justify_content": null,
            "_view_module": "@jupyter-widgets/base",
            "overflow": null,
            "_model_module_version": "1.2.0",
            "_view_count": null,
            "flex_flow": null,
            "width": null,
            "min_width": null,
            "border": null,
            "align_items": null,
            "bottom": null,
            "_model_module": "@jupyter-widgets/base",
            "top": null,
            "grid_column": null,
            "overflow_y": null,
            "overflow_x": null,
            "grid_auto_flow": null,
            "grid_area": null,
            "grid_template_columns": null,
            "flex": null,
            "_model_name": "LayoutModel",
            "justify_items": null,
            "grid_row": null,
            "max_height": null,
            "align_content": null,
            "visibility": null,
            "align_self": null,
            "height": null,
            "min_height": null,
            "padding": null,
            "grid_auto_rows": null,
            "grid_gap": null,
            "max_width": null,
            "order": null,
            "_view_module_version": "1.2.0",
            "grid_template_areas": null,
            "object_position": null,
            "object_fit": null,
            "grid_auto_columns": null,
            "margin": null,
            "display": null,
            "left": null
          }
        },
        "c46a0c8cd11e480f84d3d4dd414faed2": {
          "model_module": "@jupyter-widgets/controls",
          "model_name": "HBoxModel",
          "state": {
            "_view_name": "HBoxView",
            "_dom_classes": [],
            "_model_name": "HBoxModel",
            "_view_module": "@jupyter-widgets/controls",
            "_model_module_version": "1.5.0",
            "_view_count": null,
            "_view_module_version": "1.5.0",
            "box_style": "",
            "layout": "IPY_MODEL_4716f3b50a6c46b992be637693b6ee3b",
            "_model_module": "@jupyter-widgets/controls",
            "children": [
              "IPY_MODEL_0cea44f8d07144bd919d6e9aec667a87",
              "IPY_MODEL_456fc66ed8e44542b588c3a54d64b1ac"
            ]
          }
        },
        "4716f3b50a6c46b992be637693b6ee3b": {
          "model_module": "@jupyter-widgets/base",
          "model_name": "LayoutModel",
          "state": {
            "_view_name": "LayoutView",
            "grid_template_rows": null,
            "right": null,
            "justify_content": null,
            "_view_module": "@jupyter-widgets/base",
            "overflow": null,
            "_model_module_version": "1.2.0",
            "_view_count": null,
            "flex_flow": null,
            "width": null,
            "min_width": null,
            "border": null,
            "align_items": null,
            "bottom": null,
            "_model_module": "@jupyter-widgets/base",
            "top": null,
            "grid_column": null,
            "overflow_y": null,
            "overflow_x": null,
            "grid_auto_flow": null,
            "grid_area": null,
            "grid_template_columns": null,
            "flex": null,
            "_model_name": "LayoutModel",
            "justify_items": null,
            "grid_row": null,
            "max_height": null,
            "align_content": null,
            "visibility": null,
            "align_self": null,
            "height": null,
            "min_height": null,
            "padding": null,
            "grid_auto_rows": null,
            "grid_gap": null,
            "max_width": null,
            "order": null,
            "_view_module_version": "1.2.0",
            "grid_template_areas": null,
            "object_position": null,
            "object_fit": null,
            "grid_auto_columns": null,
            "margin": null,
            "display": null,
            "left": null
          }
        },
        "0cea44f8d07144bd919d6e9aec667a87": {
          "model_module": "@jupyter-widgets/controls",
          "model_name": "FloatProgressModel",
          "state": {
            "_view_name": "ProgressView",
            "style": "IPY_MODEL_8a1a28d9bdd94c9b80b57e801b107060",
            "_dom_classes": [],
            "description": "100%",
            "_model_name": "FloatProgressModel",
            "bar_style": "success",
            "max": 11103,
            "_view_module": "@jupyter-widgets/controls",
            "_model_module_version": "1.5.0",
            "value": 11103,
            "_view_count": null,
            "_view_module_version": "1.5.0",
            "orientation": "horizontal",
            "min": 0,
            "description_tooltip": null,
            "_model_module": "@jupyter-widgets/controls",
            "layout": "IPY_MODEL_9aa0b7044ac14735b96cb898fe6e9300"
          }
        },
        "456fc66ed8e44542b588c3a54d64b1ac": {
          "model_module": "@jupyter-widgets/controls",
          "model_name": "HTMLModel",
          "state": {
            "_view_name": "HTMLView",
            "style": "IPY_MODEL_022b24d911604b0bb087afd507f579ad",
            "_dom_classes": [],
            "description": "",
            "_model_name": "HTMLModel",
            "placeholder": "​",
            "_view_module": "@jupyter-widgets/controls",
            "_model_module_version": "1.5.0",
            "value": " 11103/11103 [04:28&lt;00:00, 41.41it/s]",
            "_view_count": null,
            "_view_module_version": "1.5.0",
            "description_tooltip": null,
            "_model_module": "@jupyter-widgets/controls",
            "layout": "IPY_MODEL_66a60fc3fb7d4c1a975aaf5264fb5786"
          }
        },
        "8a1a28d9bdd94c9b80b57e801b107060": {
          "model_module": "@jupyter-widgets/controls",
          "model_name": "ProgressStyleModel",
          "state": {
            "_view_name": "StyleView",
            "_model_name": "ProgressStyleModel",
            "description_width": "initial",
            "_view_module": "@jupyter-widgets/base",
            "_model_module_version": "1.5.0",
            "_view_count": null,
            "_view_module_version": "1.2.0",
            "bar_color": null,
            "_model_module": "@jupyter-widgets/controls"
          }
        },
        "9aa0b7044ac14735b96cb898fe6e9300": {
          "model_module": "@jupyter-widgets/base",
          "model_name": "LayoutModel",
          "state": {
            "_view_name": "LayoutView",
            "grid_template_rows": null,
            "right": null,
            "justify_content": null,
            "_view_module": "@jupyter-widgets/base",
            "overflow": null,
            "_model_module_version": "1.2.0",
            "_view_count": null,
            "flex_flow": null,
            "width": null,
            "min_width": null,
            "border": null,
            "align_items": null,
            "bottom": null,
            "_model_module": "@jupyter-widgets/base",
            "top": null,
            "grid_column": null,
            "overflow_y": null,
            "overflow_x": null,
            "grid_auto_flow": null,
            "grid_area": null,
            "grid_template_columns": null,
            "flex": null,
            "_model_name": "LayoutModel",
            "justify_items": null,
            "grid_row": null,
            "max_height": null,
            "align_content": null,
            "visibility": null,
            "align_self": null,
            "height": null,
            "min_height": null,
            "padding": null,
            "grid_auto_rows": null,
            "grid_gap": null,
            "max_width": null,
            "order": null,
            "_view_module_version": "1.2.0",
            "grid_template_areas": null,
            "object_position": null,
            "object_fit": null,
            "grid_auto_columns": null,
            "margin": null,
            "display": null,
            "left": null
          }
        },
        "022b24d911604b0bb087afd507f579ad": {
          "model_module": "@jupyter-widgets/controls",
          "model_name": "DescriptionStyleModel",
          "state": {
            "_view_name": "StyleView",
            "_model_name": "DescriptionStyleModel",
            "description_width": "",
            "_view_module": "@jupyter-widgets/base",
            "_model_module_version": "1.5.0",
            "_view_count": null,
            "_view_module_version": "1.2.0",
            "_model_module": "@jupyter-widgets/controls"
          }
        },
        "66a60fc3fb7d4c1a975aaf5264fb5786": {
          "model_module": "@jupyter-widgets/base",
          "model_name": "LayoutModel",
          "state": {
            "_view_name": "LayoutView",
            "grid_template_rows": null,
            "right": null,
            "justify_content": null,
            "_view_module": "@jupyter-widgets/base",
            "overflow": null,
            "_model_module_version": "1.2.0",
            "_view_count": null,
            "flex_flow": null,
            "width": null,
            "min_width": null,
            "border": null,
            "align_items": null,
            "bottom": null,
            "_model_module": "@jupyter-widgets/base",
            "top": null,
            "grid_column": null,
            "overflow_y": null,
            "overflow_x": null,
            "grid_auto_flow": null,
            "grid_area": null,
            "grid_template_columns": null,
            "flex": null,
            "_model_name": "LayoutModel",
            "justify_items": null,
            "grid_row": null,
            "max_height": null,
            "align_content": null,
            "visibility": null,
            "align_self": null,
            "height": null,
            "min_height": null,
            "padding": null,
            "grid_auto_rows": null,
            "grid_gap": null,
            "max_width": null,
            "order": null,
            "_view_module_version": "1.2.0",
            "grid_template_areas": null,
            "object_position": null,
            "object_fit": null,
            "grid_auto_columns": null,
            "margin": null,
            "display": null,
            "left": null
          }
        }
      }
    }
  },
  "cells": [
    {
      "cell_type": "markdown",
      "metadata": {
        "id": "4y_ghAtfpxMK"
      },
      "source": [
        "# Amazon Review Polarity/ Sentiment Classification"
      ]
    },
    {
      "cell_type": "markdown",
      "metadata": {
        "id": "EtZfG9eLp4nV"
      },
      "source": [
        "#### Installing Dependency"
      ]
    },
    {
      "cell_type": "code",
      "metadata": {
        "colab": {
          "base_uri": "https://localhost:8080/"
        },
        "id": "voM6JRPHpoKs",
        "outputId": "d3799804-e763-4621-cc8f-d64b3723dfe5"
      },
      "source": [
        "!pip install -U spacy\n",
        "!pip install -U spacy-lookups-data\n",
        "!python -m spacy download en_core_web_lg\n",
        "!pip install googletrans==3.1.0a0"
      ],
      "execution_count": 2,
      "outputs": [
        {
          "output_type": "stream",
          "text": [
            "Collecting spacy\n",
            "\u001b[?25l  Downloading https://files.pythonhosted.org/packages/3a/70/a0b8bd0cb54d8739ba4d6fb3458785c3b9b812b7fbe93b0f10beb1a53ada/spacy-3.0.5-cp37-cp37m-manylinux2014_x86_64.whl (12.8MB)\n",
            "\u001b[K     |████████████████████████████████| 12.8MB 378kB/s \n",
            "\u001b[?25hCollecting srsly<3.0.0,>=2.4.0\n",
            "\u001b[?25l  Downloading https://files.pythonhosted.org/packages/19/54/76982427ceb495dd19ff982c966708c624b85e03c45bf1912feaf60c7b2d/srsly-2.4.0-cp37-cp37m-manylinux2014_x86_64.whl (456kB)\n",
            "\u001b[K     |████████████████████████████████| 460kB 47.5MB/s \n",
            "\u001b[?25hRequirement already satisfied, skipping upgrade: blis<0.8.0,>=0.4.0 in /usr/local/lib/python3.7/dist-packages (from spacy) (0.4.1)\n",
            "Requirement already satisfied, skipping upgrade: numpy>=1.15.0 in /usr/local/lib/python3.7/dist-packages (from spacy) (1.19.5)\n",
            "Requirement already satisfied, skipping upgrade: requests<3.0.0,>=2.13.0 in /usr/local/lib/python3.7/dist-packages (from spacy) (2.23.0)\n",
            "Collecting thinc<8.1.0,>=8.0.2\n",
            "\u001b[?25l  Downloading https://files.pythonhosted.org/packages/e3/08/20e707519bcded1a0caa6fd024b767ac79e4e5d0fb92266bb7dcf735e338/thinc-8.0.2-cp37-cp37m-manylinux2014_x86_64.whl (1.1MB)\n",
            "\u001b[K     |████████████████████████████████| 1.1MB 49.0MB/s \n",
            "\u001b[?25hRequirement already satisfied, skipping upgrade: jinja2 in /usr/local/lib/python3.7/dist-packages (from spacy) (2.11.3)\n",
            "Requirement already satisfied, skipping upgrade: murmurhash<1.1.0,>=0.28.0 in /usr/local/lib/python3.7/dist-packages (from spacy) (1.0.5)\n",
            "Collecting pydantic<1.8.0,>=1.7.1\n",
            "\u001b[?25l  Downloading https://files.pythonhosted.org/packages/b3/0a/52ae1c659fc08f13dd7c0ae07b88e4f807ad83fb9954a59b0b0a3d1a8ab6/pydantic-1.7.3-cp37-cp37m-manylinux2014_x86_64.whl (9.1MB)\n",
            "\u001b[K     |████████████████████████████████| 9.1MB 52.1MB/s \n",
            "\u001b[?25hRequirement already satisfied, skipping upgrade: importlib-metadata>=0.20; python_version < \"3.8\" in /usr/local/lib/python3.7/dist-packages (from spacy) (3.8.1)\n",
            "Collecting pathy>=0.3.5\n",
            "  Downloading https://files.pythonhosted.org/packages/a2/53/97dc0197cca9357369b3b71bf300896cf2d3604fa60ffaaf5cbc277de7de/pathy-0.4.0-py3-none-any.whl\n",
            "Requirement already satisfied, skipping upgrade: cymem<2.1.0,>=2.0.2 in /usr/local/lib/python3.7/dist-packages (from spacy) (2.0.5)\n",
            "Requirement already satisfied, skipping upgrade: tqdm<5.0.0,>=4.38.0 in /usr/local/lib/python3.7/dist-packages (from spacy) (4.41.1)\n",
            "Collecting catalogue<2.1.0,>=2.0.1\n",
            "  Downloading https://files.pythonhosted.org/packages/48/5c/493a2f3bb0eac17b1d48129ecfd251f0520b6c89493e9fd0522f534a9e4a/catalogue-2.0.1-py3-none-any.whl\n",
            "Requirement already satisfied, skipping upgrade: setuptools in /usr/local/lib/python3.7/dist-packages (from spacy) (54.2.0)\n",
            "Requirement already satisfied, skipping upgrade: preshed<3.1.0,>=3.0.2 in /usr/local/lib/python3.7/dist-packages (from spacy) (3.0.5)\n",
            "Collecting spacy-legacy<3.1.0,>=3.0.0\n",
            "  Downloading https://files.pythonhosted.org/packages/78/d8/e25bc7f99877de34def57d36769f0cce4e895b374cdc766718efc724f9ac/spacy_legacy-3.0.2-py2.py3-none-any.whl\n",
            "Collecting typer<0.4.0,>=0.3.0\n",
            "  Downloading https://files.pythonhosted.org/packages/90/34/d138832f6945432c638f32137e6c79a3b682f06a63c488dcfaca6b166c64/typer-0.3.2-py3-none-any.whl\n",
            "Requirement already satisfied, skipping upgrade: packaging>=20.0 in /usr/local/lib/python3.7/dist-packages (from spacy) (20.9)\n",
            "Requirement already satisfied, skipping upgrade: wasabi<1.1.0,>=0.8.1 in /usr/local/lib/python3.7/dist-packages (from spacy) (0.8.2)\n",
            "Requirement already satisfied, skipping upgrade: typing-extensions<4.0.0.0,>=3.7.4; python_version < \"3.8\" in /usr/local/lib/python3.7/dist-packages (from spacy) (3.7.4.3)\n",
            "Requirement already satisfied, skipping upgrade: urllib3!=1.25.0,!=1.25.1,<1.26,>=1.21.1 in /usr/local/lib/python3.7/dist-packages (from requests<3.0.0,>=2.13.0->spacy) (1.24.3)\n",
            "Requirement already satisfied, skipping upgrade: idna<3,>=2.5 in /usr/local/lib/python3.7/dist-packages (from requests<3.0.0,>=2.13.0->spacy) (2.10)\n",
            "Requirement already satisfied, skipping upgrade: certifi>=2017.4.17 in /usr/local/lib/python3.7/dist-packages (from requests<3.0.0,>=2.13.0->spacy) (2020.12.5)\n",
            "Requirement already satisfied, skipping upgrade: chardet<4,>=3.0.2 in /usr/local/lib/python3.7/dist-packages (from requests<3.0.0,>=2.13.0->spacy) (3.0.4)\n",
            "Requirement already satisfied, skipping upgrade: MarkupSafe>=0.23 in /usr/local/lib/python3.7/dist-packages (from jinja2->spacy) (1.1.1)\n",
            "Requirement already satisfied, skipping upgrade: zipp>=0.5 in /usr/local/lib/python3.7/dist-packages (from importlib-metadata>=0.20; python_version < \"3.8\"->spacy) (3.4.1)\n",
            "Collecting smart-open<4.0.0,>=2.2.0\n",
            "\u001b[?25l  Downloading https://files.pythonhosted.org/packages/11/9a/ba2d5f67f25e8d5bbf2fcec7a99b1e38428e83cb715f64dd179ca43a11bb/smart_open-3.0.0.tar.gz (113kB)\n",
            "\u001b[K     |████████████████████████████████| 122kB 49.8MB/s \n",
            "\u001b[?25hRequirement already satisfied, skipping upgrade: click<7.2.0,>=7.1.1 in /usr/local/lib/python3.7/dist-packages (from typer<0.4.0,>=0.3.0->spacy) (7.1.2)\n",
            "Requirement already satisfied, skipping upgrade: pyparsing>=2.0.2 in /usr/local/lib/python3.7/dist-packages (from packaging>=20.0->spacy) (2.4.7)\n",
            "Building wheels for collected packages: smart-open\n",
            "  Building wheel for smart-open (setup.py) ... \u001b[?25l\u001b[?25hdone\n",
            "  Created wheel for smart-open: filename=smart_open-3.0.0-cp37-none-any.whl size=107098 sha256=b059d2e647ea80396530dc4d5e87fc7e2f1ce06688cc555ed5a06f2b7fd0be10\n",
            "  Stored in directory: /root/.cache/pip/wheels/18/88/7c/f06dabd5e9cabe02d2269167bcacbbf9b47d0c0ff7d6ebcb78\n",
            "Successfully built smart-open\n",
            "Installing collected packages: catalogue, srsly, pydantic, thinc, smart-open, typer, pathy, spacy-legacy, spacy\n",
            "  Found existing installation: catalogue 1.0.0\n",
            "    Uninstalling catalogue-1.0.0:\n",
            "      Successfully uninstalled catalogue-1.0.0\n",
            "  Found existing installation: srsly 1.0.5\n",
            "    Uninstalling srsly-1.0.5:\n",
            "      Successfully uninstalled srsly-1.0.5\n",
            "  Found existing installation: thinc 7.4.0\n",
            "    Uninstalling thinc-7.4.0:\n",
            "      Successfully uninstalled thinc-7.4.0\n",
            "  Found existing installation: smart-open 4.2.0\n",
            "    Uninstalling smart-open-4.2.0:\n",
            "      Successfully uninstalled smart-open-4.2.0\n",
            "  Found existing installation: spacy 2.2.4\n",
            "    Uninstalling spacy-2.2.4:\n",
            "      Successfully uninstalled spacy-2.2.4\n",
            "Successfully installed catalogue-2.0.1 pathy-0.4.0 pydantic-1.7.3 smart-open-3.0.0 spacy-3.0.5 spacy-legacy-3.0.2 srsly-2.4.0 thinc-8.0.2 typer-0.3.2\n",
            "Collecting spacy-lookups-data\n",
            "\u001b[?25l  Downloading https://files.pythonhosted.org/packages/76/e9/aa3dfb79d42dae89e85c2baeaa13b4635f545795f29a868771876fb38b89/spacy_lookups_data-1.0.0-py2.py3-none-any.whl (93.4MB)\n",
            "\u001b[K     |████████████████████████████████| 93.4MB 58kB/s \n",
            "\u001b[?25hRequirement already satisfied, skipping upgrade: setuptools in /usr/local/lib/python3.7/dist-packages (from spacy-lookups-data) (54.2.0)\n",
            "Installing collected packages: spacy-lookups-data\n",
            "Successfully installed spacy-lookups-data-1.0.0\n",
            "2021-04-11 13:27:29.649834: I tensorflow/stream_executor/platform/default/dso_loader.cc:49] Successfully opened dynamic library libcudart.so.11.0\n",
            "Collecting en-core-web-lg==3.0.0\n",
            "\u001b[?25l  Downloading https://github.com/explosion/spacy-models/releases/download/en_core_web_lg-3.0.0/en_core_web_lg-3.0.0-py3-none-any.whl (778.8MB)\n",
            "\u001b[K     |████████████████████████████████| 778.8MB 23kB/s \n",
            "\u001b[?25hRequirement already satisfied: spacy<3.1.0,>=3.0.0 in /usr/local/lib/python3.7/dist-packages (from en-core-web-lg==3.0.0) (3.0.5)\n",
            "Requirement already satisfied: cymem<2.1.0,>=2.0.2 in /usr/local/lib/python3.7/dist-packages (from spacy<3.1.0,>=3.0.0->en-core-web-lg==3.0.0) (2.0.5)\n",
            "Requirement already satisfied: wasabi<1.1.0,>=0.8.1 in /usr/local/lib/python3.7/dist-packages (from spacy<3.1.0,>=3.0.0->en-core-web-lg==3.0.0) (0.8.2)\n",
            "Requirement already satisfied: pathy>=0.3.5 in /usr/local/lib/python3.7/dist-packages (from spacy<3.1.0,>=3.0.0->en-core-web-lg==3.0.0) (0.4.0)\n",
            "Requirement already satisfied: jinja2 in /usr/local/lib/python3.7/dist-packages (from spacy<3.1.0,>=3.0.0->en-core-web-lg==3.0.0) (2.11.3)\n",
            "Requirement already satisfied: pydantic<1.8.0,>=1.7.1 in /usr/local/lib/python3.7/dist-packages (from spacy<3.1.0,>=3.0.0->en-core-web-lg==3.0.0) (1.7.3)\n",
            "Requirement already satisfied: thinc<8.1.0,>=8.0.2 in /usr/local/lib/python3.7/dist-packages (from spacy<3.1.0,>=3.0.0->en-core-web-lg==3.0.0) (8.0.2)\n",
            "Requirement already satisfied: catalogue<2.1.0,>=2.0.1 in /usr/local/lib/python3.7/dist-packages (from spacy<3.1.0,>=3.0.0->en-core-web-lg==3.0.0) (2.0.1)\n",
            "Requirement already satisfied: murmurhash<1.1.0,>=0.28.0 in /usr/local/lib/python3.7/dist-packages (from spacy<3.1.0,>=3.0.0->en-core-web-lg==3.0.0) (1.0.5)\n",
            "Requirement already satisfied: setuptools in /usr/local/lib/python3.7/dist-packages (from spacy<3.1.0,>=3.0.0->en-core-web-lg==3.0.0) (54.2.0)\n",
            "Requirement already satisfied: blis<0.8.0,>=0.4.0 in /usr/local/lib/python3.7/dist-packages (from spacy<3.1.0,>=3.0.0->en-core-web-lg==3.0.0) (0.4.1)\n",
            "Requirement already satisfied: packaging>=20.0 in /usr/local/lib/python3.7/dist-packages (from spacy<3.1.0,>=3.0.0->en-core-web-lg==3.0.0) (20.9)\n",
            "Requirement already satisfied: preshed<3.1.0,>=3.0.2 in /usr/local/lib/python3.7/dist-packages (from spacy<3.1.0,>=3.0.0->en-core-web-lg==3.0.0) (3.0.5)\n",
            "Requirement already satisfied: importlib-metadata>=0.20; python_version < \"3.8\" in /usr/local/lib/python3.7/dist-packages (from spacy<3.1.0,>=3.0.0->en-core-web-lg==3.0.0) (3.8.1)\n",
            "Requirement already satisfied: numpy>=1.15.0 in /usr/local/lib/python3.7/dist-packages (from spacy<3.1.0,>=3.0.0->en-core-web-lg==3.0.0) (1.19.5)\n",
            "Requirement already satisfied: typing-extensions<4.0.0.0,>=3.7.4; python_version < \"3.8\" in /usr/local/lib/python3.7/dist-packages (from spacy<3.1.0,>=3.0.0->en-core-web-lg==3.0.0) (3.7.4.3)\n",
            "Requirement already satisfied: requests<3.0.0,>=2.13.0 in /usr/local/lib/python3.7/dist-packages (from spacy<3.1.0,>=3.0.0->en-core-web-lg==3.0.0) (2.23.0)\n",
            "Requirement already satisfied: tqdm<5.0.0,>=4.38.0 in /usr/local/lib/python3.7/dist-packages (from spacy<3.1.0,>=3.0.0->en-core-web-lg==3.0.0) (4.41.1)\n",
            "Requirement already satisfied: srsly<3.0.0,>=2.4.0 in /usr/local/lib/python3.7/dist-packages (from spacy<3.1.0,>=3.0.0->en-core-web-lg==3.0.0) (2.4.0)\n",
            "Requirement already satisfied: spacy-legacy<3.1.0,>=3.0.0 in /usr/local/lib/python3.7/dist-packages (from spacy<3.1.0,>=3.0.0->en-core-web-lg==3.0.0) (3.0.2)\n",
            "Requirement already satisfied: typer<0.4.0,>=0.3.0 in /usr/local/lib/python3.7/dist-packages (from spacy<3.1.0,>=3.0.0->en-core-web-lg==3.0.0) (0.3.2)\n",
            "Requirement already satisfied: smart-open<4.0.0,>=2.2.0 in /usr/local/lib/python3.7/dist-packages (from pathy>=0.3.5->spacy<3.1.0,>=3.0.0->en-core-web-lg==3.0.0) (3.0.0)\n",
            "Requirement already satisfied: MarkupSafe>=0.23 in /usr/local/lib/python3.7/dist-packages (from jinja2->spacy<3.1.0,>=3.0.0->en-core-web-lg==3.0.0) (1.1.1)\n",
            "Requirement already satisfied: pyparsing>=2.0.2 in /usr/local/lib/python3.7/dist-packages (from packaging>=20.0->spacy<3.1.0,>=3.0.0->en-core-web-lg==3.0.0) (2.4.7)\n",
            "Requirement already satisfied: zipp>=0.5 in /usr/local/lib/python3.7/dist-packages (from importlib-metadata>=0.20; python_version < \"3.8\"->spacy<3.1.0,>=3.0.0->en-core-web-lg==3.0.0) (3.4.1)\n",
            "Requirement already satisfied: idna<3,>=2.5 in /usr/local/lib/python3.7/dist-packages (from requests<3.0.0,>=2.13.0->spacy<3.1.0,>=3.0.0->en-core-web-lg==3.0.0) (2.10)\n",
            "Requirement already satisfied: certifi>=2017.4.17 in /usr/local/lib/python3.7/dist-packages (from requests<3.0.0,>=2.13.0->spacy<3.1.0,>=3.0.0->en-core-web-lg==3.0.0) (2020.12.5)\n",
            "Requirement already satisfied: urllib3!=1.25.0,!=1.25.1,<1.26,>=1.21.1 in /usr/local/lib/python3.7/dist-packages (from requests<3.0.0,>=2.13.0->spacy<3.1.0,>=3.0.0->en-core-web-lg==3.0.0) (1.24.3)\n",
            "Requirement already satisfied: chardet<4,>=3.0.2 in /usr/local/lib/python3.7/dist-packages (from requests<3.0.0,>=2.13.0->spacy<3.1.0,>=3.0.0->en-core-web-lg==3.0.0) (3.0.4)\n",
            "Requirement already satisfied: click<7.2.0,>=7.1.1 in /usr/local/lib/python3.7/dist-packages (from typer<0.4.0,>=0.3.0->spacy<3.1.0,>=3.0.0->en-core-web-lg==3.0.0) (7.1.2)\n",
            "Installing collected packages: en-core-web-lg\n",
            "Successfully installed en-core-web-lg-3.0.0\n",
            "\u001b[38;5;2m✔ Download and installation successful\u001b[0m\n",
            "You can now load the package via spacy.load('en_core_web_lg')\n",
            "Collecting googletrans==3.1.0a0\n",
            "  Downloading https://files.pythonhosted.org/packages/19/3d/4e3a1609bf52f2f7b00436cc751eb977e27040665dde2bd57e7152989672/googletrans-3.1.0a0.tar.gz\n",
            "Collecting httpx==0.13.3\n",
            "\u001b[?25l  Downloading https://files.pythonhosted.org/packages/54/b4/698b284c6aed4d7c2b4fe3ba5df1fcf6093612423797e76fbb24890dd22f/httpx-0.13.3-py3-none-any.whl (55kB)\n",
            "\u001b[K     |████████████████████████████████| 61kB 3.7MB/s \n",
            "\u001b[?25hCollecting sniffio\n",
            "  Downloading https://files.pythonhosted.org/packages/52/b0/7b2e028b63d092804b6794595871f936aafa5e9322dcaaad50ebf67445b3/sniffio-1.2.0-py3-none-any.whl\n",
            "Collecting hstspreload\n",
            "\u001b[?25l  Downloading https://files.pythonhosted.org/packages/dd/50/606213e12fb49c5eb667df0936223dcaf461f94e215ea60244b2b1e9b039/hstspreload-2020.12.22-py3-none-any.whl (994kB)\n",
            "\u001b[K     |████████████████████████████████| 1.0MB 7.2MB/s \n",
            "\u001b[?25hRequirement already satisfied: idna==2.* in /usr/local/lib/python3.7/dist-packages (from httpx==0.13.3->googletrans==3.1.0a0) (2.10)\n",
            "Collecting httpcore==0.9.*\n",
            "\u001b[?25l  Downloading https://files.pythonhosted.org/packages/dd/d5/e4ff9318693ac6101a2095e580908b591838c6f33df8d3ee8dd953ba96a8/httpcore-0.9.1-py3-none-any.whl (42kB)\n",
            "\u001b[K     |████████████████████████████████| 51kB 6.6MB/s \n",
            "\u001b[?25hCollecting rfc3986<2,>=1.3\n",
            "  Downloading https://files.pythonhosted.org/packages/78/be/7b8b99fd74ff5684225f50dd0e865393d2265656ef3b4ba9eaaaffe622b8/rfc3986-1.4.0-py2.py3-none-any.whl\n",
            "Requirement already satisfied: certifi in /usr/local/lib/python3.7/dist-packages (from httpx==0.13.3->googletrans==3.1.0a0) (2020.12.5)\n",
            "Requirement already satisfied: chardet==3.* in /usr/local/lib/python3.7/dist-packages (from httpx==0.13.3->googletrans==3.1.0a0) (3.0.4)\n",
            "Collecting h11<0.10,>=0.8\n",
            "\u001b[?25l  Downloading https://files.pythonhosted.org/packages/5a/fd/3dad730b0f95e78aeeb742f96fa7bbecbdd56a58e405d3da440d5bfb90c6/h11-0.9.0-py2.py3-none-any.whl (53kB)\n",
            "\u001b[K     |████████████████████████████████| 61kB 6.9MB/s \n",
            "\u001b[?25hCollecting h2==3.*\n",
            "\u001b[?25l  Downloading https://files.pythonhosted.org/packages/25/de/da019bcc539eeab02f6d45836f23858ac467f584bfec7a526ef200242afe/h2-3.2.0-py2.py3-none-any.whl (65kB)\n",
            "\u001b[K     |████████████████████████████████| 71kB 6.4MB/s \n",
            "\u001b[?25hCollecting hpack<4,>=3.0\n",
            "  Downloading https://files.pythonhosted.org/packages/8a/cc/e53517f4a1e13f74776ca93271caef378dadec14d71c61c949d759d3db69/hpack-3.0.0-py2.py3-none-any.whl\n",
            "Collecting hyperframe<6,>=5.2.0\n",
            "  Downloading https://files.pythonhosted.org/packages/19/0c/bf88182bcb5dce3094e2f3e4fe20db28a9928cb7bd5b08024030e4b140db/hyperframe-5.2.0-py2.py3-none-any.whl\n",
            "Building wheels for collected packages: googletrans\n",
            "  Building wheel for googletrans (setup.py) ... \u001b[?25l\u001b[?25hdone\n",
            "  Created wheel for googletrans: filename=googletrans-3.1.0a0-cp37-none-any.whl size=16368 sha256=6561b3d44b9dcd8bec7e36151166ad0e96b5102f9536f9ea14874437f1b1f46f\n",
            "  Stored in directory: /root/.cache/pip/wheels/27/7a/a0/aff3babbb775549ce6813cb8fa7ff3c0848c4dc62c20f8fdac\n",
            "Successfully built googletrans\n",
            "Installing collected packages: sniffio, hstspreload, h11, hpack, hyperframe, h2, httpcore, rfc3986, httpx, googletrans\n",
            "Successfully installed googletrans-3.1.0a0 h11-0.9.0 h2-3.2.0 hpack-3.0.0 hstspreload-2020.12.22 httpcore-0.9.1 httpx-0.13.3 hyperframe-5.2.0 rfc3986-1.4.0 sniffio-1.2.0\n"
          ],
          "name": "stdout"
        }
      ]
    },
    {
      "cell_type": "code",
      "metadata": {
        "colab": {
          "base_uri": "https://localhost:8080/"
        },
        "id": "QNFaUq6DqEUj",
        "outputId": "060a731b-99da-4feb-b6f5-f0434475736a"
      },
      "source": [
        "import os\n",
        "import re\n",
        "import tqdm \n",
        "import string \n",
        "import numpy as np\n",
        "import scipy as sp\n",
        "import pandas as pd\n",
        "import tensorflow as tf\n",
        "import csv\n",
        "from pathlib import Path\n",
        "import pickle\n",
        "import matplotlib.pyplot as plt\n",
        "from googletrans import Translator\n",
        "\n",
        "from sklearn.feature_extraction.text import TfidfVectorizer\n",
        "from sklearn import model_selection\n",
        "from sklearn import preprocessing\n",
        "from sklearn import linear_model\n",
        "from sklearn import svm\n",
        "from sklearn import naive_bayes\n",
        "from sklearn import metrics\n",
        "from sklearn.model_selection import train_test_split\n",
        "\n",
        "\n",
        "from tensorflow.keras.preprocessing.text import Tokenizer\n",
        "from keras.preprocessing.sequence import pad_sequences\n",
        "from keras import regularizers\n",
        "\n",
        "# text preprocessing\n",
        "from nltk.tokenize import word_tokenize\n",
        "import pkg_resources\n",
        "import re, string, json\n",
        "import spacy\n",
        "import nltk\n",
        "from nltk.corpus import stopwords\n",
        "from tqdm.notebook import tqdm\n",
        "from sklearn.metrics import accuracy_score, f1_score, confusion_matrix\n",
        "\n",
        "nltk.download('punkt')\n",
        "nltk.download('stopwords')\n",
        "STOPWORDS = set(stopwords.words(\"english\"))\n",
        "SEED = 78"
      ],
      "execution_count": 11,
      "outputs": [
        {
          "output_type": "stream",
          "text": [
            "[nltk_data] Downloading package punkt to /root/nltk_data...\n",
            "[nltk_data]   Unzipping tokenizers/punkt.zip.\n",
            "[nltk_data] Downloading package stopwords to /root/nltk_data...\n",
            "[nltk_data]   Unzipping corpora/stopwords.zip.\n"
          ],
          "name": "stdout"
        }
      ]
    },
    {
      "cell_type": "markdown",
      "metadata": {
        "id": "oKatJSiJrIzb"
      },
      "source": [
        "## DATA EXPLORATORY & CLEANING\n",
        "\n",
        "Objective is to make the data as error-free as possible for the model to train on.\n",
        "- explore the data, print out the statistics to understand the dataset composition\n",
        "- Identify characters that do not contain information and does not facilitate in model training \n",
        "<br>(e.g. foreign language, special symbols, special character, wrong punctuation, werid numbers, wrong spelling)\n",
        "- Remove or fill empty rows with default values\n",
        "- convert the dataset to lower- cased. "
      ]
    },
    {
      "cell_type": "code",
      "metadata": {
        "colab": {
          "base_uri": "https://localhost:8080/"
        },
        "id": "3Ih0gT4xq7DG",
        "outputId": "c111ed00-4e79-43ba-ef1b-be8d6cd6bfab"
      },
      "source": [
        "#reading data from custom csv file\n",
        "review_df = pd.read_csv('review_table_new.csv', engine='python')\n",
        "\n",
        "#print out the stats of the dataset \n",
        "review_df.info()"
      ],
      "execution_count": 14,
      "outputs": [
        {
          "output_type": "stream",
          "text": [
            "<class 'pandas.core.frame.DataFrame'>\n",
            "RangeIndex: 11104 entries, 0 to 11103\n",
            "Data columns (total 11 columns):\n",
            " #   Column           Non-Null Count  Dtype  \n",
            "---  ------           --------------  -----  \n",
            " 0   index            11104 non-null  int64  \n",
            " 1   product_id       11104 non-null  object \n",
            " 2   product          11104 non-null  object \n",
            " 3   generic_product  11104 non-null  object \n",
            " 4   uname            11102 non-null  object \n",
            " 5   rating           11104 non-null  float64\n",
            " 6   review_title     11103 non-null  object \n",
            " 7   review           11104 non-null  object \n",
            " 8   date             11104 non-null  object \n",
            " 9   image            1646 non-null   object \n",
            " 10  upvotes          11104 non-null  object \n",
            "dtypes: float64(1), int64(1), object(9)\n",
            "memory usage: 954.4+ KB\n"
          ],
          "name": "stdout"
        }
      ]
    },
    {
      "cell_type": "code",
      "metadata": {
        "colab": {
          "base_uri": "https://localhost:8080/",
          "height": 617
        },
        "id": "F4nctMjUsMnk",
        "outputId": "438b1014-6dfa-4d7a-83a2-a65214c5ad90"
      },
      "source": [
        "#visualise how the dataset looks like\n",
        "review_df[15:20]"
      ],
      "execution_count": 15,
      "outputs": [
        {
          "output_type": "execute_result",
          "data": {
            "text/html": [
              "<div>\n",
              "<style scoped>\n",
              "    .dataframe tbody tr th:only-of-type {\n",
              "        vertical-align: middle;\n",
              "    }\n",
              "\n",
              "    .dataframe tbody tr th {\n",
              "        vertical-align: top;\n",
              "    }\n",
              "\n",
              "    .dataframe thead th {\n",
              "        text-align: right;\n",
              "    }\n",
              "</style>\n",
              "<table border=\"1\" class=\"dataframe\">\n",
              "  <thead>\n",
              "    <tr style=\"text-align: right;\">\n",
              "      <th></th>\n",
              "      <th>index</th>\n",
              "      <th>product_id</th>\n",
              "      <th>product</th>\n",
              "      <th>generic_product</th>\n",
              "      <th>uname</th>\n",
              "      <th>rating</th>\n",
              "      <th>review_title</th>\n",
              "      <th>review</th>\n",
              "      <th>date</th>\n",
              "      <th>image</th>\n",
              "      <th>upvotes</th>\n",
              "    </tr>\n",
              "  </thead>\n",
              "  <tbody>\n",
              "    <tr>\n",
              "      <th>15</th>\n",
              "      <td>15</td>\n",
              "      <td>B08N2FRMPN</td>\n",
              "      <td>Samsung Electronics Samsung Galaxy S21 5G | Fa...</td>\n",
              "      <td>Smartphone</td>\n",
              "      <td>C. Stucky</td>\n",
              "      <td>2.0</td>\n",
              "      <td>What did I even buy?</td>\n",
              "      <td>I ordered this the day before yesterday. I was...</td>\n",
              "      <td>2021-02-18T00:00:00</td>\n",
              "      <td>https://images-na.ssl-images-amazon.com/images...</td>\n",
              "      <td>12</td>\n",
              "    </tr>\n",
              "    <tr>\n",
              "      <th>16</th>\n",
              "      <td>16</td>\n",
              "      <td>B08N2FRMPN</td>\n",
              "      <td>Samsung Electronics Samsung Galaxy S21 5G | Fa...</td>\n",
              "      <td>Smartphone</td>\n",
              "      <td>Musicfan</td>\n",
              "      <td>2.0</td>\n",
              "      <td>A painful process to return the phone</td>\n",
              "      <td>Update: Samsung finally issued a return author...</td>\n",
              "      <td>2021-02-20T00:00:00</td>\n",
              "      <td>NaN</td>\n",
              "      <td>19</td>\n",
              "    </tr>\n",
              "    <tr>\n",
              "      <th>17</th>\n",
              "      <td>17</td>\n",
              "      <td>B08N2FRMPN</td>\n",
              "      <td>Samsung Electronics Samsung Galaxy S21 5G | Fa...</td>\n",
              "      <td>Smartphone</td>\n",
              "      <td>araknid_y</td>\n",
              "      <td>1.0</td>\n",
              "      <td>Serious downgrade</td>\n",
              "      <td>I thought I was trading up from S8 to S21 but ...</td>\n",
              "      <td>2021-02-28T00:00:00</td>\n",
              "      <td>NaN</td>\n",
              "      <td>14</td>\n",
              "    </tr>\n",
              "    <tr>\n",
              "      <th>18</th>\n",
              "      <td>18</td>\n",
              "      <td>B08N2FRMPN</td>\n",
              "      <td>Samsung Electronics Samsung Galaxy S21 5G | Fa...</td>\n",
              "      <td>Smartphone</td>\n",
              "      <td>Muscle428</td>\n",
              "      <td>5.0</td>\n",
              "      <td>Happy Wife</td>\n",
              "      <td>Got it for my Wife.  She loves it</td>\n",
              "      <td>2021-04-05T00:00:00</td>\n",
              "      <td>NaN</td>\n",
              "      <td>0</td>\n",
              "    </tr>\n",
              "    <tr>\n",
              "      <th>19</th>\n",
              "      <td>19</td>\n",
              "      <td>B08N2FRMPN</td>\n",
              "      <td>Samsung Electronics Samsung Galaxy S21 5G | Fa...</td>\n",
              "      <td>Smartphone</td>\n",
              "      <td>Susana de jesus</td>\n",
              "      <td>5.0</td>\n",
              "      <td>Excelente Amazon. Y excelente precio..</td>\n",
              "      <td>Me encantó el teléfono apenas lo estoy configu...</td>\n",
              "      <td>2021-02-17T00:00:00</td>\n",
              "      <td>NaN</td>\n",
              "      <td>12</td>\n",
              "    </tr>\n",
              "  </tbody>\n",
              "</table>\n",
              "</div>"
            ],
            "text/plain": [
              "    index  ... upvotes\n",
              "15     15  ...      12\n",
              "16     16  ...      19\n",
              "17     17  ...      14\n",
              "18     18  ...       0\n",
              "19     19  ...      12\n",
              "\n",
              "[5 rows x 11 columns]"
            ]
          },
          "metadata": {
            "tags": []
          },
          "execution_count": 15
        }
      ]
    },
    {
      "cell_type": "markdown",
      "metadata": {
        "id": "W0P2hPREusCw"
      },
      "source": [
        "## Categorize data as \"neutral\" versus \"opinionated\"\n",
        "\n",
        "As we are doing sentiment analysis, we have to label our data to classify positive and negative sentiments.\n",
        "\n",
        "In our rating column, we have ratings from 1 to 5. We can define 1 and 2 as bad reviews and 4 and 5 as good review.\n",
        "\n",
        "A rating of 3 would be consider neither good nor bad. Hence, we decided to ger rid of all the rating 3 as they are considered as neutral in our categorisation process.\n",
        "\n",
        "'label': either 2 (positive) or 1 (negative) rating."
      ]
    },
    {
      "cell_type": "code",
      "metadata": {
        "id": "p9h3D04WtBup"
      },
      "source": [
        "def polarity_labelling(value):\n",
        "  # create a column to label the data as positive or negative base on ratings\n",
        "  return 2 if value >= 4 else 1\n",
        "\n",
        "\n",
        "def categorize_data(dataframe):\n",
        "\n",
        "  #remove rating '3' from the dataframe\n",
        "  dataframe = dataframe[dataframe['rating'] != 3]\n",
        "\n",
        "  #creating a new label from ratings\n",
        "  dataframe['label'] = dataframe['rating'].apply(polarity_labelling)\n",
        "\n",
        "  dataframe['content'] = dataframe['review_title']+ \".\\n \" +dataframe['review']\n",
        "\n",
        "  #extract necessary columns from dataframe\n",
        "  dataframe = dataframe.loc[:,['product_id', 'generic_product', 'content', 'label']]\n",
        "  \n",
        "  #drop empty rows if elements are missing in 'content' column\n",
        "  dataframe =dataframe.dropna(subset=['content'])\n",
        "\n",
        "  #drop duplicates from dataframe of elements are missing in 'content' column\n",
        "  dataframe.drop_duplicates(subset=['content'])\n",
        "\n",
        "  #resetting index\n",
        "  dataframe.reset_index(drop=True, inplace=True)\n",
        "  \n",
        "  return dataframe"
      ],
      "execution_count": 16,
      "outputs": []
    },
    {
      "cell_type": "code",
      "metadata": {
        "colab": {
          "base_uri": "https://localhost:8080/"
        },
        "id": "SJ5xT6H3x4L-",
        "outputId": "5dcfacde-3c77-4d1d-d73a-6eb75b0b9090"
      },
      "source": [
        "cleaned_review_df = categorize_data(review_df)\n",
        "cleaned_review_df.shape"
      ],
      "execution_count": 17,
      "outputs": [
        {
          "output_type": "stream",
          "text": [
            "/usr/local/lib/python3.7/dist-packages/ipykernel_launcher.py:12: SettingWithCopyWarning: \n",
            "A value is trying to be set on a copy of a slice from a DataFrame.\n",
            "Try using .loc[row_indexer,col_indexer] = value instead\n",
            "\n",
            "See the caveats in the documentation: https://pandas.pydata.org/pandas-docs/stable/user_guide/indexing.html#returning-a-view-versus-a-copy\n",
            "  if sys.path[0] == '':\n",
            "/usr/local/lib/python3.7/dist-packages/ipykernel_launcher.py:14: SettingWithCopyWarning: \n",
            "A value is trying to be set on a copy of a slice from a DataFrame.\n",
            "Try using .loc[row_indexer,col_indexer] = value instead\n",
            "\n",
            "See the caveats in the documentation: https://pandas.pydata.org/pandas-docs/stable/user_guide/indexing.html#returning-a-view-versus-a-copy\n",
            "  \n"
          ],
          "name": "stderr"
        },
        {
          "output_type": "execute_result",
          "data": {
            "text/plain": [
              "(10139, 4)"
            ]
          },
          "metadata": {
            "tags": []
          },
          "execution_count": 17
        }
      ]
    },
    {
      "cell_type": "code",
      "metadata": {
        "colab": {
          "base_uri": "https://localhost:8080/",
          "height": 391
        },
        "id": "gKvhLR4fB0DU",
        "outputId": "b80fc95e-87a0-4696-beeb-137291896ac7"
      },
      "source": [
        "cleaned_review_df"
      ],
      "execution_count": 18,
      "outputs": [
        {
          "output_type": "execute_result",
          "data": {
            "text/html": [
              "<div>\n",
              "<style scoped>\n",
              "    .dataframe tbody tr th:only-of-type {\n",
              "        vertical-align: middle;\n",
              "    }\n",
              "\n",
              "    .dataframe tbody tr th {\n",
              "        vertical-align: top;\n",
              "    }\n",
              "\n",
              "    .dataframe thead th {\n",
              "        text-align: right;\n",
              "    }\n",
              "</style>\n",
              "<table border=\"1\" class=\"dataframe\">\n",
              "  <thead>\n",
              "    <tr style=\"text-align: right;\">\n",
              "      <th></th>\n",
              "      <th>product_id</th>\n",
              "      <th>generic_product</th>\n",
              "      <th>content</th>\n",
              "      <th>label</th>\n",
              "    </tr>\n",
              "  </thead>\n",
              "  <tbody>\n",
              "    <tr>\n",
              "      <th>0</th>\n",
              "      <td>B08N2FRMPN</td>\n",
              "      <td>Smartphone</td>\n",
              "      <td>Phone come without charger....Interesting.\\n T...</td>\n",
              "      <td>1</td>\n",
              "    </tr>\n",
              "    <tr>\n",
              "      <th>1</th>\n",
              "      <td>B08N2FRMPN</td>\n",
              "      <td>Smartphone</td>\n",
              "      <td>Top Notch.\\n Fast Delivery,\\nSamsung really do...</td>\n",
              "      <td>2</td>\n",
              "    </tr>\n",
              "    <tr>\n",
              "      <th>2</th>\n",
              "      <td>B08N2FRMPN</td>\n",
              "      <td>Smartphone</td>\n",
              "      <td>Excellent phone and price combo.\\n Pros:\\nSnap...</td>\n",
              "      <td>2</td>\n",
              "    </tr>\n",
              "    <tr>\n",
              "      <th>3</th>\n",
              "      <td>B08N2FRMPN</td>\n",
              "      <td>Smartphone</td>\n",
              "      <td>Perfect upgrade.\\n Great upgrade. Battery is r...</td>\n",
              "      <td>2</td>\n",
              "    </tr>\n",
              "    <tr>\n",
              "      <th>4</th>\n",
              "      <td>B08N2FRMPN</td>\n",
              "      <td>Smartphone</td>\n",
              "      <td>Very happy with the S21.\\n Perfect little phone.</td>\n",
              "      <td>2</td>\n",
              "    </tr>\n",
              "    <tr>\n",
              "      <th>...</th>\n",
              "      <td>...</td>\n",
              "      <td>...</td>\n",
              "      <td>...</td>\n",
              "      <td>...</td>\n",
              "    </tr>\n",
              "    <tr>\n",
              "      <th>10134</th>\n",
              "      <td>B07P85CDHG</td>\n",
              "      <td>Speaker</td>\n",
              "      <td>Disappointing audio quality.\\n While there are...</td>\n",
              "      <td>1</td>\n",
              "    </tr>\n",
              "    <tr>\n",
              "      <th>10135</th>\n",
              "      <td>B07P85CDHG</td>\n",
              "      <td>Speaker</td>\n",
              "      <td>Sony SRS-XB12 Speakers.\\n This is my third set...</td>\n",
              "      <td>2</td>\n",
              "    </tr>\n",
              "    <tr>\n",
              "      <th>10136</th>\n",
              "      <td>B07P85CDHG</td>\n",
              "      <td>Speaker</td>\n",
              "      <td>Great sound in a small package!.\\n Absolutely ...</td>\n",
              "      <td>2</td>\n",
              "    </tr>\n",
              "    <tr>\n",
              "      <th>10137</th>\n",
              "      <td>B07P85CDHG</td>\n",
              "      <td>Speaker</td>\n",
              "      <td>Pretty great!.\\n This little guy is pretty gre...</td>\n",
              "      <td>2</td>\n",
              "    </tr>\n",
              "    <tr>\n",
              "      <th>10138</th>\n",
              "      <td>B07P85CDHG</td>\n",
              "      <td>Speaker</td>\n",
              "      <td>Great Small Sony Bluetooth Speaker.\\n I purcha...</td>\n",
              "      <td>2</td>\n",
              "    </tr>\n",
              "  </tbody>\n",
              "</table>\n",
              "<p>10139 rows × 4 columns</p>\n",
              "</div>"
            ],
            "text/plain": [
              "       product_id  ... label\n",
              "0      B08N2FRMPN  ...     1\n",
              "1      B08N2FRMPN  ...     2\n",
              "2      B08N2FRMPN  ...     2\n",
              "3      B08N2FRMPN  ...     2\n",
              "4      B08N2FRMPN  ...     2\n",
              "...           ...  ...   ...\n",
              "10134  B07P85CDHG  ...     1\n",
              "10135  B07P85CDHG  ...     2\n",
              "10136  B07P85CDHG  ...     2\n",
              "10137  B07P85CDHG  ...     2\n",
              "10138  B07P85CDHG  ...     2\n",
              "\n",
              "[10139 rows x 4 columns]"
            ]
          },
          "metadata": {
            "tags": []
          },
          "execution_count": 18
        }
      ]
    },
    {
      "cell_type": "markdown",
      "metadata": {
        "id": "jwGDpB9O2NYm"
      },
      "source": [
        "### Data Imbalance\n",
        "\n",
        "We first plot general distribution of the product, as we can see the dataset is is generally balanced across the product categories. However, on further inspection of the positive and negative sentiment accross each cateogory, we can see than the data has more postive sentimennts than negative. By plotting distribution of postive and negaitve sentiment, we can see it is true.\n"
      ]
    },
    {
      "cell_type": "code",
      "metadata": {
        "colab": {
          "base_uri": "https://localhost:8080/",
          "height": 337
        },
        "id": "2biKBYGGsWRb",
        "outputId": "edf0ece9-b90b-409f-855f-68e07763da5e"
      },
      "source": [
        "#get general distribution of product \n",
        "product_distribution = cleaned_review_df.generic_product.value_counts()\n",
        "product_distribution.plot.bar()"
      ],
      "execution_count": 19,
      "outputs": [
        {
          "output_type": "execute_result",
          "data": {
            "text/plain": [
              "<matplotlib.axes._subplots.AxesSubplot at 0x7f72a9a6b090>"
            ]
          },
          "metadata": {
            "tags": []
          },
          "execution_count": 19
        },
        {
          "output_type": "display_data",
          "data": {
            "image/png": "[encoded data removed]",
            "text/plain": [
              "<Figure size 432x288 with 1 Axes>"
            ]
          },
          "metadata": {
            "tags": [],
            "needs_background": "light"
          }
        }
      ]
    },
    {
      "cell_type": "code",
      "metadata": {
        "colab": {
          "base_uri": "https://localhost:8080/",
          "height": 335
        },
        "id": "ZM-22M7H4kFy",
        "outputId": "ff7a8947-3510-4ff6-f00b-124d632a8aec"
      },
      "source": [
        "product_distribution.to_frame()"
      ],
      "execution_count": 20,
      "outputs": [
        {
          "output_type": "execute_result",
          "data": {
            "text/html": [
              "<div>\n",
              "<style scoped>\n",
              "    .dataframe tbody tr th:only-of-type {\n",
              "        vertical-align: middle;\n",
              "    }\n",
              "\n",
              "    .dataframe tbody tr th {\n",
              "        vertical-align: top;\n",
              "    }\n",
              "\n",
              "    .dataframe thead th {\n",
              "        text-align: right;\n",
              "    }\n",
              "</style>\n",
              "<table border=\"1\" class=\"dataframe\">\n",
              "  <thead>\n",
              "    <tr style=\"text-align: right;\">\n",
              "      <th></th>\n",
              "      <th>generic_product</th>\n",
              "    </tr>\n",
              "  </thead>\n",
              "  <tbody>\n",
              "    <tr>\n",
              "      <th>Headphones</th>\n",
              "      <td>1187</td>\n",
              "    </tr>\n",
              "    <tr>\n",
              "      <th>Keyboard</th>\n",
              "      <td>1146</td>\n",
              "    </tr>\n",
              "    <tr>\n",
              "      <th>Printer</th>\n",
              "      <td>1140</td>\n",
              "    </tr>\n",
              "    <tr>\n",
              "      <th>Speaker</th>\n",
              "      <td>1064</td>\n",
              "    </tr>\n",
              "    <tr>\n",
              "      <th>monitor</th>\n",
              "      <td>1058</td>\n",
              "    </tr>\n",
              "    <tr>\n",
              "      <th>Data Storage</th>\n",
              "      <td>990</td>\n",
              "    </tr>\n",
              "    <tr>\n",
              "      <th>Router</th>\n",
              "      <td>913</td>\n",
              "    </tr>\n",
              "    <tr>\n",
              "      <th>Television</th>\n",
              "      <td>891</td>\n",
              "    </tr>\n",
              "    <tr>\n",
              "      <th>Laptop</th>\n",
              "      <td>884</td>\n",
              "    </tr>\n",
              "    <tr>\n",
              "      <th>Smartphone</th>\n",
              "      <td>866</td>\n",
              "    </tr>\n",
              "  </tbody>\n",
              "</table>\n",
              "</div>"
            ],
            "text/plain": [
              "              generic_product\n",
              "Headphones               1187\n",
              "Keyboard                 1146\n",
              "Printer                  1140\n",
              "Speaker                  1064\n",
              "monitor                  1058\n",
              "Data Storage              990\n",
              "Router                    913\n",
              "Television                891\n",
              "Laptop                    884\n",
              "Smartphone                866"
            ]
          },
          "metadata": {
            "tags": []
          },
          "execution_count": 20
        }
      ]
    },
    {
      "cell_type": "code",
      "metadata": {
        "colab": {
          "base_uri": "https://localhost:8080/",
          "height": 372
        },
        "id": "e5dMpwWi6VHv",
        "outputId": "9d08e223-9b66-46e1-f2f1-8c727cb9a454"
      },
      "source": [
        "product_label_distribution = cleaned_review_df.groupby(['generic_product', 'label']).size()\n",
        "product_label_distribution.plot.bar()"
      ],
      "execution_count": 21,
      "outputs": [
        {
          "output_type": "execute_result",
          "data": {
            "text/plain": [
              "<matplotlib.axes._subplots.AxesSubplot at 0x7f72a9a55290>"
            ]
          },
          "metadata": {
            "tags": []
          },
          "execution_count": 21
        },
        {
          "output_type": "display_data",
          "data": {
            "image/png": "[encoded data removed]",
            "text/plain": [
              "<Figure size 432x288 with 1 Axes>"
            ]
          },
          "metadata": {
            "tags": [],
            "needs_background": "light"
          }
        }
      ]
    },
    {
      "cell_type": "code",
      "metadata": {
        "colab": {
          "base_uri": "https://localhost:8080/",
          "height": 651
        },
        "id": "s0UcRnks4vfn",
        "outputId": "7f14b3ab-2d9a-48c1-bd03-f35bed401d0a"
      },
      "source": [
        "product_label_distribution.to_frame()"
      ],
      "execution_count": 22,
      "outputs": [
        {
          "output_type": "execute_result",
          "data": {
            "text/html": [
              "<div>\n",
              "<style scoped>\n",
              "    .dataframe tbody tr th:only-of-type {\n",
              "        vertical-align: middle;\n",
              "    }\n",
              "\n",
              "    .dataframe tbody tr th {\n",
              "        vertical-align: top;\n",
              "    }\n",
              "\n",
              "    .dataframe thead th {\n",
              "        text-align: right;\n",
              "    }\n",
              "</style>\n",
              "<table border=\"1\" class=\"dataframe\">\n",
              "  <thead>\n",
              "    <tr style=\"text-align: right;\">\n",
              "      <th></th>\n",
              "      <th></th>\n",
              "      <th>0</th>\n",
              "    </tr>\n",
              "    <tr>\n",
              "      <th>generic_product</th>\n",
              "      <th>label</th>\n",
              "      <th></th>\n",
              "    </tr>\n",
              "  </thead>\n",
              "  <tbody>\n",
              "    <tr>\n",
              "      <th rowspan=\"2\" valign=\"top\">Data Storage</th>\n",
              "      <th>1</th>\n",
              "      <td>411</td>\n",
              "    </tr>\n",
              "    <tr>\n",
              "      <th>2</th>\n",
              "      <td>579</td>\n",
              "    </tr>\n",
              "    <tr>\n",
              "      <th rowspan=\"2\" valign=\"top\">Headphones</th>\n",
              "      <th>1</th>\n",
              "      <td>242</td>\n",
              "    </tr>\n",
              "    <tr>\n",
              "      <th>2</th>\n",
              "      <td>945</td>\n",
              "    </tr>\n",
              "    <tr>\n",
              "      <th rowspan=\"2\" valign=\"top\">Keyboard</th>\n",
              "      <th>1</th>\n",
              "      <td>290</td>\n",
              "    </tr>\n",
              "    <tr>\n",
              "      <th>2</th>\n",
              "      <td>856</td>\n",
              "    </tr>\n",
              "    <tr>\n",
              "      <th rowspan=\"2\" valign=\"top\">Laptop</th>\n",
              "      <th>1</th>\n",
              "      <td>250</td>\n",
              "    </tr>\n",
              "    <tr>\n",
              "      <th>2</th>\n",
              "      <td>634</td>\n",
              "    </tr>\n",
              "    <tr>\n",
              "      <th rowspan=\"2\" valign=\"top\">Printer</th>\n",
              "      <th>1</th>\n",
              "      <td>602</td>\n",
              "    </tr>\n",
              "    <tr>\n",
              "      <th>2</th>\n",
              "      <td>538</td>\n",
              "    </tr>\n",
              "    <tr>\n",
              "      <th rowspan=\"2\" valign=\"top\">Router</th>\n",
              "      <th>1</th>\n",
              "      <td>350</td>\n",
              "    </tr>\n",
              "    <tr>\n",
              "      <th>2</th>\n",
              "      <td>563</td>\n",
              "    </tr>\n",
              "    <tr>\n",
              "      <th rowspan=\"2\" valign=\"top\">Smartphone</th>\n",
              "      <th>1</th>\n",
              "      <td>257</td>\n",
              "    </tr>\n",
              "    <tr>\n",
              "      <th>2</th>\n",
              "      <td>609</td>\n",
              "    </tr>\n",
              "    <tr>\n",
              "      <th rowspan=\"2\" valign=\"top\">Speaker</th>\n",
              "      <th>1</th>\n",
              "      <td>219</td>\n",
              "    </tr>\n",
              "    <tr>\n",
              "      <th>2</th>\n",
              "      <td>845</td>\n",
              "    </tr>\n",
              "    <tr>\n",
              "      <th rowspan=\"2\" valign=\"top\">Television</th>\n",
              "      <th>1</th>\n",
              "      <td>341</td>\n",
              "    </tr>\n",
              "    <tr>\n",
              "      <th>2</th>\n",
              "      <td>550</td>\n",
              "    </tr>\n",
              "    <tr>\n",
              "      <th rowspan=\"2\" valign=\"top\">monitor</th>\n",
              "      <th>1</th>\n",
              "      <td>253</td>\n",
              "    </tr>\n",
              "    <tr>\n",
              "      <th>2</th>\n",
              "      <td>805</td>\n",
              "    </tr>\n",
              "  </tbody>\n",
              "</table>\n",
              "</div>"
            ],
            "text/plain": [
              "                         0\n",
              "generic_product label     \n",
              "Data Storage    1      411\n",
              "                2      579\n",
              "Headphones      1      242\n",
              "                2      945\n",
              "Keyboard        1      290\n",
              "                2      856\n",
              "Laptop          1      250\n",
              "                2      634\n",
              "Printer         1      602\n",
              "                2      538\n",
              "Router          1      350\n",
              "                2      563\n",
              "Smartphone      1      257\n",
              "                2      609\n",
              "Speaker         1      219\n",
              "                2      845\n",
              "Television      1      341\n",
              "                2      550\n",
              "monitor         1      253\n",
              "                2      805"
            ]
          },
          "metadata": {
            "tags": []
          },
          "execution_count": 22
        }
      ]
    },
    {
      "cell_type": "code",
      "metadata": {
        "colab": {
          "base_uri": "https://localhost:8080/",
          "height": 278
        },
        "id": "eh5-wyH-9pEu",
        "outputId": "51ff8603-37c8-44c5-f823-0a3baa39163b"
      },
      "source": [
        "label_distribution = cleaned_review_df.label.value_counts()\n",
        "label_distribution.plot.bar()"
      ],
      "execution_count": 23,
      "outputs": [
        {
          "output_type": "execute_result",
          "data": {
            "text/plain": [
              "<matplotlib.axes._subplots.AxesSubplot at 0x7f72a99b4790>"
            ]
          },
          "metadata": {
            "tags": []
          },
          "execution_count": 23
        },
        {
          "output_type": "display_data",
          "data": {
            "image/png": "[encoded data removed]",
            "text/plain": [
              "<Figure size 432x288 with 1 Axes>"
            ]
          },
          "metadata": {
            "tags": [],
            "needs_background": "light"
          }
        }
      ]
    },
    {
      "cell_type": "code",
      "metadata": {
        "colab": {
          "base_uri": "https://localhost:8080/",
          "height": 105
        },
        "id": "svqGLON-4zmX",
        "outputId": "0a0b69c2-d5d1-41d7-fb19-eb43f5199c56"
      },
      "source": [
        "label_distribution.to_frame()"
      ],
      "execution_count": 24,
      "outputs": [
        {
          "output_type": "execute_result",
          "data": {
            "text/html": [
              "<div>\n",
              "<style scoped>\n",
              "    .dataframe tbody tr th:only-of-type {\n",
              "        vertical-align: middle;\n",
              "    }\n",
              "\n",
              "    .dataframe tbody tr th {\n",
              "        vertical-align: top;\n",
              "    }\n",
              "\n",
              "    .dataframe thead th {\n",
              "        text-align: right;\n",
              "    }\n",
              "</style>\n",
              "<table border=\"1\" class=\"dataframe\">\n",
              "  <thead>\n",
              "    <tr style=\"text-align: right;\">\n",
              "      <th></th>\n",
              "      <th>label</th>\n",
              "    </tr>\n",
              "  </thead>\n",
              "  <tbody>\n",
              "    <tr>\n",
              "      <th>2</th>\n",
              "      <td>6924</td>\n",
              "    </tr>\n",
              "    <tr>\n",
              "      <th>1</th>\n",
              "      <td>3215</td>\n",
              "    </tr>\n",
              "  </tbody>\n",
              "</table>\n",
              "</div>"
            ],
            "text/plain": [
              "   label\n",
              "2   6924\n",
              "1   3215"
            ]
          },
          "metadata": {
            "tags": []
          },
          "execution_count": 24
        }
      ]
    },
    {
      "cell_type": "markdown",
      "metadata": {
        "id": "uQrWiMKu5Hno"
      },
      "source": [
        "# Solving Data Imbalance\n",
        "\n",
        "To manage the issue of data imbalance, we will be using padding additonal data on top of the exisiting crawled Amazon review. The data is from Amazon Polarity Review Dataset (https://s3.amazonaws.com/fast-ai-nlp/amazon_review_polarity_csv.tgz). \n",
        "\n",
        "The Amazon reviews dataset consists of reviews from amazon. The data span a period of 18 years, including ~35 million reviews up to March 2013. Reviews include product and user information, ratings, and a plaintext review.\n",
        "\n",
        "Xiang Zhang (xiang.zhang@nyu.edu) constructed the Amazon reviews polarity dataset based on the Amazon reviews dataset by taking review score 1 and 2 as negative, and 4 and 5 as positive. Samples of score 3 is ignored. In the dataset, class 1 is the negative and class 2 is the positive. Each class has 1,800,000 training samples and 200,000 testing samples.\n",
        "\n",
        "\n",
        "**Data Fields**\n",
        "<br> **title**:\n",
        "<br> A string containing the title of the review - escaped using double quotes (\") and any internal double quote is escaped by 2 double quotes (\"\"). New lines are escaped by a backslash followed with an \"n\" character, that is \"\\n\".\n",
        "\n",
        "<br>**content**:\n",
        "<br> a string containing the body of the document - escaped using double quotes (\") and any internal double quote is escaped by 2 double quotes (\"\"). New lines are escaped by a backslash followed with an \"n\" character, that is \"\\n\".\n",
        "\n",
        "<br>**label**: \n",
        "<br> either 2 (positive) or 1 (negative) rating.\n"
      ]
    },
    {
      "cell_type": "markdown",
      "metadata": {
        "id": "-gqEYTxRxAy2"
      },
      "source": [
        "# Managing dataset\n",
        "\n",
        "We will be predicting the polarity of aprpoximately 9,000 review from our custom review dataset which will then be used for indexing and querying for our recommendation system.\n",
        "\n",
        "Since we have 10,139 records from our review dataset. We will be extracting 90% for test (aprrox ~9,000 records) and the remaining 10% (~1000 records) will be combined with Amazon Polarity Review Dataset. This will be done via stratifed train_test_split w.r.t \"generic_product\" and \"label\".\n",
        "\n",
        "To a train, validation, and test ratio of 70%, 15% and 15%. We will stratify sample 48,158 from Amazon Polarity Review Dataset and combined with the crawled 2,535 records. The combined record will then be split into train and validation Dataset."
      ]
    },
    {
      "cell_type": "code",
      "metadata": {
        "id": "6iDJz2xLjEb_",
        "colab": {
          "base_uri": "https://localhost:8080/"
        },
        "outputId": "fbec1bcf-244b-4e65-a028-2c63e12cea33"
      },
      "source": [
        "!wget --no-check-certificate \\\n",
        "    'https://s3.amazonaws.com/fast-ai-nlp/amazon_review_polarity_csv.tgz' \\\n",
        "    -O './amazon_review_polarity_csv.tgz'\n",
        "\n",
        "!tar -xzvf './amazon_review_polarity_csv.tgz'"
      ],
      "execution_count": 25,
      "outputs": [
        {
          "output_type": "stream",
          "text": [
            "--2021-04-11 13:29:56--  https://s3.amazonaws.com/fast-ai-nlp/amazon_review_polarity_csv.tgz\n",
            "Resolving s3.amazonaws.com (s3.amazonaws.com)... 52.217.195.160\n",
            "Connecting to s3.amazonaws.com (s3.amazonaws.com)|52.217.195.160|:443... connected.\n",
            "HTTP request sent, awaiting response... 200 OK\n",
            "Length: 688339454 (656M) [application/x-tar]\n",
            "Saving to: ‘./amazon_review_polarity_csv.tgz’\n",
            "\n",
            "./amazon_review_pol 100%[===================>] 656.45M  67.5MB/s    in 11s     \n",
            "\n",
            "2021-04-11 13:30:07 (60.6 MB/s) - ‘./amazon_review_polarity_csv.tgz’ saved [688339454/688339454]\n",
            "\n",
            "amazon_review_polarity_csv/\n",
            "amazon_review_polarity_csv/train.csv\n",
            "amazon_review_polarity_csv/readme.txt\n",
            "amazon_review_polarity_csv/test.csv\n"
          ],
          "name": "stdout"
        }
      ]
    },
    {
      "cell_type": "code",
      "metadata": {
        "colab": {
          "base_uri": "https://localhost:8080/"
        },
        "id": "593s62A3bhgH",
        "outputId": "630f4c8f-8e26-47f6-ca15-eb08715f4b1b"
      },
      "source": [
        "amazon_dataset = pd.read_csv('amazon_review_polarity_csv/train.csv', header=None)\n",
        "amazon_dataset.columns = ['label', 'review_title', 'review']\n",
        "print(f'Train shape: {amazon_dataset.shape}')"
      ],
      "execution_count": 26,
      "outputs": [
        {
          "output_type": "stream",
          "text": [
            "Train shape: (3600000, 3)\n"
          ],
          "name": "stdout"
        }
      ]
    },
    {
      "cell_type": "code",
      "metadata": {
        "colab": {
          "base_uri": "https://localhost:8080/",
          "height": 191
        },
        "id": "Pl3dCvCVMNp4",
        "outputId": "2a5bb120-3048-4520-8ceb-d6b58368ed55"
      },
      "source": [
        "amazon_dataset.head()"
      ],
      "execution_count": 27,
      "outputs": [
        {
          "output_type": "execute_result",
          "data": {
            "text/html": [
              "<div>\n",
              "<style scoped>\n",
              "    .dataframe tbody tr th:only-of-type {\n",
              "        vertical-align: middle;\n",
              "    }\n",
              "\n",
              "    .dataframe tbody tr th {\n",
              "        vertical-align: top;\n",
              "    }\n",
              "\n",
              "    .dataframe thead th {\n",
              "        text-align: right;\n",
              "    }\n",
              "</style>\n",
              "<table border=\"1\" class=\"dataframe\">\n",
              "  <thead>\n",
              "    <tr style=\"text-align: right;\">\n",
              "      <th></th>\n",
              "      <th>label</th>\n",
              "      <th>review_title</th>\n",
              "      <th>review</th>\n",
              "    </tr>\n",
              "  </thead>\n",
              "  <tbody>\n",
              "    <tr>\n",
              "      <th>0</th>\n",
              "      <td>2</td>\n",
              "      <td>Stuning even for the non-gamer</td>\n",
              "      <td>This sound track was beautiful! It paints the ...</td>\n",
              "    </tr>\n",
              "    <tr>\n",
              "      <th>1</th>\n",
              "      <td>2</td>\n",
              "      <td>The best soundtrack ever to anything.</td>\n",
              "      <td>I'm reading a lot of reviews saying that this ...</td>\n",
              "    </tr>\n",
              "    <tr>\n",
              "      <th>2</th>\n",
              "      <td>2</td>\n",
              "      <td>Amazing!</td>\n",
              "      <td>This soundtrack is my favorite music of all ti...</td>\n",
              "    </tr>\n",
              "    <tr>\n",
              "      <th>3</th>\n",
              "      <td>2</td>\n",
              "      <td>Excellent Soundtrack</td>\n",
              "      <td>I truly like this soundtrack and I enjoy video...</td>\n",
              "    </tr>\n",
              "    <tr>\n",
              "      <th>4</th>\n",
              "      <td>2</td>\n",
              "      <td>Remember, Pull Your Jaw Off The Floor After He...</td>\n",
              "      <td>If you've played the game, you know how divine...</td>\n",
              "    </tr>\n",
              "  </tbody>\n",
              "</table>\n",
              "</div>"
            ],
            "text/plain": [
              "   label  ...                                             review\n",
              "0      2  ...  This sound track was beautiful! It paints the ...\n",
              "1      2  ...  I'm reading a lot of reviews saying that this ...\n",
              "2      2  ...  This soundtrack is my favorite music of all ti...\n",
              "3      2  ...  I truly like this soundtrack and I enjoy video...\n",
              "4      2  ...  If you've played the game, you know how divine...\n",
              "\n",
              "[5 rows x 3 columns]"
            ]
          },
          "metadata": {
            "tags": []
          },
          "execution_count": 27
        }
      ]
    },
    {
      "cell_type": "code",
      "metadata": {
        "id": "A5-gElprI9g9"
      },
      "source": [
        "def format_data(dataframe):\n",
        "\n",
        "  if 'content' not in dataframe.columns:\n",
        "    dataframe['content'] = dataframe['review_title']+ \".\\n \" +dataframe['review']\n",
        "\n",
        "  #extract necessary columns from dataframe\n",
        "  dataframe = dataframe.loc[:,['content', 'label']]\n",
        "  \n",
        "  #drop empty rows if elements are missing in 'content' column\n",
        "  dataframe =dataframe.dropna(subset=['content'])\n",
        "\n",
        "  #drop duplicates from dataframe of elements are missing in 'content' column\n",
        "  dataframe.drop_duplicates(subset=['content'])\n",
        "\n",
        "  #reset index\n",
        "  dataframe.reset_index(drop=True, inplace=True)\n",
        "  \n",
        "  return dataframe"
      ],
      "execution_count": 28,
      "outputs": []
    },
    {
      "cell_type": "code",
      "metadata": {
        "id": "0Fd21_BnIgCh"
      },
      "source": [
        "def data_split(custom_df, amazon_polarity_df, seed):\n",
        "\n",
        "  # Spliting the custom dataset into 10% train and 90% test\n",
        "  custom_train, custom_test = train_test_split(custom_df,  test_size=0.9, shuffle= seed, stratify= custom_df[['generic_product', 'label']])\n",
        "\n",
        "  #formating dataframe to show only content & label\n",
        "  custom_train = format_data(custom_train)\n",
        "  amazon_polarity_df = format_data(amazon_polarity_df)\n",
        "\n",
        "  amazon_polarity_df1 = amazon_polarity_df[amazon_polarity_df['label'] == 1]\n",
        "  amazon_polarity_df2 = amazon_polarity_df[amazon_polarity_df['label'] == 2]\n",
        "  \n",
        "  #extracting 50,000 samples from the amazon_polarity_dataset\n",
        "  amazon_polarity_df1 = amazon_polarity_df1.sample(n= 15000, random_state = seed)\n",
        "  amazon_polarity_df2 = amazon_polarity_df2.sample(n= 15000, random_state = seed)\n",
        "\n",
        "  #combining datasets together\n",
        "\n",
        "  combined_train = pd.concat([amazon_polarity_df1 , amazon_polarity_df2 , custom_train])\n",
        "\n",
        "  combined_train = format_data(combined_train)\n",
        "\n",
        "  #reset index\n",
        "  custom_test.reset_index(drop=True, inplace=True)\n",
        "  \n",
        "  return combined_train , custom_test \n"
      ],
      "execution_count": 29,
      "outputs": []
    },
    {
      "cell_type": "code",
      "metadata": {
        "id": "aI7lvn7yNy1Y"
      },
      "source": [
        "combined_data, test_data = data_split(custom_df= cleaned_review_df, amazon_polarity_df= amazon_dataset, seed= 10)  "
      ],
      "execution_count": 30,
      "outputs": []
    },
    {
      "cell_type": "code",
      "metadata": {
        "colab": {
          "base_uri": "https://localhost:8080/"
        },
        "id": "c5-08lGwkuc4",
        "outputId": "4bc9d7f1-2148-43e9-9243-77de54b22fee"
      },
      "source": [
        "combined_data.shape"
      ],
      "execution_count": 31,
      "outputs": [
        {
          "output_type": "execute_result",
          "data": {
            "text/plain": [
              "(31013, 2)"
            ]
          },
          "metadata": {
            "tags": []
          },
          "execution_count": 31
        }
      ]
    },
    {
      "cell_type": "code",
      "metadata": {
        "colab": {
          "base_uri": "https://localhost:8080/"
        },
        "id": "lU4dXpTLk0Sz",
        "outputId": "d81e2e9b-01dc-4fd7-fd0c-9241a1dc69c6"
      },
      "source": [
        "test_data.shape"
      ],
      "execution_count": 32,
      "outputs": [
        {
          "output_type": "execute_result",
          "data": {
            "text/plain": [
              "(9126, 4)"
            ]
          },
          "metadata": {
            "tags": []
          },
          "execution_count": 32
        }
      ]
    },
    {
      "cell_type": "code",
      "metadata": {
        "colab": {
          "base_uri": "https://localhost:8080/",
          "height": 278
        },
        "id": "Ks-XKY-QXjbd",
        "outputId": "44df9ce7-e4b8-44c1-d439-4f71ed6236a1"
      },
      "source": [
        "combined_label = combined_data.label.value_counts()\n",
        "combined_label.plot.bar()"
      ],
      "execution_count": 33,
      "outputs": [
        {
          "output_type": "execute_result",
          "data": {
            "text/plain": [
              "<matplotlib.axes._subplots.AxesSubplot at 0x7f725a506ad0>"
            ]
          },
          "metadata": {
            "tags": []
          },
          "execution_count": 33
        },
        {
          "output_type": "display_data",
          "data": {
            "image/png": "[encoded data removed]",
            "text/plain": [
              "<Figure size 432x288 with 1 Axes>"
            ]
          },
          "metadata": {
            "tags": [],
            "needs_background": "light"
          }
        }
      ]
    },
    {
      "cell_type": "code",
      "metadata": {
        "colab": {
          "base_uri": "https://localhost:8080/",
          "height": 105
        },
        "id": "1tFoZyKsYgwf",
        "outputId": "d4b54b88-2a26-4ddc-c45b-2095d8b9c02e"
      },
      "source": [
        "combined_label.to_frame()"
      ],
      "execution_count": 34,
      "outputs": [
        {
          "output_type": "execute_result",
          "data": {
            "text/html": [
              "<div>\n",
              "<style scoped>\n",
              "    .dataframe tbody tr th:only-of-type {\n",
              "        vertical-align: middle;\n",
              "    }\n",
              "\n",
              "    .dataframe tbody tr th {\n",
              "        vertical-align: top;\n",
              "    }\n",
              "\n",
              "    .dataframe thead th {\n",
              "        text-align: right;\n",
              "    }\n",
              "</style>\n",
              "<table border=\"1\" class=\"dataframe\">\n",
              "  <thead>\n",
              "    <tr style=\"text-align: right;\">\n",
              "      <th></th>\n",
              "      <th>label</th>\n",
              "    </tr>\n",
              "  </thead>\n",
              "  <tbody>\n",
              "    <tr>\n",
              "      <th>2</th>\n",
              "      <td>15692</td>\n",
              "    </tr>\n",
              "    <tr>\n",
              "      <th>1</th>\n",
              "      <td>15321</td>\n",
              "    </tr>\n",
              "  </tbody>\n",
              "</table>\n",
              "</div>"
            ],
            "text/plain": [
              "   label\n",
              "2  15692\n",
              "1  15321"
            ]
          },
          "metadata": {
            "tags": []
          },
          "execution_count": 34
        }
      ]
    },
    {
      "cell_type": "code",
      "metadata": {
        "colab": {
          "base_uri": "https://localhost:8080/",
          "height": 391
        },
        "id": "6FhX18GsYRvE",
        "outputId": "e5838176-7b54-4c0d-ea2d-ee56ad0f7420"
      },
      "source": [
        "combined_data"
      ],
      "execution_count": 35,
      "outputs": [
        {
          "output_type": "execute_result",
          "data": {
            "text/html": [
              "<div>\n",
              "<style scoped>\n",
              "    .dataframe tbody tr th:only-of-type {\n",
              "        vertical-align: middle;\n",
              "    }\n",
              "\n",
              "    .dataframe tbody tr th {\n",
              "        vertical-align: top;\n",
              "    }\n",
              "\n",
              "    .dataframe thead th {\n",
              "        text-align: right;\n",
              "    }\n",
              "</style>\n",
              "<table border=\"1\" class=\"dataframe\">\n",
              "  <thead>\n",
              "    <tr style=\"text-align: right;\">\n",
              "      <th></th>\n",
              "      <th>content</th>\n",
              "      <th>label</th>\n",
              "    </tr>\n",
              "  </thead>\n",
              "  <tbody>\n",
              "    <tr>\n",
              "      <th>0</th>\n",
              "      <td>Advertising.\\n This is basically a feel-good b...</td>\n",
              "      <td>1</td>\n",
              "    </tr>\n",
              "    <tr>\n",
              "      <th>1</th>\n",
              "      <td>Cant Read BluRay.\\n Unfortunately, unable to p...</td>\n",
              "      <td>1</td>\n",
              "    </tr>\n",
              "    <tr>\n",
              "      <th>2</th>\n",
              "      <td>Good while it lasted...for a minute.\\n This TV...</td>\n",
              "      <td>1</td>\n",
              "    </tr>\n",
              "    <tr>\n",
              "      <th>3</th>\n",
              "      <td>Didn't get the movie only an empty case..\\n I ...</td>\n",
              "      <td>1</td>\n",
              "    </tr>\n",
              "    <tr>\n",
              "      <th>4</th>\n",
              "      <td>No BluRay in case.\\n I bought this to watch wi...</td>\n",
              "      <td>1</td>\n",
              "    </tr>\n",
              "    <tr>\n",
              "      <th>...</th>\n",
              "      <td>...</td>\n",
              "      <td>...</td>\n",
              "    </tr>\n",
              "    <tr>\n",
              "      <th>31008</th>\n",
              "      <td>A challenge to get at.\\n No complaints about t...</td>\n",
              "      <td>1</td>\n",
              "    </tr>\n",
              "    <tr>\n",
              "      <th>31009</th>\n",
              "      <td>Je recommande.\\n Très facile à installer à l’a...</td>\n",
              "      <td>2</td>\n",
              "    </tr>\n",
              "    <tr>\n",
              "      <th>31010</th>\n",
              "      <td>Did the job !!!!.\\n It freed up space for my l...</td>\n",
              "      <td>2</td>\n",
              "    </tr>\n",
              "    <tr>\n",
              "      <th>31011</th>\n",
              "      <td>Best bang for your buck.\\n This monitor replac...</td>\n",
              "      <td>2</td>\n",
              "    </tr>\n",
              "    <tr>\n",
              "      <th>31012</th>\n",
              "      <td>Awesome loud speaker that can charge your phon...</td>\n",
              "      <td>2</td>\n",
              "    </tr>\n",
              "  </tbody>\n",
              "</table>\n",
              "<p>31013 rows × 2 columns</p>\n",
              "</div>"
            ],
            "text/plain": [
              "                                                 content  label\n",
              "0      Advertising.\\n This is basically a feel-good b...      1\n",
              "1      Cant Read BluRay.\\n Unfortunately, unable to p...      1\n",
              "2      Good while it lasted...for a minute.\\n This TV...      1\n",
              "3      Didn't get the movie only an empty case..\\n I ...      1\n",
              "4      No BluRay in case.\\n I bought this to watch wi...      1\n",
              "...                                                  ...    ...\n",
              "31008  A challenge to get at.\\n No complaints about t...      1\n",
              "31009  Je recommande.\\n Très facile à installer à l’a...      2\n",
              "31010  Did the job !!!!.\\n It freed up space for my l...      2\n",
              "31011  Best bang for your buck.\\n This monitor replac...      2\n",
              "31012  Awesome loud speaker that can charge your phon...      2\n",
              "\n",
              "[31013 rows x 2 columns]"
            ]
          },
          "metadata": {
            "tags": []
          },
          "execution_count": 35
        }
      ]
    },
    {
      "cell_type": "code",
      "metadata": {
        "colab": {
          "base_uri": "https://localhost:8080/",
          "height": 391
        },
        "id": "zUQxKf3zZOs4",
        "outputId": "39c83983-4d5b-41a9-8641-4b742ae70344"
      },
      "source": [
        "test_data"
      ],
      "execution_count": 36,
      "outputs": [
        {
          "output_type": "execute_result",
          "data": {
            "text/html": [
              "<div>\n",
              "<style scoped>\n",
              "    .dataframe tbody tr th:only-of-type {\n",
              "        vertical-align: middle;\n",
              "    }\n",
              "\n",
              "    .dataframe tbody tr th {\n",
              "        vertical-align: top;\n",
              "    }\n",
              "\n",
              "    .dataframe thead th {\n",
              "        text-align: right;\n",
              "    }\n",
              "</style>\n",
              "<table border=\"1\" class=\"dataframe\">\n",
              "  <thead>\n",
              "    <tr style=\"text-align: right;\">\n",
              "      <th></th>\n",
              "      <th>product_id</th>\n",
              "      <th>generic_product</th>\n",
              "      <th>content</th>\n",
              "      <th>label</th>\n",
              "    </tr>\n",
              "  </thead>\n",
              "  <tbody>\n",
              "    <tr>\n",
              "      <th>0</th>\n",
              "      <td>B01C3H9FGM</td>\n",
              "      <td>Headphones</td>\n",
              "      <td>Terrific commuter headphones.\\n I take the bus...</td>\n",
              "      <td>2</td>\n",
              "    </tr>\n",
              "    <tr>\n",
              "      <th>1</th>\n",
              "      <td>B00NJ2M33I</td>\n",
              "      <td>Headphones</td>\n",
              "      <td>By Far The Most Comfortable, Especially With G...</td>\n",
              "      <td>2</td>\n",
              "    </tr>\n",
              "    <tr>\n",
              "      <th>2</th>\n",
              "      <td>B078X1DQ2Y</td>\n",
              "      <td>Printer</td>\n",
              "      <td>Good printer.\\n Set it up, works great. I need...</td>\n",
              "      <td>2</td>\n",
              "    </tr>\n",
              "    <tr>\n",
              "      <th>3</th>\n",
              "      <td>B07TSMX36P</td>\n",
              "      <td>Speaker</td>\n",
              "      <td>Good product so far. But small issues..\\n Good...</td>\n",
              "      <td>2</td>\n",
              "    </tr>\n",
              "    <tr>\n",
              "      <th>4</th>\n",
              "      <td>B01M0GB8CC</td>\n",
              "      <td>Headphones</td>\n",
              "      <td>GOT GROSS USED BROKEN EARPHONES.\\n opened the ...</td>\n",
              "      <td>1</td>\n",
              "    </tr>\n",
              "    <tr>\n",
              "      <th>...</th>\n",
              "      <td>...</td>\n",
              "      <td>...</td>\n",
              "      <td>...</td>\n",
              "      <td>...</td>\n",
              "    </tr>\n",
              "    <tr>\n",
              "      <th>9121</th>\n",
              "      <td>B08H2H89K1</td>\n",
              "      <td>Laptop</td>\n",
              "      <td>Affordable gaming computer. Great for The Sims...</td>\n",
              "      <td>2</td>\n",
              "    </tr>\n",
              "    <tr>\n",
              "      <th>9122</th>\n",
              "      <td>B08KTWXCZT</td>\n",
              "      <td>Router</td>\n",
              "      <td>Solid router and very good performance.\\n Disc...</td>\n",
              "      <td>2</td>\n",
              "    </tr>\n",
              "    <tr>\n",
              "      <th>9123</th>\n",
              "      <td>B078X1DQ2Y</td>\n",
              "      <td>Printer</td>\n",
              "      <td>Excellent Printer.\\n My more expensive Canon P...</td>\n",
              "      <td>2</td>\n",
              "    </tr>\n",
              "    <tr>\n",
              "      <th>9124</th>\n",
              "      <td>B01CQOV3YO</td>\n",
              "      <td>Speaker</td>\n",
              "      <td>This is a great speaker for the price!.\\n This...</td>\n",
              "      <td>2</td>\n",
              "    </tr>\n",
              "    <tr>\n",
              "      <th>9125</th>\n",
              "      <td>B08511FZLG</td>\n",
              "      <td>Television</td>\n",
              "      <td>It's great and affordable.\\n This tv is great ...</td>\n",
              "      <td>2</td>\n",
              "    </tr>\n",
              "  </tbody>\n",
              "</table>\n",
              "<p>9126 rows × 4 columns</p>\n",
              "</div>"
            ],
            "text/plain": [
              "      product_id  ... label\n",
              "0     B01C3H9FGM  ...     2\n",
              "1     B00NJ2M33I  ...     2\n",
              "2     B078X1DQ2Y  ...     2\n",
              "3     B07TSMX36P  ...     2\n",
              "4     B01M0GB8CC  ...     1\n",
              "...          ...  ...   ...\n",
              "9121  B08H2H89K1  ...     2\n",
              "9122  B08KTWXCZT  ...     2\n",
              "9123  B078X1DQ2Y  ...     2\n",
              "9124  B01CQOV3YO  ...     2\n",
              "9125  B08511FZLG  ...     2\n",
              "\n",
              "[9126 rows x 4 columns]"
            ]
          },
          "metadata": {
            "tags": []
          },
          "execution_count": 36
        }
      ]
    },
    {
      "cell_type": "markdown",
      "metadata": {
        "id": "9AxfnwJgIHLF"
      },
      "source": [
        "## Data Proprocessing"
      ]
    },
    {
      "cell_type": "markdown",
      "metadata": {
        "id": "W-cDWE02Zufk"
      },
      "source": [
        "### Method 1 - Traditional Text Preprocessing Framework\n",
        "\n",
        "  1.  Tokenization\n",
        "\n",
        "Tokenization is a step which splits longer strings of text into smaller pieces, or tokens. Larger chunks of text can be tokenized into sentences, sentences can be tokenized into words, etc.\n",
        "\n",
        "  2.  Normalization\n",
        "\n",
        "Before further processing, text needs to be normalized. Normalization generally refers to a series of related tasks meant to put all text on a level playing field: converting all text to the same case (upper or lower), removing punctuation, converting numbers to their word equivalents, and so on. Normalization puts all words on equal footing, and allows processing to proceed uniformly. \n",
        "\n",
        "3.  Lemmatization\n",
        "\n",
        "Lemmatization is related to stemming, differing in that lemmatization is able to capture canonical forms based on a word's lemma."
      ]
    },
    {
      "cell_type": "markdown",
      "metadata": {
        "id": "bnVP-gQWJL4y"
      },
      "source": [
        "#### My Pre-processing Pipeline\n",
        "- Language Translation (since some of the reviews are in spanish)\n",
        "- Tokenization \n",
        "- Stopword removal\n",
        "\n",
        "Normalization task\n",
        "- convert emoji to words (since some of the reviews have emoji)\n",
        "- URL removal\n",
        "- puncuation removal \n",
        "- spelling correction\n",
        "- abbervation ( converting internet slang)\n"
      ]
    },
    {
      "cell_type": "markdown",
      "metadata": {
        "id": "OYUlBK_zcSgU"
      },
      "source": [
        " Implementating Peter Norvig's Spell Correction Algorithm using Word2vec for spelling correction"
      ]
    },
    {
      "cell_type": "code",
      "metadata": {
        "colab": {
          "base_uri": "https://localhost:8080/"
        },
        "id": "iduo1CSnQUFt",
        "outputId": "5ac86201-ef16-47e5-ab6b-377dca7c967f"
      },
      "source": [
        "!wget -c \"https://s3.amazonaws.com/dl4j-distribution/GoogleNews-vectors-negative300.bin.gz\" \\\n",
        "    -O './GoogleNews-vectors-negative300.bin.gz'\n"
      ],
      "execution_count": 37,
      "outputs": [
        {
          "output_type": "stream",
          "text": [
            "--2021-04-11 13:30:55--  https://s3.amazonaws.com/dl4j-distribution/GoogleNews-vectors-negative300.bin.gz\n",
            "Resolving s3.amazonaws.com (s3.amazonaws.com)... 52.217.66.222\n",
            "Connecting to s3.amazonaws.com (s3.amazonaws.com)|52.217.66.222|:443... connected.\n",
            "HTTP request sent, awaiting response... 200 OK\n",
            "Length: 1647046227 (1.5G) [application/x-gzip]\n",
            "Saving to: ‘./GoogleNews-vectors-negative300.bin.gz’\n",
            "\n",
            "./GoogleNews-vector 100%[===================>]   1.53G  84.5MB/s    in 20s     \n",
            "\n",
            "2021-04-11 13:31:16 (76.7 MB/s) - ‘./GoogleNews-vectors-negative300.bin.gz’ saved [1647046227/1647046227]\n",
            "\n"
          ],
          "name": "stdout"
        }
      ]
    },
    {
      "cell_type": "code",
      "metadata": {
        "id": "-w0XtnatPvaN"
      },
      "source": [
        "import gensim\n",
        "\n",
        "model = gensim.models.KeyedVectors.load_word2vec_format('GoogleNews-vectors-negative300.bin.gz',  binary=True)\n",
        "\n",
        "\n",
        "words = model.index2word\n",
        "\n",
        "w_rank = {}\n",
        "for i,word in enumerate(words):\n",
        "    w_rank[word] = i\n",
        "\n",
        "WORDS = w_rank"
      ],
      "execution_count": 38,
      "outputs": []
    },
    {
      "cell_type": "code",
      "metadata": {
        "id": "s0Bjw72eRvn0"
      },
      "source": [
        "import re\n",
        "import collections\n",
        "from collections import Counter\n",
        "\n",
        "def words(text): return re.findall(r'\\w+', text.lower())\n",
        "\n",
        "def P(word): \n",
        "    \"Probability of `word`.\"\n",
        "    # use inverse of rank as proxy\n",
        "    # returns 0 if the word isn't in the dictionary\n",
        "    return - WORDS.get(word, 0)\n",
        "\n",
        "def candidates(word): \n",
        "    \"Generate possible spelling corrections for word.\"\n",
        "    return (known([word]) or known(edits1(word)) or known(edits2(word)) or [word])\n",
        "\n",
        "def known(words): \n",
        "    \"The subset of `words` that appear in the dictionary of WORDS.\"\n",
        "    return set(w for w in words if w in WORDS)\n",
        "\n",
        "def edits1(word):\n",
        "    \"All edits that are one edit away from `word`.\"\n",
        "    letters    = 'abcdefghijklmnopqrstuvwxyz'\n",
        "    splits     = [(word[:i], word[i:])    for i in range(len(word) + 1)]\n",
        "    deletes    = [L + R[1:]               for L, R in splits if R]\n",
        "    transposes = [L + R[1] + R[0] + R[2:] for L, R in splits if len(R)>1]\n",
        "    replaces   = [L + c + R[1:]           for L, R in splits if R for c in letters]\n",
        "    inserts    = [L + c + R               for L, R in splits for c in letters]\n",
        "    return set(deletes + transposes + replaces + inserts)\n",
        "\n",
        "def edits2(word): \n",
        "    \"All edits that are two edits away from `word`.\"\n",
        "    return (e2 for e1 in edits1(word) for e2 in edits1(e1))\n",
        "\n",
        "def correction(word): \n",
        "    \"Most probable spelling correction for word.\"\n",
        "    return max(candidates(word), key=P)"
      ],
      "execution_count": 39,
      "outputs": []
    },
    {
      "cell_type": "markdown",
      "metadata": {
        "id": "j9EO-DADckSh"
      },
      "source": [
        "Implementing Emoji replacement using custom emoji pickle file"
      ]
    },
    {
      "cell_type": "code",
      "metadata": {
        "id": "3G_J-8RbBbQj"
      },
      "source": [
        "import pickle\n",
        "import re\n",
        "\n",
        "with open('Emoji_Dict.p', 'rb') as fp:\n",
        "  Emoji_Dict = pickle.load(fp)\n",
        "\n",
        "Emoji_Dict = {v: k for k, v in Emoji_Dict.items()}\n",
        "\n",
        "#convert emojis to words\n",
        "def convert_emojis_to_word(text):\n",
        "  for emot in Emoji_Dict:\n",
        "    text = re.sub(r'('+emot+')', \"_\".join(Emoji_Dict[emot].replace(\",\",\"\").replace(\":\",\"\").split()), text)\n",
        "  return text"
      ],
      "execution_count": 40,
      "outputs": []
    },
    {
      "cell_type": "markdown",
      "metadata": {
        "id": "sVVfhFW8dd00"
      },
      "source": [
        "Implementing foreign language translation using Google Translate Api"
      ]
    },
    {
      "cell_type": "code",
      "metadata": {
        "id": "TrPwC004dSYi"
      },
      "source": [
        "from googletrans import Translator\n",
        "\n",
        "translator = Translator()\n",
        "\n",
        "\n",
        "#translate foreign language to English\n",
        "def translate(text):\n",
        "  result = translator.translate(text, dest='en', src='auto')\n",
        "  return result.text\n",
        "\n"
      ],
      "execution_count": 41,
      "outputs": []
    },
    {
      "cell_type": "markdown",
      "metadata": {
        "id": "T0yhKX73d7vJ"
      },
      "source": [
        "Implementing regular exression to replace URLs"
      ]
    },
    {
      "cell_type": "code",
      "metadata": {
        "id": "UgURUcYZdwSg"
      },
      "source": [
        "url_regex = r'(https?:\\/\\/(?:www\\.|(?!www))[a-zA-Z0-9][a-zA-Z0-9-]+[a-zA-Z0-9]\\.[^\\s]{2,}|www\\.[a-zA-Z0-9][a-zA-Z0-9-]+[a-zA-Z0-9]\\.[^\\s]{2,}|https?:\\/\\/(?:www\\.|(?!www))[a-zA-Z0-9]+\\.[^\\s]{2,}|www\\.[a-zA-Z0-9]+\\.[^\\s]{2,})'\n",
        "\n",
        "#replace any URLs with a <URL> tag\n",
        "def _replace_urls( text):\n",
        "    text = re.sub(url_regex, \"<URL>\", text)\n",
        "    return text\n",
        "\n",
        "\n",
        "# Simplifies doubled or more complex punctuation with the exception of '...'\n",
        "def _clean_punctuation(text):\n",
        "  \n",
        "    sentence = str(text)\n",
        "    # remove numbers\n",
        "    sentence = re.sub(r'\\d+', '', sentence)\n",
        "    #sentence = re.sub(r'[^A-Za-z0-9(),!;?\\'\\`\\\"]1+', r'\\1', sentence)\n",
        "    sentence = re.sub(r'([!?,;])\\1+', r'\\1', sentence)\n",
        "    sentence = re.sub(r'\\.{2,}', r'...', sentence)\n",
        "    sentence = re.sub(r\"\\s{2,}\", ' ', sentence)\n",
        "    sentence = sentence.strip()\n",
        "    return sentence\n"
      ],
      "execution_count": 42,
      "outputs": []
    },
    {
      "cell_type": "markdown",
      "metadata": {
        "id": "OExxurd1eQg5"
      },
      "source": [
        "Implementing Text Pre-processing Pipeline"
      ]
    },
    {
      "cell_type": "code",
      "metadata": {
        "id": "SXi8Y78dZwHb"
      },
      "source": [
        "import string\n",
        "from spacy.lang.en.stop_words import STOP_WORDS\n",
        "\n",
        "nlp= spacy.load('en_core_web_lg')\n",
        "stopwords = list(STOP_WORDS)\n",
        "punct = string.punctuation\n",
        "\n",
        "#entire pre-processing pipline\n",
        "def text_data_cleaning(sentence):\n",
        "\n",
        "    #translate text to English\n",
        "    sentence = translate(sentence)\n",
        "\n",
        "    #convert emoji to words\n",
        "    sentence = convert_emojis_to_word(sentence)\n",
        "\n",
        "    #remove URLS\n",
        "    sentence = _replace_urls(sentence)\n",
        "\n",
        "    #clean puncuations\n",
        "    sentence = _clean_punctuation(sentence)\n",
        "\n",
        "    #Tokenize sentence\n",
        "    doc = nlp(sentence)\n",
        "    \n",
        "    tokens = []\n",
        "    for token in doc:\n",
        "        #strip sentences to lower case\n",
        "        if token.lemma_ != \"-PRON-\":\n",
        "            temp = token.lemma_.lower().strip()\n",
        "            if '@' in temp:\n",
        "              temp = \" @MENTION\"\n",
        "            elif '#' in token.text:\n",
        "              temp = \" #HASHTAG\"\n",
        "            else:\n",
        "              temp = temp\n",
        "        else:\n",
        "            temp = token.lower_\n",
        "        tokens.append(temp)\n",
        "    \n",
        "    cleaned_tokens = []\n",
        "    for token in tokens:\n",
        "        #remove stopwords and punctuations\n",
        "        if token not in stopwords and token not in punct:\n",
        "            #spell check using word2vec\n",
        "            token = correction(token)\n",
        "            cleaned_tokens.append(token)\n",
        "    return cleaned_tokens\n",
        "\n",
        "def dummy_fun(doc):\n",
        "    return doc"
      ],
      "execution_count": 43,
      "outputs": []
    },
    {
      "cell_type": "code",
      "metadata": {
        "colab": {
          "base_uri": "https://localhost:8080/",
          "height": 446,
          "referenced_widgets": [
            "28fab3fddcf346138f35dca84249dcde",
            "ef3c3043cae0421ab2105aa96fe681c7",
            "959a33c0119642b2bf7ce2d42d443a24",
            "0ed787b2cd5748069732a1540094c59b",
            "7bc471b8d35c4ee6ad4782f27db56c1e",
            "3cb8bad015bc486b9f14278dc76ba20d",
            "2771408c3e7d4441b44a30815ec15b85",
            "530e5b11787542efabc1d2b24190fa62"
          ]
        },
        "id": "wlu5UeUqayyz",
        "outputId": "9e64a4da-ca35-4cee-96cf-44b2e334c3ab"
      },
      "source": [
        "tqdm.pandas()\n",
        "\n",
        "combined_data['tokens'] = combined_data['content'].progress_apply(text_data_cleaning)"
      ],
      "execution_count": 44,
      "outputs": [
        {
          "output_type": "stream",
          "text": [
            "/usr/local/lib/python3.7/dist-packages/tqdm/std.py:658: FutureWarning: The Panel class is removed from pandas. Accessing it from the top-level namespace will also be removed in the next version\n",
            "  from pandas import Panel\n"
          ],
          "name": "stderr"
        },
        {
          "output_type": "display_data",
          "data": {
            "application/vnd.jupyter.widget-view+json": {
              "model_id": "28fab3fddcf346138f35dca84249dcde",
              "version_minor": 0,
              "version_major": 2
            },
            "text/plain": [
              "HBox(children=(FloatProgress(value=0.0, max=31013.0), HTML(value='')))"
            ]
          },
          "metadata": {
            "tags": []
          }
        },
        {
          "output_type": "error",
          "ename": "KeyboardInterrupt",
          "evalue": "ignored",
          "traceback": [
            "\u001b[0;31m---------------------------------------------------------------------------\u001b[0m",
            "\u001b[0;31mKeyboardInterrupt\u001b[0m                         Traceback (most recent call last)",
            "\u001b[0;32m<ipython-input-44-97adb4db2e57>\u001b[0m in \u001b[0;36m<module>\u001b[0;34m()\u001b[0m\n\u001b[1;32m      1\u001b[0m \u001b[0mtqdm\u001b[0m\u001b[0;34m.\u001b[0m\u001b[0mpandas\u001b[0m\u001b[0;34m(\u001b[0m\u001b[0;34m)\u001b[0m\u001b[0;34m\u001b[0m\u001b[0;34m\u001b[0m\u001b[0m\n\u001b[1;32m      2\u001b[0m \u001b[0;34m\u001b[0m\u001b[0m\n\u001b[0;32m----> 3\u001b[0;31m \u001b[0mcombined_data\u001b[0m\u001b[0;34m[\u001b[0m\u001b[0;34m'tokens'\u001b[0m\u001b[0;34m]\u001b[0m \u001b[0;34m=\u001b[0m \u001b[0mcombined_data\u001b[0m\u001b[0;34m[\u001b[0m\u001b[0;34m'content'\u001b[0m\u001b[0;34m]\u001b[0m\u001b[0;34m.\u001b[0m\u001b[0mprogress_apply\u001b[0m\u001b[0;34m(\u001b[0m\u001b[0mtext_data_cleaning\u001b[0m\u001b[0;34m)\u001b[0m\u001b[0;34m\u001b[0m\u001b[0;34m\u001b[0m\u001b[0m\n\u001b[0m",
            "\u001b[0;32m/usr/local/lib/python3.7/dist-packages/tqdm/std.py\u001b[0m in \u001b[0;36minner\u001b[0;34m(df, func, *args, **kwargs)\u001b[0m\n\u001b[1;32m    751\u001b[0m                 \u001b[0;31m# Apply the provided function (in **kwargs)\u001b[0m\u001b[0;34m\u001b[0m\u001b[0;34m\u001b[0m\u001b[0;34m\u001b[0m\u001b[0m\n\u001b[1;32m    752\u001b[0m                 \u001b[0;31m# on the df using our wrapper (which provides bar updating)\u001b[0m\u001b[0;34m\u001b[0m\u001b[0;34m\u001b[0m\u001b[0;34m\u001b[0m\u001b[0m\n\u001b[0;32m--> 753\u001b[0;31m                 \u001b[0mresult\u001b[0m \u001b[0;34m=\u001b[0m \u001b[0mgetattr\u001b[0m\u001b[0;34m(\u001b[0m\u001b[0mdf\u001b[0m\u001b[0;34m,\u001b[0m \u001b[0mdf_function\u001b[0m\u001b[0;34m)\u001b[0m\u001b[0;34m(\u001b[0m\u001b[0mwrapper\u001b[0m\u001b[0;34m,\u001b[0m \u001b[0;34m**\u001b[0m\u001b[0mkwargs\u001b[0m\u001b[0;34m)\u001b[0m\u001b[0;34m\u001b[0m\u001b[0;34m\u001b[0m\u001b[0m\n\u001b[0m\u001b[1;32m    754\u001b[0m \u001b[0;34m\u001b[0m\u001b[0m\n\u001b[1;32m    755\u001b[0m                 \u001b[0;31m# Close bar and return pandas calculation result\u001b[0m\u001b[0;34m\u001b[0m\u001b[0;34m\u001b[0m\u001b[0;34m\u001b[0m\u001b[0m\n",
            "\u001b[0;32m/usr/local/lib/python3.7/dist-packages/pandas/core/series.py\u001b[0m in \u001b[0;36mapply\u001b[0;34m(self, func, convert_dtype, args, **kwds)\u001b[0m\n\u001b[1;32m   4211\u001b[0m             \u001b[0;32melse\u001b[0m\u001b[0;34m:\u001b[0m\u001b[0;34m\u001b[0m\u001b[0;34m\u001b[0m\u001b[0m\n\u001b[1;32m   4212\u001b[0m                 \u001b[0mvalues\u001b[0m \u001b[0;34m=\u001b[0m \u001b[0mself\u001b[0m\u001b[0;34m.\u001b[0m\u001b[0mastype\u001b[0m\u001b[0;34m(\u001b[0m\u001b[0mobject\u001b[0m\u001b[0;34m)\u001b[0m\u001b[0;34m.\u001b[0m\u001b[0m_values\u001b[0m\u001b[0;34m\u001b[0m\u001b[0;34m\u001b[0m\u001b[0m\n\u001b[0;32m-> 4213\u001b[0;31m                 \u001b[0mmapped\u001b[0m \u001b[0;34m=\u001b[0m \u001b[0mlib\u001b[0m\u001b[0;34m.\u001b[0m\u001b[0mmap_infer\u001b[0m\u001b[0;34m(\u001b[0m\u001b[0mvalues\u001b[0m\u001b[0;34m,\u001b[0m \u001b[0mf\u001b[0m\u001b[0;34m,\u001b[0m \u001b[0mconvert\u001b[0m\u001b[0;34m=\u001b[0m\u001b[0mconvert_dtype\u001b[0m\u001b[0;34m)\u001b[0m\u001b[0;34m\u001b[0m\u001b[0;34m\u001b[0m\u001b[0m\n\u001b[0m\u001b[1;32m   4214\u001b[0m \u001b[0;34m\u001b[0m\u001b[0m\n\u001b[1;32m   4215\u001b[0m         \u001b[0;32mif\u001b[0m \u001b[0mlen\u001b[0m\u001b[0;34m(\u001b[0m\u001b[0mmapped\u001b[0m\u001b[0;34m)\u001b[0m \u001b[0;32mand\u001b[0m \u001b[0misinstance\u001b[0m\u001b[0;34m(\u001b[0m\u001b[0mmapped\u001b[0m\u001b[0;34m[\u001b[0m\u001b[0;36m0\u001b[0m\u001b[0;34m]\u001b[0m\u001b[0;34m,\u001b[0m \u001b[0mSeries\u001b[0m\u001b[0;34m)\u001b[0m\u001b[0;34m:\u001b[0m\u001b[0;34m\u001b[0m\u001b[0;34m\u001b[0m\u001b[0m\n",
            "\u001b[0;32mpandas/_libs/lib.pyx\u001b[0m in \u001b[0;36mpandas._libs.lib.map_infer\u001b[0;34m()\u001b[0m\n",
            "\u001b[0;32m/usr/local/lib/python3.7/dist-packages/tqdm/std.py\u001b[0m in \u001b[0;36mwrapper\u001b[0;34m(*args, **kwargs)\u001b[0m\n\u001b[1;32m    747\u001b[0m                     \u001b[0;31m# take a fast or slow code path; so stop when t.total==t.n\u001b[0m\u001b[0;34m\u001b[0m\u001b[0;34m\u001b[0m\u001b[0;34m\u001b[0m\u001b[0m\n\u001b[1;32m    748\u001b[0m                     \u001b[0mt\u001b[0m\u001b[0;34m.\u001b[0m\u001b[0mupdate\u001b[0m\u001b[0;34m(\u001b[0m\u001b[0mn\u001b[0m\u001b[0;34m=\u001b[0m\u001b[0;36m1\u001b[0m \u001b[0;32mif\u001b[0m \u001b[0;32mnot\u001b[0m \u001b[0mt\u001b[0m\u001b[0;34m.\u001b[0m\u001b[0mtotal\u001b[0m \u001b[0;32mor\u001b[0m \u001b[0mt\u001b[0m\u001b[0;34m.\u001b[0m\u001b[0mn\u001b[0m \u001b[0;34m<\u001b[0m \u001b[0mt\u001b[0m\u001b[0;34m.\u001b[0m\u001b[0mtotal\u001b[0m \u001b[0;32melse\u001b[0m \u001b[0;36m0\u001b[0m\u001b[0;34m)\u001b[0m\u001b[0;34m\u001b[0m\u001b[0;34m\u001b[0m\u001b[0m\n\u001b[0;32m--> 749\u001b[0;31m                     \u001b[0;32mreturn\u001b[0m \u001b[0mfunc\u001b[0m\u001b[0;34m(\u001b[0m\u001b[0;34m*\u001b[0m\u001b[0margs\u001b[0m\u001b[0;34m,\u001b[0m \u001b[0;34m**\u001b[0m\u001b[0mkwargs\u001b[0m\u001b[0;34m)\u001b[0m\u001b[0;34m\u001b[0m\u001b[0;34m\u001b[0m\u001b[0m\n\u001b[0m\u001b[1;32m    750\u001b[0m \u001b[0;34m\u001b[0m\u001b[0m\n\u001b[1;32m    751\u001b[0m                 \u001b[0;31m# Apply the provided function (in **kwargs)\u001b[0m\u001b[0;34m\u001b[0m\u001b[0;34m\u001b[0m\u001b[0;34m\u001b[0m\u001b[0m\n",
            "\u001b[0;32m<ipython-input-43-b080f753fd69>\u001b[0m in \u001b[0;36mtext_data_cleaning\u001b[0;34m(sentence)\u001b[0m\n\u001b[1;32m     10\u001b[0m \u001b[0;34m\u001b[0m\u001b[0m\n\u001b[1;32m     11\u001b[0m     \u001b[0;31m#translate text to English\u001b[0m\u001b[0;34m\u001b[0m\u001b[0;34m\u001b[0m\u001b[0;34m\u001b[0m\u001b[0m\n\u001b[0;32m---> 12\u001b[0;31m     \u001b[0msentence\u001b[0m \u001b[0;34m=\u001b[0m \u001b[0mtranslate\u001b[0m\u001b[0;34m(\u001b[0m\u001b[0msentence\u001b[0m\u001b[0;34m)\u001b[0m\u001b[0;34m\u001b[0m\u001b[0;34m\u001b[0m\u001b[0m\n\u001b[0m\u001b[1;32m     13\u001b[0m \u001b[0;34m\u001b[0m\u001b[0m\n\u001b[1;32m     14\u001b[0m     \u001b[0;31m#convert emoji to words\u001b[0m\u001b[0;34m\u001b[0m\u001b[0;34m\u001b[0m\u001b[0;34m\u001b[0m\u001b[0m\n",
            "\u001b[0;32m<ipython-input-41-f7e1fb83d84b>\u001b[0m in \u001b[0;36mtranslate\u001b[0;34m(text)\u001b[0m\n\u001b[1;32m      6\u001b[0m \u001b[0;31m#translate foreign language to English\u001b[0m\u001b[0;34m\u001b[0m\u001b[0;34m\u001b[0m\u001b[0;34m\u001b[0m\u001b[0m\n\u001b[1;32m      7\u001b[0m \u001b[0;32mdef\u001b[0m \u001b[0mtranslate\u001b[0m\u001b[0;34m(\u001b[0m\u001b[0mtext\u001b[0m\u001b[0;34m)\u001b[0m\u001b[0;34m:\u001b[0m\u001b[0;34m\u001b[0m\u001b[0;34m\u001b[0m\u001b[0m\n\u001b[0;32m----> 8\u001b[0;31m   \u001b[0mresult\u001b[0m \u001b[0;34m=\u001b[0m \u001b[0mtranslator\u001b[0m\u001b[0;34m.\u001b[0m\u001b[0mtranslate\u001b[0m\u001b[0;34m(\u001b[0m\u001b[0mtext\u001b[0m\u001b[0;34m,\u001b[0m \u001b[0mdest\u001b[0m\u001b[0;34m=\u001b[0m\u001b[0;34m'en'\u001b[0m\u001b[0;34m,\u001b[0m \u001b[0msrc\u001b[0m\u001b[0;34m=\u001b[0m\u001b[0;34m'auto'\u001b[0m\u001b[0;34m)\u001b[0m\u001b[0;34m\u001b[0m\u001b[0;34m\u001b[0m\u001b[0m\n\u001b[0m\u001b[1;32m      9\u001b[0m   \u001b[0;32mreturn\u001b[0m \u001b[0mresult\u001b[0m\u001b[0;34m.\u001b[0m\u001b[0mtext\u001b[0m\u001b[0;34m\u001b[0m\u001b[0;34m\u001b[0m\u001b[0m\n\u001b[1;32m     10\u001b[0m \u001b[0;34m\u001b[0m\u001b[0m\n",
            "\u001b[0;32m/usr/local/lib/python3.7/dist-packages/googletrans/client.py\u001b[0m in \u001b[0;36mtranslate\u001b[0;34m(self, text, dest, src, **kwargs)\u001b[0m\n\u001b[1;32m    208\u001b[0m \u001b[0;34m\u001b[0m\u001b[0m\n\u001b[1;32m    209\u001b[0m         \u001b[0morigin\u001b[0m \u001b[0;34m=\u001b[0m \u001b[0mtext\u001b[0m\u001b[0;34m\u001b[0m\u001b[0;34m\u001b[0m\u001b[0m\n\u001b[0;32m--> 210\u001b[0;31m         \u001b[0mdata\u001b[0m\u001b[0;34m,\u001b[0m \u001b[0mresponse\u001b[0m \u001b[0;34m=\u001b[0m \u001b[0mself\u001b[0m\u001b[0;34m.\u001b[0m\u001b[0m_translate\u001b[0m\u001b[0;34m(\u001b[0m\u001b[0mtext\u001b[0m\u001b[0;34m,\u001b[0m \u001b[0mdest\u001b[0m\u001b[0;34m,\u001b[0m \u001b[0msrc\u001b[0m\u001b[0;34m,\u001b[0m \u001b[0mkwargs\u001b[0m\u001b[0;34m)\u001b[0m\u001b[0;34m\u001b[0m\u001b[0;34m\u001b[0m\u001b[0m\n\u001b[0m\u001b[1;32m    211\u001b[0m \u001b[0;34m\u001b[0m\u001b[0m\n\u001b[1;32m    212\u001b[0m         \u001b[0;31m# this code will be updated when the format is changed.\u001b[0m\u001b[0;34m\u001b[0m\u001b[0;34m\u001b[0m\u001b[0;34m\u001b[0m\u001b[0m\n",
            "\u001b[0;32m/usr/local/lib/python3.7/dist-packages/googletrans/client.py\u001b[0m in \u001b[0;36m_translate\u001b[0;34m(self, text, dest, src, override)\u001b[0m\n\u001b[1;32m    106\u001b[0m \u001b[0;34m\u001b[0m\u001b[0m\n\u001b[1;32m    107\u001b[0m         \u001b[0murl\u001b[0m \u001b[0;34m=\u001b[0m \u001b[0murls\u001b[0m\u001b[0;34m.\u001b[0m\u001b[0mTRANSLATE\u001b[0m\u001b[0;34m.\u001b[0m\u001b[0mformat\u001b[0m\u001b[0;34m(\u001b[0m\u001b[0mhost\u001b[0m\u001b[0;34m=\u001b[0m\u001b[0mself\u001b[0m\u001b[0;34m.\u001b[0m\u001b[0m_pick_service_url\u001b[0m\u001b[0;34m(\u001b[0m\u001b[0;34m)\u001b[0m\u001b[0;34m)\u001b[0m\u001b[0;34m\u001b[0m\u001b[0;34m\u001b[0m\u001b[0m\n\u001b[0;32m--> 108\u001b[0;31m         \u001b[0mr\u001b[0m \u001b[0;34m=\u001b[0m \u001b[0mself\u001b[0m\u001b[0;34m.\u001b[0m\u001b[0mclient\u001b[0m\u001b[0;34m.\u001b[0m\u001b[0mget\u001b[0m\u001b[0;34m(\u001b[0m\u001b[0murl\u001b[0m\u001b[0;34m,\u001b[0m \u001b[0mparams\u001b[0m\u001b[0;34m=\u001b[0m\u001b[0mparams\u001b[0m\u001b[0;34m)\u001b[0m\u001b[0;34m\u001b[0m\u001b[0;34m\u001b[0m\u001b[0m\n\u001b[0m\u001b[1;32m    109\u001b[0m \u001b[0;34m\u001b[0m\u001b[0m\n\u001b[1;32m    110\u001b[0m         \u001b[0;32mif\u001b[0m \u001b[0mr\u001b[0m\u001b[0;34m.\u001b[0m\u001b[0mstatus_code\u001b[0m \u001b[0;34m==\u001b[0m \u001b[0;36m200\u001b[0m\u001b[0;34m:\u001b[0m\u001b[0;34m\u001b[0m\u001b[0;34m\u001b[0m\u001b[0m\n",
            "\u001b[0;32m/usr/local/lib/python3.7/dist-packages/httpx/_client.py\u001b[0m in \u001b[0;36mget\u001b[0;34m(self, url, params, headers, cookies, auth, allow_redirects, timeout)\u001b[0m\n\u001b[1;32m    761\u001b[0m             \u001b[0mauth\u001b[0m\u001b[0;34m=\u001b[0m\u001b[0mauth\u001b[0m\u001b[0;34m,\u001b[0m\u001b[0;34m\u001b[0m\u001b[0;34m\u001b[0m\u001b[0m\n\u001b[1;32m    762\u001b[0m             \u001b[0mallow_redirects\u001b[0m\u001b[0;34m=\u001b[0m\u001b[0mallow_redirects\u001b[0m\u001b[0;34m,\u001b[0m\u001b[0;34m\u001b[0m\u001b[0;34m\u001b[0m\u001b[0m\n\u001b[0;32m--> 763\u001b[0;31m             \u001b[0mtimeout\u001b[0m\u001b[0;34m=\u001b[0m\u001b[0mtimeout\u001b[0m\u001b[0;34m,\u001b[0m\u001b[0;34m\u001b[0m\u001b[0;34m\u001b[0m\u001b[0m\n\u001b[0m\u001b[1;32m    764\u001b[0m         )\n\u001b[1;32m    765\u001b[0m \u001b[0;34m\u001b[0m\u001b[0m\n",
            "\u001b[0;32m/usr/local/lib/python3.7/dist-packages/httpx/_client.py\u001b[0m in \u001b[0;36mrequest\u001b[0;34m(self, method, url, data, files, json, params, headers, cookies, auth, allow_redirects, timeout)\u001b[0m\n\u001b[1;32m    599\u001b[0m         )\n\u001b[1;32m    600\u001b[0m         return self.send(\n\u001b[0;32m--> 601\u001b[0;31m             \u001b[0mrequest\u001b[0m\u001b[0;34m,\u001b[0m \u001b[0mauth\u001b[0m\u001b[0;34m=\u001b[0m\u001b[0mauth\u001b[0m\u001b[0;34m,\u001b[0m \u001b[0mallow_redirects\u001b[0m\u001b[0;34m=\u001b[0m\u001b[0mallow_redirects\u001b[0m\u001b[0;34m,\u001b[0m \u001b[0mtimeout\u001b[0m\u001b[0;34m=\u001b[0m\u001b[0mtimeout\u001b[0m\u001b[0;34m,\u001b[0m\u001b[0;34m\u001b[0m\u001b[0;34m\u001b[0m\u001b[0m\n\u001b[0m\u001b[1;32m    602\u001b[0m         )\n\u001b[1;32m    603\u001b[0m \u001b[0;34m\u001b[0m\u001b[0m\n",
            "\u001b[0;32m/usr/local/lib/python3.7/dist-packages/httpx/_client.py\u001b[0m in \u001b[0;36msend\u001b[0;34m(self, request, stream, auth, allow_redirects, timeout)\u001b[0m\n\u001b[1;32m    619\u001b[0m \u001b[0;34m\u001b[0m\u001b[0m\n\u001b[1;32m    620\u001b[0m         response = self.send_handling_redirects(\n\u001b[0;32m--> 621\u001b[0;31m             \u001b[0mrequest\u001b[0m\u001b[0;34m,\u001b[0m \u001b[0mauth\u001b[0m\u001b[0;34m=\u001b[0m\u001b[0mauth\u001b[0m\u001b[0;34m,\u001b[0m \u001b[0mtimeout\u001b[0m\u001b[0;34m=\u001b[0m\u001b[0mtimeout\u001b[0m\u001b[0;34m,\u001b[0m \u001b[0mallow_redirects\u001b[0m\u001b[0;34m=\u001b[0m\u001b[0mallow_redirects\u001b[0m\u001b[0;34m,\u001b[0m\u001b[0;34m\u001b[0m\u001b[0;34m\u001b[0m\u001b[0m\n\u001b[0m\u001b[1;32m    622\u001b[0m         )\n\u001b[1;32m    623\u001b[0m \u001b[0;34m\u001b[0m\u001b[0m\n",
            "\u001b[0;32m/usr/local/lib/python3.7/dist-packages/httpx/_client.py\u001b[0m in \u001b[0;36msend_handling_redirects\u001b[0;34m(self, request, auth, timeout, allow_redirects, history)\u001b[0m\n\u001b[1;32m    646\u001b[0m \u001b[0;34m\u001b[0m\u001b[0m\n\u001b[1;32m    647\u001b[0m             response = self.send_handling_auth(\n\u001b[0;32m--> 648\u001b[0;31m                 \u001b[0mrequest\u001b[0m\u001b[0;34m,\u001b[0m \u001b[0mauth\u001b[0m\u001b[0;34m=\u001b[0m\u001b[0mauth\u001b[0m\u001b[0;34m,\u001b[0m \u001b[0mtimeout\u001b[0m\u001b[0;34m=\u001b[0m\u001b[0mtimeout\u001b[0m\u001b[0;34m,\u001b[0m \u001b[0mhistory\u001b[0m\u001b[0;34m=\u001b[0m\u001b[0mhistory\u001b[0m\u001b[0;34m\u001b[0m\u001b[0;34m\u001b[0m\u001b[0m\n\u001b[0m\u001b[1;32m    649\u001b[0m             )\n\u001b[1;32m    650\u001b[0m             \u001b[0mresponse\u001b[0m\u001b[0;34m.\u001b[0m\u001b[0mhistory\u001b[0m \u001b[0;34m=\u001b[0m \u001b[0mlist\u001b[0m\u001b[0;34m(\u001b[0m\u001b[0mhistory\u001b[0m\u001b[0;34m)\u001b[0m\u001b[0;34m\u001b[0m\u001b[0;34m\u001b[0m\u001b[0m\n",
            "\u001b[0;32m/usr/local/lib/python3.7/dist-packages/httpx/_client.py\u001b[0m in \u001b[0;36msend_handling_auth\u001b[0;34m(self, request, history, auth, timeout)\u001b[0m\n\u001b[1;32m    682\u001b[0m         \u001b[0mrequest\u001b[0m \u001b[0;34m=\u001b[0m \u001b[0mnext\u001b[0m\u001b[0;34m(\u001b[0m\u001b[0mauth_flow\u001b[0m\u001b[0;34m)\u001b[0m\u001b[0;34m\u001b[0m\u001b[0;34m\u001b[0m\u001b[0m\n\u001b[1;32m    683\u001b[0m         \u001b[0;32mwhile\u001b[0m \u001b[0;32mTrue\u001b[0m\u001b[0;34m:\u001b[0m\u001b[0;34m\u001b[0m\u001b[0;34m\u001b[0m\u001b[0m\n\u001b[0;32m--> 684\u001b[0;31m             \u001b[0mresponse\u001b[0m \u001b[0;34m=\u001b[0m \u001b[0mself\u001b[0m\u001b[0;34m.\u001b[0m\u001b[0msend_single_request\u001b[0m\u001b[0;34m(\u001b[0m\u001b[0mrequest\u001b[0m\u001b[0;34m,\u001b[0m \u001b[0mtimeout\u001b[0m\u001b[0;34m)\u001b[0m\u001b[0;34m\u001b[0m\u001b[0;34m\u001b[0m\u001b[0m\n\u001b[0m\u001b[1;32m    685\u001b[0m             \u001b[0;32mif\u001b[0m \u001b[0mauth\u001b[0m\u001b[0;34m.\u001b[0m\u001b[0mrequires_response_body\u001b[0m\u001b[0;34m:\u001b[0m\u001b[0;34m\u001b[0m\u001b[0;34m\u001b[0m\u001b[0m\n\u001b[1;32m    686\u001b[0m                 \u001b[0mresponse\u001b[0m\u001b[0;34m.\u001b[0m\u001b[0mread\u001b[0m\u001b[0;34m(\u001b[0m\u001b[0;34m)\u001b[0m\u001b[0;34m\u001b[0m\u001b[0;34m\u001b[0m\u001b[0m\n",
            "\u001b[0;32m/usr/local/lib/python3.7/dist-packages/httpx/_client.py\u001b[0m in \u001b[0;36msend_single_request\u001b[0;34m(self, request, timeout)\u001b[0m\n\u001b[1;32m    717\u001b[0m                 \u001b[0mheaders\u001b[0m\u001b[0;34m=\u001b[0m\u001b[0mrequest\u001b[0m\u001b[0;34m.\u001b[0m\u001b[0mheaders\u001b[0m\u001b[0;34m.\u001b[0m\u001b[0mraw\u001b[0m\u001b[0;34m,\u001b[0m\u001b[0;34m\u001b[0m\u001b[0;34m\u001b[0m\u001b[0m\n\u001b[1;32m    718\u001b[0m                 \u001b[0mstream\u001b[0m\u001b[0;34m=\u001b[0m\u001b[0mrequest\u001b[0m\u001b[0;34m.\u001b[0m\u001b[0mstream\u001b[0m\u001b[0;34m,\u001b[0m\u001b[0;34m\u001b[0m\u001b[0;34m\u001b[0m\u001b[0m\n\u001b[0;32m--> 719\u001b[0;31m                 \u001b[0mtimeout\u001b[0m\u001b[0;34m=\u001b[0m\u001b[0mtimeout\u001b[0m\u001b[0;34m.\u001b[0m\u001b[0mas_dict\u001b[0m\u001b[0;34m(\u001b[0m\u001b[0;34m)\u001b[0m\u001b[0;34m,\u001b[0m\u001b[0;34m\u001b[0m\u001b[0;34m\u001b[0m\u001b[0m\n\u001b[0m\u001b[1;32m    720\u001b[0m             )\n\u001b[1;32m    721\u001b[0m         \u001b[0;32mexcept\u001b[0m \u001b[0mHTTPError\u001b[0m \u001b[0;32mas\u001b[0m \u001b[0mexc\u001b[0m\u001b[0;34m:\u001b[0m\u001b[0;34m\u001b[0m\u001b[0;34m\u001b[0m\u001b[0m\n",
            "\u001b[0;32m/usr/local/lib/python3.7/dist-packages/httpcore/_sync/connection_pool.py\u001b[0m in \u001b[0;36mrequest\u001b[0;34m(self, method, url, headers, stream, timeout)\u001b[0m\n\u001b[1;32m    151\u001b[0m             \u001b[0;32mtry\u001b[0m\u001b[0;34m:\u001b[0m\u001b[0;34m\u001b[0m\u001b[0;34m\u001b[0m\u001b[0m\n\u001b[1;32m    152\u001b[0m                 response = connection.request(\n\u001b[0;32m--> 153\u001b[0;31m                     \u001b[0mmethod\u001b[0m\u001b[0;34m,\u001b[0m \u001b[0murl\u001b[0m\u001b[0;34m,\u001b[0m \u001b[0mheaders\u001b[0m\u001b[0;34m=\u001b[0m\u001b[0mheaders\u001b[0m\u001b[0;34m,\u001b[0m \u001b[0mstream\u001b[0m\u001b[0;34m=\u001b[0m\u001b[0mstream\u001b[0m\u001b[0;34m,\u001b[0m \u001b[0mtimeout\u001b[0m\u001b[0;34m=\u001b[0m\u001b[0mtimeout\u001b[0m\u001b[0;34m\u001b[0m\u001b[0;34m\u001b[0m\u001b[0m\n\u001b[0m\u001b[1;32m    154\u001b[0m                 )\n\u001b[1;32m    155\u001b[0m             \u001b[0;32mexcept\u001b[0m \u001b[0mNewConnectionRequired\u001b[0m\u001b[0;34m:\u001b[0m\u001b[0;34m\u001b[0m\u001b[0;34m\u001b[0m\u001b[0m\n",
            "\u001b[0;32m/usr/local/lib/python3.7/dist-packages/httpcore/_sync/connection.py\u001b[0m in \u001b[0;36mrequest\u001b[0;34m(self, method, url, headers, stream, timeout)\u001b[0m\n\u001b[1;32m     76\u001b[0m             \u001b[0;34m\"connection.request method=%r url=%r headers=%r\"\u001b[0m\u001b[0;34m,\u001b[0m \u001b[0mmethod\u001b[0m\u001b[0;34m,\u001b[0m \u001b[0murl\u001b[0m\u001b[0;34m,\u001b[0m \u001b[0mheaders\u001b[0m\u001b[0;34m\u001b[0m\u001b[0;34m\u001b[0m\u001b[0m\n\u001b[1;32m     77\u001b[0m         )\n\u001b[0;32m---> 78\u001b[0;31m         \u001b[0;32mreturn\u001b[0m \u001b[0mself\u001b[0m\u001b[0;34m.\u001b[0m\u001b[0mconnection\u001b[0m\u001b[0;34m.\u001b[0m\u001b[0mrequest\u001b[0m\u001b[0;34m(\u001b[0m\u001b[0mmethod\u001b[0m\u001b[0;34m,\u001b[0m \u001b[0murl\u001b[0m\u001b[0;34m,\u001b[0m \u001b[0mheaders\u001b[0m\u001b[0;34m,\u001b[0m \u001b[0mstream\u001b[0m\u001b[0;34m,\u001b[0m \u001b[0mtimeout\u001b[0m\u001b[0;34m)\u001b[0m\u001b[0;34m\u001b[0m\u001b[0;34m\u001b[0m\u001b[0m\n\u001b[0m\u001b[1;32m     79\u001b[0m \u001b[0;34m\u001b[0m\u001b[0m\n\u001b[1;32m     80\u001b[0m     \u001b[0;32mdef\u001b[0m \u001b[0m_open_socket\u001b[0m\u001b[0;34m(\u001b[0m\u001b[0mself\u001b[0m\u001b[0;34m,\u001b[0m \u001b[0mtimeout\u001b[0m\u001b[0;34m:\u001b[0m \u001b[0mTimeoutDict\u001b[0m \u001b[0;34m=\u001b[0m \u001b[0;32mNone\u001b[0m\u001b[0;34m)\u001b[0m \u001b[0;34m->\u001b[0m \u001b[0mSyncSocketStream\u001b[0m\u001b[0;34m:\u001b[0m\u001b[0;34m\u001b[0m\u001b[0;34m\u001b[0m\u001b[0m\n",
            "\u001b[0;32m/usr/local/lib/python3.7/dist-packages/httpcore/_sync/http2.py\u001b[0m in \u001b[0;36mrequest\u001b[0;34m(self, method, url, headers, stream, timeout)\u001b[0m\n\u001b[1;32m    116\u001b[0m             \u001b[0mself\u001b[0m\u001b[0;34m.\u001b[0m\u001b[0mstreams\u001b[0m\u001b[0;34m[\u001b[0m\u001b[0mstream_id\u001b[0m\u001b[0;34m]\u001b[0m \u001b[0;34m=\u001b[0m \u001b[0mh2_stream\u001b[0m\u001b[0;34m\u001b[0m\u001b[0;34m\u001b[0m\u001b[0m\n\u001b[1;32m    117\u001b[0m             \u001b[0mself\u001b[0m\u001b[0;34m.\u001b[0m\u001b[0mevents\u001b[0m\u001b[0;34m[\u001b[0m\u001b[0mstream_id\u001b[0m\u001b[0;34m]\u001b[0m \u001b[0;34m=\u001b[0m \u001b[0;34m[\u001b[0m\u001b[0;34m]\u001b[0m\u001b[0;34m\u001b[0m\u001b[0;34m\u001b[0m\u001b[0m\n\u001b[0;32m--> 118\u001b[0;31m             \u001b[0;32mreturn\u001b[0m \u001b[0mh2_stream\u001b[0m\u001b[0;34m.\u001b[0m\u001b[0mrequest\u001b[0m\u001b[0;34m(\u001b[0m\u001b[0mmethod\u001b[0m\u001b[0;34m,\u001b[0m \u001b[0murl\u001b[0m\u001b[0;34m,\u001b[0m \u001b[0mheaders\u001b[0m\u001b[0;34m,\u001b[0m \u001b[0mstream\u001b[0m\u001b[0;34m,\u001b[0m \u001b[0mtimeout\u001b[0m\u001b[0;34m)\u001b[0m\u001b[0;34m\u001b[0m\u001b[0;34m\u001b[0m\u001b[0m\n\u001b[0m\u001b[1;32m    119\u001b[0m         \u001b[0;32mexcept\u001b[0m \u001b[0mException\u001b[0m\u001b[0;34m:\u001b[0m\u001b[0;34m\u001b[0m\u001b[0;34m\u001b[0m\u001b[0m\n\u001b[1;32m    120\u001b[0m             \u001b[0mself\u001b[0m\u001b[0;34m.\u001b[0m\u001b[0mmax_streams_semaphore\u001b[0m\u001b[0;34m.\u001b[0m\u001b[0mrelease\u001b[0m\u001b[0;34m(\u001b[0m\u001b[0;34m)\u001b[0m\u001b[0;34m\u001b[0m\u001b[0;34m\u001b[0m\u001b[0m\n",
            "\u001b[0;32m/usr/local/lib/python3.7/dist-packages/httpcore/_sync/http2.py\u001b[0m in \u001b[0;36mrequest\u001b[0;34m(self, method, url, headers, stream, timeout)\u001b[0m\n\u001b[1;32m    290\u001b[0m \u001b[0;34m\u001b[0m\u001b[0m\n\u001b[1;32m    291\u001b[0m         \u001b[0;31m# Receive the response.\u001b[0m\u001b[0;34m\u001b[0m\u001b[0;34m\u001b[0m\u001b[0;34m\u001b[0m\u001b[0m\n\u001b[0;32m--> 292\u001b[0;31m         \u001b[0mstatus_code\u001b[0m\u001b[0;34m,\u001b[0m \u001b[0mheaders\u001b[0m \u001b[0;34m=\u001b[0m \u001b[0mself\u001b[0m\u001b[0;34m.\u001b[0m\u001b[0mreceive_response\u001b[0m\u001b[0;34m(\u001b[0m\u001b[0mtimeout\u001b[0m\u001b[0;34m)\u001b[0m\u001b[0;34m\u001b[0m\u001b[0;34m\u001b[0m\u001b[0m\n\u001b[0m\u001b[1;32m    293\u001b[0m         \u001b[0mreason_phrase\u001b[0m \u001b[0;34m=\u001b[0m \u001b[0mget_reason_phrase\u001b[0m\u001b[0;34m(\u001b[0m\u001b[0mstatus_code\u001b[0m\u001b[0;34m)\u001b[0m\u001b[0;34m\u001b[0m\u001b[0;34m\u001b[0m\u001b[0m\n\u001b[1;32m    294\u001b[0m         stream = SyncByteStream(\n",
            "\u001b[0;32m/usr/local/lib/python3.7/dist-packages/httpcore/_sync/http2.py\u001b[0m in \u001b[0;36mreceive_response\u001b[0;34m(self, timeout)\u001b[0m\n\u001b[1;32m    342\u001b[0m         \"\"\"\n\u001b[1;32m    343\u001b[0m         \u001b[0;32mwhile\u001b[0m \u001b[0;32mTrue\u001b[0m\u001b[0;34m:\u001b[0m\u001b[0;34m\u001b[0m\u001b[0;34m\u001b[0m\u001b[0m\n\u001b[0;32m--> 344\u001b[0;31m             \u001b[0mevent\u001b[0m \u001b[0;34m=\u001b[0m \u001b[0mself\u001b[0m\u001b[0;34m.\u001b[0m\u001b[0mconnection\u001b[0m\u001b[0;34m.\u001b[0m\u001b[0mwait_for_event\u001b[0m\u001b[0;34m(\u001b[0m\u001b[0mself\u001b[0m\u001b[0;34m.\u001b[0m\u001b[0mstream_id\u001b[0m\u001b[0;34m,\u001b[0m \u001b[0mtimeout\u001b[0m\u001b[0;34m)\u001b[0m\u001b[0;34m\u001b[0m\u001b[0;34m\u001b[0m\u001b[0m\n\u001b[0m\u001b[1;32m    345\u001b[0m             \u001b[0;32mif\u001b[0m \u001b[0misinstance\u001b[0m\u001b[0;34m(\u001b[0m\u001b[0mevent\u001b[0m\u001b[0;34m,\u001b[0m \u001b[0mh2\u001b[0m\u001b[0;34m.\u001b[0m\u001b[0mevents\u001b[0m\u001b[0;34m.\u001b[0m\u001b[0mResponseReceived\u001b[0m\u001b[0;34m)\u001b[0m\u001b[0;34m:\u001b[0m\u001b[0;34m\u001b[0m\u001b[0;34m\u001b[0m\u001b[0m\n\u001b[1;32m    346\u001b[0m                 \u001b[0;32mbreak\u001b[0m\u001b[0;34m\u001b[0m\u001b[0;34m\u001b[0m\u001b[0m\n",
            "\u001b[0;32m/usr/local/lib/python3.7/dist-packages/httpcore/_sync/http2.py\u001b[0m in \u001b[0;36mwait_for_event\u001b[0;34m(self, stream_id, timeout)\u001b[0m\n\u001b[1;32m    195\u001b[0m         \u001b[0;32mwith\u001b[0m \u001b[0mself\u001b[0m\u001b[0;34m.\u001b[0m\u001b[0mread_lock\u001b[0m\u001b[0;34m:\u001b[0m\u001b[0;34m\u001b[0m\u001b[0;34m\u001b[0m\u001b[0m\n\u001b[1;32m    196\u001b[0m             \u001b[0;32mwhile\u001b[0m \u001b[0;32mnot\u001b[0m \u001b[0mself\u001b[0m\u001b[0;34m.\u001b[0m\u001b[0mevents\u001b[0m\u001b[0;34m[\u001b[0m\u001b[0mstream_id\u001b[0m\u001b[0;34m]\u001b[0m\u001b[0;34m:\u001b[0m\u001b[0;34m\u001b[0m\u001b[0;34m\u001b[0m\u001b[0m\n\u001b[0;32m--> 197\u001b[0;31m                 \u001b[0mself\u001b[0m\u001b[0;34m.\u001b[0m\u001b[0mreceive_events\u001b[0m\u001b[0;34m(\u001b[0m\u001b[0mtimeout\u001b[0m\u001b[0;34m)\u001b[0m\u001b[0;34m\u001b[0m\u001b[0;34m\u001b[0m\u001b[0m\n\u001b[0m\u001b[1;32m    198\u001b[0m         \u001b[0;32mreturn\u001b[0m \u001b[0mself\u001b[0m\u001b[0;34m.\u001b[0m\u001b[0mevents\u001b[0m\u001b[0;34m[\u001b[0m\u001b[0mstream_id\u001b[0m\u001b[0;34m]\u001b[0m\u001b[0;34m.\u001b[0m\u001b[0mpop\u001b[0m\u001b[0;34m(\u001b[0m\u001b[0;36m0\u001b[0m\u001b[0;34m)\u001b[0m\u001b[0;34m\u001b[0m\u001b[0;34m\u001b[0m\u001b[0m\n\u001b[1;32m    199\u001b[0m \u001b[0;34m\u001b[0m\u001b[0m\n",
            "\u001b[0;32m/usr/local/lib/python3.7/dist-packages/httpcore/_sync/http2.py\u001b[0m in \u001b[0;36mreceive_events\u001b[0;34m(self, timeout)\u001b[0m\n\u001b[1;32m    202\u001b[0m         \u001b[0mRead\u001b[0m \u001b[0msome\u001b[0m \u001b[0mdata\u001b[0m \u001b[0;32mfrom\u001b[0m \u001b[0mthe\u001b[0m \u001b[0mnetwork\u001b[0m\u001b[0;34m,\u001b[0m \u001b[0;32mand\u001b[0m \u001b[0mupdate\u001b[0m \u001b[0mthe\u001b[0m \u001b[0mH2\u001b[0m \u001b[0mstate\u001b[0m\u001b[0;34m.\u001b[0m\u001b[0;34m\u001b[0m\u001b[0;34m\u001b[0m\u001b[0m\n\u001b[1;32m    203\u001b[0m         \"\"\"\n\u001b[0;32m--> 204\u001b[0;31m         \u001b[0mdata\u001b[0m \u001b[0;34m=\u001b[0m \u001b[0mself\u001b[0m\u001b[0;34m.\u001b[0m\u001b[0msocket\u001b[0m\u001b[0;34m.\u001b[0m\u001b[0mread\u001b[0m\u001b[0;34m(\u001b[0m\u001b[0mself\u001b[0m\u001b[0;34m.\u001b[0m\u001b[0mREAD_NUM_BYTES\u001b[0m\u001b[0;34m,\u001b[0m \u001b[0mtimeout\u001b[0m\u001b[0;34m)\u001b[0m\u001b[0;34m\u001b[0m\u001b[0;34m\u001b[0m\u001b[0m\n\u001b[0m\u001b[1;32m    205\u001b[0m         \u001b[0mevents\u001b[0m \u001b[0;34m=\u001b[0m \u001b[0mself\u001b[0m\u001b[0;34m.\u001b[0m\u001b[0mh2_state\u001b[0m\u001b[0;34m.\u001b[0m\u001b[0mreceive_data\u001b[0m\u001b[0;34m(\u001b[0m\u001b[0mdata\u001b[0m\u001b[0;34m)\u001b[0m\u001b[0;34m\u001b[0m\u001b[0;34m\u001b[0m\u001b[0m\n\u001b[1;32m    206\u001b[0m         \u001b[0;32mfor\u001b[0m \u001b[0mevent\u001b[0m \u001b[0;32min\u001b[0m \u001b[0mevents\u001b[0m\u001b[0;34m:\u001b[0m\u001b[0;34m\u001b[0m\u001b[0;34m\u001b[0m\u001b[0m\n",
            "\u001b[0;32m/usr/local/lib/python3.7/dist-packages/httpcore/_backends/sync.py\u001b[0m in \u001b[0;36mread\u001b[0;34m(self, n, timeout)\u001b[0m\n\u001b[1;32m     60\u001b[0m             \u001b[0;32mwith\u001b[0m \u001b[0mmap_exceptions\u001b[0m\u001b[0;34m(\u001b[0m\u001b[0mexc_map\u001b[0m\u001b[0;34m)\u001b[0m\u001b[0;34m:\u001b[0m\u001b[0;34m\u001b[0m\u001b[0;34m\u001b[0m\u001b[0m\n\u001b[1;32m     61\u001b[0m                 \u001b[0mself\u001b[0m\u001b[0;34m.\u001b[0m\u001b[0msock\u001b[0m\u001b[0;34m.\u001b[0m\u001b[0msettimeout\u001b[0m\u001b[0;34m(\u001b[0m\u001b[0mread_timeout\u001b[0m\u001b[0;34m)\u001b[0m\u001b[0;34m\u001b[0m\u001b[0;34m\u001b[0m\u001b[0m\n\u001b[0;32m---> 62\u001b[0;31m                 \u001b[0;32mreturn\u001b[0m \u001b[0mself\u001b[0m\u001b[0;34m.\u001b[0m\u001b[0msock\u001b[0m\u001b[0;34m.\u001b[0m\u001b[0mrecv\u001b[0m\u001b[0;34m(\u001b[0m\u001b[0mn\u001b[0m\u001b[0;34m)\u001b[0m\u001b[0;34m\u001b[0m\u001b[0;34m\u001b[0m\u001b[0m\n\u001b[0m\u001b[1;32m     63\u001b[0m \u001b[0;34m\u001b[0m\u001b[0m\n\u001b[1;32m     64\u001b[0m     \u001b[0;32mdef\u001b[0m \u001b[0mwrite\u001b[0m\u001b[0;34m(\u001b[0m\u001b[0mself\u001b[0m\u001b[0;34m,\u001b[0m \u001b[0mdata\u001b[0m\u001b[0;34m:\u001b[0m \u001b[0mbytes\u001b[0m\u001b[0;34m,\u001b[0m \u001b[0mtimeout\u001b[0m\u001b[0;34m:\u001b[0m \u001b[0mTimeoutDict\u001b[0m\u001b[0;34m)\u001b[0m \u001b[0;34m->\u001b[0m \u001b[0;32mNone\u001b[0m\u001b[0;34m:\u001b[0m\u001b[0;34m\u001b[0m\u001b[0;34m\u001b[0m\u001b[0m\n",
            "\u001b[0;32m/usr/lib/python3.7/ssl.py\u001b[0m in \u001b[0;36mrecv\u001b[0;34m(self, buflen, flags)\u001b[0m\n\u001b[1;32m   1054\u001b[0m                     \u001b[0;34m\"non-zero flags not allowed in calls to recv() on %s\"\u001b[0m \u001b[0;34m%\u001b[0m\u001b[0;34m\u001b[0m\u001b[0;34m\u001b[0m\u001b[0m\n\u001b[1;32m   1055\u001b[0m                     self.__class__)\n\u001b[0;32m-> 1056\u001b[0;31m             \u001b[0;32mreturn\u001b[0m \u001b[0mself\u001b[0m\u001b[0;34m.\u001b[0m\u001b[0mread\u001b[0m\u001b[0;34m(\u001b[0m\u001b[0mbuflen\u001b[0m\u001b[0;34m)\u001b[0m\u001b[0;34m\u001b[0m\u001b[0;34m\u001b[0m\u001b[0m\n\u001b[0m\u001b[1;32m   1057\u001b[0m         \u001b[0;32melse\u001b[0m\u001b[0;34m:\u001b[0m\u001b[0;34m\u001b[0m\u001b[0;34m\u001b[0m\u001b[0m\n\u001b[1;32m   1058\u001b[0m             \u001b[0;32mreturn\u001b[0m \u001b[0msuper\u001b[0m\u001b[0;34m(\u001b[0m\u001b[0;34m)\u001b[0m\u001b[0;34m.\u001b[0m\u001b[0mrecv\u001b[0m\u001b[0;34m(\u001b[0m\u001b[0mbuflen\u001b[0m\u001b[0;34m,\u001b[0m \u001b[0mflags\u001b[0m\u001b[0;34m)\u001b[0m\u001b[0;34m\u001b[0m\u001b[0;34m\u001b[0m\u001b[0m\n",
            "\u001b[0;32m/usr/lib/python3.7/ssl.py\u001b[0m in \u001b[0;36mread\u001b[0;34m(self, len, buffer)\u001b[0m\n\u001b[1;32m    929\u001b[0m                 \u001b[0;32mreturn\u001b[0m \u001b[0mself\u001b[0m\u001b[0;34m.\u001b[0m\u001b[0m_sslobj\u001b[0m\u001b[0;34m.\u001b[0m\u001b[0mread\u001b[0m\u001b[0;34m(\u001b[0m\u001b[0mlen\u001b[0m\u001b[0;34m,\u001b[0m \u001b[0mbuffer\u001b[0m\u001b[0;34m)\u001b[0m\u001b[0;34m\u001b[0m\u001b[0;34m\u001b[0m\u001b[0m\n\u001b[1;32m    930\u001b[0m             \u001b[0;32melse\u001b[0m\u001b[0;34m:\u001b[0m\u001b[0;34m\u001b[0m\u001b[0;34m\u001b[0m\u001b[0m\n\u001b[0;32m--> 931\u001b[0;31m                 \u001b[0;32mreturn\u001b[0m \u001b[0mself\u001b[0m\u001b[0;34m.\u001b[0m\u001b[0m_sslobj\u001b[0m\u001b[0;34m.\u001b[0m\u001b[0mread\u001b[0m\u001b[0;34m(\u001b[0m\u001b[0mlen\u001b[0m\u001b[0;34m)\u001b[0m\u001b[0;34m\u001b[0m\u001b[0;34m\u001b[0m\u001b[0m\n\u001b[0m\u001b[1;32m    932\u001b[0m         \u001b[0;32mexcept\u001b[0m \u001b[0mSSLError\u001b[0m \u001b[0;32mas\u001b[0m \u001b[0mx\u001b[0m\u001b[0;34m:\u001b[0m\u001b[0;34m\u001b[0m\u001b[0;34m\u001b[0m\u001b[0m\n\u001b[1;32m    933\u001b[0m             \u001b[0;32mif\u001b[0m \u001b[0mx\u001b[0m\u001b[0;34m.\u001b[0m\u001b[0margs\u001b[0m\u001b[0;34m[\u001b[0m\u001b[0;36m0\u001b[0m\u001b[0;34m]\u001b[0m \u001b[0;34m==\u001b[0m \u001b[0mSSL_ERROR_EOF\u001b[0m \u001b[0;32mand\u001b[0m \u001b[0mself\u001b[0m\u001b[0;34m.\u001b[0m\u001b[0msuppress_ragged_eofs\u001b[0m\u001b[0;34m:\u001b[0m\u001b[0;34m\u001b[0m\u001b[0;34m\u001b[0m\u001b[0m\n",
            "\u001b[0;31mKeyboardInterrupt\u001b[0m: "
          ]
        }
      ]
    },
    {
      "cell_type": "code",
      "metadata": {
        "colab": {
          "base_uri": "https://localhost:8080/",
          "height": 168,
          "referenced_widgets": [
            "704a81afaaa943998b410a181c00f5f5",
            "0cadb79ddf224889a5f875e5e24b49ad",
            "12797e88afb349dcb7794bef54b73d6a",
            "7cb864cf2006468c9a05f0b22c5ca12e",
            "a407aa7844b34babb991238b56aea828",
            "0c35633506a846838130a181064fc24b",
            "1a7b630280a543a880a080364d1239bf",
            "daa2ed7bcfe94120b2fe21f9a894c70b"
          ]
        },
        "id": "e1PjZ1RYxiW1",
        "outputId": "43d8af06-ca7b-4117-f4d8-c4767e9ff778"
      },
      "source": [
        "test_data['Translate'] = test_data['content'].progress_apply(translate)"
      ],
      "execution_count": null,
      "outputs": [
        {
          "output_type": "display_data",
          "data": {
            "application/vnd.jupyter.widget-view+json": {
              "model_id": "704a81afaaa943998b410a181c00f5f5",
              "version_minor": 0,
              "version_major": 2
            },
            "text/plain": [
              "HBox(children=(FloatProgress(value=0.0, max=9126.0), HTML(value='')))"
            ]
          },
          "metadata": {
            "tags": []
          }
        },
        {
          "output_type": "stream",
          "text": [
            "\n"
          ],
          "name": "stdout"
        },
        {
          "output_type": "stream",
          "text": [
            "/usr/local/lib/python3.7/dist-packages/ipykernel_launcher.py:1: SettingWithCopyWarning: \n",
            "A value is trying to be set on a copy of a slice from a DataFrame.\n",
            "Try using .loc[row_indexer,col_indexer] = value instead\n",
            "\n",
            "See the caveats in the documentation: https://pandas.pydata.org/pandas-docs/stable/user_guide/indexing.html#returning-a-view-versus-a-copy\n",
            "  \"\"\"Entry point for launching an IPython kernel.\n"
          ],
          "name": "stderr"
        }
      ]
    },
    {
      "cell_type": "code",
      "metadata": {
        "id": "9_oDuEdW2pOz"
      },
      "source": [
        "combined_data.to_json(r'train.json')\n",
        "test_data.to_json(r'train.json')"
      ],
      "execution_count": 45,
      "outputs": []
    },
    {
      "cell_type": "code",
      "metadata": {
        "id": "f7uSrZn7gmtJ"
      },
      "source": [
        "train_dataset = pd.read_json (r'train.json')\n",
        "test_dataset = pd.read_json (r'test.json')"
      ],
      "execution_count": 54,
      "outputs": []
    },
    {
      "cell_type": "code",
      "metadata": {
        "colab": {
          "base_uri": "https://localhost:8080/",
          "height": 191
        },
        "id": "bXylIG2X4HJ8",
        "outputId": "4eea6e1d-1729-4858-9776-a8d9422bea7d"
      },
      "source": [
        "train_dataset.head()"
      ],
      "execution_count": 55,
      "outputs": [
        {
          "output_type": "execute_result",
          "data": {
            "text/html": [
              "<div>\n",
              "<style scoped>\n",
              "    .dataframe tbody tr th:only-of-type {\n",
              "        vertical-align: middle;\n",
              "    }\n",
              "\n",
              "    .dataframe tbody tr th {\n",
              "        vertical-align: top;\n",
              "    }\n",
              "\n",
              "    .dataframe thead th {\n",
              "        text-align: right;\n",
              "    }\n",
              "</style>\n",
              "<table border=\"1\" class=\"dataframe\">\n",
              "  <thead>\n",
              "    <tr style=\"text-align: right;\">\n",
              "      <th></th>\n",
              "      <th>content</th>\n",
              "      <th>label</th>\n",
              "      <th>tokens</th>\n",
              "    </tr>\n",
              "  </thead>\n",
              "  <tbody>\n",
              "    <tr>\n",
              "      <th>0</th>\n",
              "      <td>Advertising.\\n This is basically a feel-good b...</td>\n",
              "      <td>1</td>\n",
              "      <td>[advertising, basically, feel, good, brochure,...</td>\n",
              "    </tr>\n",
              "    <tr>\n",
              "      <th>1</th>\n",
              "      <td>Cant Read BluRay.\\n Unfortunately, unable to p...</td>\n",
              "      <td>1</td>\n",
              "      <td>[nt, read, bluray, unfortunately, unable, play...</td>\n",
              "    </tr>\n",
              "    <tr>\n",
              "      <th>2</th>\n",
              "      <td>Good while it lasted...for a minute.\\n This TV...</td>\n",
              "      <td>1</td>\n",
              "      <td>[good, in., minute, tv, vcr, combo, work, pret...</td>\n",
              "    </tr>\n",
              "    <tr>\n",
              "      <th>3</th>\n",
              "      <td>Didn't get the movie only an empty case..\\n I ...</td>\n",
              "      <td>1</td>\n",
              "      <td>[movie, case, in., like, like, movie, movie, m...</td>\n",
              "    </tr>\n",
              "    <tr>\n",
              "      <th>4</th>\n",
              "      <td>No BluRay in case.\\n I bought this to watch wi...</td>\n",
              "      <td>1</td>\n",
              "      <td>[bluray, case, buy, watch, family, christmas, ...</td>\n",
              "    </tr>\n",
              "  </tbody>\n",
              "</table>\n",
              "</div>"
            ],
            "text/plain": [
              "                                             content  ...                                             tokens\n",
              "0  Advertising.\\n This is basically a feel-good b...  ...  [advertising, basically, feel, good, brochure,...\n",
              "1  Cant Read BluRay.\\n Unfortunately, unable to p...  ...  [nt, read, bluray, unfortunately, unable, play...\n",
              "2  Good while it lasted...for a minute.\\n This TV...  ...  [good, in., minute, tv, vcr, combo, work, pret...\n",
              "3  Didn't get the movie only an empty case..\\n I ...  ...  [movie, case, in., like, like, movie, movie, m...\n",
              "4  No BluRay in case.\\n I bought this to watch wi...  ...  [bluray, case, buy, watch, family, christmas, ...\n",
              "\n",
              "[5 rows x 3 columns]"
            ]
          },
          "metadata": {
            "tags": []
          },
          "execution_count": 55
        }
      ]
    },
    {
      "cell_type": "code",
      "metadata": {
        "colab": {
          "base_uri": "https://localhost:8080/",
          "height": 272
        },
        "id": "Cp8QcFxJ4KXL",
        "outputId": "b0948b7f-4132-46da-c37c-0d6c5b00e796"
      },
      "source": [
        "test_dataset.head()"
      ],
      "execution_count": 56,
      "outputs": [
        {
          "output_type": "execute_result",
          "data": {
            "text/html": [
              "<div>\n",
              "<style scoped>\n",
              "    .dataframe tbody tr th:only-of-type {\n",
              "        vertical-align: middle;\n",
              "    }\n",
              "\n",
              "    .dataframe tbody tr th {\n",
              "        vertical-align: top;\n",
              "    }\n",
              "\n",
              "    .dataframe thead th {\n",
              "        text-align: right;\n",
              "    }\n",
              "</style>\n",
              "<table border=\"1\" class=\"dataframe\">\n",
              "  <thead>\n",
              "    <tr style=\"text-align: right;\">\n",
              "      <th></th>\n",
              "      <th>product_id</th>\n",
              "      <th>generic_product</th>\n",
              "      <th>content</th>\n",
              "      <th>label</th>\n",
              "      <th>Translate</th>\n",
              "    </tr>\n",
              "  </thead>\n",
              "  <tbody>\n",
              "    <tr>\n",
              "      <th>0</th>\n",
              "      <td>B07NF3K74H</td>\n",
              "      <td>Router</td>\n",
              "      <td>If you frequently lose power or ISP regularly ...</td>\n",
              "      <td>1</td>\n",
              "      <td>If you frequently lose power or ISP regularly ...</td>\n",
              "    </tr>\n",
              "    <tr>\n",
              "      <th>1</th>\n",
              "      <td>B086GPHS71</td>\n",
              "      <td>Headphones</td>\n",
              "      <td>Uncomfortable and poor mic.\\n This is the four...</td>\n",
              "      <td>1</td>\n",
              "      <td>Uncomfortable and poor mic.\\n This is the four...</td>\n",
              "    </tr>\n",
              "    <tr>\n",
              "      <th>2</th>\n",
              "      <td>B082VY2RMY</td>\n",
              "      <td>Printer</td>\n",
              "      <td>Worst Printer Ever Made.\\n Spent 3 hours with ...</td>\n",
              "      <td>1</td>\n",
              "      <td>Worst Printer Ever Made.\\n Spent 3 hours with ...</td>\n",
              "    </tr>\n",
              "    <tr>\n",
              "      <th>3</th>\n",
              "      <td>B08R6GQKDR</td>\n",
              "      <td>Smartphone</td>\n",
              "      <td>This is T-MOBILE optimized phone. Better than ...</td>\n",
              "      <td>2</td>\n",
              "      <td>This is T-MOBILE optimized phone. Better than ...</td>\n",
              "    </tr>\n",
              "    <tr>\n",
              "      <th>4</th>\n",
              "      <td>B000J1FABY</td>\n",
              "      <td>Speaker</td>\n",
              "      <td>Good quality sound for the price.\\n I installe...</td>\n",
              "      <td>2</td>\n",
              "      <td>Good quality sound for the price.\\n I installe...</td>\n",
              "    </tr>\n",
              "  </tbody>\n",
              "</table>\n",
              "</div>"
            ],
            "text/plain": [
              "   product_id  ...                                          Translate\n",
              "0  B07NF3K74H  ...  If you frequently lose power or ISP regularly ...\n",
              "1  B086GPHS71  ...  Uncomfortable and poor mic.\\n This is the four...\n",
              "2  B082VY2RMY  ...  Worst Printer Ever Made.\\n Spent 3 hours with ...\n",
              "3  B08R6GQKDR  ...  This is T-MOBILE optimized phone. Better than ...\n",
              "4  B000J1FABY  ...  Good quality sound for the price.\\n I installe...\n",
              "\n",
              "[5 rows x 5 columns]"
            ]
          },
          "metadata": {
            "tags": []
          },
          "execution_count": 56
        }
      ]
    },
    {
      "cell_type": "markdown",
      "metadata": {
        "id": "hksF0tfAjC-E"
      },
      "source": [
        "Feature Extraction\n",
        "- Vectorizing text using Term Frequency technique (Term Frequency(TF) — Inverse Dense Frequency(IDF))\n",
        "\n",
        "- Tokenize with our preprocess_and_tokenize\n",
        "- Find it’s TF = (Number of repetitions of word in a document) / (# of words in a document)\n",
        "IDF = log(# of documents / # of documents containing the word)"
      ]
    },
    {
      "cell_type": "code",
      "metadata": {
        "colab": {
          "base_uri": "https://localhost:8080/"
        },
        "id": "eNPHPSRChFxt",
        "outputId": "d8e1252a-9d2e-4f49-a822-5bc9d3918df8"
      },
      "source": [
        "x_train, x_val, y_train, y_val = train_test_split(train_dataset['content'], train_dataset['label'], test_size = 0.2, random_state = 42)\n",
        "x_train.shape, x_val.shape"
      ],
      "execution_count": 57,
      "outputs": [
        {
          "output_type": "execute_result",
          "data": {
            "text/plain": [
              "((24810,), (6203,))"
            ]
          },
          "metadata": {
            "tags": []
          },
          "execution_count": 57
        }
      ]
    },
    {
      "cell_type": "code",
      "metadata": {
        "id": "7eNRA7grjBQ7"
      },
      "source": [
        "def plot_confusion_matrix(y_true, y_pred, classes,\n",
        "                          normalize=False,\n",
        "                          title=None,\n",
        "                          cmap=plt.cm.Blues):\n",
        "    '''\n",
        "    This function prints and plots the confusion matrix.\n",
        "    Normalization can be applied by setting `normalize=True`.\n",
        "    '''\n",
        "    if not title:\n",
        "        if normalize:\n",
        "            title = 'Normalized confusion matrix'\n",
        "        else:\n",
        "            title = 'Confusion matrix, without normalization'\n",
        "\n",
        "    # Compute confusion matrix\n",
        "    cm = confusion_matrix(y_true, y_pred)\n",
        "\n",
        "    if normalize:\n",
        "        cm = cm.astype('float') / cm.sum(axis=1)[:, np.newaxis]\n",
        "\n",
        "    fig, ax = plt.subplots()\n",
        "    \n",
        "    # Set size\n",
        "    fig.set_size_inches(12.5, 7.5)\n",
        "    im = ax.imshow(cm, interpolation='nearest', cmap=cmap)\n",
        "    ax.figure.colorbar(im, ax=ax)\n",
        "    ax.grid(False)\n",
        "    \n",
        "    # We want to show all ticks...\n",
        "    ax.set(xticks=np.arange(cm.shape[1]),\n",
        "           yticks=np.arange(cm.shape[0]),\n",
        "           # ... and label them with the respective list entries\n",
        "           xticklabels=classes, yticklabels=classes,\n",
        "           title=title,\n",
        "           ylabel='True label',\n",
        "           xlabel='Predicted label')\n",
        "\n",
        "    # Rotate the tick labels and set their alignment.\n",
        "    plt.setp(ax.get_xticklabels(), rotation=45, ha=\"right\",\n",
        "             rotation_mode=\"anchor\")\n",
        "\n",
        "    # Loop over data dimensions and create text annotations.\n",
        "    fmt = '.2f' if normalize else 'd'\n",
        "    thresh = cm.max() / 2.\n",
        "    for i in range(cm.shape[0]):\n",
        "        for j in range(cm.shape[1]):\n",
        "            ax.text(j, i, format(cm[i, j], fmt),\n",
        "                    ha=\"center\", va=\"center\",\n",
        "                    color=\"white\" if cm[i, j] > thresh else \"black\")\n",
        "    fig.tight_layout()\n",
        "    return ax"
      ],
      "execution_count": 58,
      "outputs": []
    },
    {
      "cell_type": "code",
      "metadata": {
        "colab": {
          "base_uri": "https://localhost:8080/"
        },
        "id": "2knuq99ljVna",
        "outputId": "70aacb97-51f8-4d12-de8e-371c90eb7791"
      },
      "source": [
        "from sklearn.model_selection import train_test_split\n",
        "from sklearn.metrics import accuracy_score, f1_score, confusion_matrix\n",
        "\n",
        "# feature extraction / vectorization\n",
        "from sklearn.feature_extraction.text import TfidfVectorizer\n",
        "\n",
        "# classifiers\n",
        "from sklearn.naive_bayes import MultinomialNB\n",
        "from sklearn.linear_model import LogisticRegression\n",
        "from sklearn.ensemble import RandomForestClassifier\n",
        "from sklearn.svm import LinearSVC\n",
        "from sklearn.pipeline import Pipeline\n",
        "\n",
        "%time \n",
        "\n",
        "docs = train_dataset.tokens.to_list()\n",
        "\n",
        "# TFIDF, unigrams and bigrams\n",
        "vect = TfidfVectorizer(\n",
        "    analyzer='word',\n",
        "    tokenizer=dummy_fun,\n",
        "    preprocessor=dummy_fun,\n",
        "    token_pattern=None)  \n",
        "\n",
        "# fit on our complete corpus\n",
        "vect.fit_transform(docs)\n",
        "\n",
        "# transform testing and training datasets to vectors\n",
        "X_train_vect = vect.transform(x_train)\n",
        "X_val_vect = vect.transform(x_val)\n"
      ],
      "execution_count": 59,
      "outputs": [
        {
          "output_type": "stream",
          "text": [
            "CPU times: user 3 µs, sys: 0 ns, total: 3 µs\n",
            "Wall time: 5.25 µs\n"
          ],
          "name": "stdout"
        }
      ]
    },
    {
      "cell_type": "markdown",
      "metadata": {
        "id": "OhTzeOMhpOxj"
      },
      "source": [
        "####Multinominal Naive Bayes classifiers"
      ]
    },
    {
      "cell_type": "code",
      "metadata": {
        "colab": {
          "base_uri": "https://localhost:8080/",
          "height": 841
        },
        "id": "Lv0h_b16nhmh",
        "outputId": "acc80ad5-e6c8-4eb5-a37b-414e7519510a"
      },
      "source": [
        "import timeit\n",
        "\n",
        "class_names = ['positive', 'negative']\n",
        "%time\n",
        "nb = MultinomialNB()\n",
        "\n",
        "Multi_NB = Pipeline([('tfidf', vect), ('clf', nb)])\n",
        "Multi_NB.fit(x_train, y_train)\n",
        "\n",
        "ynb_pred = Multi_NB.predict(x_val)\n",
        "\n",
        "print(\"Accuracy: {:.2f}%\".format(accuracy_score(y_val, ynb_pred) * 100))\n",
        "print(\"\\nF1 Score: {:.2f}\".format(f1_score(y_val, ynb_pred, average='micro') * 100))\n",
        "print(\"\\nCOnfusion Matrix:\\n\", confusion_matrix(y_val, ynb_pred))\n",
        "\n",
        "# Plot normalized confusion matrix\n",
        "plot_confusion_matrix(y_val, ynb_pred, classes=class_names, normalize=True, title='Normalized confusion matrix')\n",
        "plt.show()\n",
        "\n",
        "print(metrics.classification_report(y_val, ynb_pred,\n",
        "                                            target_names=['Positive', 'Negative']))"
      ],
      "execution_count": 61,
      "outputs": [
        {
          "output_type": "stream",
          "text": [
            "CPU times: user 3 µs, sys: 1e+03 ns, total: 4 µs\n",
            "Wall time: 5.96 µs\n",
            "Accuracy: 57.84%\n",
            "\n",
            "F1 Score: 57.84\n",
            "\n",
            "COnfusion Matrix:\n",
            " [[ 761 2358]\n",
            " [ 257 2827]]\n"
          ],
          "name": "stdout"
        },
        {
          "output_type": "display_data",
          "data": {
            "image/png": "[encoded data removed]",
            "text/plain": [
              "<Figure size 900x540 with 2 Axes>"
            ]
          },
          "metadata": {
            "tags": [],
            "needs_background": "light"
          }
        },
        {
          "output_type": "stream",
          "text": [
            "              precision    recall  f1-score   support\n",
            "\n",
            "    Positive       0.75      0.24      0.37      3119\n",
            "    Negative       0.55      0.92      0.68      3084\n",
            "\n",
            "    accuracy                           0.58      6203\n",
            "   macro avg       0.65      0.58      0.53      6203\n",
            "weighted avg       0.65      0.58      0.52      6203\n",
            "\n"
          ],
          "name": "stdout"
        }
      ]
    },
    {
      "cell_type": "markdown",
      "metadata": {
        "id": "hFOGLDHNplhB"
      },
      "source": [
        "#### Random Forest Classifier"
      ]
    },
    {
      "cell_type": "code",
      "metadata": {
        "colab": {
          "base_uri": "https://localhost:8080/",
          "height": 808
        },
        "id": "6J7SkTnLoZxY",
        "outputId": "bb528ba9-ebf0-46c2-b7ea-eae96dbcd8c4"
      },
      "source": [
        "rf = RandomForestClassifier(n_estimators=100)\n",
        "\n",
        "RF = Pipeline([('tfidf', vect), ('clf', rf)])\n",
        "RF.fit(x_train, y_train)\n",
        "\n",
        "yrf_pred = RF.predict(x_val)\n",
        "\n",
        "print(\"Accuracy: {:.2f}%\".format(accuracy_score(y_val, yrf_pred) * 100))\n",
        "print(\"\\nF1 Score: {:.2f}\".format(f1_score(y_val, yrf_pred, average='micro') * 100))\n",
        "print(\"\\nCOnfusion Matrix:\\n\", confusion_matrix(y_val, yrf_pred))\n",
        "\n",
        "plot_confusion_matrix(y_val, yrf_pred, classes=class_names, normalize=True, title='Normalized confusion matrix')\n",
        "plt.show()\n",
        "\n",
        "print(metrics.classification_report(y_val, yrf_pred,\n",
        "                                            target_names=['Positive', 'Negative']))"
      ],
      "execution_count": 311,
      "outputs": [
        {
          "output_type": "stream",
          "text": [
            "Accuracy: 67.52%\n",
            "\n",
            "F1 Score: 67.52\n",
            "\n",
            "COnfusion Matrix:\n",
            " [[2125  994]\n",
            " [1021 2063]]\n"
          ],
          "name": "stdout"
        },
        {
          "output_type": "display_data",
          "data": {
            "image/png": "[encoded data removed]",
            "text/plain": [
              "<Figure size 900x540 with 2 Axes>"
            ]
          },
          "metadata": {
            "tags": [],
            "needs_background": "light"
          }
        },
        {
          "output_type": "stream",
          "text": [
            "              precision    recall  f1-score   support\n",
            "\n",
            "    Positive       0.68      0.68      0.68      3119\n",
            "    Negative       0.67      0.67      0.67      3084\n",
            "\n",
            "    accuracy                           0.68      6203\n",
            "   macro avg       0.68      0.68      0.68      6203\n",
            "weighted avg       0.68      0.68      0.68      6203\n",
            "\n"
          ],
          "name": "stdout"
        }
      ]
    },
    {
      "cell_type": "markdown",
      "metadata": {
        "id": "lgEjstlnqX8H"
      },
      "source": [
        "#### Logistic Regression "
      ]
    },
    {
      "cell_type": "code",
      "metadata": {
        "colab": {
          "base_uri": "https://localhost:8080/",
          "height": 808
        },
        "id": "CpHc7q4LqI_V",
        "outputId": "33a07c38-50df-4a33-b471-b61311ddd62f"
      },
      "source": [
        "log = LogisticRegression(solver='lbfgs', multi_class='auto', max_iter=200)\n",
        "log.fit(X_train_vect, y_train)\n",
        "\n",
        "ylog_pred = log.predict(X_val_vect)\n",
        "\n",
        "print(\"Accuracy: {:.2f}%\".format(accuracy_score(y_val, ylog_pred) * 100))\n",
        "print(\"\\nF1 Score: {:.2f}\".format(f1_score(y_val, ylog_pred, average='micro') * 100))\n",
        "print(\"\\nCOnfusion Matrix:\\n\", confusion_matrix(y_val, ylog_pred))\n",
        "\n",
        "plot_confusion_matrix(y_val, ylog_pred, classes=class_names, normalize=True, title='Normalized confusion matrix')\n",
        "plt.show()\n",
        "\n",
        "print(metrics.classification_report(y_val, ylog_pred,\n",
        "                                            target_names=['Positive', 'Negative']))"
      ],
      "execution_count": 312,
      "outputs": [
        {
          "output_type": "stream",
          "text": [
            "Accuracy: 61.73%\n",
            "\n",
            "F1 Score: 61.73\n",
            "\n",
            "COnfusion Matrix:\n",
            " [[1842 1277]\n",
            " [1097 1987]]\n"
          ],
          "name": "stdout"
        },
        {
          "output_type": "display_data",
          "data": {
            "image/png": "[encoded data removed]",
            "text/plain": [
              "<Figure size 900x540 with 2 Axes>"
            ]
          },
          "metadata": {
            "tags": [],
            "needs_background": "light"
          }
        },
        {
          "output_type": "stream",
          "text": [
            "              precision    recall  f1-score   support\n",
            "\n",
            "    Positive       0.63      0.59      0.61      3119\n",
            "    Negative       0.61      0.64      0.63      3084\n",
            "\n",
            "    accuracy                           0.62      6203\n",
            "   macro avg       0.62      0.62      0.62      6203\n",
            "weighted avg       0.62      0.62      0.62      6203\n",
            "\n"
          ],
          "name": "stdout"
        }
      ]
    },
    {
      "cell_type": "markdown",
      "metadata": {
        "id": "rlaDj7XtqxMV"
      },
      "source": [
        "#### SVM "
      ]
    },
    {
      "cell_type": "code",
      "metadata": {
        "colab": {
          "base_uri": "https://localhost:8080/",
          "height": 808
        },
        "id": "9w62KlVDqMm_",
        "outputId": "56aa28e3-7caf-4dbc-9999-601c63315181"
      },
      "source": [
        "svc = LinearSVC(tol=1e-05)\n",
        "svc.fit(X_train_vect, y_train)\n",
        "\n",
        "ysvm_pred = svc.predict(X_val_vect)\n",
        "\n",
        "print(\"Accuracy: {:.2f}%\".format(accuracy_score(y_val, ysvm_pred) * 100))\n",
        "print(\"\\nF1 Score: {:.2f}\".format(f1_score(y_val, ysvm_pred, average='micro') * 100))\n",
        "print(\"\\nCOnfusion Matrix:\\n\", confusion_matrix(y_val, ysvm_pred))\n",
        "\n",
        "plot_confusion_matrix(y_val, ysvm_pred, classes=class_names, normalize=True, title='Normalized confusion matrix')\n",
        "plt.show()\n",
        "\n",
        "print(metrics.classification_report(y_val, ysvm_pred,\n",
        "                                            target_names=['Positive', 'Negative']))"
      ],
      "execution_count": 313,
      "outputs": [
        {
          "output_type": "stream",
          "text": [
            "Accuracy: 61.62%\n",
            "\n",
            "F1 Score: 61.62\n",
            "\n",
            "COnfusion Matrix:\n",
            " [[1856 1263]\n",
            " [1118 1966]]\n"
          ],
          "name": "stdout"
        },
        {
          "output_type": "display_data",
          "data": {
            "image/png": "[encoded data removed]",
            "text/plain": [
              "<Figure size 900x540 with 2 Axes>"
            ]
          },
          "metadata": {
            "tags": [],
            "needs_background": "light"
          }
        },
        {
          "output_type": "stream",
          "text": [
            "              precision    recall  f1-score   support\n",
            "\n",
            "    Positive       0.62      0.60      0.61      3119\n",
            "    Negative       0.61      0.64      0.62      3084\n",
            "\n",
            "    accuracy                           0.62      6203\n",
            "   macro avg       0.62      0.62      0.62      6203\n",
            "weighted avg       0.62      0.62      0.62      6203\n",
            "\n"
          ],
          "name": "stdout"
        }
      ]
    },
    {
      "cell_type": "markdown",
      "metadata": {
        "id": "3MkfzWU4mWCy"
      },
      "source": [
        "# Deep Learning"
      ]
    },
    {
      "cell_type": "markdown",
      "metadata": {
        "id": "q34a5X5nuvrG"
      },
      "source": [
        "## Method 2: text pre-processing using Word2Vec and LSTM\n",
        "\n",
        "####Embedding Layer\n",
        "Word Embedding is a representation of text where words that have the similar meaning have a similar representation. We will use 300 dimentional word vectors pre-trained on wikipedia articles. We can also train the w2v model with our data, however our dataset is quite small and trained word vectors might not be as good as using pretrained w2v.\n",
        "\n",
        "#####Deep Network\n",
        "Though text data is one-dimensional, we can use 1D convolutional neural networks to extract features from our data. The result of each convolution will fire when a special pattern is detected. By varying the size of the kernels and concatenating their outputs, you’re allowing yourself to detect patterns of multiples sizes (2, 3, or 5 adjacent words). Patterns could be expressions like “I hate”, “very good” and therefore CNNs can identify them in the sentence regardless of their position.\n",
        "\n",
        "#### Fully Connected Layer\n",
        "The fully connected layer takes the deep representation from the LSTM and transforms it into the final output classes or class scores. This component is comprised of fully connected layers along with batch normalization and optionally dropout layers for regularization.\n",
        "Output Layer\n",
        "Based on the problem at hand, this layer can have either Sigmoid for binary classification or Softmax for both binary and multi classification output.\n"
      ]
    },
    {
      "cell_type": "code",
      "metadata": {
        "id": "auiTJFFlvCBd"
      },
      "source": [
        "# preparing input to our model\n",
        "from keras.preprocessing.text import Tokenizer\n",
        "from keras.preprocessing.sequence import pad_sequences\n",
        "from keras.utils import to_categorical\n",
        "\n",
        "# keras layers\n",
        "from keras.models import Sequential\n",
        "from keras.layers import Embedding, Conv1D, GlobalMaxPooling1D, Dense"
      ],
      "execution_count": 150,
      "outputs": []
    },
    {
      "cell_type": "code",
      "metadata": {
        "id": "On1hQl59vdUz"
      },
      "source": [
        "# Number of labels: '1', '2'\n",
        "num_classes = 2\n",
        "\n",
        "# Number of dimensions for word embedding\n",
        "embed_num_dims = 300\n",
        "\n",
        "# Max input length (max number of words) \n",
        "max_seq_len = 500\n",
        "\n",
        "class_names = ['positive', 'negative']"
      ],
      "execution_count": 152,
      "outputs": []
    },
    {
      "cell_type": "code",
      "metadata": {
        "id": "ac-y3bs-y1Kk"
      },
      "source": [
        "def clean_text(data):\n",
        "    \n",
        "    # tekenization using nltk\n",
        "    data = word_tokenize(data)\n",
        "    \n",
        "    return data\n",
        "\n",
        "texts = [' '.join(clean_text(text)) for text in train_dataset.content]\n",
        "\n",
        "texts_train = [' '.join(clean_text(text)) for text in x_train]\n",
        "texts_val = [' '.join(clean_text(text)) for text in x_val]\n",
        "\n"
      ],
      "execution_count": 154,
      "outputs": []
    },
    {
      "cell_type": "code",
      "metadata": {
        "colab": {
          "base_uri": "https://localhost:8080/"
        },
        "id": "q-3wFzhzzhy3",
        "outputId": "bbfcecfc-e347-44cb-97e2-67d0812afca5"
      },
      "source": [
        "print(texts_val[2])"
      ],
      "execution_count": 237,
      "outputs": [
        {
          "output_type": "stream",
          "text": [
            "Great package . The blue ray , regular DVD and digital copy is a great little package giving you the flexibility to watch it where ever ! The movie itself is great like most things from Pixar .\n"
          ],
          "name": "stdout"
        }
      ]
    },
    {
      "cell_type": "code",
      "metadata": {
        "colab": {
          "base_uri": "https://localhost:8080/"
        },
        "id": "HQYr5clkwO9w",
        "outputId": "6b2658b3-9df9-4ebd-ecc5-e81bb64df475"
      },
      "source": [
        "tokenizer = Tokenizer()\n",
        "tokenizer.fit_on_texts(train_dataset.content)\n",
        "\n",
        "sequence_train = tokenizer.texts_to_sequences(texts_train)\n",
        "sequence_val = tokenizer.texts_to_sequences(texts_val)\n",
        "\n",
        "index_of_words = tokenizer.word_index\n",
        "\n",
        "# vacab size is number of unique words + reserved 0 index for padding\n",
        "vocab_size = len(index_of_words) + 1\n",
        "\n",
        "print('Number of unique words: {}'.format(len(index_of_words)))"
      ],
      "execution_count": 156,
      "outputs": [
        {
          "output_type": "stream",
          "text": [
            "Number of unique words: 68218\n"
          ],
          "name": "stdout"
        }
      ]
    },
    {
      "cell_type": "code",
      "metadata": {
        "colab": {
          "base_uri": "https://localhost:8080/"
        },
        "id": "GdpK-lA_znq1",
        "outputId": "dae08053-5715-4936-907e-bc518ccffb12"
      },
      "source": [
        "X_train_pad = pad_sequences(sequence_train, maxlen = max_seq_len )\n",
        "X_val_pad = pad_sequences(sequence_val, maxlen = max_seq_len )\n",
        "\n",
        "X_val_pad.shape"
      ],
      "execution_count": 157,
      "outputs": [
        {
          "output_type": "execute_result",
          "data": {
            "text/plain": [
              "(6203, 500)"
            ]
          },
          "metadata": {
            "tags": []
          },
          "execution_count": 157
        }
      ]
    },
    {
      "cell_type": "code",
      "metadata": {
        "id": "-XnmJ4UWzrXA"
      },
      "source": [
        "encoding = {\n",
        "     2 : 1,\n",
        "     1 : 0,\n",
        "}\n",
        "\n",
        "# Integer labels\n",
        "Y_train = [encoding[x] for x in y_train]\n",
        "Y_val = [encoding[x] for x in y_val]\n"
      ],
      "execution_count": 176,
      "outputs": []
    },
    {
      "cell_type": "code",
      "metadata": {
        "colab": {
          "base_uri": "https://localhost:8080/"
        },
        "id": "ms_HjOj40evU",
        "outputId": "3bacaf7a-8218-402b-e3d0-4a7d6f49fdf9"
      },
      "source": [
        "Y_train = to_categorical(Y_train, num_classes=2)\n",
        "Y_val = to_categorical(Y_val, num_classes=2)\n",
        "\n",
        "Y_train.shape"
      ],
      "execution_count": 177,
      "outputs": [
        {
          "output_type": "execute_result",
          "data": {
            "text/plain": [
              "(24810, 2)"
            ]
          },
          "metadata": {
            "tags": []
          },
          "execution_count": 177
        }
      ]
    },
    {
      "cell_type": "code",
      "metadata": {
        "id": "E4BANFIg04_b"
      },
      "source": [
        "def create_embedding_matrix(filepath, word_index, embedding_dim):\n",
        "    vocab_size = len(word_index) + 1  # Adding again 1 because of reserved 0 index\n",
        "    embedding_matrix = np.zeros((vocab_size, embedding_dim))\n",
        "    with open(filepath) as f:\n",
        "        for line in f:\n",
        "            word, *vector = line.split()\n",
        "            if word in word_index:\n",
        "                idx = word_index[word] \n",
        "                embedding_matrix[idx] = np.array(\n",
        "                    vector, dtype=np.float32)[:embedding_dim]\n",
        "    return embedding_matrix"
      ],
      "execution_count": 162,
      "outputs": []
    },
    {
      "cell_type": "code",
      "metadata": {
        "colab": {
          "base_uri": "https://localhost:8080/"
        },
        "id": "43C-gpOw1L0O",
        "outputId": "6eb7d002-b740-49ad-a30a-40659ebdd7a3"
      },
      "source": [
        "import urllib.request\n",
        "import zipfile\n",
        "import os\n",
        "\n",
        "fname = 'embeddings/wiki-news-300d-1M.vec'\n",
        "\n",
        "if not os.path.isfile(fname):\n",
        "    print('Downloading word vectors...')\n",
        "    urllib.request.urlretrieve('https://dl.fbaipublicfiles.com/fasttext/vectors-english/wiki-news-300d-1M.vec.zip',\n",
        "                              'wiki-news-300d-1M.vec.zip')\n",
        "    print('Unzipping...')\n",
        "    with zipfile.ZipFile('wiki-news-300d-1M.vec.zip', 'r') as zip_ref:\n",
        "        zip_ref.extractall('embeddings')\n",
        "    print('done.')\n",
        "    \n",
        "    os.remove('wiki-news-300d-1M.vec.zip')"
      ],
      "execution_count": 163,
      "outputs": [
        {
          "output_type": "stream",
          "text": [
            "Downloading word vectors...\n",
            "Unzipping...\n",
            "done.\n"
          ],
          "name": "stdout"
        }
      ]
    },
    {
      "cell_type": "code",
      "metadata": {
        "colab": {
          "base_uri": "https://localhost:8080/"
        },
        "id": "eii5mzO61Nws",
        "outputId": "90fca7e9-c481-4cbf-a5c5-220a875d1fec"
      },
      "source": [
        "embedd_matrix = create_embedding_matrix(fname, index_of_words, embed_num_dims)\n",
        "embedd_matrix.shape"
      ],
      "execution_count": 164,
      "outputs": [
        {
          "output_type": "execute_result",
          "data": {
            "text/plain": [
              "(68219, 300)"
            ]
          },
          "metadata": {
            "tags": []
          },
          "execution_count": 164
        }
      ]
    },
    {
      "cell_type": "code",
      "metadata": {
        "colab": {
          "base_uri": "https://localhost:8080/"
        },
        "id": "lkAZKREp1SOK",
        "outputId": "df8e5e83-aa3e-4c21-afb9-cd2f50ecdfe7"
      },
      "source": [
        "# Inspect unseen words\n",
        "new_words = 0\n",
        "\n",
        "for word in index_of_words:\n",
        "    entry = embedd_matrix[index_of_words[word]]\n",
        "    if all(v == 0 for v in entry):\n",
        "        new_words = new_words + 1\n",
        "\n",
        "print('Words found in wiki vocab: ' + str(len(index_of_words) - new_words))\n",
        "print('New words found: ' + str(new_words))"
      ],
      "execution_count": 165,
      "outputs": [
        {
          "output_type": "stream",
          "text": [
            "Words found in wiki vocab: 44815\n",
            "New words found: 23403\n"
          ],
          "name": "stdout"
        }
      ]
    },
    {
      "cell_type": "code",
      "metadata": {
        "id": "Bep6ebnz1WND"
      },
      "source": [
        "embedd_layer = Embedding(vocab_size,\n",
        "                         embed_num_dims,\n",
        "                         input_length = max_seq_len,\n",
        "                         weights = [embedd_matrix],\n",
        "                         trainable=False)"
      ],
      "execution_count": 166,
      "outputs": []
    },
    {
      "cell_type": "code",
      "metadata": {
        "id": "EFvNvwaxCGFb"
      },
      "source": [
        "from keras.models import Sequential\n",
        "from keras import layers\n",
        "from keras.optimizers import SGD\n",
        "from keras.regularizers import l2\n",
        "from keras.callbacks import EarlyStopping\n",
        "from keras.layers import Bidirectional"
      ],
      "execution_count": 169,
      "outputs": []
    },
    {
      "cell_type": "code",
      "metadata": {
        "id": "sawFP4vCCeNF"
      },
      "source": [
        "def LSTM_model(X_train_pad,y_train,X_test_pad, y_test,bidirectional_active):\n",
        "    # Parameters\n",
        "    _output_size = 128\n",
        "    bidirectional = bidirectional_active\n",
        "\n",
        "    # Embedding Layer, LSTM or biLSTM, Dense, softmax\n",
        "    model = Sequential()\n",
        "    model.add(embedd_layer)\n",
        "\n",
        "    if bidirectional:\n",
        "        model.add(Bidirectional(layers.LSTM(units=_output_size,\n",
        "                                  dropout=0.2,\n",
        "                                  recurrent_dropout=0.2)))\n",
        "    else:\n",
        "        model.add(layers.LSTM(units=_output_size,\n",
        "                    dropout=0.2, \n",
        "                    recurrent_dropout=0.2))\n",
        "\n",
        "    model.add(Dense(num_classes, activation='sigmoid'))\n",
        "\n",
        "    model.compile(loss = 'categorical_crossentropy', optimizer = 'adam', metrics = ['accuracy'])\n",
        "    model.summary()\n",
        "\n",
        "    batch_size = 256\n",
        "    epochs = 15\n",
        "\n",
        "    # simple early stopping\n",
        "    es = EarlyStopping(monitor='val_accuracy', mode='max', verbose=1, patience=2)\n",
        "\n",
        "    hist = model.fit(X_train_pad, y_train, \n",
        "                    batch_size=batch_size,\n",
        "                    epochs=epochs,\n",
        "                    callbacks=[es],\n",
        "                    validation_data=(X_test_pad,y_test))\n",
        "    return model, hist"
      ],
      "execution_count": 179,
      "outputs": []
    },
    {
      "cell_type": "code",
      "metadata": {
        "colab": {
          "base_uri": "https://localhost:8080/"
        },
        "id": "Zrdd3vfKCkBH",
        "outputId": "8e6cb29f-71b5-4da5-8f69-456d9865c011"
      },
      "source": [
        "BiLSTM, BiLSTM_hist =LSTM_model(X_train_pad,Y_train,X_val_pad, Y_val, bidirectional_active= True) #Bidirectional"
      ],
      "execution_count": 180,
      "outputs": [
        {
          "output_type": "stream",
          "text": [
            "WARNING:tensorflow:Layer lstm_2 will not use cuDNN kernel since it doesn't meet the cuDNN kernel criteria. It will use generic GPU kernel as fallback when running on GPU\n",
            "WARNING:tensorflow:Layer lstm_2 will not use cuDNN kernel since it doesn't meet the cuDNN kernel criteria. It will use generic GPU kernel as fallback when running on GPU\n",
            "WARNING:tensorflow:Layer lstm_2 will not use cuDNN kernel since it doesn't meet the cuDNN kernel criteria. It will use generic GPU kernel as fallback when running on GPU\n",
            "Model: \"sequential_2\"\n",
            "_________________________________________________________________\n",
            "Layer (type)                 Output Shape              Param #   \n",
            "=================================================================\n",
            "embedding (Embedding)        (None, 500, 300)          20465700  \n",
            "_________________________________________________________________\n",
            "bidirectional_2 (Bidirection (None, 256)               439296    \n",
            "_________________________________________________________________\n",
            "dense_2 (Dense)              (None, 2)                 514       \n",
            "=================================================================\n",
            "Total params: 20,905,510\n",
            "Trainable params: 439,810\n",
            "Non-trainable params: 20,465,700\n",
            "_________________________________________________________________\n",
            "Epoch 1/15\n",
            "97/97 [==============================] - 340s 3s/step - loss: 0.5891 - accuracy: 0.7006 - val_loss: 0.3819 - val_accuracy: 0.8380\n",
            "Epoch 2/15\n",
            "97/97 [==============================] - 333s 3s/step - loss: 0.3917 - accuracy: 0.8316 - val_loss: 0.3646 - val_accuracy: 0.8478\n",
            "Epoch 3/15\n",
            "97/97 [==============================] - 340s 4s/step - loss: 0.3649 - accuracy: 0.8457 - val_loss: 0.3428 - val_accuracy: 0.8586\n",
            "Epoch 4/15\n",
            "97/97 [==============================] - 342s 4s/step - loss: 0.3444 - accuracy: 0.8568 - val_loss: 0.3669 - val_accuracy: 0.8481\n",
            "Epoch 5/15\n",
            "97/97 [==============================] - 350s 4s/step - loss: 0.3373 - accuracy: 0.8589 - val_loss: 0.3202 - val_accuracy: 0.8672\n",
            "Epoch 6/15\n",
            "97/97 [==============================] - 350s 4s/step - loss: 0.3297 - accuracy: 0.8591 - val_loss: 0.3120 - val_accuracy: 0.8733\n",
            "Epoch 7/15\n",
            "97/97 [==============================] - 349s 4s/step - loss: 0.2977 - accuracy: 0.8774 - val_loss: 0.2788 - val_accuracy: 0.8849\n",
            "Epoch 8/15\n",
            "97/97 [==============================] - 348s 4s/step - loss: 0.2865 - accuracy: 0.8829 - val_loss: 0.2668 - val_accuracy: 0.8897\n",
            "Epoch 9/15\n",
            "97/97 [==============================] - 349s 4s/step - loss: 0.2637 - accuracy: 0.8896 - val_loss: 0.2806 - val_accuracy: 0.8842\n",
            "Epoch 10/15\n",
            "97/97 [==============================] - 349s 4s/step - loss: 0.2662 - accuracy: 0.8924 - val_loss: 0.2574 - val_accuracy: 0.8941\n",
            "Epoch 11/15\n",
            "97/97 [==============================] - 348s 4s/step - loss: 0.2438 - accuracy: 0.9003 - val_loss: 0.2807 - val_accuracy: 0.8860\n",
            "Epoch 12/15\n",
            "97/97 [==============================] - 349s 4s/step - loss: 0.2366 - accuracy: 0.9049 - val_loss: 0.2563 - val_accuracy: 0.8939\n",
            "Epoch 00012: early stopping\n"
          ],
          "name": "stdout"
        }
      ]
    },
    {
      "cell_type": "code",
      "metadata": {
        "colab": {
          "base_uri": "https://localhost:8080/",
          "height": 572
        },
        "id": "5AdkDA-j9OaB",
        "outputId": "d6010911-34b8-4c07-9f46-4bad766cc083"
      },
      "source": [
        "# Accuracy plot\n",
        "plt.plot(BiLSTM_hist.history['accuracy'])\n",
        "plt.plot(BiLSTM_hist.history['val_accuracy'])\n",
        "plt.title('model accuracy')\n",
        "plt.ylabel('accuracy')\n",
        "plt.xlabel('epoch')\n",
        "plt.legend(['train', 'validation'], loc='upper left')\n",
        "plt.show()\n",
        "\n",
        "# Loss plot\n",
        "plt.plot(BiLSTM_hist.history['loss'])\n",
        "plt.plot(BiLSTM_hist.history['val_loss'])\n",
        "plt.title('model loss')\n",
        "plt.ylabel('loss')\n",
        "plt.xlabel('epoch')\n",
        "plt.legend(['train', 'validation'], loc='upper left')\n",
        "plt.show()"
      ],
      "execution_count": 181,
      "outputs": [
        {
          "output_type": "display_data",
          "data": {
            "image/png": "[encoded data removed]",
            "text/plain": [
              "<Figure size 432x288 with 1 Axes>"
            ]
          },
          "metadata": {
            "tags": [],
            "needs_background": "light"
          }
        },
        {
          "output_type": "display_data",
          "data": {
            "image/png": "[encoded data removed]",
            "text/plain": [
              "<Figure size 432x288 with 1 Axes>"
            ]
          },
          "metadata": {
            "tags": [],
            "needs_background": "light"
          }
        }
      ]
    },
    {
      "cell_type": "code",
      "metadata": {
        "colab": {
          "base_uri": "https://localhost:8080/"
        },
        "id": "cLyqvVA3RlnE",
        "outputId": "1f4e19d3-a7c8-4eea-b775-01490ee2f8ec"
      },
      "source": [
        "X_val_pad"
      ],
      "execution_count": 182,
      "outputs": [
        {
          "output_type": "execute_result",
          "data": {
            "text/plain": [
              "array([[    0,     0,     0, ...,   171,    81,     6],\n",
              "       [    0,     0,     0, ...,   921,    26,   210],\n",
              "       [    0,     0,     0, ...,   246,    36, 12256],\n",
              "       ...,\n",
              "       [    0,     0,     0, ...,    14,    11,    12],\n",
              "       [    0,     0,     0, ...,    55,   586, 22760],\n",
              "       [    0,     0,     0, ...,     6,     4,   787]], dtype=int32)"
            ]
          },
          "metadata": {
            "tags": []
          },
          "execution_count": 182
        }
      ]
    },
    {
      "cell_type": "code",
      "metadata": {
        "colab": {
          "base_uri": "https://localhost:8080/"
        },
        "id": "T8wDAmeaJ2yi",
        "outputId": "b0ac419e-4ec9-403d-efad-5dee0568ed2c"
      },
      "source": [
        "prediction = BiLSTM.predict_classes(X_val_pad)"
      ],
      "execution_count": 235,
      "outputs": [
        {
          "output_type": "stream",
          "text": [
            "/usr/local/lib/python3.7/dist-packages/tensorflow/python/keras/engine/sequential.py:450: UserWarning: `model.predict_classes()` is deprecated and will be removed after 2021-01-01. Please use instead:* `np.argmax(model.predict(x), axis=-1)`,   if your model does multi-class classification   (e.g. if it uses a `softmax` last-layer activation).* `(model.predict(x) > 0.5).astype(\"int32\")`,   if your model does binary classification   (e.g. if it uses a `sigmoid` last-layer activation).\n",
            "  warnings.warn('`model.predict_classes()` is deprecated and '\n"
          ],
          "name": "stderr"
        }
      ]
    },
    {
      "cell_type": "markdown",
      "metadata": {
        "id": "DIKC1vJtnTnr"
      },
      "source": [
        "# Bert Model & Bert Pre-processing\n"
      ]
    },
    {
      "cell_type": "code",
      "metadata": {
        "colab": {
          "base_uri": "https://localhost:8080/"
        },
        "id": "d3tpBLU1H2Tv",
        "outputId": "771691b1-262f-4f26-c84b-ed532d1e48f6"
      },
      "source": [
        "!pip install transformers"
      ],
      "execution_count": 293,
      "outputs": [
        {
          "output_type": "stream",
          "text": [
            "Collecting transformers\n",
            "\u001b[?25l  Downloading https://files.pythonhosted.org/packages/81/91/61d69d58a1af1bd81d9ca9d62c90a6de3ab80d77f27c5df65d9a2c1f5626/transformers-4.5.0-py3-none-any.whl (2.1MB)\n",
            "\u001b[K     |████████████████████████████████| 2.2MB 10.0MB/s \n",
            "\u001b[?25hRequirement already satisfied: regex!=2019.12.17 in /usr/local/lib/python3.7/dist-packages (from transformers) (2019.12.20)\n",
            "Collecting sacremoses\n",
            "\u001b[?25l  Downloading https://files.pythonhosted.org/packages/08/cd/342e584ee544d044fb573ae697404ce22ede086c9e87ce5960772084cad0/sacremoses-0.0.44.tar.gz (862kB)\n",
            "\u001b[K     |████████████████████████████████| 870kB 50.2MB/s \n",
            "\u001b[?25hRequirement already satisfied: tqdm>=4.27 in /usr/local/lib/python3.7/dist-packages (from transformers) (4.41.1)\n",
            "Requirement already satisfied: numpy>=1.17 in /usr/local/lib/python3.7/dist-packages (from transformers) (1.19.5)\n",
            "Requirement already satisfied: requests in /usr/local/lib/python3.7/dist-packages (from transformers) (2.23.0)\n",
            "Requirement already satisfied: filelock in /usr/local/lib/python3.7/dist-packages (from transformers) (3.0.12)\n",
            "Requirement already satisfied: importlib-metadata; python_version < \"3.8\" in /usr/local/lib/python3.7/dist-packages (from transformers) (3.8.1)\n",
            "Requirement already satisfied: packaging in /usr/local/lib/python3.7/dist-packages (from transformers) (20.9)\n",
            "Collecting tokenizers<0.11,>=0.10.1\n",
            "\u001b[?25l  Downloading https://files.pythonhosted.org/packages/ae/04/5b870f26a858552025a62f1649c20d29d2672c02ff3c3fb4c688ca46467a/tokenizers-0.10.2-cp37-cp37m-manylinux2010_x86_64.whl (3.3MB)\n",
            "\u001b[K     |████████████████████████████████| 3.3MB 37.4MB/s \n",
            "\u001b[?25hRequirement already satisfied: six in /usr/local/lib/python3.7/dist-packages (from sacremoses->transformers) (1.15.0)\n",
            "Requirement already satisfied: click in /usr/local/lib/python3.7/dist-packages (from sacremoses->transformers) (7.1.2)\n",
            "Requirement already satisfied: joblib in /usr/local/lib/python3.7/dist-packages (from sacremoses->transformers) (1.0.1)\n",
            "Requirement already satisfied: certifi>=2017.4.17 in /usr/local/lib/python3.7/dist-packages (from requests->transformers) (2020.12.5)\n",
            "Requirement already satisfied: idna<3,>=2.5 in /usr/local/lib/python3.7/dist-packages (from requests->transformers) (2.10)\n",
            "Requirement already satisfied: chardet<4,>=3.0.2 in /usr/local/lib/python3.7/dist-packages (from requests->transformers) (3.0.4)\n",
            "Requirement already satisfied: urllib3!=1.25.0,!=1.25.1,<1.26,>=1.21.1 in /usr/local/lib/python3.7/dist-packages (from requests->transformers) (1.24.3)\n",
            "Requirement already satisfied: zipp>=0.5 in /usr/local/lib/python3.7/dist-packages (from importlib-metadata; python_version < \"3.8\"->transformers) (3.4.1)\n",
            "Requirement already satisfied: typing-extensions>=3.6.4; python_version < \"3.8\" in /usr/local/lib/python3.7/dist-packages (from importlib-metadata; python_version < \"3.8\"->transformers) (3.7.4.3)\n",
            "Requirement already satisfied: pyparsing>=2.0.2 in /usr/local/lib/python3.7/dist-packages (from packaging->transformers) (2.4.7)\n",
            "Building wheels for collected packages: sacremoses\n",
            "  Building wheel for sacremoses (setup.py) ... \u001b[?25l\u001b[?25hdone\n",
            "  Created wheel for sacremoses: filename=sacremoses-0.0.44-cp37-none-any.whl size=886084 sha256=27049b63b3648776c098acec53e4695ae61b820668ed63a0f619934cfd454227\n",
            "  Stored in directory: /root/.cache/pip/wheels/3e/fb/c0/13ab4d63d537658f448366744654323077c4d90069b6512f3c\n",
            "Successfully built sacremoses\n",
            "Installing collected packages: sacremoses, tokenizers, transformers\n",
            "Successfully installed sacremoses-0.0.44 tokenizers-0.10.2 transformers-4.5.0\n"
          ],
          "name": "stdout"
        }
      ]
    },
    {
      "cell_type": "code",
      "metadata": {
        "colab": {
          "base_uri": "https://localhost:8080/",
          "height": 342,
          "referenced_widgets": [
            "91fe9c4f42e143cd871f78b1d832f3a4",
            "f56130b6fb934873a728768d77ba8929",
            "43e4ef7bbfe4491baabc5dd7a008bbb0",
            "0b285d2f87f14c17a565765338bc73b1",
            "f20b88888c724136972ff2d256f7e177",
            "a068d2e2ef574b57b50075c8a8deedd1",
            "506a8f97590c410db3ad2c25f99a8d43",
            "d11fe1e30cf64e4fbab6789291d048e9",
            "d614a5cbd2804120b009201ac86a63e7",
            "8b5253f0dd234f2dbab94d005e897471",
            "16f6e21799444d3287e12674a698ef1d",
            "b69332212e244f51b44f3f204bf58427",
            "2e80ff13d2f646f7844bebdc9eba433c",
            "8d5f648096d746a09db3200bed570444",
            "6868bdfe7a5d44bfb5438a42b0d52243",
            "bb955b411771497697373629e888c240",
            "3095d16c351b4820aea369120700fb9c",
            "5469660969544129adf8fdb7f097a079",
            "bc1feb03d41e4df5af1b543c6d43e1a5",
            "c5ff149d98894b32874d85c66e7d9c14",
            "19e8ed73b1cf46379a3d745a0eebb612",
            "b336a8879d3b466d989284c79e9b9709",
            "2ee46347b7c744f7b238dfb31258a56d",
            "a1e50287e83d42c7b40ec794b3292238",
            "f69800d0ca1c475181d667af18564fc3",
            "f739b2b9bec84fbcabbd38ca73749b6e",
            "d7a8cffa945446eeb867540ccdc0de79",
            "c8c2d807a00f45749987a60983cf522c",
            "ef17d2aee89d44dca49ba4e136495000",
            "c61c74edad9a4f3189fb816835d798d6",
            "b3cacc3f53cf4c43acc5500d9314fb53",
            "ee33325411a146049246b76e7b751bd0",
            "054dab97706d45c583fc53bf65b0a246",
            "e311ad0f25a54ca7a8692e58b687fd22",
            "0224468c41af4af1aad69d2637be3b23",
            "d3c4af11a72a4719975aa7f2974a6210",
            "5d5380a20dd14dbfad5effc685848d03",
            "3587754fb17a499ea44f57f7539b4d07",
            "9939821cbfa44c538f667a66d79fb37b",
            "de616148f33a4ef2ae345b53258796e7"
          ]
        },
        "id": "Nsc_WALTJJSg",
        "outputId": "a93b5108-2ccf-4b81-f63d-2fa7bd8c5c34"
      },
      "source": [
        "from transformers import BertTokenizer, TFBertForSequenceClassification\n",
        "from transformers import InputExample, InputFeatures\n",
        "\n",
        "BERT = TFBertForSequenceClassification.from_pretrained(\"bert-base-uncased\")\n",
        "tokenizer = BertTokenizer.from_pretrained(\"bert-base-uncased\")"
      ],
      "execution_count": 294,
      "outputs": [
        {
          "output_type": "display_data",
          "data": {
            "application/vnd.jupyter.widget-view+json": {
              "model_id": "91fe9c4f42e143cd871f78b1d832f3a4",
              "version_minor": 0,
              "version_major": 2
            },
            "text/plain": [
              "HBox(children=(FloatProgress(value=0.0, description='Downloading', max=433.0, style=ProgressStyle(description_…"
            ]
          },
          "metadata": {
            "tags": []
          }
        },
        {
          "output_type": "stream",
          "text": [
            "\n"
          ],
          "name": "stdout"
        },
        {
          "output_type": "display_data",
          "data": {
            "application/vnd.jupyter.widget-view+json": {
              "model_id": "d614a5cbd2804120b009201ac86a63e7",
              "version_minor": 0,
              "version_major": 2
            },
            "text/plain": [
              "HBox(children=(FloatProgress(value=0.0, description='Downloading', max=536063208.0, style=ProgressStyle(descri…"
            ]
          },
          "metadata": {
            "tags": []
          }
        },
        {
          "output_type": "stream",
          "text": [
            "\n"
          ],
          "name": "stdout"
        },
        {
          "output_type": "stream",
          "text": [
            "All model checkpoint layers were used when initializing TFBertForSequenceClassification.\n",
            "\n",
            "Some layers of TFBertForSequenceClassification were not initialized from the model checkpoint at bert-base-uncased and are newly initialized: ['classifier']\n",
            "You should probably TRAIN this model on a down-stream task to be able to use it for predictions and inference.\n"
          ],
          "name": "stderr"
        },
        {
          "output_type": "display_data",
          "data": {
            "application/vnd.jupyter.widget-view+json": {
              "model_id": "3095d16c351b4820aea369120700fb9c",
              "version_minor": 0,
              "version_major": 2
            },
            "text/plain": [
              "HBox(children=(FloatProgress(value=0.0, description='Downloading', max=231508.0, style=ProgressStyle(descripti…"
            ]
          },
          "metadata": {
            "tags": []
          }
        },
        {
          "output_type": "stream",
          "text": [
            "\n"
          ],
          "name": "stdout"
        },
        {
          "output_type": "display_data",
          "data": {
            "application/vnd.jupyter.widget-view+json": {
              "model_id": "f69800d0ca1c475181d667af18564fc3",
              "version_minor": 0,
              "version_major": 2
            },
            "text/plain": [
              "HBox(children=(FloatProgress(value=0.0, description='Downloading', max=28.0, style=ProgressStyle(description_w…"
            ]
          },
          "metadata": {
            "tags": []
          }
        },
        {
          "output_type": "stream",
          "text": [
            "\n"
          ],
          "name": "stdout"
        },
        {
          "output_type": "display_data",
          "data": {
            "application/vnd.jupyter.widget-view+json": {
              "model_id": "054dab97706d45c583fc53bf65b0a246",
              "version_minor": 0,
              "version_major": 2
            },
            "text/plain": [
              "HBox(children=(FloatProgress(value=0.0, description='Downloading', max=466062.0, style=ProgressStyle(descripti…"
            ]
          },
          "metadata": {
            "tags": []
          }
        },
        {
          "output_type": "stream",
          "text": [
            "\n"
          ],
          "name": "stdout"
        }
      ]
    },
    {
      "cell_type": "code",
      "metadata": {
        "colab": {
          "base_uri": "https://localhost:8080/"
        },
        "id": "w0t9Z_3ZJPEQ",
        "outputId": "0a44d95a-2117-40d2-e956-587fbe9e0bc5"
      },
      "source": [
        "BERT.summary()"
      ],
      "execution_count": 295,
      "outputs": [
        {
          "output_type": "stream",
          "text": [
            "Model: \"tf_bert_for_sequence_classification\"\n",
            "_________________________________________________________________\n",
            "Layer (type)                 Output Shape              Param #   \n",
            "=================================================================\n",
            "bert (TFBertMainLayer)       multiple                  109482240 \n",
            "_________________________________________________________________\n",
            "dropout_37 (Dropout)         multiple                  0         \n",
            "_________________________________________________________________\n",
            "classifier (Dense)           multiple                  1538      \n",
            "=================================================================\n",
            "Total params: 109,483,778\n",
            "Trainable params: 109,483,778\n",
            "Non-trainable params: 0\n",
            "_________________________________________________________________\n"
          ],
          "name": "stdout"
        }
      ]
    },
    {
      "cell_type": "code",
      "metadata": {
        "id": "LX3WeZT4bdS-"
      },
      "source": [
        "review_dataset = pd.read_csv('review_table.csv', engine='python')"
      ],
      "execution_count": 296,
      "outputs": []
    },
    {
      "cell_type": "code",
      "metadata": {
        "id": "vEMlj8ZtS-Gx"
      },
      "source": [
        "def binary_polarity_labelling(value):\n",
        "  # create a column to label the data as positive or negative base on ratings\n",
        "  return 1 if value >= 4 else 0\n",
        "\n",
        "def bert_categorize_data(dataframe):\n",
        "\n",
        "  #remove rating '3' from the dataframe\n",
        "  dataframe = dataframe[dataframe['rating'] != 3]\n",
        "\n",
        "  #creating a new label from ratings\n",
        "  dataframe['label'] = dataframe['rating'].apply(binary_polarity_labelling)\n",
        "\n",
        "  dataframe['content'] = dataframe['review_title']+ \".\\n \" +dataframe['review']\n",
        "\n",
        "  #extract necessary columns from dataframe\n",
        "  dataframe = dataframe.loc[:,['product_id', 'generic_product', 'content', 'label']]\n",
        "  \n",
        "  #drop empty rows if elements are missing in 'content' column\n",
        "  dataframe =dataframe.dropna(subset=['content'])\n",
        "\n",
        "  #drop duplicates from dataframe of elements are missing in 'content' column\n",
        "  dataframe.drop_duplicates(subset=['content'])\n",
        "\n",
        "  #resetting index\n",
        "  dataframe.reset_index(drop=True, inplace=True)\n",
        "  \n",
        "  return dataframe\n"
      ],
      "execution_count": 297,
      "outputs": []
    },
    {
      "cell_type": "code",
      "metadata": {
        "colab": {
          "base_uri": "https://localhost:8080/"
        },
        "id": "oTCqaQbPiTy9",
        "outputId": "b58905f3-7153-499c-ec0a-7bfc555fca0d"
      },
      "source": [
        "review_dataset = bert_categorize_data(review_dataset)"
      ],
      "execution_count": 298,
      "outputs": [
        {
          "output_type": "stream",
          "text": [
            "/usr/local/lib/python3.7/dist-packages/ipykernel_launcher.py:11: SettingWithCopyWarning: \n",
            "A value is trying to be set on a copy of a slice from a DataFrame.\n",
            "Try using .loc[row_indexer,col_indexer] = value instead\n",
            "\n",
            "See the caveats in the documentation: https://pandas.pydata.org/pandas-docs/stable/user_guide/indexing.html#returning-a-view-versus-a-copy\n",
            "  # This is added back by InteractiveShellApp.init_path()\n",
            "/usr/local/lib/python3.7/dist-packages/ipykernel_launcher.py:13: SettingWithCopyWarning: \n",
            "A value is trying to be set on a copy of a slice from a DataFrame.\n",
            "Try using .loc[row_indexer,col_indexer] = value instead\n",
            "\n",
            "See the caveats in the documentation: https://pandas.pydata.org/pandas-docs/stable/user_guide/indexing.html#returning-a-view-versus-a-copy\n",
            "  del sys.path[0]\n"
          ],
          "name": "stderr"
        }
      ]
    },
    {
      "cell_type": "code",
      "metadata": {
        "id": "XoyIHq7Fc1bg"
      },
      "source": [
        "from sklearn.model_selection import train_test_split\n",
        "train_df, test_df = train_test_split(review_dataset, test_size=0.2, random_state=1)\n",
        "\n",
        "train_df, val_df = train_test_split(train_df, test_size=0.25, random_state=1) # 0.25 x 0.8 = 0.2\n",
        "train_df.reset_index(drop = True, inplace= True)\n",
        "val_df.reset_index(drop = True, inplace= True)"
      ],
      "execution_count": 299,
      "outputs": []
    },
    {
      "cell_type": "code",
      "metadata": {
        "id": "E0MyLQuBJ-93"
      },
      "source": [
        "def convert_data_to_examples(train, test, DATA_COLUMN, LABEL_COLUMN): \n",
        "  train_InputExamples = train.apply(lambda x: InputExample(guid=None, # Globally unique ID for bookkeeping, unused in this case\n",
        "                                                          text_a = x[DATA_COLUMN], \n",
        "                                                          text_b = None,\n",
        "                                                          label = x[LABEL_COLUMN]), axis = 1)\n",
        "\n",
        "  validation_InputExamples = test.apply(lambda x: InputExample(guid=None, # Globally unique ID for bookkeeping, unused in this case\n",
        "                                                          text_a = x[DATA_COLUMN], \n",
        "                                                          text_b = None,\n",
        "                                                          label = x[LABEL_COLUMN]), axis = 1)\n",
        "  \n",
        "  return train_InputExamples, validation_InputExamples\n",
        "\n",
        "  \n",
        "def convert_examples_to_tf_dataset(examples, tokenizer, max_length=128):\n",
        "    features = [] # -> will hold InputFeatures to be converted later\n",
        "\n",
        "    for e in examples:\n",
        "        # Documentation is really strong for this method, so please take a look at it\n",
        "        input_dict = tokenizer.encode_plus(\n",
        "            e.text_a,\n",
        "            add_special_tokens=True,\n",
        "            max_length=max_length, # truncates if len(s) > max_length\n",
        "            return_token_type_ids=True,\n",
        "            return_attention_mask=True,\n",
        "            pad_to_max_length=True, # pads to the right by default # CHECK THIS for pad_to_max_length\n",
        "            truncation=True\n",
        "        )\n",
        "\n",
        "        input_ids, token_type_ids, attention_mask = (input_dict[\"input_ids\"],\n",
        "            input_dict[\"token_type_ids\"], input_dict['attention_mask'])\n",
        "\n",
        "        features.append(\n",
        "            InputFeatures(\n",
        "                input_ids=input_ids, attention_mask=attention_mask, token_type_ids=token_type_ids, label=e.label\n",
        "            )\n",
        "        )\n",
        "\n",
        "    def gen():\n",
        "        for f in features:\n",
        "            yield (\n",
        "                {\n",
        "                    \"input_ids\": f.input_ids,\n",
        "                    \"attention_mask\": f.attention_mask,\n",
        "                    \"token_type_ids\": f.token_type_ids,\n",
        "                },\n",
        "                f.label,\n",
        "            )\n",
        "\n",
        "    return tf.data.Dataset.from_generator(\n",
        "        gen,\n",
        "        ({\"input_ids\": tf.int32, \"attention_mask\": tf.int32, \"token_type_ids\": tf.int32}, tf.int64),\n",
        "        (\n",
        "            {\n",
        "                \"input_ids\": tf.TensorShape([None]),\n",
        "                \"attention_mask\": tf.TensorShape([None]),\n",
        "                \"token_type_ids\": tf.TensorShape([None]),\n",
        "            },\n",
        "            tf.TensorShape([]),\n",
        "        ),\n",
        "    )\n"
      ],
      "execution_count": 300,
      "outputs": []
    },
    {
      "cell_type": "code",
      "metadata": {
        "colab": {
          "base_uri": "https://localhost:8080/"
        },
        "id": "AVZqURgUKCs3",
        "outputId": "863fe676-f491-4a50-e3a1-dc465fa9af26"
      },
      "source": [
        "train_InputExamples, validation_InputExamples = convert_data_to_examples(train_df, val_df, 'content', 'label')\n",
        "\n",
        "train_data = convert_examples_to_tf_dataset(list(train_InputExamples), tokenizer)\n",
        "train_data = train_data.shuffle(100).batch(32).repeat(2)\n",
        "\n",
        "validation_data = convert_examples_to_tf_dataset(list(validation_InputExamples), tokenizer)\n",
        "validation_data = validation_data.batch(32)"
      ],
      "execution_count": 301,
      "outputs": [
        {
          "output_type": "stream",
          "text": [
            "/usr/local/lib/python3.7/dist-packages/transformers/tokenization_utils_base.py:2079: FutureWarning: The `pad_to_max_length` argument is deprecated and will be removed in a future version, use `padding=True` or `padding='longest'` to pad to the longest sequence in the batch, or use `padding='max_length'` to pad to a max length. In this case, you can give a specific length with `max_length` (e.g. `max_length=45`) or leave max_length to None to pad to the maximal input size of the model (e.g. 512 for Bert).\n",
            "  FutureWarning,\n"
          ],
          "name": "stderr"
        }
      ]
    },
    {
      "cell_type": "code",
      "metadata": {
        "colab": {
          "base_uri": "https://localhost:8080/"
        },
        "id": "-xQZPHq0KEw2",
        "outputId": "196d93c7-d480-4c94-b0bd-3acecce82a3f"
      },
      "source": [
        "BERT.compile(optimizer=tf.keras.optimizers.Adam(learning_rate=3e-5, epsilon=1e-08, clipnorm=1.0), \n",
        "              loss=tf.keras.losses.SparseCategoricalCrossentropy(from_logits=True), \n",
        "              metrics=[tf.keras.metrics.SparseCategoricalAccuracy('accuracy')])\n",
        "\n",
        "Bert_hist = BERT.fit(train_data, epochs=2, validation_data=validation_data, verbose=1)"
      ],
      "execution_count": 302,
      "outputs": [
        {
          "output_type": "stream",
          "text": [
            "Epoch 1/2\n",
            "WARNING:tensorflow:The parameters `output_attentions`, `output_hidden_states` and `use_cache` cannot be updated when calling a model.They have to be set to True/False in the config object (i.e.: `config=XConfig.from_pretrained('name', output_attentions=True)`).\n",
            "WARNING:tensorflow:AutoGraph could not transform <bound method Socket.send of <zmq.sugar.socket.Socket object at 0x7f0ddc35ed70>> and will run it as-is.\n",
            "Please report this to the TensorFlow team. When filing the bug, set the verbosity to 10 (on Linux, `export AUTOGRAPH_VERBOSITY=10`) and attach the full output.\n",
            "Cause: module, class, method, function, traceback, frame, or code object was expected, got cython_function_or_method\n",
            "To silence this warning, decorate the function with @tf.autograph.experimental.do_not_convert\n",
            "WARNING: AutoGraph could not transform <bound method Socket.send of <zmq.sugar.socket.Socket object at 0x7f0ddc35ed70>> and will run it as-is.\n",
            "Please report this to the TensorFlow team. When filing the bug, set the verbosity to 10 (on Linux, `export AUTOGRAPH_VERBOSITY=10`) and attach the full output.\n",
            "Cause: module, class, method, function, traceback, frame, or code object was expected, got cython_function_or_method\n",
            "To silence this warning, decorate the function with @tf.autograph.experimental.do_not_convert\n",
            "WARNING:tensorflow:AutoGraph could not transform <function wrap at 0x7f0e07c0cc20> and will run it as-is.\n",
            "Cause: while/else statement not yet supported\n",
            "To silence this warning, decorate the function with @tf.autograph.experimental.do_not_convert\n",
            "WARNING: AutoGraph could not transform <function wrap at 0x7f0e07c0cc20> and will run it as-is.\n",
            "Cause: while/else statement not yet supported\n",
            "To silence this warning, decorate the function with @tf.autograph.experimental.do_not_convert\n",
            "WARNING:tensorflow:The parameter `return_dict` cannot be set in graph mode and will always be set to `True`.\n",
            "WARNING:tensorflow:The parameters `output_attentions`, `output_hidden_states` and `use_cache` cannot be updated when calling a model.They have to be set to True/False in the config object (i.e.: `config=XConfig.from_pretrained('name', output_attentions=True)`).\n",
            "WARNING:tensorflow:The parameter `return_dict` cannot be set in graph mode and will always be set to `True`.\n",
            "    382/Unknown - 165s 283ms/step - loss: 0.3046 - accuracy: 0.8672WARNING:tensorflow:The parameters `output_attentions`, `output_hidden_states` and `use_cache` cannot be updated when calling a model.They have to be set to True/False in the config object (i.e.: `config=XConfig.from_pretrained('name', output_attentions=True)`).\n",
            "WARNING:tensorflow:The parameter `return_dict` cannot be set in graph mode and will always be set to `True`.\n",
            "382/382 [==============================] - 175s 308ms/step - loss: 0.3043 - accuracy: 0.8673 - val_loss: 0.1534 - val_accuracy: 0.9502\n",
            "Epoch 2/2\n",
            "382/382 [==============================] - 115s 301ms/step - loss: 0.0684 - accuracy: 0.9786 - val_loss: 0.3105 - val_accuracy: 0.9206\n"
          ],
          "name": "stdout"
        }
      ]
    },
    {
      "cell_type": "code",
      "metadata": {
        "id": "O4-T2ZZLKJhW"
      },
      "source": [
        "def bert_predict(pred_sentences):\n",
        "  tf_batch = tokenizer(pred_sentences, max_length=128, padding=True, truncation=True, return_tensors='tf')\n",
        "  tf_outputs = BERT(tf_batch)\n",
        "  tf_predictions = tf.nn.softmax(tf_outputs[0], axis=-1)\n",
        "  polarity= tf.keras.backend.get_value(tf_predictions)\n",
        "  polarity = polarity.tolist()\n",
        "  labels = ['Negative','Positive']\n",
        "  label = tf.argmax(tf_predictions, axis=1)\n",
        "  label = label.numpy()\n",
        "  print(label)\n",
        "  return polarity[0][1] \n"
      ],
      "execution_count": null,
      "outputs": []
    },
    {
      "cell_type": "code",
      "metadata": {
        "colab": {
          "base_uri": "https://localhost:8080/"
        },
        "id": "ruqQ4nPav_Vn",
        "outputId": "7400c0cf-9dec-40d3-80c0-319a9a18f5d3"
      },
      "source": [
        "# creates a HDF5 file 'my_model.h5'\n",
        "tf.saved_model.save(BERT, '/content')"
      ],
      "execution_count": null,
      "outputs": [
        {
          "output_type": "stream",
          "text": [
            "WARNING:tensorflow:The parameters `output_attentions`, `output_hidden_states` and `use_cache` cannot be updated when calling a model.They have to be set to True/False in the config object (i.e.: `config=XConfig.from_pretrained('name', output_attentions=True)`).\n",
            "WARNING:tensorflow:The parameter `return_dict` cannot be set in graph mode and will always be set to `True`.\n",
            "WARNING:tensorflow:The parameters `output_attentions`, `output_hidden_states` and `use_cache` cannot be updated when calling a model.They have to be set to True/False in the config object (i.e.: `config=XConfig.from_pretrained('name', output_attentions=True)`).\n",
            "WARNING:tensorflow:The parameter `return_dict` cannot be set in graph mode and will always be set to `True`.\n",
            "WARNING:tensorflow:The parameters `output_attentions`, `output_hidden_states` and `use_cache` cannot be updated when calling a model.They have to be set to True/False in the config object (i.e.: `config=XConfig.from_pretrained('name', output_attentions=True)`).\n",
            "WARNING:tensorflow:The parameter `return_dict` cannot be set in graph mode and will always be set to `True`.\n",
            "WARNING:tensorflow:The parameters `output_attentions`, `output_hidden_states` and `use_cache` cannot be updated when calling a model.They have to be set to True/False in the config object (i.e.: `config=XConfig.from_pretrained('name', output_attentions=True)`).\n",
            "WARNING:tensorflow:The parameter `return_dict` cannot be set in graph mode and will always be set to `True`.\n",
            "WARNING:tensorflow:The parameters `output_attentions`, `output_hidden_states` and `use_cache` cannot be updated when calling a model.They have to be set to True/False in the config object (i.e.: `config=XConfig.from_pretrained('name', output_attentions=True)`).\n",
            "WARNING:tensorflow:The parameter `return_dict` cannot be set in graph mode and will always be set to `True`.\n",
            "WARNING:tensorflow:The parameters `output_attentions`, `output_hidden_states` and `use_cache` cannot be updated when calling a model.They have to be set to True/False in the config object (i.e.: `config=XConfig.from_pretrained('name', output_attentions=True)`).\n",
            "WARNING:tensorflow:The parameter `return_dict` cannot be set in graph mode and will always be set to `True`.\n",
            "WARNING:tensorflow:The parameters `output_attentions`, `output_hidden_states` and `use_cache` cannot be updated when calling a model.They have to be set to True/False in the config object (i.e.: `config=XConfig.from_pretrained('name', output_attentions=True)`).\n",
            "WARNING:tensorflow:The parameter `return_dict` cannot be set in graph mode and will always be set to `True`.\n",
            "WARNING:tensorflow:The parameters `output_attentions`, `output_hidden_states` and `use_cache` cannot be updated when calling a model.They have to be set to True/False in the config object (i.e.: `config=XConfig.from_pretrained('name', output_attentions=True)`).\n",
            "WARNING:tensorflow:The parameter `return_dict` cannot be set in graph mode and will always be set to `True`.\n"
          ],
          "name": "stdout"
        },
        {
          "output_type": "stream",
          "text": [
            "WARNING:absl:Found untraced functions such as embeddings_layer_call_fn, embeddings_layer_call_and_return_conditional_losses, encoder_layer_call_fn, encoder_layer_call_and_return_conditional_losses, pooler_layer_call_fn while saving (showing 5 of 1055). These functions will not be directly callable after loading.\n",
            "WARNING:absl:Found untraced functions such as embeddings_layer_call_fn, embeddings_layer_call_and_return_conditional_losses, encoder_layer_call_fn, encoder_layer_call_and_return_conditional_losses, pooler_layer_call_fn while saving (showing 5 of 1055). These functions will not be directly callable after loading.\n"
          ],
          "name": "stderr"
        },
        {
          "output_type": "stream",
          "text": [
            "INFO:tensorflow:Assets written to: /content/assets\n"
          ],
          "name": "stdout"
        },
        {
          "output_type": "stream",
          "text": [
            "INFO:tensorflow:Assets written to: /content/assets\n"
          ],
          "name": "stderr"
        }
      ]
    },
    {
      "cell_type": "code",
      "metadata": {
        "id": "lPqleNPKpckS"
      },
      "source": [
        "review_dataset_new = pd.read_csv('review_table_new.csv', engine='python')"
      ],
      "execution_count": null,
      "outputs": []
    },
    {
      "cell_type": "code",
      "metadata": {
        "colab": {
          "base_uri": "https://localhost:8080/",
          "height": 1000
        },
        "id": "trNPSJwhT9OL",
        "outputId": "9a00b5f8-01ff-43a1-9c11-778dc148f4a9"
      },
      "source": [
        "review_dataset_new"
      ],
      "execution_count": null,
      "outputs": [
        {
          "output_type": "execute_result",
          "data": {
            "text/html": [
              "<div>\n",
              "<style scoped>\n",
              "    .dataframe tbody tr th:only-of-type {\n",
              "        vertical-align: middle;\n",
              "    }\n",
              "\n",
              "    .dataframe tbody tr th {\n",
              "        vertical-align: top;\n",
              "    }\n",
              "\n",
              "    .dataframe thead th {\n",
              "        text-align: right;\n",
              "    }\n",
              "</style>\n",
              "<table border=\"1\" class=\"dataframe\">\n",
              "  <thead>\n",
              "    <tr style=\"text-align: right;\">\n",
              "      <th></th>\n",
              "      <th>index</th>\n",
              "      <th>product_id</th>\n",
              "      <th>product</th>\n",
              "      <th>generic_product</th>\n",
              "      <th>uname</th>\n",
              "      <th>rating</th>\n",
              "      <th>review_title</th>\n",
              "      <th>review</th>\n",
              "      <th>date</th>\n",
              "      <th>image</th>\n",
              "      <th>upvotes</th>\n",
              "    </tr>\n",
              "  </thead>\n",
              "  <tbody>\n",
              "    <tr>\n",
              "      <th>0</th>\n",
              "      <td>0</td>\n",
              "      <td>B08N2FRMPN</td>\n",
              "      <td>Samsung Electronics Samsung Galaxy S21 5G | Fa...</td>\n",
              "      <td>Smartphone</td>\n",
              "      <td>SourceIt</td>\n",
              "      <td>2.0</td>\n",
              "      <td>Phone come without charger....Interesting</td>\n",
              "      <td>This item doesn't came with the charger......w...</td>\n",
              "      <td>2021-03-21T00:00:00</td>\n",
              "      <td>NaN</td>\n",
              "      <td>11</td>\n",
              "    </tr>\n",
              "    <tr>\n",
              "      <th>1</th>\n",
              "      <td>1</td>\n",
              "      <td>B08N2FRMPN</td>\n",
              "      <td>Samsung Electronics Samsung Galaxy S21 5G | Fa...</td>\n",
              "      <td>Smartphone</td>\n",
              "      <td>Galiwango Bryan</td>\n",
              "      <td>5.0</td>\n",
              "      <td>Top Notch</td>\n",
              "      <td>Fast Delivery,\\nSamsung really done a really g...</td>\n",
              "      <td>2021-02-16T00:00:00</td>\n",
              "      <td>NaN</td>\n",
              "      <td>9</td>\n",
              "    </tr>\n",
              "    <tr>\n",
              "      <th>2</th>\n",
              "      <td>2</td>\n",
              "      <td>B08N2FRMPN</td>\n",
              "      <td>Samsung Electronics Samsung Galaxy S21 5G | Fa...</td>\n",
              "      <td>Smartphone</td>\n",
              "      <td>Aaron Maharaj</td>\n",
              "      <td>5.0</td>\n",
              "      <td>Excellent phone and price combo</td>\n",
              "      <td>Pros:\\nSnapdragon 888,\\n8GB RAM,\\n128GB,\\nBack...</td>\n",
              "      <td>2021-03-24T00:00:00</td>\n",
              "      <td>NaN</td>\n",
              "      <td>4</td>\n",
              "    </tr>\n",
              "    <tr>\n",
              "      <th>3</th>\n",
              "      <td>3</td>\n",
              "      <td>B08N2FRMPN</td>\n",
              "      <td>Samsung Electronics Samsung Galaxy S21 5G | Fa...</td>\n",
              "      <td>Smartphone</td>\n",
              "      <td>AD</td>\n",
              "      <td>3.0</td>\n",
              "      <td>Does not worth the money with its standard fea...</td>\n",
              "      <td>The enhancements  they have been talking about...</td>\n",
              "      <td>2021-03-31T00:00:00</td>\n",
              "      <td>NaN</td>\n",
              "      <td>2</td>\n",
              "    </tr>\n",
              "    <tr>\n",
              "      <th>4</th>\n",
              "      <td>4</td>\n",
              "      <td>B08N2FRMPN</td>\n",
              "      <td>Samsung Electronics Samsung Galaxy S21 5G | Fa...</td>\n",
              "      <td>Smartphone</td>\n",
              "      <td>NessyP83</td>\n",
              "      <td>5.0</td>\n",
              "      <td>Perfect upgrade</td>\n",
              "      <td>Great upgrade. Battery is really good. Photos ...</td>\n",
              "      <td>2021-03-07T00:00:00</td>\n",
              "      <td>NaN</td>\n",
              "      <td>2</td>\n",
              "    </tr>\n",
              "    <tr>\n",
              "      <th>...</th>\n",
              "      <td>...</td>\n",
              "      <td>...</td>\n",
              "      <td>...</td>\n",
              "      <td>...</td>\n",
              "      <td>...</td>\n",
              "      <td>...</td>\n",
              "      <td>...</td>\n",
              "      <td>...</td>\n",
              "      <td>...</td>\n",
              "      <td>...</td>\n",
              "      <td>...</td>\n",
              "    </tr>\n",
              "    <tr>\n",
              "      <th>11099</th>\n",
              "      <td>11099</td>\n",
              "      <td>B07P85CDHG</td>\n",
              "      <td>Sony SRS-XB12 Mini Bluetooth Speaker Loud Extr...</td>\n",
              "      <td>Speaker</td>\n",
              "      <td>SomePerson</td>\n",
              "      <td>2.0</td>\n",
              "      <td>Disappointing audio quality</td>\n",
              "      <td>While there are some major pros for this speak...</td>\n",
              "      <td>2019-06-24T00:00:00</td>\n",
              "      <td>NaN</td>\n",
              "      <td>4</td>\n",
              "    </tr>\n",
              "    <tr>\n",
              "      <th>11100</th>\n",
              "      <td>11100</td>\n",
              "      <td>B07P85CDHG</td>\n",
              "      <td>Sony SRS-XB12 Mini Bluetooth Speaker Loud Extr...</td>\n",
              "      <td>Speaker</td>\n",
              "      <td>Irving Washington</td>\n",
              "      <td>5.0</td>\n",
              "      <td>Sony SRS-XB12 Speakers</td>\n",
              "      <td>This is my third set of these things.\\nFor yea...</td>\n",
              "      <td>2020-11-15T00:00:00</td>\n",
              "      <td>NaN</td>\n",
              "      <td>0</td>\n",
              "    </tr>\n",
              "    <tr>\n",
              "      <th>11101</th>\n",
              "      <td>11101</td>\n",
              "      <td>B07P85CDHG</td>\n",
              "      <td>Sony SRS-XB12 Mini Bluetooth Speaker Loud Extr...</td>\n",
              "      <td>Speaker</td>\n",
              "      <td>Don Caruana</td>\n",
              "      <td>5.0</td>\n",
              "      <td>Great sound in a small package!</td>\n",
              "      <td>Absolutely LOVE the sound on this speaker! No ...</td>\n",
              "      <td>2019-08-20T00:00:00</td>\n",
              "      <td>NaN</td>\n",
              "      <td>2</td>\n",
              "    </tr>\n",
              "    <tr>\n",
              "      <th>11102</th>\n",
              "      <td>11102</td>\n",
              "      <td>B07P85CDHG</td>\n",
              "      <td>Sony SRS-XB12 Mini Bluetooth Speaker Loud Extr...</td>\n",
              "      <td>Speaker</td>\n",
              "      <td>Twila MK</td>\n",
              "      <td>5.0</td>\n",
              "      <td>Pretty great!</td>\n",
              "      <td>This little guy is pretty great. I recently mo...</td>\n",
              "      <td>2020-07-03T00:00:00</td>\n",
              "      <td>NaN</td>\n",
              "      <td>1</td>\n",
              "    </tr>\n",
              "    <tr>\n",
              "      <th>11103</th>\n",
              "      <td>11103</td>\n",
              "      <td>B07P85CDHG</td>\n",
              "      <td>Sony SRS-XB12 Mini Bluetooth Speaker Loud Extr...</td>\n",
              "      <td>Speaker</td>\n",
              "      <td>Phil in Magnolia</td>\n",
              "      <td>5.0</td>\n",
              "      <td>Great Small Sony Bluetooth Speaker</td>\n",
              "      <td>I purchased one of these Sony SRS-XB12 bluetoo...</td>\n",
              "      <td>2020-12-28T00:00:00</td>\n",
              "      <td>NaN</td>\n",
              "      <td>0</td>\n",
              "    </tr>\n",
              "  </tbody>\n",
              "</table>\n",
              "<p>11104 rows × 11 columns</p>\n",
              "</div>"
            ],
            "text/plain": [
              "       index  product_id  ... image upvotes\n",
              "0          0  B08N2FRMPN  ...   NaN      11\n",
              "1          1  B08N2FRMPN  ...   NaN       9\n",
              "2          2  B08N2FRMPN  ...   NaN       4\n",
              "3          3  B08N2FRMPN  ...   NaN       2\n",
              "4          4  B08N2FRMPN  ...   NaN       2\n",
              "...      ...         ...  ...   ...     ...\n",
              "11099  11099  B07P85CDHG  ...   NaN       4\n",
              "11100  11100  B07P85CDHG  ...   NaN       0\n",
              "11101  11101  B07P85CDHG  ...   NaN       2\n",
              "11102  11102  B07P85CDHG  ...   NaN       1\n",
              "11103  11103  B07P85CDHG  ...   NaN       0\n",
              "\n",
              "[11104 rows x 11 columns]"
            ]
          },
          "metadata": {
            "tags": []
          },
          "execution_count": 107
        }
      ]
    },
    {
      "cell_type": "code",
      "metadata": {
        "colab": {
          "base_uri": "https://localhost:8080/"
        },
        "id": "8DCz_VyoUx2b",
        "outputId": "194940d8-9c44-4f8a-89f8-23c0e0672771"
      },
      "source": [
        "review_dataset_new = pd.read_csv('review_table_new.csv', engine='python')\n",
        "review_dataset_new['content'] = review_dataset_new['review_title']+ \".\\n \" +review_dataset_new['review']\n",
        "#drop empty rows if elements are missing in 'content' column\n",
        "review_dataset_new =review_dataset_new.dropna(subset=['content'])\n",
        "\n",
        "#drop duplicates from dataframe of elements are missing in 'content' column\n",
        "review_dataset_new.drop_duplicates(subset=['content'])\n",
        "\n",
        "#resetting index\n",
        "review_dataset_new.reset_index(drop=True, inplace=True)"
      ],
      "execution_count": null,
      "outputs": [
        {
          "output_type": "stream",
          "text": [
            "/usr/local/lib/python3.7/dist-packages/ipykernel_launcher.py:1: SettingWithCopyWarning: \n",
            "A value is trying to be set on a copy of a slice from a DataFrame.\n",
            "Try using .loc[row_indexer,col_indexer] = value instead\n",
            "\n",
            "See the caveats in the documentation: https://pandas.pydata.org/pandas-docs/stable/user_guide/indexing.html#returning-a-view-versus-a-copy\n",
            "  \"\"\"Entry point for launching an IPython kernel.\n"
          ],
          "name": "stderr"
        }
      ]
    },
    {
      "cell_type": "code",
      "metadata": {
        "colab": {
          "base_uri": "https://localhost:8080/",
          "height": 1000
        },
        "id": "T6KSJdsyVWRp",
        "outputId": "c5f2edfc-3381-447a-d7f2-0a02a3bbd5c3"
      },
      "source": [
        "review_dataset_new"
      ],
      "execution_count": null,
      "outputs": [
        {
          "output_type": "execute_result",
          "data": {
            "text/html": [
              "<div>\n",
              "<style scoped>\n",
              "    .dataframe tbody tr th:only-of-type {\n",
              "        vertical-align: middle;\n",
              "    }\n",
              "\n",
              "    .dataframe tbody tr th {\n",
              "        vertical-align: top;\n",
              "    }\n",
              "\n",
              "    .dataframe thead th {\n",
              "        text-align: right;\n",
              "    }\n",
              "</style>\n",
              "<table border=\"1\" class=\"dataframe\">\n",
              "  <thead>\n",
              "    <tr style=\"text-align: right;\">\n",
              "      <th></th>\n",
              "      <th>index</th>\n",
              "      <th>product_id</th>\n",
              "      <th>product</th>\n",
              "      <th>generic_product</th>\n",
              "      <th>uname</th>\n",
              "      <th>rating</th>\n",
              "      <th>review_title</th>\n",
              "      <th>review</th>\n",
              "      <th>date</th>\n",
              "      <th>image</th>\n",
              "      <th>upvotes</th>\n",
              "      <th>content</th>\n",
              "    </tr>\n",
              "  </thead>\n",
              "  <tbody>\n",
              "    <tr>\n",
              "      <th>0</th>\n",
              "      <td>0</td>\n",
              "      <td>B08N2FRMPN</td>\n",
              "      <td>Samsung Electronics Samsung Galaxy S21 5G | Fa...</td>\n",
              "      <td>Smartphone</td>\n",
              "      <td>SourceIt</td>\n",
              "      <td>2.0</td>\n",
              "      <td>Phone come without charger....Interesting</td>\n",
              "      <td>This item doesn't came with the charger......w...</td>\n",
              "      <td>2021-03-21T00:00:00</td>\n",
              "      <td>NaN</td>\n",
              "      <td>11</td>\n",
              "      <td>Phone come without charger....Interesting.\\n T...</td>\n",
              "    </tr>\n",
              "    <tr>\n",
              "      <th>1</th>\n",
              "      <td>1</td>\n",
              "      <td>B08N2FRMPN</td>\n",
              "      <td>Samsung Electronics Samsung Galaxy S21 5G | Fa...</td>\n",
              "      <td>Smartphone</td>\n",
              "      <td>Galiwango Bryan</td>\n",
              "      <td>5.0</td>\n",
              "      <td>Top Notch</td>\n",
              "      <td>Fast Delivery,\\nSamsung really done a really g...</td>\n",
              "      <td>2021-02-16T00:00:00</td>\n",
              "      <td>NaN</td>\n",
              "      <td>9</td>\n",
              "      <td>Top Notch.\\n Fast Delivery,\\nSamsung really do...</td>\n",
              "    </tr>\n",
              "    <tr>\n",
              "      <th>2</th>\n",
              "      <td>2</td>\n",
              "      <td>B08N2FRMPN</td>\n",
              "      <td>Samsung Electronics Samsung Galaxy S21 5G | Fa...</td>\n",
              "      <td>Smartphone</td>\n",
              "      <td>Aaron Maharaj</td>\n",
              "      <td>5.0</td>\n",
              "      <td>Excellent phone and price combo</td>\n",
              "      <td>Pros:\\nSnapdragon 888,\\n8GB RAM,\\n128GB,\\nBack...</td>\n",
              "      <td>2021-03-24T00:00:00</td>\n",
              "      <td>NaN</td>\n",
              "      <td>4</td>\n",
              "      <td>Excellent phone and price combo.\\n Pros:\\nSnap...</td>\n",
              "    </tr>\n",
              "    <tr>\n",
              "      <th>3</th>\n",
              "      <td>3</td>\n",
              "      <td>B08N2FRMPN</td>\n",
              "      <td>Samsung Electronics Samsung Galaxy S21 5G | Fa...</td>\n",
              "      <td>Smartphone</td>\n",
              "      <td>AD</td>\n",
              "      <td>3.0</td>\n",
              "      <td>Does not worth the money with its standard fea...</td>\n",
              "      <td>The enhancements  they have been talking about...</td>\n",
              "      <td>2021-03-31T00:00:00</td>\n",
              "      <td>NaN</td>\n",
              "      <td>2</td>\n",
              "      <td>Does not worth the money with its standard fea...</td>\n",
              "    </tr>\n",
              "    <tr>\n",
              "      <th>4</th>\n",
              "      <td>4</td>\n",
              "      <td>B08N2FRMPN</td>\n",
              "      <td>Samsung Electronics Samsung Galaxy S21 5G | Fa...</td>\n",
              "      <td>Smartphone</td>\n",
              "      <td>NessyP83</td>\n",
              "      <td>5.0</td>\n",
              "      <td>Perfect upgrade</td>\n",
              "      <td>Great upgrade. Battery is really good. Photos ...</td>\n",
              "      <td>2021-03-07T00:00:00</td>\n",
              "      <td>NaN</td>\n",
              "      <td>2</td>\n",
              "      <td>Perfect upgrade.\\n Great upgrade. Battery is r...</td>\n",
              "    </tr>\n",
              "    <tr>\n",
              "      <th>...</th>\n",
              "      <td>...</td>\n",
              "      <td>...</td>\n",
              "      <td>...</td>\n",
              "      <td>...</td>\n",
              "      <td>...</td>\n",
              "      <td>...</td>\n",
              "      <td>...</td>\n",
              "      <td>...</td>\n",
              "      <td>...</td>\n",
              "      <td>...</td>\n",
              "      <td>...</td>\n",
              "      <td>...</td>\n",
              "    </tr>\n",
              "    <tr>\n",
              "      <th>11098</th>\n",
              "      <td>11099</td>\n",
              "      <td>B07P85CDHG</td>\n",
              "      <td>Sony SRS-XB12 Mini Bluetooth Speaker Loud Extr...</td>\n",
              "      <td>Speaker</td>\n",
              "      <td>SomePerson</td>\n",
              "      <td>2.0</td>\n",
              "      <td>Disappointing audio quality</td>\n",
              "      <td>While there are some major pros for this speak...</td>\n",
              "      <td>2019-06-24T00:00:00</td>\n",
              "      <td>NaN</td>\n",
              "      <td>4</td>\n",
              "      <td>Disappointing audio quality.\\n While there are...</td>\n",
              "    </tr>\n",
              "    <tr>\n",
              "      <th>11099</th>\n",
              "      <td>11100</td>\n",
              "      <td>B07P85CDHG</td>\n",
              "      <td>Sony SRS-XB12 Mini Bluetooth Speaker Loud Extr...</td>\n",
              "      <td>Speaker</td>\n",
              "      <td>Irving Washington</td>\n",
              "      <td>5.0</td>\n",
              "      <td>Sony SRS-XB12 Speakers</td>\n",
              "      <td>This is my third set of these things.\\nFor yea...</td>\n",
              "      <td>2020-11-15T00:00:00</td>\n",
              "      <td>NaN</td>\n",
              "      <td>0</td>\n",
              "      <td>Sony SRS-XB12 Speakers.\\n This is my third set...</td>\n",
              "    </tr>\n",
              "    <tr>\n",
              "      <th>11100</th>\n",
              "      <td>11101</td>\n",
              "      <td>B07P85CDHG</td>\n",
              "      <td>Sony SRS-XB12 Mini Bluetooth Speaker Loud Extr...</td>\n",
              "      <td>Speaker</td>\n",
              "      <td>Don Caruana</td>\n",
              "      <td>5.0</td>\n",
              "      <td>Great sound in a small package!</td>\n",
              "      <td>Absolutely LOVE the sound on this speaker! No ...</td>\n",
              "      <td>2019-08-20T00:00:00</td>\n",
              "      <td>NaN</td>\n",
              "      <td>2</td>\n",
              "      <td>Great sound in a small package!.\\n Absolutely ...</td>\n",
              "    </tr>\n",
              "    <tr>\n",
              "      <th>11101</th>\n",
              "      <td>11102</td>\n",
              "      <td>B07P85CDHG</td>\n",
              "      <td>Sony SRS-XB12 Mini Bluetooth Speaker Loud Extr...</td>\n",
              "      <td>Speaker</td>\n",
              "      <td>Twila MK</td>\n",
              "      <td>5.0</td>\n",
              "      <td>Pretty great!</td>\n",
              "      <td>This little guy is pretty great. I recently mo...</td>\n",
              "      <td>2020-07-03T00:00:00</td>\n",
              "      <td>NaN</td>\n",
              "      <td>1</td>\n",
              "      <td>Pretty great!.\\n This little guy is pretty gre...</td>\n",
              "    </tr>\n",
              "    <tr>\n",
              "      <th>11102</th>\n",
              "      <td>11103</td>\n",
              "      <td>B07P85CDHG</td>\n",
              "      <td>Sony SRS-XB12 Mini Bluetooth Speaker Loud Extr...</td>\n",
              "      <td>Speaker</td>\n",
              "      <td>Phil in Magnolia</td>\n",
              "      <td>5.0</td>\n",
              "      <td>Great Small Sony Bluetooth Speaker</td>\n",
              "      <td>I purchased one of these Sony SRS-XB12 bluetoo...</td>\n",
              "      <td>2020-12-28T00:00:00</td>\n",
              "      <td>NaN</td>\n",
              "      <td>0</td>\n",
              "      <td>Great Small Sony Bluetooth Speaker.\\n I purcha...</td>\n",
              "    </tr>\n",
              "  </tbody>\n",
              "</table>\n",
              "<p>11103 rows × 12 columns</p>\n",
              "</div>"
            ],
            "text/plain": [
              "       index  ...                                            content\n",
              "0          0  ...  Phone come without charger....Interesting.\\n T...\n",
              "1          1  ...  Top Notch.\\n Fast Delivery,\\nSamsung really do...\n",
              "2          2  ...  Excellent phone and price combo.\\n Pros:\\nSnap...\n",
              "3          3  ...  Does not worth the money with its standard fea...\n",
              "4          4  ...  Perfect upgrade.\\n Great upgrade. Battery is r...\n",
              "...      ...  ...                                                ...\n",
              "11098  11099  ...  Disappointing audio quality.\\n While there are...\n",
              "11099  11100  ...  Sony SRS-XB12 Speakers.\\n This is my third set...\n",
              "11100  11101  ...  Great sound in a small package!.\\n Absolutely ...\n",
              "11101  11102  ...  Pretty great!.\\n This little guy is pretty gre...\n",
              "11102  11103  ...  Great Small Sony Bluetooth Speaker.\\n I purcha...\n",
              "\n",
              "[11103 rows x 12 columns]"
            ]
          },
          "metadata": {
            "tags": []
          },
          "execution_count": 113
        }
      ]
    },
    {
      "cell_type": "code",
      "metadata": {
        "id": "Z6x_PIYNUWJv"
      },
      "source": [
        "review_dataset_new['BERT_polarity']  = review_dataset_new['content'].apply(bert_predict)"
      ],
      "execution_count": null,
      "outputs": []
    },
    {
      "cell_type": "code",
      "metadata": {
        "colab": {
          "base_uri": "https://localhost:8080/",
          "height": 53
        },
        "id": "G1AU3ErTZvDv",
        "outputId": "ed67a0be-6d3b-4e67-e8a2-c38b5f02335c"
      },
      "source": [
        "review_dataset_new.content[0]"
      ],
      "execution_count": null,
      "outputs": [
        {
          "output_type": "execute_result",
          "data": {
            "application/vnd.google.colaboratory.intrinsic+json": {
              "type": "string"
            },
            "text/plain": [
              "\"Phone come without charger....Interesting.\\n This item doesn't came with the charger......which suppose to come.....now i need to buy it seperately\""
            ]
          },
          "metadata": {
            "tags": []
          },
          "execution_count": 117
        }
      ]
    },
    {
      "cell_type": "code",
      "metadata": {
        "id": "1K_PgHS2aq2L"
      },
      "source": [
        ""
      ],
      "execution_count": null,
      "outputs": []
    },
    {
      "cell_type": "code",
      "metadata": {
        "id": "MdxrLJbkWCCx"
      },
      "source": [
        "review_dataset_new.to_csv(\"bert_new.csv\", index= False)"
      ],
      "execution_count": null,
      "outputs": []
    },
    {
      "cell_type": "markdown",
      "metadata": {
        "id": "8l9Kj3owTV6v"
      },
      "source": [
        "Generate CSV"
      ]
    },
    {
      "cell_type": "code",
      "metadata": {
        "id": "OJVRml5oTcox"
      },
      "source": [
        "bert_dataset = pd.read_csv('bert.csv', engine='python')"
      ],
      "execution_count": 270,
      "outputs": []
    },
    {
      "cell_type": "code",
      "metadata": {
        "id": "-Y8BGGbaVxCc"
      },
      "source": [
        "review_dataset_new = pd.read_csv('review_table_new.csv', engine='python')\n",
        "review_dataset_new['content'] = review_dataset_new['review_title']+ \".\\n \" +review_dataset_new['review']\n",
        "#drop empty rows if elements are missing in 'content' column\n",
        "review_dataset_new =review_dataset_new.dropna(subset=['content'])\n",
        "\n",
        "#drop duplicates from dataframe of elements are missing in 'content' column\n",
        "review_dataset_new.drop_duplicates(subset=['content'])\n",
        "\n",
        "#resetting index\n",
        "review_dataset_new.reset_index(drop=True, inplace=True)"
      ],
      "execution_count": 64,
      "outputs": []
    },
    {
      "cell_type": "markdown",
      "metadata": {
        "id": "KWVBpp3ETYqn"
      },
      "source": [
        "### Using Vader Sentiment "
      ]
    },
    {
      "cell_type": "code",
      "metadata": {
        "colab": {
          "base_uri": "https://localhost:8080/"
        },
        "id": "y4kpDy3zTYqn",
        "outputId": "a8c91f56-632d-4299-d6ce-feda5870cd4d"
      },
      "source": [
        "!pip install vaderSentiment"
      ],
      "execution_count": 62,
      "outputs": [
        {
          "output_type": "stream",
          "text": [
            "Collecting vaderSentiment\n",
            "\u001b[?25l  Downloading https://files.pythonhosted.org/packages/76/fc/310e16254683c1ed35eeb97386986d6c00bc29df17ce280aed64d55537e9/vaderSentiment-3.3.2-py2.py3-none-any.whl (125kB)\n",
            "\r\u001b[K     |██▋                             | 10kB 16.5MB/s eta 0:00:01\r\u001b[K     |█████▏                          | 20kB 10.2MB/s eta 0:00:01\r\u001b[K     |███████▉                        | 30kB 8.1MB/s eta 0:00:01\r\u001b[K     |██████████▍                     | 40kB 7.3MB/s eta 0:00:01\r\u001b[K     |█████████████                   | 51kB 5.6MB/s eta 0:00:01\r\u001b[K     |███████████████▋                | 61kB 5.4MB/s eta 0:00:01\r\u001b[K     |██████████████████▏             | 71kB 5.8MB/s eta 0:00:01\r\u001b[K     |████████████████████▉           | 81kB 6.3MB/s eta 0:00:01\r\u001b[K     |███████████████████████▍        | 92kB 6.2MB/s eta 0:00:01\r\u001b[K     |██████████████████████████      | 102kB 6.5MB/s eta 0:00:01\r\u001b[K     |████████████████████████████▋   | 112kB 6.5MB/s eta 0:00:01\r\u001b[K     |███████████████████████████████▏| 122kB 6.5MB/s eta 0:00:01\r\u001b[K     |████████████████████████████████| 133kB 6.5MB/s \n",
            "\u001b[?25hRequirement already satisfied: requests in /usr/local/lib/python3.7/dist-packages (from vaderSentiment) (2.23.0)\n",
            "Requirement already satisfied: idna<3,>=2.5 in /usr/local/lib/python3.7/dist-packages (from requests->vaderSentiment) (2.10)\n",
            "Requirement already satisfied: certifi>=2017.4.17 in /usr/local/lib/python3.7/dist-packages (from requests->vaderSentiment) (2020.12.5)\n",
            "Requirement already satisfied: chardet<4,>=3.0.2 in /usr/local/lib/python3.7/dist-packages (from requests->vaderSentiment) (3.0.4)\n",
            "Requirement already satisfied: urllib3!=1.25.0,!=1.25.1,<1.26,>=1.21.1 in /usr/local/lib/python3.7/dist-packages (from requests->vaderSentiment) (1.24.3)\n",
            "Installing collected packages: vaderSentiment\n",
            "Successfully installed vaderSentiment-3.3.2\n"
          ],
          "name": "stdout"
        }
      ]
    },
    {
      "cell_type": "code",
      "metadata": {
        "colab": {
          "base_uri": "https://localhost:8080/",
          "height": 113,
          "referenced_widgets": [
            "9458a24a4eab45da90990c9429a3fc9c",
            "be418087faa74fd4b699230f200b2c3d",
            "11a08836f31b459b8db1a15ca68b0745",
            "4c023f5750a74d4b865c79585c54b148",
            "d19c7d872fee45ef955d3bb642f7fa53",
            "cfd878e68112426f9060947e81c924e6",
            "1164a16ee2514feb8bb974f35ac1b10c",
            "bf605da5083245dbba754e16fc43e381",
            "c46a0c8cd11e480f84d3d4dd414faed2",
            "4716f3b50a6c46b992be637693b6ee3b",
            "0cea44f8d07144bd919d6e9aec667a87",
            "456fc66ed8e44542b588c3a54d64b1ac",
            "8a1a28d9bdd94c9b80b57e801b107060",
            "9aa0b7044ac14735b96cb898fe6e9300",
            "022b24d911604b0bb087afd507f579ad",
            "66a60fc3fb7d4c1a975aaf5264fb5786"
          ]
        },
        "id": "CACsn5P6TYqo",
        "outputId": "14b96eb2-230c-433a-f030-2fc0a614e483"
      },
      "source": [
        "from vaderSentiment.vaderSentiment import SentimentIntensityAnalyzer\n",
        "\n",
        "def normalise_vader(score):\n",
        "  score = (score+1)/2\n",
        "  return score\n",
        "\n",
        "sid = SentimentIntensityAnalyzer()\n",
        "\n",
        "review_dataset_new['vader_polarity'] = review_dataset_new['content'].progress_apply(lambda content: sid.polarity_scores(content))\n",
        "review_dataset_new['vader_polarity']  = review_dataset_new['vader_polarity'].apply(lambda score_dict: score_dict['compound'])\n",
        "review_dataset_new['vader_polarity']  = review_dataset_new['vader_polarity'].apply(normalise_vader)"
      ],
      "execution_count": 66,
      "outputs": [
        {
          "output_type": "display_data",
          "data": {
            "application/vnd.jupyter.widget-view+json": {
              "model_id": "9458a24a4eab45da90990c9429a3fc9c",
              "version_minor": 0,
              "version_major": 2
            },
            "text/plain": [
              "HBox(children=(FloatProgress(value=0.0, max=11103.0), HTML(value='')))"
            ]
          },
          "metadata": {
            "tags": []
          }
        },
        {
          "output_type": "stream",
          "text": [
            "\n"
          ],
          "name": "stdout"
        },
        {
          "output_type": "display_data",
          "data": {
            "application/vnd.jupyter.widget-view+json": {
              "model_id": "c46a0c8cd11e480f84d3d4dd414faed2",
              "version_minor": 0,
              "version_major": 2
            },
            "text/plain": [
              "HBox(children=(FloatProgress(value=0.0, max=11103.0), HTML(value='')))"
            ]
          },
          "metadata": {
            "tags": []
          }
        },
        {
          "output_type": "stream",
          "text": [
            "\n"
          ],
          "name": "stdout"
        }
      ]
    },
    {
      "cell_type": "code",
      "metadata": {
        "colab": {
          "base_uri": "https://localhost:8080/",
          "height": 553
        },
        "id": "lB-PdYEMTYqw",
        "outputId": "02b29d12-28bf-4af2-d0f5-37dab77fd957"
      },
      "source": [
        "review_dataset_new"
      ],
      "execution_count": 275,
      "outputs": [
        {
          "output_type": "execute_result",
          "data": {
            "text/html": [
              "<div>\n",
              "<style scoped>\n",
              "    .dataframe tbody tr th:only-of-type {\n",
              "        vertical-align: middle;\n",
              "    }\n",
              "\n",
              "    .dataframe tbody tr th {\n",
              "        vertical-align: top;\n",
              "    }\n",
              "\n",
              "    .dataframe thead th {\n",
              "        text-align: right;\n",
              "    }\n",
              "</style>\n",
              "<table border=\"1\" class=\"dataframe\">\n",
              "  <thead>\n",
              "    <tr style=\"text-align: right;\">\n",
              "      <th></th>\n",
              "      <th>index</th>\n",
              "      <th>product_id</th>\n",
              "      <th>product</th>\n",
              "      <th>generic_product</th>\n",
              "      <th>uname</th>\n",
              "      <th>rating</th>\n",
              "      <th>review_title</th>\n",
              "      <th>review</th>\n",
              "      <th>date</th>\n",
              "      <th>image</th>\n",
              "      <th>upvotes</th>\n",
              "      <th>content</th>\n",
              "      <th>vader_polarity</th>\n",
              "    </tr>\n",
              "  </thead>\n",
              "  <tbody>\n",
              "    <tr>\n",
              "      <th>0</th>\n",
              "      <td>0</td>\n",
              "      <td>B08N2FRMPN</td>\n",
              "      <td>Samsung Electronics Samsung Galaxy S21 5G | Fa...</td>\n",
              "      <td>Smartphone</td>\n",
              "      <td>SourceIt</td>\n",
              "      <td>2.0</td>\n",
              "      <td>Phone come without charger....Interesting</td>\n",
              "      <td>This item doesn't came with the charger......w...</td>\n",
              "      <td>2021-03-21T00:00:00</td>\n",
              "      <td>NaN</td>\n",
              "      <td>11</td>\n",
              "      <td>Phone come without charger....Interesting.\\n T...</td>\n",
              "      <td>0.50000</td>\n",
              "    </tr>\n",
              "    <tr>\n",
              "      <th>1</th>\n",
              "      <td>1</td>\n",
              "      <td>B08N2FRMPN</td>\n",
              "      <td>Samsung Electronics Samsung Galaxy S21 5G | Fa...</td>\n",
              "      <td>Smartphone</td>\n",
              "      <td>Galiwango Bryan</td>\n",
              "      <td>5.0</td>\n",
              "      <td>Top Notch</td>\n",
              "      <td>Fast Delivery,\\nSamsung really done a really g...</td>\n",
              "      <td>2021-02-16T00:00:00</td>\n",
              "      <td>NaN</td>\n",
              "      <td>9</td>\n",
              "      <td>Top Notch.\\n Fast Delivery,\\nSamsung really do...</td>\n",
              "      <td>0.97890</td>\n",
              "    </tr>\n",
              "    <tr>\n",
              "      <th>2</th>\n",
              "      <td>2</td>\n",
              "      <td>B08N2FRMPN</td>\n",
              "      <td>Samsung Electronics Samsung Galaxy S21 5G | Fa...</td>\n",
              "      <td>Smartphone</td>\n",
              "      <td>Aaron Maharaj</td>\n",
              "      <td>5.0</td>\n",
              "      <td>Excellent phone and price combo</td>\n",
              "      <td>Pros:\\nSnapdragon 888,\\n8GB RAM,\\n128GB,\\nBack...</td>\n",
              "      <td>2021-03-24T00:00:00</td>\n",
              "      <td>NaN</td>\n",
              "      <td>4</td>\n",
              "      <td>Excellent phone and price combo.\\n Pros:\\nSnap...</td>\n",
              "      <td>0.80815</td>\n",
              "    </tr>\n",
              "    <tr>\n",
              "      <th>3</th>\n",
              "      <td>3</td>\n",
              "      <td>B08N2FRMPN</td>\n",
              "      <td>Samsung Electronics Samsung Galaxy S21 5G | Fa...</td>\n",
              "      <td>Smartphone</td>\n",
              "      <td>AD</td>\n",
              "      <td>3.0</td>\n",
              "      <td>Does not worth the money with its standard fea...</td>\n",
              "      <td>The enhancements  they have been talking about...</td>\n",
              "      <td>2021-03-31T00:00:00</td>\n",
              "      <td>NaN</td>\n",
              "      <td>2</td>\n",
              "      <td>Does not worth the money with its standard fea...</td>\n",
              "      <td>0.80190</td>\n",
              "    </tr>\n",
              "    <tr>\n",
              "      <th>4</th>\n",
              "      <td>4</td>\n",
              "      <td>B08N2FRMPN</td>\n",
              "      <td>Samsung Electronics Samsung Galaxy S21 5G | Fa...</td>\n",
              "      <td>Smartphone</td>\n",
              "      <td>NessyP83</td>\n",
              "      <td>5.0</td>\n",
              "      <td>Perfect upgrade</td>\n",
              "      <td>Great upgrade. Battery is really good. Photos ...</td>\n",
              "      <td>2021-03-07T00:00:00</td>\n",
              "      <td>NaN</td>\n",
              "      <td>2</td>\n",
              "      <td>Perfect upgrade.\\n Great upgrade. Battery is r...</td>\n",
              "      <td>0.98910</td>\n",
              "    </tr>\n",
              "    <tr>\n",
              "      <th>...</th>\n",
              "      <td>...</td>\n",
              "      <td>...</td>\n",
              "      <td>...</td>\n",
              "      <td>...</td>\n",
              "      <td>...</td>\n",
              "      <td>...</td>\n",
              "      <td>...</td>\n",
              "      <td>...</td>\n",
              "      <td>...</td>\n",
              "      <td>...</td>\n",
              "      <td>...</td>\n",
              "      <td>...</td>\n",
              "      <td>...</td>\n",
              "    </tr>\n",
              "    <tr>\n",
              "      <th>11098</th>\n",
              "      <td>11099</td>\n",
              "      <td>B07P85CDHG</td>\n",
              "      <td>Sony SRS-XB12 Mini Bluetooth Speaker Loud Extr...</td>\n",
              "      <td>Speaker</td>\n",
              "      <td>SomePerson</td>\n",
              "      <td>2.0</td>\n",
              "      <td>Disappointing audio quality</td>\n",
              "      <td>While there are some major pros for this speak...</td>\n",
              "      <td>2019-06-24T00:00:00</td>\n",
              "      <td>NaN</td>\n",
              "      <td>4</td>\n",
              "      <td>Disappointing audio quality.\\n While there are...</td>\n",
              "      <td>0.19200</td>\n",
              "    </tr>\n",
              "    <tr>\n",
              "      <th>11099</th>\n",
              "      <td>11100</td>\n",
              "      <td>B07P85CDHG</td>\n",
              "      <td>Sony SRS-XB12 Mini Bluetooth Speaker Loud Extr...</td>\n",
              "      <td>Speaker</td>\n",
              "      <td>Irving Washington</td>\n",
              "      <td>5.0</td>\n",
              "      <td>Sony SRS-XB12 Speakers</td>\n",
              "      <td>This is my third set of these things.\\nFor yea...</td>\n",
              "      <td>2020-11-15T00:00:00</td>\n",
              "      <td>NaN</td>\n",
              "      <td>0</td>\n",
              "      <td>Sony SRS-XB12 Speakers.\\n This is my third set...</td>\n",
              "      <td>0.97075</td>\n",
              "    </tr>\n",
              "    <tr>\n",
              "      <th>11100</th>\n",
              "      <td>11101</td>\n",
              "      <td>B07P85CDHG</td>\n",
              "      <td>Sony SRS-XB12 Mini Bluetooth Speaker Loud Extr...</td>\n",
              "      <td>Speaker</td>\n",
              "      <td>Don Caruana</td>\n",
              "      <td>5.0</td>\n",
              "      <td>Great sound in a small package!</td>\n",
              "      <td>Absolutely LOVE the sound on this speaker! No ...</td>\n",
              "      <td>2019-08-20T00:00:00</td>\n",
              "      <td>NaN</td>\n",
              "      <td>2</td>\n",
              "      <td>Great sound in a small package!.\\n Absolutely ...</td>\n",
              "      <td>0.93150</td>\n",
              "    </tr>\n",
              "    <tr>\n",
              "      <th>11101</th>\n",
              "      <td>11102</td>\n",
              "      <td>B07P85CDHG</td>\n",
              "      <td>Sony SRS-XB12 Mini Bluetooth Speaker Loud Extr...</td>\n",
              "      <td>Speaker</td>\n",
              "      <td>Twila MK</td>\n",
              "      <td>5.0</td>\n",
              "      <td>Pretty great!</td>\n",
              "      <td>This little guy is pretty great. I recently mo...</td>\n",
              "      <td>2020-07-03T00:00:00</td>\n",
              "      <td>NaN</td>\n",
              "      <td>1</td>\n",
              "      <td>Pretty great!.\\n This little guy is pretty gre...</td>\n",
              "      <td>0.99620</td>\n",
              "    </tr>\n",
              "    <tr>\n",
              "      <th>11102</th>\n",
              "      <td>11103</td>\n",
              "      <td>B07P85CDHG</td>\n",
              "      <td>Sony SRS-XB12 Mini Bluetooth Speaker Loud Extr...</td>\n",
              "      <td>Speaker</td>\n",
              "      <td>Phil in Magnolia</td>\n",
              "      <td>5.0</td>\n",
              "      <td>Great Small Sony Bluetooth Speaker</td>\n",
              "      <td>I purchased one of these Sony SRS-XB12 bluetoo...</td>\n",
              "      <td>2020-12-28T00:00:00</td>\n",
              "      <td>NaN</td>\n",
              "      <td>0</td>\n",
              "      <td>Great Small Sony Bluetooth Speaker.\\n I purcha...</td>\n",
              "      <td>0.99540</td>\n",
              "    </tr>\n",
              "  </tbody>\n",
              "</table>\n",
              "<p>11103 rows × 13 columns</p>\n",
              "</div>"
            ],
            "text/plain": [
              "       index  ... vader_polarity\n",
              "0          0  ...        0.50000\n",
              "1          1  ...        0.97890\n",
              "2          2  ...        0.80815\n",
              "3          3  ...        0.80190\n",
              "4          4  ...        0.98910\n",
              "...      ...  ...            ...\n",
              "11098  11099  ...        0.19200\n",
              "11099  11100  ...        0.97075\n",
              "11100  11101  ...        0.93150\n",
              "11101  11102  ...        0.99620\n",
              "11102  11103  ...        0.99540\n",
              "\n",
              "[11103 rows x 13 columns]"
            ]
          },
          "metadata": {
            "tags": []
          },
          "execution_count": 275
        }
      ]
    },
    {
      "cell_type": "code",
      "metadata": {
        "colab": {
          "base_uri": "https://localhost:8080/"
        },
        "id": "t10IbOoDEeQw",
        "outputId": "d8c54738-89c9-4401-e342-ef673bea8fd2"
      },
      "source": [
        "texts_new = [' '.join(clean_text(text)) for text in review_dataset_new.content.to_list()]\n",
        "sequence_new = tokenizer.texts_to_sequences(texts_new)\n",
        "X_new_pad = pad_sequences(sequence_new, maxlen = max_seq_len )\n",
        "prediction = BiLSTM.predict_proba(X_new_pad)"
      ],
      "execution_count": 276,
      "outputs": [
        {
          "output_type": "stream",
          "text": [
            "/usr/local/lib/python3.7/dist-packages/tensorflow/python/keras/engine/sequential.py:425: UserWarning: `model.predict_proba()` is deprecated and will be removed after 2021-01-01. Please use `model.predict()` instead.\n",
            "  warnings.warn('`model.predict_proba()` is deprecated and '\n"
          ],
          "name": "stderr"
        }
      ]
    },
    {
      "cell_type": "code",
      "metadata": {
        "colab": {
          "base_uri": "https://localhost:8080/"
        },
        "id": "iSlAWvi_EFUi",
        "outputId": "a51b5a16-b87f-4076-8747-d411757c64b5"
      },
      "source": [
        "len(prediction.tolist())"
      ],
      "execution_count": 277,
      "outputs": [
        {
          "output_type": "execute_result",
          "data": {
            "text/plain": [
              "11103"
            ]
          },
          "metadata": {
            "tags": []
          },
          "execution_count": 277
        }
      ]
    },
    {
      "cell_type": "code",
      "metadata": {
        "id": "NZcy2-brFU6R"
      },
      "source": [
        "bilstm = []\n",
        "for i in range(len(prediction.tolist())):\n",
        "  bilstm.append(prediction.tolist()[i][1])"
      ],
      "execution_count": 278,
      "outputs": []
    },
    {
      "cell_type": "code",
      "metadata": {
        "id": "aH6XcpKTXDES"
      },
      "source": [
        "from pandas import DataFrame\n",
        "bilstm_df = DataFrame(bilstm,columns=['BiLSTM_polarity'])"
      ],
      "execution_count": 279,
      "outputs": []
    },
    {
      "cell_type": "code",
      "metadata": {
        "id": "EGD-CuxnXJkg"
      },
      "source": [
        "review_dataset_new['BiLSTM_polarity'] = bilstm_df['BiLSTM_polarity']"
      ],
      "execution_count": 280,
      "outputs": []
    },
    {
      "cell_type": "code",
      "metadata": {
        "colab": {
          "base_uri": "https://localhost:8080/",
          "height": 553
        },
        "id": "AgFIIZO6attc",
        "outputId": "51f2c6e8-2845-4806-f7be-ec14d966d81c"
      },
      "source": [
        "review_dataset_new"
      ],
      "execution_count": 282,
      "outputs": [
        {
          "output_type": "execute_result",
          "data": {
            "text/html": [
              "<div>\n",
              "<style scoped>\n",
              "    .dataframe tbody tr th:only-of-type {\n",
              "        vertical-align: middle;\n",
              "    }\n",
              "\n",
              "    .dataframe tbody tr th {\n",
              "        vertical-align: top;\n",
              "    }\n",
              "\n",
              "    .dataframe thead th {\n",
              "        text-align: right;\n",
              "    }\n",
              "</style>\n",
              "<table border=\"1\" class=\"dataframe\">\n",
              "  <thead>\n",
              "    <tr style=\"text-align: right;\">\n",
              "      <th></th>\n",
              "      <th>index</th>\n",
              "      <th>product_id</th>\n",
              "      <th>product</th>\n",
              "      <th>generic_product</th>\n",
              "      <th>uname</th>\n",
              "      <th>rating</th>\n",
              "      <th>review_title</th>\n",
              "      <th>review</th>\n",
              "      <th>date</th>\n",
              "      <th>image</th>\n",
              "      <th>upvotes</th>\n",
              "      <th>content</th>\n",
              "      <th>vader_polarity</th>\n",
              "      <th>BiLSTM_polarity</th>\n",
              "    </tr>\n",
              "  </thead>\n",
              "  <tbody>\n",
              "    <tr>\n",
              "      <th>0</th>\n",
              "      <td>0</td>\n",
              "      <td>B08N2FRMPN</td>\n",
              "      <td>Samsung Electronics Samsung Galaxy S21 5G | Fa...</td>\n",
              "      <td>Smartphone</td>\n",
              "      <td>SourceIt</td>\n",
              "      <td>2.0</td>\n",
              "      <td>Phone come without charger....Interesting</td>\n",
              "      <td>This item doesn't came with the charger......w...</td>\n",
              "      <td>2021-03-21T00:00:00</td>\n",
              "      <td>NaN</td>\n",
              "      <td>11</td>\n",
              "      <td>Phone come without charger....Interesting.\\n T...</td>\n",
              "      <td>0.50000</td>\n",
              "      <td>0.674336</td>\n",
              "    </tr>\n",
              "    <tr>\n",
              "      <th>1</th>\n",
              "      <td>1</td>\n",
              "      <td>B08N2FRMPN</td>\n",
              "      <td>Samsung Electronics Samsung Galaxy S21 5G | Fa...</td>\n",
              "      <td>Smartphone</td>\n",
              "      <td>Galiwango Bryan</td>\n",
              "      <td>5.0</td>\n",
              "      <td>Top Notch</td>\n",
              "      <td>Fast Delivery,\\nSamsung really done a really g...</td>\n",
              "      <td>2021-02-16T00:00:00</td>\n",
              "      <td>NaN</td>\n",
              "      <td>9</td>\n",
              "      <td>Top Notch.\\n Fast Delivery,\\nSamsung really do...</td>\n",
              "      <td>0.97890</td>\n",
              "      <td>0.962041</td>\n",
              "    </tr>\n",
              "    <tr>\n",
              "      <th>2</th>\n",
              "      <td>2</td>\n",
              "      <td>B08N2FRMPN</td>\n",
              "      <td>Samsung Electronics Samsung Galaxy S21 5G | Fa...</td>\n",
              "      <td>Smartphone</td>\n",
              "      <td>Aaron Maharaj</td>\n",
              "      <td>5.0</td>\n",
              "      <td>Excellent phone and price combo</td>\n",
              "      <td>Pros:\\nSnapdragon 888,\\n8GB RAM,\\n128GB,\\nBack...</td>\n",
              "      <td>2021-03-24T00:00:00</td>\n",
              "      <td>NaN</td>\n",
              "      <td>4</td>\n",
              "      <td>Excellent phone and price combo.\\n Pros:\\nSnap...</td>\n",
              "      <td>0.80815</td>\n",
              "      <td>0.901285</td>\n",
              "    </tr>\n",
              "    <tr>\n",
              "      <th>3</th>\n",
              "      <td>3</td>\n",
              "      <td>B08N2FRMPN</td>\n",
              "      <td>Samsung Electronics Samsung Galaxy S21 5G | Fa...</td>\n",
              "      <td>Smartphone</td>\n",
              "      <td>AD</td>\n",
              "      <td>3.0</td>\n",
              "      <td>Does not worth the money with its standard fea...</td>\n",
              "      <td>The enhancements  they have been talking about...</td>\n",
              "      <td>2021-03-31T00:00:00</td>\n",
              "      <td>NaN</td>\n",
              "      <td>2</td>\n",
              "      <td>Does not worth the money with its standard fea...</td>\n",
              "      <td>0.80190</td>\n",
              "      <td>0.169424</td>\n",
              "    </tr>\n",
              "    <tr>\n",
              "      <th>4</th>\n",
              "      <td>4</td>\n",
              "      <td>B08N2FRMPN</td>\n",
              "      <td>Samsung Electronics Samsung Galaxy S21 5G | Fa...</td>\n",
              "      <td>Smartphone</td>\n",
              "      <td>NessyP83</td>\n",
              "      <td>5.0</td>\n",
              "      <td>Perfect upgrade</td>\n",
              "      <td>Great upgrade. Battery is really good. Photos ...</td>\n",
              "      <td>2021-03-07T00:00:00</td>\n",
              "      <td>NaN</td>\n",
              "      <td>2</td>\n",
              "      <td>Perfect upgrade.\\n Great upgrade. Battery is r...</td>\n",
              "      <td>0.98910</td>\n",
              "      <td>0.971558</td>\n",
              "    </tr>\n",
              "    <tr>\n",
              "      <th>...</th>\n",
              "      <td>...</td>\n",
              "      <td>...</td>\n",
              "      <td>...</td>\n",
              "      <td>...</td>\n",
              "      <td>...</td>\n",
              "      <td>...</td>\n",
              "      <td>...</td>\n",
              "      <td>...</td>\n",
              "      <td>...</td>\n",
              "      <td>...</td>\n",
              "      <td>...</td>\n",
              "      <td>...</td>\n",
              "      <td>...</td>\n",
              "      <td>...</td>\n",
              "    </tr>\n",
              "    <tr>\n",
              "      <th>11098</th>\n",
              "      <td>11099</td>\n",
              "      <td>B07P85CDHG</td>\n",
              "      <td>Sony SRS-XB12 Mini Bluetooth Speaker Loud Extr...</td>\n",
              "      <td>Speaker</td>\n",
              "      <td>SomePerson</td>\n",
              "      <td>2.0</td>\n",
              "      <td>Disappointing audio quality</td>\n",
              "      <td>While there are some major pros for this speak...</td>\n",
              "      <td>2019-06-24T00:00:00</td>\n",
              "      <td>NaN</td>\n",
              "      <td>4</td>\n",
              "      <td>Disappointing audio quality.\\n While there are...</td>\n",
              "      <td>0.19200</td>\n",
              "      <td>0.104203</td>\n",
              "    </tr>\n",
              "    <tr>\n",
              "      <th>11099</th>\n",
              "      <td>11100</td>\n",
              "      <td>B07P85CDHG</td>\n",
              "      <td>Sony SRS-XB12 Mini Bluetooth Speaker Loud Extr...</td>\n",
              "      <td>Speaker</td>\n",
              "      <td>Irving Washington</td>\n",
              "      <td>5.0</td>\n",
              "      <td>Sony SRS-XB12 Speakers</td>\n",
              "      <td>This is my third set of these things.\\nFor yea...</td>\n",
              "      <td>2020-11-15T00:00:00</td>\n",
              "      <td>NaN</td>\n",
              "      <td>0</td>\n",
              "      <td>Sony SRS-XB12 Speakers.\\n This is my third set...</td>\n",
              "      <td>0.97075</td>\n",
              "      <td>0.791141</td>\n",
              "    </tr>\n",
              "    <tr>\n",
              "      <th>11100</th>\n",
              "      <td>11101</td>\n",
              "      <td>B07P85CDHG</td>\n",
              "      <td>Sony SRS-XB12 Mini Bluetooth Speaker Loud Extr...</td>\n",
              "      <td>Speaker</td>\n",
              "      <td>Don Caruana</td>\n",
              "      <td>5.0</td>\n",
              "      <td>Great sound in a small package!</td>\n",
              "      <td>Absolutely LOVE the sound on this speaker! No ...</td>\n",
              "      <td>2019-08-20T00:00:00</td>\n",
              "      <td>NaN</td>\n",
              "      <td>2</td>\n",
              "      <td>Great sound in a small package!.\\n Absolutely ...</td>\n",
              "      <td>0.93150</td>\n",
              "      <td>0.805571</td>\n",
              "    </tr>\n",
              "    <tr>\n",
              "      <th>11101</th>\n",
              "      <td>11102</td>\n",
              "      <td>B07P85CDHG</td>\n",
              "      <td>Sony SRS-XB12 Mini Bluetooth Speaker Loud Extr...</td>\n",
              "      <td>Speaker</td>\n",
              "      <td>Twila MK</td>\n",
              "      <td>5.0</td>\n",
              "      <td>Pretty great!</td>\n",
              "      <td>This little guy is pretty great. I recently mo...</td>\n",
              "      <td>2020-07-03T00:00:00</td>\n",
              "      <td>NaN</td>\n",
              "      <td>1</td>\n",
              "      <td>Pretty great!.\\n This little guy is pretty gre...</td>\n",
              "      <td>0.99620</td>\n",
              "      <td>0.956364</td>\n",
              "    </tr>\n",
              "    <tr>\n",
              "      <th>11102</th>\n",
              "      <td>11103</td>\n",
              "      <td>B07P85CDHG</td>\n",
              "      <td>Sony SRS-XB12 Mini Bluetooth Speaker Loud Extr...</td>\n",
              "      <td>Speaker</td>\n",
              "      <td>Phil in Magnolia</td>\n",
              "      <td>5.0</td>\n",
              "      <td>Great Small Sony Bluetooth Speaker</td>\n",
              "      <td>I purchased one of these Sony SRS-XB12 bluetoo...</td>\n",
              "      <td>2020-12-28T00:00:00</td>\n",
              "      <td>NaN</td>\n",
              "      <td>0</td>\n",
              "      <td>Great Small Sony Bluetooth Speaker.\\n I purcha...</td>\n",
              "      <td>0.99540</td>\n",
              "      <td>0.964776</td>\n",
              "    </tr>\n",
              "  </tbody>\n",
              "</table>\n",
              "<p>11103 rows × 14 columns</p>\n",
              "</div>"
            ],
            "text/plain": [
              "       index  product_id  ... vader_polarity BiLSTM_polarity\n",
              "0          0  B08N2FRMPN  ...        0.50000        0.674336\n",
              "1          1  B08N2FRMPN  ...        0.97890        0.962041\n",
              "2          2  B08N2FRMPN  ...        0.80815        0.901285\n",
              "3          3  B08N2FRMPN  ...        0.80190        0.169424\n",
              "4          4  B08N2FRMPN  ...        0.98910        0.971558\n",
              "...      ...         ...  ...            ...             ...\n",
              "11098  11099  B07P85CDHG  ...        0.19200        0.104203\n",
              "11099  11100  B07P85CDHG  ...        0.97075        0.791141\n",
              "11100  11101  B07P85CDHG  ...        0.93150        0.805571\n",
              "11101  11102  B07P85CDHG  ...        0.99620        0.956364\n",
              "11102  11103  B07P85CDHG  ...        0.99540        0.964776\n",
              "\n",
              "[11103 rows x 14 columns]"
            ]
          },
          "metadata": {
            "tags": []
          },
          "execution_count": 282
        }
      ]
    },
    {
      "cell_type": "code",
      "metadata": {
        "colab": {
          "base_uri": "https://localhost:8080/",
          "height": 553
        },
        "id": "H82mk43PITq5",
        "outputId": "51ade098-aca1-468e-975b-1da41d89e50f"
      },
      "source": [
        "bert_dataset = pd.read_csv('bert_new.csv', engine='python')\n",
        "review_dataset_new['BERT_polarity'] = bert_dataset['BERT_polarity']\n",
        "review_dataset_new"
      ],
      "execution_count": 283,
      "outputs": [
        {
          "output_type": "execute_result",
          "data": {
            "text/html": [
              "<div>\n",
              "<style scoped>\n",
              "    .dataframe tbody tr th:only-of-type {\n",
              "        vertical-align: middle;\n",
              "    }\n",
              "\n",
              "    .dataframe tbody tr th {\n",
              "        vertical-align: top;\n",
              "    }\n",
              "\n",
              "    .dataframe thead th {\n",
              "        text-align: right;\n",
              "    }\n",
              "</style>\n",
              "<table border=\"1\" class=\"dataframe\">\n",
              "  <thead>\n",
              "    <tr style=\"text-align: right;\">\n",
              "      <th></th>\n",
              "      <th>index</th>\n",
              "      <th>product_id</th>\n",
              "      <th>product</th>\n",
              "      <th>generic_product</th>\n",
              "      <th>uname</th>\n",
              "      <th>rating</th>\n",
              "      <th>review_title</th>\n",
              "      <th>review</th>\n",
              "      <th>date</th>\n",
              "      <th>image</th>\n",
              "      <th>upvotes</th>\n",
              "      <th>content</th>\n",
              "      <th>vader_polarity</th>\n",
              "      <th>BiLSTM_polarity</th>\n",
              "      <th>BERT_polarity</th>\n",
              "    </tr>\n",
              "  </thead>\n",
              "  <tbody>\n",
              "    <tr>\n",
              "      <th>0</th>\n",
              "      <td>0</td>\n",
              "      <td>B08N2FRMPN</td>\n",
              "      <td>Samsung Electronics Samsung Galaxy S21 5G | Fa...</td>\n",
              "      <td>Smartphone</td>\n",
              "      <td>SourceIt</td>\n",
              "      <td>2.0</td>\n",
              "      <td>Phone come without charger....Interesting</td>\n",
              "      <td>This item doesn't came with the charger......w...</td>\n",
              "      <td>2021-03-21T00:00:00</td>\n",
              "      <td>NaN</td>\n",
              "      <td>11</td>\n",
              "      <td>Phone come without charger....Interesting.\\n T...</td>\n",
              "      <td>0.50000</td>\n",
              "      <td>0.674336</td>\n",
              "      <td>0.993369</td>\n",
              "    </tr>\n",
              "    <tr>\n",
              "      <th>1</th>\n",
              "      <td>1</td>\n",
              "      <td>B08N2FRMPN</td>\n",
              "      <td>Samsung Electronics Samsung Galaxy S21 5G | Fa...</td>\n",
              "      <td>Smartphone</td>\n",
              "      <td>Galiwango Bryan</td>\n",
              "      <td>5.0</td>\n",
              "      <td>Top Notch</td>\n",
              "      <td>Fast Delivery,\\nSamsung really done a really g...</td>\n",
              "      <td>2021-02-16T00:00:00</td>\n",
              "      <td>NaN</td>\n",
              "      <td>9</td>\n",
              "      <td>Top Notch.\\n Fast Delivery,\\nSamsung really do...</td>\n",
              "      <td>0.97890</td>\n",
              "      <td>0.962041</td>\n",
              "      <td>0.999109</td>\n",
              "    </tr>\n",
              "    <tr>\n",
              "      <th>2</th>\n",
              "      <td>2</td>\n",
              "      <td>B08N2FRMPN</td>\n",
              "      <td>Samsung Electronics Samsung Galaxy S21 5G | Fa...</td>\n",
              "      <td>Smartphone</td>\n",
              "      <td>Aaron Maharaj</td>\n",
              "      <td>5.0</td>\n",
              "      <td>Excellent phone and price combo</td>\n",
              "      <td>Pros:\\nSnapdragon 888,\\n8GB RAM,\\n128GB,\\nBack...</td>\n",
              "      <td>2021-03-24T00:00:00</td>\n",
              "      <td>NaN</td>\n",
              "      <td>4</td>\n",
              "      <td>Excellent phone and price combo.\\n Pros:\\nSnap...</td>\n",
              "      <td>0.80815</td>\n",
              "      <td>0.901285</td>\n",
              "      <td>0.999169</td>\n",
              "    </tr>\n",
              "    <tr>\n",
              "      <th>3</th>\n",
              "      <td>3</td>\n",
              "      <td>B08N2FRMPN</td>\n",
              "      <td>Samsung Electronics Samsung Galaxy S21 5G | Fa...</td>\n",
              "      <td>Smartphone</td>\n",
              "      <td>AD</td>\n",
              "      <td>3.0</td>\n",
              "      <td>Does not worth the money with its standard fea...</td>\n",
              "      <td>The enhancements  they have been talking about...</td>\n",
              "      <td>2021-03-31T00:00:00</td>\n",
              "      <td>NaN</td>\n",
              "      <td>2</td>\n",
              "      <td>Does not worth the money with its standard fea...</td>\n",
              "      <td>0.80190</td>\n",
              "      <td>0.169424</td>\n",
              "      <td>0.001593</td>\n",
              "    </tr>\n",
              "    <tr>\n",
              "      <th>4</th>\n",
              "      <td>4</td>\n",
              "      <td>B08N2FRMPN</td>\n",
              "      <td>Samsung Electronics Samsung Galaxy S21 5G | Fa...</td>\n",
              "      <td>Smartphone</td>\n",
              "      <td>NessyP83</td>\n",
              "      <td>5.0</td>\n",
              "      <td>Perfect upgrade</td>\n",
              "      <td>Great upgrade. Battery is really good. Photos ...</td>\n",
              "      <td>2021-03-07T00:00:00</td>\n",
              "      <td>NaN</td>\n",
              "      <td>2</td>\n",
              "      <td>Perfect upgrade.\\n Great upgrade. Battery is r...</td>\n",
              "      <td>0.98910</td>\n",
              "      <td>0.971558</td>\n",
              "      <td>0.999334</td>\n",
              "    </tr>\n",
              "    <tr>\n",
              "      <th>...</th>\n",
              "      <td>...</td>\n",
              "      <td>...</td>\n",
              "      <td>...</td>\n",
              "      <td>...</td>\n",
              "      <td>...</td>\n",
              "      <td>...</td>\n",
              "      <td>...</td>\n",
              "      <td>...</td>\n",
              "      <td>...</td>\n",
              "      <td>...</td>\n",
              "      <td>...</td>\n",
              "      <td>...</td>\n",
              "      <td>...</td>\n",
              "      <td>...</td>\n",
              "      <td>...</td>\n",
              "    </tr>\n",
              "    <tr>\n",
              "      <th>11098</th>\n",
              "      <td>11099</td>\n",
              "      <td>B07P85CDHG</td>\n",
              "      <td>Sony SRS-XB12 Mini Bluetooth Speaker Loud Extr...</td>\n",
              "      <td>Speaker</td>\n",
              "      <td>SomePerson</td>\n",
              "      <td>2.0</td>\n",
              "      <td>Disappointing audio quality</td>\n",
              "      <td>While there are some major pros for this speak...</td>\n",
              "      <td>2019-06-24T00:00:00</td>\n",
              "      <td>NaN</td>\n",
              "      <td>4</td>\n",
              "      <td>Disappointing audio quality.\\n While there are...</td>\n",
              "      <td>0.19200</td>\n",
              "      <td>0.104203</td>\n",
              "      <td>0.001645</td>\n",
              "    </tr>\n",
              "    <tr>\n",
              "      <th>11099</th>\n",
              "      <td>11100</td>\n",
              "      <td>B07P85CDHG</td>\n",
              "      <td>Sony SRS-XB12 Mini Bluetooth Speaker Loud Extr...</td>\n",
              "      <td>Speaker</td>\n",
              "      <td>Irving Washington</td>\n",
              "      <td>5.0</td>\n",
              "      <td>Sony SRS-XB12 Speakers</td>\n",
              "      <td>This is my third set of these things.\\nFor yea...</td>\n",
              "      <td>2020-11-15T00:00:00</td>\n",
              "      <td>NaN</td>\n",
              "      <td>0</td>\n",
              "      <td>Sony SRS-XB12 Speakers.\\n This is my third set...</td>\n",
              "      <td>0.97075</td>\n",
              "      <td>0.791141</td>\n",
              "      <td>0.996306</td>\n",
              "    </tr>\n",
              "    <tr>\n",
              "      <th>11100</th>\n",
              "      <td>11101</td>\n",
              "      <td>B07P85CDHG</td>\n",
              "      <td>Sony SRS-XB12 Mini Bluetooth Speaker Loud Extr...</td>\n",
              "      <td>Speaker</td>\n",
              "      <td>Don Caruana</td>\n",
              "      <td>5.0</td>\n",
              "      <td>Great sound in a small package!</td>\n",
              "      <td>Absolutely LOVE the sound on this speaker! No ...</td>\n",
              "      <td>2019-08-20T00:00:00</td>\n",
              "      <td>NaN</td>\n",
              "      <td>2</td>\n",
              "      <td>Great sound in a small package!.\\n Absolutely ...</td>\n",
              "      <td>0.93150</td>\n",
              "      <td>0.805571</td>\n",
              "      <td>0.998956</td>\n",
              "    </tr>\n",
              "    <tr>\n",
              "      <th>11101</th>\n",
              "      <td>11102</td>\n",
              "      <td>B07P85CDHG</td>\n",
              "      <td>Sony SRS-XB12 Mini Bluetooth Speaker Loud Extr...</td>\n",
              "      <td>Speaker</td>\n",
              "      <td>Twila MK</td>\n",
              "      <td>5.0</td>\n",
              "      <td>Pretty great!</td>\n",
              "      <td>This little guy is pretty great. I recently mo...</td>\n",
              "      <td>2020-07-03T00:00:00</td>\n",
              "      <td>NaN</td>\n",
              "      <td>1</td>\n",
              "      <td>Pretty great!.\\n This little guy is pretty gre...</td>\n",
              "      <td>0.99620</td>\n",
              "      <td>0.956364</td>\n",
              "      <td>0.999163</td>\n",
              "    </tr>\n",
              "    <tr>\n",
              "      <th>11102</th>\n",
              "      <td>11103</td>\n",
              "      <td>B07P85CDHG</td>\n",
              "      <td>Sony SRS-XB12 Mini Bluetooth Speaker Loud Extr...</td>\n",
              "      <td>Speaker</td>\n",
              "      <td>Phil in Magnolia</td>\n",
              "      <td>5.0</td>\n",
              "      <td>Great Small Sony Bluetooth Speaker</td>\n",
              "      <td>I purchased one of these Sony SRS-XB12 bluetoo...</td>\n",
              "      <td>2020-12-28T00:00:00</td>\n",
              "      <td>NaN</td>\n",
              "      <td>0</td>\n",
              "      <td>Great Small Sony Bluetooth Speaker.\\n I purcha...</td>\n",
              "      <td>0.99540</td>\n",
              "      <td>0.964776</td>\n",
              "      <td>0.999008</td>\n",
              "    </tr>\n",
              "  </tbody>\n",
              "</table>\n",
              "<p>11103 rows × 15 columns</p>\n",
              "</div>"
            ],
            "text/plain": [
              "       index  product_id  ... BiLSTM_polarity BERT_polarity\n",
              "0          0  B08N2FRMPN  ...        0.674336      0.993369\n",
              "1          1  B08N2FRMPN  ...        0.962041      0.999109\n",
              "2          2  B08N2FRMPN  ...        0.901285      0.999169\n",
              "3          3  B08N2FRMPN  ...        0.169424      0.001593\n",
              "4          4  B08N2FRMPN  ...        0.971558      0.999334\n",
              "...      ...         ...  ...             ...           ...\n",
              "11098  11099  B07P85CDHG  ...        0.104203      0.001645\n",
              "11099  11100  B07P85CDHG  ...        0.791141      0.996306\n",
              "11100  11101  B07P85CDHG  ...        0.805571      0.998956\n",
              "11101  11102  B07P85CDHG  ...        0.956364      0.999163\n",
              "11102  11103  B07P85CDHG  ...        0.964776      0.999008\n",
              "\n",
              "[11103 rows x 15 columns]"
            ]
          },
          "metadata": {
            "tags": []
          },
          "execution_count": 283
        }
      ]
    },
    {
      "cell_type": "code",
      "metadata": {
        "id": "FlzlGgq_GGu8"
      },
      "source": [
        "review_dataset_new.to_csv(\"review_table_edited.csv\", index= False)"
      ],
      "execution_count": 284,
      "outputs": []
    },
    {
      "cell_type": "code",
      "metadata": {
        "id": "rKonkklTtX6-"
      },
      "source": [
        "# creates a HDF5 file 'my_model.h5'\n",
        "BiLSTM.save('BiLSTM_Word2Vec.h5')"
      ],
      "execution_count": 197,
      "outputs": []
    },
    {
      "cell_type": "code",
      "metadata": {
        "id": "CcSV4oeLBUdA"
      },
      "source": [
        "def bilstm_polarity(message):\n",
        "  seq = tokenizer.texts_to_sequences(message)\n",
        "  padded = pad_sequences(seq, maxlen=max_seq_len)\n",
        "  pred = model.predict(padded)\n",
        "  classes = label[np.argmax(pred)]\n",
        "  prediction = BiLSTM.predict_proba(padded)\n",
        "  polarity = (prediction[0])\n",
        "  return polarity"
      ],
      "execution_count": 247,
      "outputs": []
    },
    {
      "cell_type": "code",
      "metadata": {
        "colab": {
          "base_uri": "https://localhost:8080/"
        },
        "id": "7opznJWLFxi7",
        "outputId": "886eab7d-55d0-418f-fb5a-f5db886b8226"
      },
      "source": [
        "bilstm_polarity(message)"
      ],
      "execution_count": 248,
      "outputs": [
        {
          "output_type": "stream",
          "text": [
            "/usr/local/lib/python3.7/dist-packages/tensorflow/python/keras/engine/sequential.py:425: UserWarning: `model.predict_proba()` is deprecated and will be removed after 2021-01-01. Please use `model.predict()` instead.\n",
            "  warnings.warn('`model.predict_proba()` is deprecated and '\n"
          ],
          "name": "stderr"
        },
        {
          "output_type": "execute_result",
          "data": {
            "text/plain": [
              "array([0.34039044, 0.76412266], dtype=float32)"
            ]
          },
          "metadata": {
            "tags": []
          },
          "execution_count": 248
        }
      ]
    },
    {
      "cell_type": "code",
      "metadata": {
        "id": "rZOjxZR0BJQW"
      },
      "source": [
        ""
      ],
      "execution_count": null,
      "outputs": []
    }
  ]
}